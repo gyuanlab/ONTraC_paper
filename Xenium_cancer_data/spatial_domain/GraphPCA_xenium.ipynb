{
 "cells": [
  {
   "cell_type": "markdown",
   "id": "426d0700-f768-4b28-aa0b-e0c34e165f58",
   "metadata": {},
   "source": [
    "# Notes"
   ]
  },
  {
   "cell_type": "markdown",
   "id": "4dd57c8b-d97e-4887-9770-7cd11d135658",
   "metadata": {
    "tags": []
   },
   "source": [
    "# Load Modules"
   ]
  },
  {
   "cell_type": "code",
   "execution_count": 1,
   "id": "c31ba426-06aa-4abc-8a05-7c3c23ee9232",
   "metadata": {
    "execution": {
     "iopub.execute_input": "2024-12-09T20:00:15.652321Z",
     "iopub.status.busy": "2024-12-09T20:00:15.652063Z",
     "iopub.status.idle": "2024-12-09T20:00:58.420799Z",
     "shell.execute_reply": "2024-12-09T20:00:58.420065Z",
     "shell.execute_reply.started": "2024-12-09T20:00:15.652302Z"
    },
    "tags": []
   },
   "outputs": [],
   "source": [
    "import GraphPCA as sg\n",
    "import scanpy as sc\n",
    "import anndata as ad\n",
    "import numpy as np\n",
    "import pandas as pd\n",
    "import squidpy as sq\n",
    "import scipy\n",
    "from sklearn.cluster import KMeans\n",
    "from sklearn.metrics import pairwise_distances as pair\n",
    "from sklearn.metrics import adjusted_rand_score as ari_score\n",
    "from sklearn.neighbors import kneighbors_graph"
   ]
  },
  {
   "cell_type": "code",
   "execution_count": 2,
   "id": "3155ef40-cdd0-49d4-8784-64149309dc81",
   "metadata": {
    "execution": {
     "iopub.execute_input": "2024-12-09T20:00:58.423497Z",
     "iopub.status.busy": "2024-12-09T20:00:58.422216Z",
     "iopub.status.idle": "2024-12-09T20:00:58.531579Z",
     "shell.execute_reply": "2024-12-09T20:00:58.531136Z",
     "shell.execute_reply.started": "2024-12-09T20:00:58.423456Z"
    },
    "tags": []
   },
   "outputs": [],
   "source": [
    "import numpy as np\n",
    "import pandas as pd\n",
    "import matplotlib as mpl\n",
    "mpl.rcParams['pdf.fonttype'] = 42\n",
    "mpl.rcParams['ps.fonttype'] = 42\n",
    "mpl.rcParams['font.sans-serif'] = 'Arial'\n",
    "import matplotlib.pyplot as plt\n",
    "import seaborn as sns\n",
    "from pprint import pprint\n",
    "%matplotlib inline"
   ]
  },
  {
   "cell_type": "markdown",
   "id": "c1dfe4b9-906f-487a-83b2-862d179447d0",
   "metadata": {},
   "source": [
    "# Load data"
   ]
  },
  {
   "cell_type": "code",
   "execution_count": 2,
   "id": "d013f5e4-4249-41bd-a5d8-9b1f81c685ea",
   "metadata": {
    "execution": {
     "iopub.execute_input": "2024-11-21T21:27:12.971871Z",
     "iopub.status.busy": "2024-11-21T21:27:12.971098Z",
     "iopub.status.idle": "2024-11-21T21:27:13.247409Z",
     "shell.execute_reply": "2024-11-21T21:27:13.246996Z",
     "shell.execute_reply.started": "2024-11-21T21:27:12.971850Z"
    },
    "tags": []
   },
   "outputs": [
    {
     "data": {
      "text/html": [
       "<div>\n",
       "<style scoped>\n",
       "    .dataframe tbody tr th:only-of-type {\n",
       "        vertical-align: middle;\n",
       "    }\n",
       "\n",
       "    .dataframe tbody tr th {\n",
       "        vertical-align: top;\n",
       "    }\n",
       "\n",
       "    .dataframe thead th {\n",
       "        text-align: right;\n",
       "    }\n",
       "</style>\n",
       "<table border=\"1\" class=\"dataframe\">\n",
       "  <thead>\n",
       "    <tr style=\"text-align: right;\">\n",
       "      <th></th>\n",
       "      <th>7020</th>\n",
       "      <th>7021</th>\n",
       "      <th>7022</th>\n",
       "      <th>7023</th>\n",
       "      <th>7024</th>\n",
       "      <th>7025</th>\n",
       "      <th>7026</th>\n",
       "      <th>7027</th>\n",
       "      <th>7028</th>\n",
       "      <th>7029</th>\n",
       "      <th>...</th>\n",
       "      <th>114310</th>\n",
       "      <th>114311</th>\n",
       "      <th>114312</th>\n",
       "      <th>114314</th>\n",
       "      <th>114315</th>\n",
       "      <th>114316</th>\n",
       "      <th>114317</th>\n",
       "      <th>114318</th>\n",
       "      <th>114319</th>\n",
       "      <th>114320</th>\n",
       "    </tr>\n",
       "  </thead>\n",
       "  <tbody>\n",
       "    <tr>\n",
       "      <th>ABCC11</th>\n",
       "      <td>0</td>\n",
       "      <td>0</td>\n",
       "      <td>0</td>\n",
       "      <td>0</td>\n",
       "      <td>0</td>\n",
       "      <td>0</td>\n",
       "      <td>0</td>\n",
       "      <td>1</td>\n",
       "      <td>0</td>\n",
       "      <td>0</td>\n",
       "      <td>...</td>\n",
       "      <td>0</td>\n",
       "      <td>0</td>\n",
       "      <td>0</td>\n",
       "      <td>0</td>\n",
       "      <td>1</td>\n",
       "      <td>0</td>\n",
       "      <td>0</td>\n",
       "      <td>0</td>\n",
       "      <td>0</td>\n",
       "      <td>0</td>\n",
       "    </tr>\n",
       "    <tr>\n",
       "      <th>ACTA2</th>\n",
       "      <td>29</td>\n",
       "      <td>18</td>\n",
       "      <td>14</td>\n",
       "      <td>3</td>\n",
       "      <td>1</td>\n",
       "      <td>9</td>\n",
       "      <td>4</td>\n",
       "      <td>2</td>\n",
       "      <td>0</td>\n",
       "      <td>3</td>\n",
       "      <td>...</td>\n",
       "      <td>1</td>\n",
       "      <td>1</td>\n",
       "      <td>2</td>\n",
       "      <td>6</td>\n",
       "      <td>2</td>\n",
       "      <td>5</td>\n",
       "      <td>2</td>\n",
       "      <td>0</td>\n",
       "      <td>1</td>\n",
       "      <td>0</td>\n",
       "    </tr>\n",
       "    <tr>\n",
       "      <th>ACTG2</th>\n",
       "      <td>6</td>\n",
       "      <td>3</td>\n",
       "      <td>2</td>\n",
       "      <td>2</td>\n",
       "      <td>0</td>\n",
       "      <td>2</td>\n",
       "      <td>0</td>\n",
       "      <td>1</td>\n",
       "      <td>0</td>\n",
       "      <td>2</td>\n",
       "      <td>...</td>\n",
       "      <td>2</td>\n",
       "      <td>1</td>\n",
       "      <td>2</td>\n",
       "      <td>3</td>\n",
       "      <td>1</td>\n",
       "      <td>1</td>\n",
       "      <td>13</td>\n",
       "      <td>3</td>\n",
       "      <td>1</td>\n",
       "      <td>1</td>\n",
       "    </tr>\n",
       "    <tr>\n",
       "      <th>ADAM9</th>\n",
       "      <td>2</td>\n",
       "      <td>2</td>\n",
       "      <td>0</td>\n",
       "      <td>0</td>\n",
       "      <td>0</td>\n",
       "      <td>5</td>\n",
       "      <td>2</td>\n",
       "      <td>2</td>\n",
       "      <td>0</td>\n",
       "      <td>2</td>\n",
       "      <td>...</td>\n",
       "      <td>6</td>\n",
       "      <td>7</td>\n",
       "      <td>0</td>\n",
       "      <td>0</td>\n",
       "      <td>5</td>\n",
       "      <td>3</td>\n",
       "      <td>0</td>\n",
       "      <td>1</td>\n",
       "      <td>0</td>\n",
       "      <td>0</td>\n",
       "    </tr>\n",
       "    <tr>\n",
       "      <th>ADGRE5</th>\n",
       "      <td>1</td>\n",
       "      <td>0</td>\n",
       "      <td>0</td>\n",
       "      <td>0</td>\n",
       "      <td>1</td>\n",
       "      <td>0</td>\n",
       "      <td>0</td>\n",
       "      <td>2</td>\n",
       "      <td>0</td>\n",
       "      <td>1</td>\n",
       "      <td>...</td>\n",
       "      <td>0</td>\n",
       "      <td>0</td>\n",
       "      <td>0</td>\n",
       "      <td>0</td>\n",
       "      <td>0</td>\n",
       "      <td>3</td>\n",
       "      <td>1</td>\n",
       "      <td>0</td>\n",
       "      <td>1</td>\n",
       "      <td>0</td>\n",
       "    </tr>\n",
       "  </tbody>\n",
       "</table>\n",
       "<p>5 rows × 6912 columns</p>\n",
       "</div>"
      ],
      "text/plain": [
       "        7020  7021  7022  7023  7024  7025  7026  7027  7028  7029  ...  \\\n",
       "ABCC11     0     0     0     0     0     0     0     1     0     0  ...   \n",
       "ACTA2     29    18    14     3     1     9     4     2     0     3  ...   \n",
       "ACTG2      6     3     2     2     0     2     0     1     0     2  ...   \n",
       "ADAM9      2     2     0     0     0     5     2     2     0     2  ...   \n",
       "ADGRE5     1     0     0     0     1     0     0     2     0     1  ...   \n",
       "\n",
       "        114310  114311  114312  114314  114315  114316  114317  114318  \\\n",
       "ABCC11       0       0       0       0       1       0       0       0   \n",
       "ACTA2        1       1       2       6       2       5       2       0   \n",
       "ACTG2        2       1       2       3       1       1      13       3   \n",
       "ADAM9        6       7       0       0       5       3       0       1   \n",
       "ADGRE5       0       0       0       0       0       3       1       0   \n",
       "\n",
       "        114319  114320  \n",
       "ABCC11       0       0  \n",
       "ACTA2        1       0  \n",
       "ACTG2        1       1  \n",
       "ADAM9        0       0  \n",
       "ADGRE5       1       0  \n",
       "\n",
       "[5 rows x 6912 columns]"
      ]
     },
     "execution_count": 2,
     "metadata": {},
     "output_type": "execute_result"
    }
   ],
   "source": [
    "raw_counts = pd.read_csv('../../../STdata/xenium_cancer_test/expression_matrix.csv', index_col=0)\n",
    "raw_counts.head()"
   ]
  },
  {
   "cell_type": "code",
   "execution_count": null,
   "id": "7bd71e40-bb90-492e-9719-1e3f472979fd",
   "metadata": {
    "execution": {
     "iopub.execute_input": "2024-12-09T20:00:58.539999Z",
     "iopub.status.busy": "2024-12-09T20:00:58.539714Z",
     "iopub.status.idle": "2024-12-09T20:00:58.644333Z",
     "shell.execute_reply": "2024-12-09T20:00:58.643755Z",
     "shell.execute_reply.started": "2024-12-09T20:00:58.539979Z"
    },
    "tags": []
   },
   "outputs": [
    {
     "name": "stdout",
     "output_type": "stream",
     "text": [
      "(6912, 4)\n"
     ]
    },
    {
     "data": {
      "text/html": [
       "<div>\n",
       "<style scoped>\n",
       "    .dataframe tbody tr th:only-of-type {\n",
       "        vertical-align: middle;\n",
       "    }\n",
       "\n",
       "    .dataframe tbody tr th {\n",
       "        vertical-align: top;\n",
       "    }\n",
       "\n",
       "    .dataframe thead th {\n",
       "        text-align: right;\n",
       "    }\n",
       "</style>\n",
       "<table border=\"1\" class=\"dataframe\">\n",
       "  <thead>\n",
       "    <tr style=\"text-align: right;\">\n",
       "      <th></th>\n",
       "      <th>Sample</th>\n",
       "      <th>Cell_Type</th>\n",
       "      <th>x</th>\n",
       "      <th>y</th>\n",
       "    </tr>\n",
       "    <tr>\n",
       "      <th>Cell_ID</th>\n",
       "      <th></th>\n",
       "      <th></th>\n",
       "      <th></th>\n",
       "      <th></th>\n",
       "    </tr>\n",
       "  </thead>\n",
       "  <tbody>\n",
       "    <tr>\n",
       "      <th>7020</th>\n",
       "      <td>sample1_rep1</td>\n",
       "      <td>Perivascular-Like</td>\n",
       "      <td>3094.089441</td>\n",
       "      <td>1693.307495</td>\n",
       "    </tr>\n",
       "    <tr>\n",
       "      <th>7021</th>\n",
       "      <td>sample1_rep1</td>\n",
       "      <td>Perivascular-Like</td>\n",
       "      <td>3099.526868</td>\n",
       "      <td>1702.666418</td>\n",
       "    </tr>\n",
       "    <tr>\n",
       "      <th>7022</th>\n",
       "      <td>sample1_rep1</td>\n",
       "      <td>Unlabeled</td>\n",
       "      <td>3108.176074</td>\n",
       "      <td>1686.984894</td>\n",
       "    </tr>\n",
       "    <tr>\n",
       "      <th>7023</th>\n",
       "      <td>sample1_rep1</td>\n",
       "      <td>Macrophages_1</td>\n",
       "      <td>3108.833496</td>\n",
       "      <td>1707.505566</td>\n",
       "    </tr>\n",
       "    <tr>\n",
       "      <th>7024</th>\n",
       "      <td>sample1_rep1</td>\n",
       "      <td>Endothelial</td>\n",
       "      <td>3109.455640</td>\n",
       "      <td>1691.196710</td>\n",
       "    </tr>\n",
       "  </tbody>\n",
       "</table>\n",
       "</div>"
      ],
      "text/plain": [
       "               Sample          Cell_Type            x            y\n",
       "Cell_ID                                                           \n",
       "7020     sample1_rep1  Perivascular-Like  3094.089441  1693.307495\n",
       "7021     sample1_rep1  Perivascular-Like  3099.526868  1702.666418\n",
       "7022     sample1_rep1          Unlabeled  3108.176074  1686.984894\n",
       "7023     sample1_rep1      Macrophages_1  3108.833496  1707.505566\n",
       "7024     sample1_rep1        Endothelial  3109.455640  1691.196710"
      ]
     },
     "execution_count": 3,
     "metadata": {},
     "output_type": "execute_result"
    }
   ],
   "source": [
    "ontrac_input = pd.read_csv('../../../STdata/xenium_cancer_test/dataset.csv', index_col=0)\n",
    "ontrac_input.index = ontrac_input.index.astype('str')\n",
    "print(ontrac_input.shape)\n",
    "ontrac_input.head()"
   ]
  },
  {
   "cell_type": "code",
   "execution_count": 21,
   "id": "61ead427-14e0-4c30-8d21-5c15928e0312",
   "metadata": {
    "execution": {
     "iopub.execute_input": "2024-11-21T21:31:02.575344Z",
     "iopub.status.busy": "2024-11-21T21:31:02.574898Z",
     "iopub.status.idle": "2024-11-21T21:31:02.674177Z",
     "shell.execute_reply": "2024-11-21T21:31:02.673742Z",
     "shell.execute_reply.started": "2024-11-21T21:31:02.575328Z"
    },
    "tags": []
   },
   "outputs": [
    {
     "name": "stdout",
     "output_type": "stream",
     "text": [
      "(6912, 310)\n",
      "(6912, 6912)\n"
     ]
    }
   ],
   "source": [
    "# create adata\n",
    "adata = ad.AnnData(raw_counts.T)\n",
    "adata.obs = adata.obs.join(ontrac_input[['Cell_Type','Sample']])\n",
    "location = ontrac_input[['x','y']].values\n",
    "adata.uns[\"spatial\"] = location\n",
    "\n",
    "# Constructing the spatial network\n",
    "n_neighbors = 7\n",
    "graph = kneighbors_graph(np.asarray(location), int(n_neighbors), metric='euclidean',\n",
    "                                 metric_params={}, include_self=False)\n",
    "graph = 0.5 * (graph + graph.T)\n",
    "\n",
    "adata.uns[\"adj\"] = graph\n",
    "adata.obsm[\"spatial\"] = location\n",
    "\n",
    "# Normalization\n",
    "sc.pp.filter_genes(adata, min_cells=20)\n",
    "sc.experimental.pp.normalize_pearson_residuals(adata)\n",
    "sc.pp.scale(adata)\n",
    "\n",
    "print(adata.X.shape)\n",
    "print(graph.shape)"
   ]
  },
  {
   "cell_type": "code",
   "execution_count": 22,
   "id": "610f8364-f5e7-4cd4-896a-fcbfc4e50a4e",
   "metadata": {
    "execution": {
     "iopub.execute_input": "2024-11-21T21:31:09.063129Z",
     "iopub.status.busy": "2024-11-21T21:31:09.062685Z",
     "iopub.status.idle": "2024-11-21T21:31:13.737337Z",
     "shell.execute_reply": "2024-11-21T21:31:13.736748Z",
     "shell.execute_reply.started": "2024-11-21T21:31:09.063113Z"
    },
    "tags": []
   },
   "outputs": [],
   "source": [
    "%%time\n",
    "\n",
    "Z,_ = sg.Run_GPCA(adata, network=adata.uns['adj'], n_components = 50, method = \"knn\", _lambda = 0.6,n_neighbors=7,\n",
    "               save_reconstruction=True)\n",
    "adata.obsm[\"GraphPCA\"] = Z"
   ]
  },
  {
   "cell_type": "code",
   "execution_count": null,
   "id": "d450acb9-ed8c-4715-b818-0419732c4988",
   "metadata": {
    "execution": {
     "iopub.execute_input": "2024-11-21T21:31:13.738641Z",
     "iopub.status.busy": "2024-11-21T21:31:13.738372Z",
     "iopub.status.idle": "2024-11-21T21:31:13.863340Z",
     "shell.execute_reply": "2024-11-21T21:31:13.862883Z",
     "shell.execute_reply.started": "2024-11-21T21:31:13.738623Z"
    },
    "tags": []
   },
   "outputs": [],
   "source": [
    "estimator = KMeans(n_clusters=4)\n",
    "res = estimator.fit(Z[:,:])\n",
    "lable_pred=res.labels_\n",
    "adata.obs[\"GPCA_pred\"]= lable_pred\n",
    "adata.obs[\"GPCA_pred\"] = adata.obs[\"GPCA_pred\"].astype('category')"
   ]
  },
  {
   "cell_type": "code",
   "execution_count": null,
   "id": "a7933b36-8c51-476a-a6fe-62f2f9d2744e",
   "metadata": {
    "execution": {
     "iopub.execute_input": "2024-11-21T21:31:17.157930Z",
     "iopub.status.busy": "2024-11-21T21:31:17.157496Z",
     "iopub.status.idle": "2024-11-21T21:31:17.680462Z",
     "shell.execute_reply": "2024-11-21T21:31:17.680005Z",
     "shell.execute_reply.started": "2024-11-21T21:31:17.157915Z"
    },
    "tags": []
   },
   "outputs": [],
   "source": [
    "sample_df = ontrac_input\n",
    "sample_df = sample_df.join(adata.obs['GPCA_pred'].astype('category'))\n",
    "\n",
    "with sns.axes_style('white', rc={\n",
    "        'xtick.bottom': True,\n",
    "        'ytick.left': True\n",
    "}), sns.plotting_context('paper',\n",
    "                         rc={\n",
    "                             'axes.titlesize': 8,\n",
    "                             'axes.labelsize': 8,\n",
    "                             'xtick.labelsize': 6,\n",
    "                             'ytick.labelsize': 6,\n",
    "                             'legend.fontsize': 6\n",
    "                         }):\n",
    "    fig, ax = plt.subplots()\n",
    "    sns.scatterplot(data = sample_df, x='x',y='y', hue=sample_df['GPCA_pred'], ax=ax)"
   ]
  },
  {
   "cell_type": "code",
   "execution_count": null,
   "id": "d0dbe057-917d-41c8-8ac5-b39ef60be075",
   "metadata": {
    "execution": {
     "iopub.execute_input": "2024-11-22T15:01:28.026507Z",
     "iopub.status.busy": "2024-11-22T15:01:28.026154Z",
     "iopub.status.idle": "2024-11-22T15:01:28.109881Z",
     "shell.execute_reply": "2024-11-22T15:01:28.109534Z",
     "shell.execute_reply.started": "2024-11-22T15:01:28.026489Z"
    },
    "tags": []
   },
   "outputs": [],
   "source": [
    "adata.obs.to_csv('xenium_GraphPCA.csv.gz')"
   ]
  }
 ],
 "metadata": {
  "kernelspec": {
   "display_name": "Python 3.11 (scverse)",
   "language": "python",
   "name": "scverse"
  },
  "language_info": {
   "codemirror_mode": {
    "name": "ipython",
    "version": 3
   },
   "file_extension": ".py",
   "mimetype": "text/x-python",
   "name": "python",
   "nbconvert_exporter": "python",
   "pygments_lexer": "ipython3",
   "version": "3.11.5"
  }
 },
 "nbformat": 4,
 "nbformat_minor": 5
}
