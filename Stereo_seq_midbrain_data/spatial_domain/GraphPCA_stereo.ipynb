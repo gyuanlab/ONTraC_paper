{
 "cells": [
  {
   "cell_type": "markdown",
   "id": "97c379c4-555d-4bd9-8410-b80e8cc3c637",
   "metadata": {},
   "source": [
    "# Notes"
   ]
  },
  {
   "cell_type": "markdown",
   "id": "de6e14fc-34d9-4cea-9f30-204bd9c9b402",
   "metadata": {},
   "source": [
    "GraphPCA"
   ]
  },
  {
   "cell_type": "code",
   "execution_count": 1,
   "id": "5ef33260-59b1-4f0d-b023-d29268c43a10",
   "metadata": {
    "execution": {
     "iopub.execute_input": "2024-12-09T15:13:20.811211Z",
     "iopub.status.busy": "2024-12-09T15:13:20.810917Z",
     "iopub.status.idle": "2024-12-09T15:14:04.125465Z",
     "shell.execute_reply": "2024-12-09T15:14:04.124683Z",
     "shell.execute_reply.started": "2024-12-09T15:13:20.811191Z"
    },
    "tags": []
   },
   "outputs": [],
   "source": [
    "import GraphPCA as sg\n",
    "import scanpy as sc\n",
    "import anndata as ad\n",
    "import numpy as np\n",
    "import pandas as pd\n",
    "import squidpy as sq\n",
    "import scipy\n",
    "from sklearn.cluster import KMeans\n",
    "from sklearn.metrics import pairwise_distances as pair\n",
    "from sklearn.metrics import adjusted_rand_score as ari_score\n",
    "from sklearn.neighbors import kneighbors_graph"
   ]
  },
  {
   "cell_type": "markdown",
   "id": "6c8e85ba-eec8-4870-bfda-e5e35e4e338a",
   "metadata": {},
   "source": [
    "# Load data"
   ]
  },
  {
   "cell_type": "markdown",
   "id": "eb41090b",
   "metadata": {},
   "source": [
    "These two files could be donwloaded from [IO files for reproducing](../../README.md#other-links)"
   ]
  },
  {
   "cell_type": "code",
   "execution_count": 2,
   "id": "a4038371-f219-4f93-970f-91b0ea7c819b",
   "metadata": {
    "execution": {
     "iopub.execute_input": "2024-12-05T14:55:53.773807Z",
     "iopub.status.busy": "2024-12-05T14:55:53.773165Z",
     "iopub.status.idle": "2024-12-05T14:57:51.514160Z",
     "shell.execute_reply": "2024-12-05T14:57:51.513776Z",
     "shell.execute_reply.started": "2024-12-05T14:55:53.773788Z"
    },
    "tags": []
   },
   "outputs": [
    {
     "data": {
      "text/html": [
       "<div>\n",
       "<style scoped>\n",
       "    .dataframe tbody tr th:only-of-type {\n",
       "        vertical-align: middle;\n",
       "    }\n",
       "\n",
       "    .dataframe tbody tr th {\n",
       "        vertical-align: top;\n",
       "    }\n",
       "\n",
       "    .dataframe thead th {\n",
       "        text-align: right;\n",
       "    }\n",
       "</style>\n",
       "<table border=\"1\" class=\"dataframe\">\n",
       "  <thead>\n",
       "    <tr style=\"text-align: right;\">\n",
       "      <th></th>\n",
       "      <th>E12.5_E1S3_99895</th>\n",
       "      <th>E12.5_E1S3_99913</th>\n",
       "      <th>E12.5_E1S3_99944</th>\n",
       "      <th>E12.5_E1S3_100014</th>\n",
       "      <th>E12.5_E1S3_100033</th>\n",
       "      <th>E12.5_E1S3_100034</th>\n",
       "      <th>E12.5_E1S3_100035</th>\n",
       "      <th>E12.5_E1S3_100047</th>\n",
       "      <th>E12.5_E1S3_100081</th>\n",
       "      <th>E12.5_E1S3_100100</th>\n",
       "      <th>...</th>\n",
       "      <th>E16.5_E2S7_326356</th>\n",
       "      <th>E16.5_E2S7_326357</th>\n",
       "      <th>E16.5_E2S7_326359</th>\n",
       "      <th>E16.5_E2S7_326384</th>\n",
       "      <th>E16.5_E2S7_326390</th>\n",
       "      <th>E16.5_E2S7_326391</th>\n",
       "      <th>E16.5_E2S7_326412</th>\n",
       "      <th>E16.5_E2S7_326433</th>\n",
       "      <th>E16.5_E2S7_326448</th>\n",
       "      <th>E16.5_E2S7_326458</th>\n",
       "    </tr>\n",
       "  </thead>\n",
       "  <tbody>\n",
       "    <tr>\n",
       "      <th>0610005C13Rik</th>\n",
       "      <td>0</td>\n",
       "      <td>0</td>\n",
       "      <td>0</td>\n",
       "      <td>0</td>\n",
       "      <td>0</td>\n",
       "      <td>0</td>\n",
       "      <td>0</td>\n",
       "      <td>0</td>\n",
       "      <td>0</td>\n",
       "      <td>0</td>\n",
       "      <td>...</td>\n",
       "      <td>0</td>\n",
       "      <td>0</td>\n",
       "      <td>0</td>\n",
       "      <td>0</td>\n",
       "      <td>0</td>\n",
       "      <td>0</td>\n",
       "      <td>0</td>\n",
       "      <td>0</td>\n",
       "      <td>0</td>\n",
       "      <td>0</td>\n",
       "    </tr>\n",
       "    <tr>\n",
       "      <th>0610006L08Rik</th>\n",
       "      <td>0</td>\n",
       "      <td>0</td>\n",
       "      <td>0</td>\n",
       "      <td>0</td>\n",
       "      <td>0</td>\n",
       "      <td>0</td>\n",
       "      <td>0</td>\n",
       "      <td>0</td>\n",
       "      <td>0</td>\n",
       "      <td>0</td>\n",
       "      <td>...</td>\n",
       "      <td>0</td>\n",
       "      <td>0</td>\n",
       "      <td>0</td>\n",
       "      <td>0</td>\n",
       "      <td>0</td>\n",
       "      <td>0</td>\n",
       "      <td>0</td>\n",
       "      <td>0</td>\n",
       "      <td>0</td>\n",
       "      <td>0</td>\n",
       "    </tr>\n",
       "    <tr>\n",
       "      <th>0610009B22Rik</th>\n",
       "      <td>0</td>\n",
       "      <td>0</td>\n",
       "      <td>0</td>\n",
       "      <td>0</td>\n",
       "      <td>0</td>\n",
       "      <td>0</td>\n",
       "      <td>0</td>\n",
       "      <td>0</td>\n",
       "      <td>0</td>\n",
       "      <td>3</td>\n",
       "      <td>...</td>\n",
       "      <td>0</td>\n",
       "      <td>0</td>\n",
       "      <td>0</td>\n",
       "      <td>0</td>\n",
       "      <td>0</td>\n",
       "      <td>0</td>\n",
       "      <td>0</td>\n",
       "      <td>0</td>\n",
       "      <td>0</td>\n",
       "      <td>0</td>\n",
       "    </tr>\n",
       "    <tr>\n",
       "      <th>0610009O20Rik</th>\n",
       "      <td>0</td>\n",
       "      <td>0</td>\n",
       "      <td>0</td>\n",
       "      <td>0</td>\n",
       "      <td>0</td>\n",
       "      <td>0</td>\n",
       "      <td>0</td>\n",
       "      <td>0</td>\n",
       "      <td>0</td>\n",
       "      <td>0</td>\n",
       "      <td>...</td>\n",
       "      <td>0</td>\n",
       "      <td>0</td>\n",
       "      <td>0</td>\n",
       "      <td>0</td>\n",
       "      <td>0</td>\n",
       "      <td>0</td>\n",
       "      <td>0</td>\n",
       "      <td>0</td>\n",
       "      <td>0</td>\n",
       "      <td>0</td>\n",
       "    </tr>\n",
       "    <tr>\n",
       "      <th>0610010F05Rik</th>\n",
       "      <td>0</td>\n",
       "      <td>0</td>\n",
       "      <td>0</td>\n",
       "      <td>0</td>\n",
       "      <td>0</td>\n",
       "      <td>0</td>\n",
       "      <td>0</td>\n",
       "      <td>0</td>\n",
       "      <td>0</td>\n",
       "      <td>0</td>\n",
       "      <td>...</td>\n",
       "      <td>0</td>\n",
       "      <td>0</td>\n",
       "      <td>0</td>\n",
       "      <td>0</td>\n",
       "      <td>0</td>\n",
       "      <td>0</td>\n",
       "      <td>0</td>\n",
       "      <td>0</td>\n",
       "      <td>0</td>\n",
       "      <td>0</td>\n",
       "    </tr>\n",
       "  </tbody>\n",
       "</table>\n",
       "<p>5 rows × 30224 columns</p>\n",
       "</div>"
      ],
      "text/plain": [
       "               E12.5_E1S3_99895  E12.5_E1S3_99913  E12.5_E1S3_99944  \\\n",
       "0610005C13Rik                 0                 0                 0   \n",
       "0610006L08Rik                 0                 0                 0   \n",
       "0610009B22Rik                 0                 0                 0   \n",
       "0610009O20Rik                 0                 0                 0   \n",
       "0610010F05Rik                 0                 0                 0   \n",
       "\n",
       "               E12.5_E1S3_100014  E12.5_E1S3_100033  E12.5_E1S3_100034  \\\n",
       "0610005C13Rik                  0                  0                  0   \n",
       "0610006L08Rik                  0                  0                  0   \n",
       "0610009B22Rik                  0                  0                  0   \n",
       "0610009O20Rik                  0                  0                  0   \n",
       "0610010F05Rik                  0                  0                  0   \n",
       "\n",
       "               E12.5_E1S3_100035  E12.5_E1S3_100047  E12.5_E1S3_100081  \\\n",
       "0610005C13Rik                  0                  0                  0   \n",
       "0610006L08Rik                  0                  0                  0   \n",
       "0610009B22Rik                  0                  0                  0   \n",
       "0610009O20Rik                  0                  0                  0   \n",
       "0610010F05Rik                  0                  0                  0   \n",
       "\n",
       "               E12.5_E1S3_100100  ...  E16.5_E2S7_326356  E16.5_E2S7_326357  \\\n",
       "0610005C13Rik                  0  ...                  0                  0   \n",
       "0610006L08Rik                  0  ...                  0                  0   \n",
       "0610009B22Rik                  3  ...                  0                  0   \n",
       "0610009O20Rik                  0  ...                  0                  0   \n",
       "0610010F05Rik                  0  ...                  0                  0   \n",
       "\n",
       "               E16.5_E2S7_326359  E16.5_E2S7_326384  E16.5_E2S7_326390  \\\n",
       "0610005C13Rik                  0                  0                  0   \n",
       "0610006L08Rik                  0                  0                  0   \n",
       "0610009B22Rik                  0                  0                  0   \n",
       "0610009O20Rik                  0                  0                  0   \n",
       "0610010F05Rik                  0                  0                  0   \n",
       "\n",
       "               E16.5_E2S7_326391  E16.5_E2S7_326412  E16.5_E2S7_326433  \\\n",
       "0610005C13Rik                  0                  0                  0   \n",
       "0610006L08Rik                  0                  0                  0   \n",
       "0610009B22Rik                  0                  0                  0   \n",
       "0610009O20Rik                  0                  0                  0   \n",
       "0610010F05Rik                  0                  0                  0   \n",
       "\n",
       "               E16.5_E2S7_326448  E16.5_E2S7_326458  \n",
       "0610005C13Rik                  0                  0  \n",
       "0610006L08Rik                  0                  0  \n",
       "0610009B22Rik                  0                  0  \n",
       "0610009O20Rik                  0                  0  \n",
       "0610010F05Rik                  0                  0  \n",
       "\n",
       "[5 rows x 30224 columns]"
      ]
     },
     "execution_count": 2,
     "metadata": {},
     "output_type": "execute_result"
    }
   ],
   "source": [
    "raw_counts = pd.read_csv('../../../STdata/stereo_mouse_mid_brain/stereo_seq_raw_counts.csv', index_col=0)\n",
    "raw_counts.head()"
   ]
  },
  {
   "cell_type": "code",
   "execution_count": 3,
   "id": "eadc1667-3bde-4bd8-85fe-9e196d0ae885",
   "metadata": {
    "execution": {
     "iopub.execute_input": "2024-12-05T14:57:51.515005Z",
     "iopub.status.busy": "2024-12-05T14:57:51.514715Z",
     "iopub.status.idle": "2024-12-05T14:57:51.533292Z",
     "shell.execute_reply": "2024-12-05T14:57:51.532964Z",
     "shell.execute_reply.started": "2024-12-05T14:57:51.514990Z"
    },
    "tags": []
   },
   "outputs": [
    {
     "data": {
      "text/html": [
       "<div>\n",
       "<style scoped>\n",
       "    .dataframe tbody tr th:only-of-type {\n",
       "        vertical-align: middle;\n",
       "    }\n",
       "\n",
       "    .dataframe tbody tr th {\n",
       "        vertical-align: top;\n",
       "    }\n",
       "\n",
       "    .dataframe thead th {\n",
       "        text-align: right;\n",
       "    }\n",
       "</style>\n",
       "<table border=\"1\" class=\"dataframe\">\n",
       "  <thead>\n",
       "    <tr style=\"text-align: right;\">\n",
       "      <th></th>\n",
       "      <th>E12_E1S3_99895</th>\n",
       "      <th>E12_E1S3_99913</th>\n",
       "      <th>E12_E1S3_99944</th>\n",
       "      <th>E12_E1S3_100014</th>\n",
       "      <th>E12_E1S3_100033</th>\n",
       "      <th>E12_E1S3_100034</th>\n",
       "      <th>E12_E1S3_100035</th>\n",
       "      <th>E12_E1S3_100047</th>\n",
       "      <th>E12_E1S3_100081</th>\n",
       "      <th>E12_E1S3_100100</th>\n",
       "      <th>...</th>\n",
       "      <th>E16_E2S7_326356</th>\n",
       "      <th>E16_E2S7_326357</th>\n",
       "      <th>E16_E2S7_326359</th>\n",
       "      <th>E16_E2S7_326384</th>\n",
       "      <th>E16_E2S7_326390</th>\n",
       "      <th>E16_E2S7_326391</th>\n",
       "      <th>E16_E2S7_326412</th>\n",
       "      <th>E16_E2S7_326433</th>\n",
       "      <th>E16_E2S7_326448</th>\n",
       "      <th>E16_E2S7_326458</th>\n",
       "    </tr>\n",
       "  </thead>\n",
       "  <tbody>\n",
       "    <tr>\n",
       "      <th>0610005C13Rik</th>\n",
       "      <td>0</td>\n",
       "      <td>0</td>\n",
       "      <td>0</td>\n",
       "      <td>0</td>\n",
       "      <td>0</td>\n",
       "      <td>0</td>\n",
       "      <td>0</td>\n",
       "      <td>0</td>\n",
       "      <td>0</td>\n",
       "      <td>0</td>\n",
       "      <td>...</td>\n",
       "      <td>0</td>\n",
       "      <td>0</td>\n",
       "      <td>0</td>\n",
       "      <td>0</td>\n",
       "      <td>0</td>\n",
       "      <td>0</td>\n",
       "      <td>0</td>\n",
       "      <td>0</td>\n",
       "      <td>0</td>\n",
       "      <td>0</td>\n",
       "    </tr>\n",
       "    <tr>\n",
       "      <th>0610006L08Rik</th>\n",
       "      <td>0</td>\n",
       "      <td>0</td>\n",
       "      <td>0</td>\n",
       "      <td>0</td>\n",
       "      <td>0</td>\n",
       "      <td>0</td>\n",
       "      <td>0</td>\n",
       "      <td>0</td>\n",
       "      <td>0</td>\n",
       "      <td>0</td>\n",
       "      <td>...</td>\n",
       "      <td>0</td>\n",
       "      <td>0</td>\n",
       "      <td>0</td>\n",
       "      <td>0</td>\n",
       "      <td>0</td>\n",
       "      <td>0</td>\n",
       "      <td>0</td>\n",
       "      <td>0</td>\n",
       "      <td>0</td>\n",
       "      <td>0</td>\n",
       "    </tr>\n",
       "    <tr>\n",
       "      <th>0610009B22Rik</th>\n",
       "      <td>0</td>\n",
       "      <td>0</td>\n",
       "      <td>0</td>\n",
       "      <td>0</td>\n",
       "      <td>0</td>\n",
       "      <td>0</td>\n",
       "      <td>0</td>\n",
       "      <td>0</td>\n",
       "      <td>0</td>\n",
       "      <td>3</td>\n",
       "      <td>...</td>\n",
       "      <td>0</td>\n",
       "      <td>0</td>\n",
       "      <td>0</td>\n",
       "      <td>0</td>\n",
       "      <td>0</td>\n",
       "      <td>0</td>\n",
       "      <td>0</td>\n",
       "      <td>0</td>\n",
       "      <td>0</td>\n",
       "      <td>0</td>\n",
       "    </tr>\n",
       "    <tr>\n",
       "      <th>0610009O20Rik</th>\n",
       "      <td>0</td>\n",
       "      <td>0</td>\n",
       "      <td>0</td>\n",
       "      <td>0</td>\n",
       "      <td>0</td>\n",
       "      <td>0</td>\n",
       "      <td>0</td>\n",
       "      <td>0</td>\n",
       "      <td>0</td>\n",
       "      <td>0</td>\n",
       "      <td>...</td>\n",
       "      <td>0</td>\n",
       "      <td>0</td>\n",
       "      <td>0</td>\n",
       "      <td>0</td>\n",
       "      <td>0</td>\n",
       "      <td>0</td>\n",
       "      <td>0</td>\n",
       "      <td>0</td>\n",
       "      <td>0</td>\n",
       "      <td>0</td>\n",
       "    </tr>\n",
       "    <tr>\n",
       "      <th>0610010F05Rik</th>\n",
       "      <td>0</td>\n",
       "      <td>0</td>\n",
       "      <td>0</td>\n",
       "      <td>0</td>\n",
       "      <td>0</td>\n",
       "      <td>0</td>\n",
       "      <td>0</td>\n",
       "      <td>0</td>\n",
       "      <td>0</td>\n",
       "      <td>0</td>\n",
       "      <td>...</td>\n",
       "      <td>0</td>\n",
       "      <td>0</td>\n",
       "      <td>0</td>\n",
       "      <td>0</td>\n",
       "      <td>0</td>\n",
       "      <td>0</td>\n",
       "      <td>0</td>\n",
       "      <td>0</td>\n",
       "      <td>0</td>\n",
       "      <td>0</td>\n",
       "    </tr>\n",
       "  </tbody>\n",
       "</table>\n",
       "<p>5 rows × 30224 columns</p>\n",
       "</div>"
      ],
      "text/plain": [
       "               E12_E1S3_99895  E12_E1S3_99913  E12_E1S3_99944  \\\n",
       "0610005C13Rik               0               0               0   \n",
       "0610006L08Rik               0               0               0   \n",
       "0610009B22Rik               0               0               0   \n",
       "0610009O20Rik               0               0               0   \n",
       "0610010F05Rik               0               0               0   \n",
       "\n",
       "               E12_E1S3_100014  E12_E1S3_100033  E12_E1S3_100034  \\\n",
       "0610005C13Rik                0                0                0   \n",
       "0610006L08Rik                0                0                0   \n",
       "0610009B22Rik                0                0                0   \n",
       "0610009O20Rik                0                0                0   \n",
       "0610010F05Rik                0                0                0   \n",
       "\n",
       "               E12_E1S3_100035  E12_E1S3_100047  E12_E1S3_100081  \\\n",
       "0610005C13Rik                0                0                0   \n",
       "0610006L08Rik                0                0                0   \n",
       "0610009B22Rik                0                0                0   \n",
       "0610009O20Rik                0                0                0   \n",
       "0610010F05Rik                0                0                0   \n",
       "\n",
       "               E12_E1S3_100100  ...  E16_E2S7_326356  E16_E2S7_326357  \\\n",
       "0610005C13Rik                0  ...                0                0   \n",
       "0610006L08Rik                0  ...                0                0   \n",
       "0610009B22Rik                3  ...                0                0   \n",
       "0610009O20Rik                0  ...                0                0   \n",
       "0610010F05Rik                0  ...                0                0   \n",
       "\n",
       "               E16_E2S7_326359  E16_E2S7_326384  E16_E2S7_326390  \\\n",
       "0610005C13Rik                0                0                0   \n",
       "0610006L08Rik                0                0                0   \n",
       "0610009B22Rik                0                0                0   \n",
       "0610009O20Rik                0                0                0   \n",
       "0610010F05Rik                0                0                0   \n",
       "\n",
       "               E16_E2S7_326391  E16_E2S7_326412  E16_E2S7_326433  \\\n",
       "0610005C13Rik                0                0                0   \n",
       "0610006L08Rik                0                0                0   \n",
       "0610009B22Rik                0                0                0   \n",
       "0610009O20Rik                0                0                0   \n",
       "0610010F05Rik                0                0                0   \n",
       "\n",
       "               E16_E2S7_326448  E16_E2S7_326458  \n",
       "0610005C13Rik                0                0  \n",
       "0610006L08Rik                0                0  \n",
       "0610009B22Rik                0                0  \n",
       "0610009O20Rik                0                0  \n",
       "0610010F05Rik                0                0  \n",
       "\n",
       "[5 rows x 30224 columns]"
      ]
     },
     "execution_count": 3,
     "metadata": {},
     "output_type": "execute_result"
    }
   ],
   "source": [
    "raw_counts.columns = [x[:3]+x[5:] for x in raw_counts.columns]\n",
    "raw_counts.head()"
   ]
  },
  {
   "cell_type": "code",
   "execution_count": 4,
   "id": "30d2a5c8-8ca9-4955-980b-10d98fdc3b34",
   "metadata": {
    "execution": {
     "iopub.execute_input": "2024-12-05T14:57:51.534454Z",
     "iopub.status.busy": "2024-12-05T14:57:51.534237Z",
     "iopub.status.idle": "2024-12-05T14:57:51.536152Z",
     "shell.execute_reply": "2024-12-05T14:57:51.535847Z",
     "shell.execute_reply.started": "2024-12-05T14:57:51.534440Z"
    },
    "tags": []
   },
   "outputs": [],
   "source": [
    "# # no genes with zero express\n",
    "# sum(raw_counts.values.sum(axis=1)==0)"
   ]
  },
  {
   "cell_type": "code",
   "execution_count": 5,
   "id": "278643e4-7b80-492e-8387-740bf718723d",
   "metadata": {
    "execution": {
     "iopub.execute_input": "2024-12-05T14:57:51.536703Z",
     "iopub.status.busy": "2024-12-05T14:57:51.536564Z",
     "iopub.status.idle": "2024-12-05T14:57:51.541078Z",
     "shell.execute_reply": "2024-12-05T14:57:51.540780Z",
     "shell.execute_reply.started": "2024-12-05T14:57:51.536691Z"
    },
    "tags": []
   },
   "outputs": [],
   "source": [
    "# np.isnan(raw_counts.values).sum()"
   ]
  },
  {
   "cell_type": "code",
   "execution_count": 6,
   "id": "b860c03a-0f9d-4777-8fb0-bacbe4637e55",
   "metadata": {
    "execution": {
     "iopub.execute_input": "2024-12-05T14:57:51.541733Z",
     "iopub.status.busy": "2024-12-05T14:57:51.541477Z",
     "iopub.status.idle": "2024-12-05T14:57:51.546229Z",
     "shell.execute_reply": "2024-12-05T14:57:51.545938Z",
     "shell.execute_reply.started": "2024-12-05T14:57:51.541722Z"
    },
    "tags": []
   },
   "outputs": [],
   "source": [
    "# print(raw_counts.shape)"
   ]
  },
  {
   "cell_type": "code",
   "execution_count": 2,
   "id": "c4ee3f8c-4c17-4198-82e5-c908b66c6a83",
   "metadata": {
    "execution": {
     "iopub.execute_input": "2024-12-09T15:14:04.127842Z",
     "iopub.status.busy": "2024-12-09T15:14:04.126879Z",
     "iopub.status.idle": "2024-12-09T15:14:04.190785Z",
     "shell.execute_reply": "2024-12-09T15:14:04.190311Z",
     "shell.execute_reply.started": "2024-12-09T15:14:04.127805Z"
    },
    "tags": []
   },
   "outputs": [
    {
     "name": "stdout",
     "output_type": "stream",
     "text": [
      "(26621, 5)\n"
     ]
    },
    {
     "data": {
      "text/html": [
       "<div>\n",
       "<style scoped>\n",
       "    .dataframe tbody tr th:only-of-type {\n",
       "        vertical-align: middle;\n",
       "    }\n",
       "\n",
       "    .dataframe tbody tr th {\n",
       "        vertical-align: top;\n",
       "    }\n",
       "\n",
       "    .dataframe thead th {\n",
       "        text-align: right;\n",
       "    }\n",
       "</style>\n",
       "<table border=\"1\" class=\"dataframe\">\n",
       "  <thead>\n",
       "    <tr style=\"text-align: right;\">\n",
       "      <th></th>\n",
       "      <th>Cell_ID</th>\n",
       "      <th>Sample</th>\n",
       "      <th>Cell_Type</th>\n",
       "      <th>x</th>\n",
       "      <th>y</th>\n",
       "    </tr>\n",
       "  </thead>\n",
       "  <tbody>\n",
       "    <tr>\n",
       "      <th>0</th>\n",
       "      <td>E12_E1S3_100034</td>\n",
       "      <td>E12_E1S3</td>\n",
       "      <td>Fibro</td>\n",
       "      <td>15940.0</td>\n",
       "      <td>18584.0</td>\n",
       "    </tr>\n",
       "    <tr>\n",
       "      <th>1</th>\n",
       "      <td>E12_E1S3_100035</td>\n",
       "      <td>E12_E1S3</td>\n",
       "      <td>Fibro</td>\n",
       "      <td>15942.0</td>\n",
       "      <td>18623.0</td>\n",
       "    </tr>\n",
       "    <tr>\n",
       "      <th>2</th>\n",
       "      <td>E12_E1S3_100191</td>\n",
       "      <td>E12_E1S3</td>\n",
       "      <td>Endo</td>\n",
       "      <td>15965.0</td>\n",
       "      <td>18619.0</td>\n",
       "    </tr>\n",
       "    <tr>\n",
       "      <th>3</th>\n",
       "      <td>E12_E1S3_100256</td>\n",
       "      <td>E12_E1S3</td>\n",
       "      <td>Fibro</td>\n",
       "      <td>15969.0</td>\n",
       "      <td>18717.0</td>\n",
       "    </tr>\n",
       "    <tr>\n",
       "      <th>4</th>\n",
       "      <td>E12_E1S3_100264</td>\n",
       "      <td>E12_E1S3</td>\n",
       "      <td>Fibro</td>\n",
       "      <td>15974.0</td>\n",
       "      <td>18692.0</td>\n",
       "    </tr>\n",
       "  </tbody>\n",
       "</table>\n",
       "</div>"
      ],
      "text/plain": [
       "           Cell_ID    Sample Cell_Type        x        y\n",
       "0  E12_E1S3_100034  E12_E1S3     Fibro  15940.0  18584.0\n",
       "1  E12_E1S3_100035  E12_E1S3     Fibro  15942.0  18623.0\n",
       "2  E12_E1S3_100191  E12_E1S3      Endo  15965.0  18619.0\n",
       "3  E12_E1S3_100256  E12_E1S3     Fibro  15969.0  18717.0\n",
       "4  E12_E1S3_100264  E12_E1S3     Fibro  15974.0  18692.0"
      ]
     },
     "execution_count": 2,
     "metadata": {},
     "output_type": "execute_result"
    }
   ],
   "source": [
    "ontrac_input = pd.read_csv('../../../STdata/stereo_mouse_mid_brain/stereo_input.csv')\n",
    "print(ontrac_input.shape)\n",
    "ontrac_input.head()"
   ]
  },
  {
   "cell_type": "markdown",
   "id": "53b2f2f6",
   "metadata": {},
   "source": [
    "# run GraphPCA\n",
    "\n",
    "note: The results is not stable in different runs"
   ]
  },
  {
   "cell_type": "code",
   "execution_count": null,
   "id": "d764ba56-0ed3-4c03-8d27-882d2030c76c",
   "metadata": {
    "execution": {
     "iopub.execute_input": "2024-11-21T21:16:37.641251Z",
     "iopub.status.busy": "2024-11-21T21:16:37.641088Z",
     "iopub.status.idle": "2024-11-21T21:16:37.643468Z",
     "shell.execute_reply": "2024-11-21T21:16:37.643030Z",
     "shell.execute_reply.started": "2024-11-21T21:16:37.641235Z"
    },
    "tags": []
   },
   "outputs": [],
   "source": [
    "samples = ontrac_input['Sample'].unique().tolist()"
   ]
  },
  {
   "cell_type": "code",
   "execution_count": null,
   "id": "11ed363f-9c1a-4b1f-8930-f9231795f3e2",
   "metadata": {
    "execution": {
     "iopub.execute_input": "2024-11-21T21:16:37.648786Z",
     "iopub.status.busy": "2024-11-21T21:16:37.648309Z",
     "iopub.status.idle": "2024-11-21T21:16:37.651078Z",
     "shell.execute_reply": "2024-11-21T21:16:37.650713Z",
     "shell.execute_reply.started": "2024-11-21T21:16:37.648762Z"
    },
    "tags": []
   },
   "outputs": [],
   "source": [
    "Batch_list = []\n",
    "adj_list = []\n",
    "\n",
    "\n",
    "for sample in samples:\n",
    "    print(sample)\n",
    "    \n",
    "    # extract\n",
    "    cells = ontrac_input[ontrac_input['Sample'] == sample]['Cell_ID']\n",
    "    sample_counts = raw_counts[cells]\n",
    "    \n",
    "    # create adata\n",
    "    adata = ad.AnnData(sample_counts.T)\n",
    "    adata.obs = adata.obs.join(ontrac_input[['Cell_Type','Sample']])\n",
    "    location = ontrac_input[ontrac_input['Sample'] == sample][['x','y']].values\n",
    "    adata.uns[\"spatial\"] = location\n",
    "    \n",
    "    # Constructing the spatial network\n",
    "    n_neighbors = 7\n",
    "    graph = kneighbors_graph(np.asarray(location), int(n_neighbors), metric='euclidean',\n",
    "                                     metric_params={}, include_self=False)\n",
    "    graph = 0.5 * (graph + graph.T)\n",
    "\n",
    "    adata.uns[\"adj\"] = graph\n",
    "    adata.obsm[\"spatial\"] = location\n",
    "    \n",
    "    # Normalization\n",
    "    sc.pp.filter_genes(adata, min_cells=20)\n",
    "    sc.experimental.pp.normalize_pearson_residuals(adata)\n",
    "    sc.pp.scale(adata)\n",
    "\n",
    "    adj_list.append(adata.uns['adj'])\n",
    "    Batch_list.append(adata)\n",
    "    \n",
    "    print(adata.X.shape)\n",
    "    print(graph.shape)"
   ]
  },
  {
   "cell_type": "code",
   "execution_count": null,
   "id": "8285a1af-1b73-42ef-bece-c597c4ecb2df",
   "metadata": {
    "execution": {
     "iopub.execute_input": "2024-11-21T21:16:37.651872Z",
     "iopub.status.busy": "2024-11-21T21:16:37.651592Z",
     "iopub.status.idle": "2024-11-21T21:16:37.653903Z",
     "shell.execute_reply": "2024-11-21T21:16:37.653487Z",
     "shell.execute_reply.started": "2024-11-21T21:16:37.651858Z"
    },
    "tags": []
   },
   "outputs": [],
   "source": [
    "adata_concat = ad.concat(Batch_list, label=\"Sample\", keys=samples)\n",
    "print('adata_concat.shape: ', adata_concat.shape)"
   ]
  },
  {
   "cell_type": "code",
   "execution_count": null,
   "id": "5208e1dc-356d-4d2a-b534-889279013208",
   "metadata": {
    "execution": {
     "iopub.execute_input": "2024-11-21T21:16:37.655934Z",
     "iopub.status.busy": "2024-11-21T21:16:37.655784Z",
     "iopub.status.idle": "2024-11-21T21:16:37.657664Z",
     "shell.execute_reply": "2024-11-21T21:16:37.657315Z",
     "shell.execute_reply.started": "2024-11-21T21:16:37.655919Z"
    },
    "tags": []
   },
   "outputs": [],
   "source": [
    "# Normalization\n",
    "sc.experimental.pp.normalize_pearson_residuals(adata_concat)\n",
    "sc.pp.scale(adata_concat)"
   ]
  },
  {
   "cell_type": "code",
   "execution_count": null,
   "id": "66fd2407-f591-480c-bbbb-47d7bcd67294",
   "metadata": {
    "execution": {
     "iopub.execute_input": "2024-11-21T21:16:37.659169Z",
     "iopub.status.busy": "2024-11-21T21:16:37.658916Z",
     "iopub.status.idle": "2024-11-21T21:16:37.661120Z",
     "shell.execute_reply": "2024-11-21T21:16:37.660717Z",
     "shell.execute_reply.started": "2024-11-21T21:16:37.659155Z"
    },
    "tags": []
   },
   "outputs": [],
   "source": [
    "%%time\n",
    "\n",
    "from functools import reduce\n",
    "\n",
    "adj_concat = reduce(scipy.linalg.block_diag, (x.todense() for x in adj_list))\n",
    "adata_concat.uns['edgeList'] = np.nonzero(adj_concat)\n",
    "adata_concat.uns['network'] = scipy.sparse.csr_matrix(adj_concat)"
   ]
  },
  {
   "cell_type": "code",
   "execution_count": null,
   "id": "9c8ee6e4-d586-43b4-8c70-bea4215053e0",
   "metadata": {
    "execution": {
     "iopub.execute_input": "2024-11-21T21:16:37.662020Z",
     "iopub.status.busy": "2024-11-21T21:16:37.661633Z",
     "iopub.status.idle": "2024-11-21T21:16:37.664043Z",
     "shell.execute_reply": "2024-11-21T21:16:37.663686Z",
     "shell.execute_reply.started": "2024-11-21T21:16:37.661999Z"
    },
    "tags": []
   },
   "outputs": [],
   "source": [
    "%%time\n",
    "\n",
    "Z,_ = sg.Run_GPCA(adata_concat, network=adata_concat.uns['network'], n_components = 50, method = \"knn\", _lambda = 0.6,n_neighbors=7,\n",
    "               save_reconstruction=True)\n",
    "adata_concat.obsm[\"GraphPCA\"] = Z\n",
    "print(Z.shape)"
   ]
  },
  {
   "cell_type": "code",
   "execution_count": null,
   "id": "751f2222-5a61-4c69-92f8-71314dd41139",
   "metadata": {
    "execution": {
     "iopub.execute_input": "2024-11-21T21:16:37.664843Z",
     "iopub.status.busy": "2024-11-21T21:16:37.664687Z",
     "iopub.status.idle": "2024-11-21T21:16:37.666722Z",
     "shell.execute_reply": "2024-11-21T21:16:37.666360Z",
     "shell.execute_reply.started": "2024-11-21T21:16:37.664829Z"
    },
    "tags": []
   },
   "outputs": [],
   "source": [
    "estimator = KMeans(n_clusters=6)\n",
    "res = estimator.fit(Z[:,:])\n",
    "lable_pred=res.labels_\n",
    "adata_concat.obs[\"GPCA_pred\"]= lable_pred\n",
    "adata_concat.obs[\"GPCA_pred\"] = adata_concat.obs[\"GPCA_pred\"].astype('category')\n",
    "adata_concat.obsm[\"GraphPCA\"] = Z\n"
   ]
  },
  {
   "cell_type": "code",
   "execution_count": null,
   "id": "094ab1f4-eca4-4a73-9f1f-b42fe7416984",
   "metadata": {
    "execution": {
     "iopub.execute_input": "2024-11-21T21:16:37.667332Z",
     "iopub.status.busy": "2024-11-21T21:16:37.667204Z",
     "iopub.status.idle": "2024-11-21T21:16:37.669712Z",
     "shell.execute_reply": "2024-11-21T21:16:37.669266Z",
     "shell.execute_reply.started": "2024-11-21T21:16:37.667320Z"
    },
    "tags": []
   },
   "outputs": [],
   "source": [
    "adata_concat.obs = adata_concat.obs.join(ontrac_input.set_index('Cell_ID')[['Cell_Type', 'x','y']])\n",
    "adata_concat.obs.head()"
   ]
  },
  {
   "cell_type": "code",
   "execution_count": null,
   "id": "0f1b5e90-ad7d-4c85-988e-72cb25e59a6a",
   "metadata": {},
   "outputs": [],
   "source": [
    "adata_concat.obs.to_csv('GPCA_pred.csv', index=True, index_label='Cell_ID')"
   ]
  },
  {
   "cell_type": "code",
   "execution_count": null,
   "id": "bf3064ca-1432-402e-9809-07aa7afbc9a3",
   "metadata": {
    "execution": {
     "iopub.execute_input": "2024-11-21T21:16:37.670613Z",
     "iopub.status.busy": "2024-11-21T21:16:37.670292Z",
     "iopub.status.idle": "2024-11-21T21:16:37.672665Z",
     "shell.execute_reply": "2024-11-21T21:16:37.672228Z",
     "shell.execute_reply.started": "2024-11-21T21:16:37.670593Z"
    },
    "tags": []
   },
   "outputs": [],
   "source": [
    "import numpy as np\n",
    "import pandas as pd\n",
    "import matplotlib as mpl\n",
    "mpl.rcParams['pdf.fonttype'] = 42\n",
    "mpl.rcParams['ps.fonttype'] = 42\n",
    "mpl.rcParams['font.sans-serif'] = 'Arial'\n",
    "import matplotlib.pyplot as plt\n",
    "import seaborn as sns\n",
    "from pprint import pprint\n",
    "%matplotlib inline"
   ]
  },
  {
   "cell_type": "code",
   "execution_count": null,
   "id": "ccdcfcf4-5a5f-4cf6-8f1e-9828563203f6",
   "metadata": {
    "execution": {
     "iopub.execute_input": "2024-11-21T21:16:37.673532Z",
     "iopub.status.busy": "2024-11-21T21:16:37.673298Z",
     "iopub.status.idle": "2024-11-21T21:16:37.675690Z",
     "shell.execute_reply": "2024-11-21T21:16:37.675282Z",
     "shell.execute_reply.started": "2024-11-21T21:16:37.673517Z"
    },
    "tags": []
   },
   "outputs": [],
   "source": [
    "sample_df = adata_concat.obs[adata_concat.obs['Sample'] == 'E14_E1S3']\n",
    "sample_df['GPCA_pred'] = sample_df['GPCA_pred'].astype('category')\n",
    "\n",
    "with sns.axes_style('white', rc={\n",
    "        'xtick.bottom': True,\n",
    "        'ytick.left': True\n",
    "}), sns.plotting_context('paper',\n",
    "                         rc={\n",
    "                             'axes.titlesize': 8,\n",
    "                             'axes.labelsize': 8,\n",
    "                             'xtick.labelsize': 6,\n",
    "                             'ytick.labelsize': 6,\n",
    "                             'legend.fontsize': 6\n",
    "                         }):\n",
    "    fig, ax = plt.subplots()\n",
    "    sns.scatterplot(data = sample_df, x='x',y='y', hue=sample_df['GPCA_pred'], ax=ax)"
   ]
  },
  {
   "cell_type": "markdown",
   "id": "98259303-39e8-4c50-90b7-71ab96a74a94",
   "metadata": {},
   "source": [
    "# variations with in domain"
   ]
  },
  {
   "cell_type": "code",
   "execution_count": null,
   "id": "a477f249",
   "metadata": {},
   "outputs": [],
   "source": [
    "meta_df = pd.read_csv('GPCA_pred.csv', index_col=0)"
   ]
  },
  {
   "cell_type": "code",
   "execution_count": 8,
   "id": "59a4e691-37e4-4d40-aea2-919c3648bbef",
   "metadata": {
    "execution": {
     "iopub.execute_input": "2024-12-09T15:14:04.856914Z",
     "iopub.status.busy": "2024-12-09T15:14:04.856546Z",
     "iopub.status.idle": "2024-12-09T15:14:04.918483Z",
     "shell.execute_reply": "2024-12-09T15:14:04.918069Z",
     "shell.execute_reply.started": "2024-12-09T15:14:04.856893Z"
    },
    "tags": []
   },
   "outputs": [
    {
     "data": {
      "text/html": [
       "<div>\n",
       "<style scoped>\n",
       "    .dataframe tbody tr th:only-of-type {\n",
       "        vertical-align: middle;\n",
       "    }\n",
       "\n",
       "    .dataframe tbody tr th {\n",
       "        vertical-align: top;\n",
       "    }\n",
       "\n",
       "    .dataframe thead th {\n",
       "        text-align: right;\n",
       "    }\n",
       "</style>\n",
       "<table border=\"1\" class=\"dataframe\">\n",
       "  <thead>\n",
       "    <tr style=\"text-align: right;\">\n",
       "      <th></th>\n",
       "      <th>x</th>\n",
       "      <th>y</th>\n",
       "      <th>Niche_NTScore</th>\n",
       "      <th>Cell_NTScore</th>\n",
       "    </tr>\n",
       "    <tr>\n",
       "      <th>Cell_ID</th>\n",
       "      <th></th>\n",
       "      <th></th>\n",
       "      <th></th>\n",
       "      <th></th>\n",
       "    </tr>\n",
       "  </thead>\n",
       "  <tbody>\n",
       "    <tr>\n",
       "      <th>E12_E1S3_100034</th>\n",
       "      <td>15940.0</td>\n",
       "      <td>18584.0</td>\n",
       "      <td>0.113668</td>\n",
       "      <td>0.198802</td>\n",
       "    </tr>\n",
       "    <tr>\n",
       "      <th>E12_E1S3_100035</th>\n",
       "      <td>15942.0</td>\n",
       "      <td>18623.0</td>\n",
       "      <td>0.091417</td>\n",
       "      <td>0.132273</td>\n",
       "    </tr>\n",
       "    <tr>\n",
       "      <th>E12_E1S3_100191</th>\n",
       "      <td>15965.0</td>\n",
       "      <td>18619.0</td>\n",
       "      <td>0.092212</td>\n",
       "      <td>0.161531</td>\n",
       "    </tr>\n",
       "    <tr>\n",
       "      <th>E12_E1S3_100256</th>\n",
       "      <td>15969.0</td>\n",
       "      <td>18717.0</td>\n",
       "      <td>0.090893</td>\n",
       "      <td>0.091927</td>\n",
       "    </tr>\n",
       "    <tr>\n",
       "      <th>E12_E1S3_100264</th>\n",
       "      <td>15974.0</td>\n",
       "      <td>18692.0</td>\n",
       "      <td>0.090893</td>\n",
       "      <td>0.100961</td>\n",
       "    </tr>\n",
       "  </tbody>\n",
       "</table>\n",
       "</div>"
      ],
      "text/plain": [
       "                       x        y  Niche_NTScore  Cell_NTScore\n",
       "Cell_ID                                                       \n",
       "E12_E1S3_100034  15940.0  18584.0       0.113668      0.198802\n",
       "E12_E1S3_100035  15942.0  18623.0       0.091417      0.132273\n",
       "E12_E1S3_100191  15965.0  18619.0       0.092212      0.161531\n",
       "E12_E1S3_100256  15969.0  18717.0       0.090893      0.091927\n",
       "E12_E1S3_100264  15974.0  18692.0       0.090893      0.100961"
      ]
     },
     "execution_count": 8,
     "metadata": {},
     "output_type": "execute_result"
    }
   ],
   "source": [
    "NT_score = pd.read_csv('../../output/stereo_midbrain_base_NT/NTScore.csv.gz', index_col=0)\n",
    "NT_score.head()"
   ]
  },
  {
   "cell_type": "code",
   "execution_count": null,
   "id": "e8fa02b2-922d-4569-a216-d71bfe656878",
   "metadata": {
    "execution": {
     "iopub.execute_input": "2024-12-09T15:14:04.919612Z",
     "iopub.status.busy": "2024-12-09T15:14:04.919258Z",
     "iopub.status.idle": "2024-12-09T15:14:04.932166Z",
     "shell.execute_reply": "2024-12-09T15:14:04.931774Z",
     "shell.execute_reply.started": "2024-12-09T15:14:04.919592Z"
    },
    "tags": []
   },
   "outputs": [],
   "source": [
    "meta_filtered_df = meta_df[meta_df['Sample'] == 'E14_E1S3']\n",
    "meta_filtered_df = meta_filtered_df[meta_filtered_df['Cell_Type']=='RGC']\n",
    "print(meta_filtered_df.shape)\n",
    "meta_filtered_df.head()"
   ]
  },
  {
   "cell_type": "code",
   "execution_count": null,
   "id": "a1e4ea43-0d3f-4da8-bec3-b8d386d95432",
   "metadata": {
    "execution": {
     "iopub.execute_input": "2024-12-09T15:14:04.934112Z",
     "iopub.status.busy": "2024-12-09T15:14:04.933703Z",
     "iopub.status.idle": "2024-12-09T15:14:04.938974Z",
     "shell.execute_reply": "2024-12-09T15:14:04.938285Z",
     "shell.execute_reply.started": "2024-12-09T15:14:04.934089Z"
    },
    "tags": []
   },
   "outputs": [
    {
     "name": "stdout",
     "output_type": "stream",
     "text": [
      "(362, 8)\n",
      "(80, 8)\n"
     ]
    }
   ],
   "source": [
    "meta_filtered_3_df = meta_filtered_df[meta_filtered_df['GPCA_pred'] == '3']\n",
    "print(meta_filtered_3_df.shape)"
   ]
  },
  {
   "cell_type": "code",
   "execution_count": null,
   "id": "03f5a771-62e8-48e6-ad11-1031dece06a6",
   "metadata": {
    "execution": {
     "iopub.execute_input": "2024-12-09T15:14:04.940374Z",
     "iopub.status.busy": "2024-12-09T15:14:04.939926Z",
     "iopub.status.idle": "2024-12-09T15:14:04.950328Z",
     "shell.execute_reply": "2024-12-09T15:14:04.949595Z",
     "shell.execute_reply.started": "2024-12-09T15:14:04.940350Z"
    },
    "tags": []
   },
   "outputs": [],
   "source": [
    "meta_filtered_3_df = meta_filtered_3_df.join(NT_score['Cell_NTScore'])"
   ]
  },
  {
   "cell_type": "code",
   "execution_count": 13,
   "id": "bd15d1e1-5e1b-4b09-aa7a-afda178755c5",
   "metadata": {
    "execution": {
     "iopub.execute_input": "2024-12-09T15:14:04.962626Z",
     "iopub.status.busy": "2024-12-09T15:14:04.962430Z",
     "iopub.status.idle": "2024-12-09T15:14:30.938956Z",
     "shell.execute_reply": "2024-12-09T15:14:30.938402Z",
     "shell.execute_reply.started": "2024-12-09T15:14:04.962609Z"
    },
    "tags": []
   },
   "outputs": [
    {
     "data": {
      "text/html": [
       "<div>\n",
       "<style scoped>\n",
       "    .dataframe tbody tr th:only-of-type {\n",
       "        vertical-align: middle;\n",
       "    }\n",
       "\n",
       "    .dataframe tbody tr th {\n",
       "        vertical-align: top;\n",
       "    }\n",
       "\n",
       "    .dataframe thead th {\n",
       "        text-align: right;\n",
       "    }\n",
       "</style>\n",
       "<table border=\"1\" class=\"dataframe\">\n",
       "  <thead>\n",
       "    <tr style=\"text-align: right;\">\n",
       "      <th></th>\n",
       "      <th>E12_E1S3_100034</th>\n",
       "      <th>E12_E1S3_100035</th>\n",
       "      <th>E12_E1S3_100191</th>\n",
       "      <th>E12_E1S3_100256</th>\n",
       "      <th>E12_E1S3_100264</th>\n",
       "      <th>E12_E1S3_100337</th>\n",
       "      <th>E12_E1S3_100346</th>\n",
       "      <th>E12_E1S3_100461</th>\n",
       "      <th>E12_E1S3_100502</th>\n",
       "      <th>E12_E1S3_100532</th>\n",
       "      <th>...</th>\n",
       "      <th>E16_E2S7_326320</th>\n",
       "      <th>E16_E2S7_326323</th>\n",
       "      <th>E16_E2S7_326324</th>\n",
       "      <th>E16_E2S7_326325</th>\n",
       "      <th>E16_E2S7_326329</th>\n",
       "      <th>E16_E2S7_326357</th>\n",
       "      <th>E16_E2S7_326359</th>\n",
       "      <th>E16_E2S7_326384</th>\n",
       "      <th>E16_E2S7_326391</th>\n",
       "      <th>E16_E2S7_326412</th>\n",
       "    </tr>\n",
       "  </thead>\n",
       "  <tbody>\n",
       "    <tr>\n",
       "      <th>0610009B22Rik</th>\n",
       "      <td>-0.164753</td>\n",
       "      <td>-0.145323</td>\n",
       "      <td>-0.169342</td>\n",
       "      <td>-0.146486</td>\n",
       "      <td>-0.141857</td>\n",
       "      <td>-0.182881</td>\n",
       "      <td>-0.180363</td>\n",
       "      <td>-0.174450</td>\n",
       "      <td>-0.199164</td>\n",
       "      <td>-0.164989</td>\n",
       "      <td>...</td>\n",
       "      <td>-0.186833</td>\n",
       "      <td>-0.180521</td>\n",
       "      <td>-0.140679</td>\n",
       "      <td>-0.156495</td>\n",
       "      <td>-0.172933</td>\n",
       "      <td>-0.110040</td>\n",
       "      <td>-0.138963</td>\n",
       "      <td>-0.144868</td>\n",
       "      <td>-0.174496</td>\n",
       "      <td>-0.127659</td>\n",
       "    </tr>\n",
       "    <tr>\n",
       "      <th>0610010F05Rik</th>\n",
       "      <td>-0.202786</td>\n",
       "      <td>-0.179762</td>\n",
       "      <td>-0.208226</td>\n",
       "      <td>-0.181139</td>\n",
       "      <td>-0.175657</td>\n",
       "      <td>-0.224283</td>\n",
       "      <td>-0.221297</td>\n",
       "      <td>-0.214282</td>\n",
       "      <td>-0.243610</td>\n",
       "      <td>-0.203065</td>\n",
       "      <td>...</td>\n",
       "      <td>-0.228973</td>\n",
       "      <td>-0.221484</td>\n",
       "      <td>-0.174262</td>\n",
       "      <td>-0.192998</td>\n",
       "      <td>-0.212484</td>\n",
       "      <td>-0.156872</td>\n",
       "      <td>-0.172230</td>\n",
       "      <td>-0.179224</td>\n",
       "      <td>-0.214338</td>\n",
       "      <td>-0.165153</td>\n",
       "    </tr>\n",
       "    <tr>\n",
       "      <th>0610010K14Rik</th>\n",
       "      <td>-0.280477</td>\n",
       "      <td>-0.251139</td>\n",
       "      <td>-0.287405</td>\n",
       "      <td>-0.252895</td>\n",
       "      <td>5.874698</td>\n",
       "      <td>-0.307839</td>\n",
       "      <td>-0.304040</td>\n",
       "      <td>-0.295114</td>\n",
       "      <td>-0.332409</td>\n",
       "      <td>-0.280833</td>\n",
       "      <td>...</td>\n",
       "      <td>-0.313804</td>\n",
       "      <td>-0.304278</td>\n",
       "      <td>-0.244126</td>\n",
       "      <td>-0.268010</td>\n",
       "      <td>-0.292825</td>\n",
       "      <td>3.544289</td>\n",
       "      <td>-0.241534</td>\n",
       "      <td>-0.250453</td>\n",
       "      <td>-0.295184</td>\n",
       "      <td>-0.232507</td>\n",
       "    </tr>\n",
       "    <tr>\n",
       "      <th>0610012G03Rik</th>\n",
       "      <td>1.874134</td>\n",
       "      <td>-0.252851</td>\n",
       "      <td>-0.290147</td>\n",
       "      <td>-0.254657</td>\n",
       "      <td>-0.247466</td>\n",
       "      <td>-0.311154</td>\n",
       "      <td>-0.307249</td>\n",
       "      <td>-0.298073</td>\n",
       "      <td>0.849398</td>\n",
       "      <td>-0.283390</td>\n",
       "      <td>...</td>\n",
       "      <td>-0.317286</td>\n",
       "      <td>-0.307494</td>\n",
       "      <td>-0.245637</td>\n",
       "      <td>-0.270202</td>\n",
       "      <td>-0.295720</td>\n",
       "      <td>-0.222812</td>\n",
       "      <td>-0.242970</td>\n",
       "      <td>-0.252145</td>\n",
       "      <td>-0.298145</td>\n",
       "      <td>-0.233683</td>\n",
       "    </tr>\n",
       "    <tr>\n",
       "      <th>0610037L13Rik</th>\n",
       "      <td>-0.174357</td>\n",
       "      <td>-0.154231</td>\n",
       "      <td>-0.179111</td>\n",
       "      <td>-0.155435</td>\n",
       "      <td>-0.150641</td>\n",
       "      <td>-0.193134</td>\n",
       "      <td>-0.190527</td>\n",
       "      <td>-0.184401</td>\n",
       "      <td>-0.210000</td>\n",
       "      <td>-0.174602</td>\n",
       "      <td>...</td>\n",
       "      <td>-0.197228</td>\n",
       "      <td>-0.190690</td>\n",
       "      <td>-0.149421</td>\n",
       "      <td>-0.165804</td>\n",
       "      <td>-0.182831</td>\n",
       "      <td>-0.121942</td>\n",
       "      <td>-0.147643</td>\n",
       "      <td>-0.153760</td>\n",
       "      <td>-0.184449</td>\n",
       "      <td>-0.140846</td>\n",
       "    </tr>\n",
       "  </tbody>\n",
       "</table>\n",
       "<p>5 rows × 26621 columns</p>\n",
       "</div>"
      ],
      "text/plain": [
       "               E12_E1S3_100034  E12_E1S3_100035  E12_E1S3_100191  \\\n",
       "0610009B22Rik        -0.164753        -0.145323        -0.169342   \n",
       "0610010F05Rik        -0.202786        -0.179762        -0.208226   \n",
       "0610010K14Rik        -0.280477        -0.251139        -0.287405   \n",
       "0610012G03Rik         1.874134        -0.252851        -0.290147   \n",
       "0610037L13Rik        -0.174357        -0.154231        -0.179111   \n",
       "\n",
       "               E12_E1S3_100256  E12_E1S3_100264  E12_E1S3_100337  \\\n",
       "0610009B22Rik        -0.146486        -0.141857        -0.182881   \n",
       "0610010F05Rik        -0.181139        -0.175657        -0.224283   \n",
       "0610010K14Rik        -0.252895         5.874698        -0.307839   \n",
       "0610012G03Rik        -0.254657        -0.247466        -0.311154   \n",
       "0610037L13Rik        -0.155435        -0.150641        -0.193134   \n",
       "\n",
       "               E12_E1S3_100346  E12_E1S3_100461  E12_E1S3_100502  \\\n",
       "0610009B22Rik        -0.180363        -0.174450        -0.199164   \n",
       "0610010F05Rik        -0.221297        -0.214282        -0.243610   \n",
       "0610010K14Rik        -0.304040        -0.295114        -0.332409   \n",
       "0610012G03Rik        -0.307249        -0.298073         0.849398   \n",
       "0610037L13Rik        -0.190527        -0.184401        -0.210000   \n",
       "\n",
       "               E12_E1S3_100532  ...  E16_E2S7_326320  E16_E2S7_326323  \\\n",
       "0610009B22Rik        -0.164989  ...        -0.186833        -0.180521   \n",
       "0610010F05Rik        -0.203065  ...        -0.228973        -0.221484   \n",
       "0610010K14Rik        -0.280833  ...        -0.313804        -0.304278   \n",
       "0610012G03Rik        -0.283390  ...        -0.317286        -0.307494   \n",
       "0610037L13Rik        -0.174602  ...        -0.197228        -0.190690   \n",
       "\n",
       "               E16_E2S7_326324  E16_E2S7_326325  E16_E2S7_326329  \\\n",
       "0610009B22Rik        -0.140679        -0.156495        -0.172933   \n",
       "0610010F05Rik        -0.174262        -0.192998        -0.212484   \n",
       "0610010K14Rik        -0.244126        -0.268010        -0.292825   \n",
       "0610012G03Rik        -0.245637        -0.270202        -0.295720   \n",
       "0610037L13Rik        -0.149421        -0.165804        -0.182831   \n",
       "\n",
       "               E16_E2S7_326357  E16_E2S7_326359  E16_E2S7_326384  \\\n",
       "0610009B22Rik        -0.110040        -0.138963        -0.144868   \n",
       "0610010F05Rik        -0.156872        -0.172230        -0.179224   \n",
       "0610010K14Rik         3.544289        -0.241534        -0.250453   \n",
       "0610012G03Rik        -0.222812        -0.242970        -0.252145   \n",
       "0610037L13Rik        -0.121942        -0.147643        -0.153760   \n",
       "\n",
       "               E16_E2S7_326391  E16_E2S7_326412  \n",
       "0610009B22Rik        -0.174496        -0.127659  \n",
       "0610010F05Rik        -0.214338        -0.165153  \n",
       "0610010K14Rik        -0.295184        -0.232507  \n",
       "0610012G03Rik        -0.298145        -0.233683  \n",
       "0610037L13Rik        -0.184449        -0.140846  \n",
       "\n",
       "[5 rows x 26621 columns]"
      ]
     },
     "execution_count": 13,
     "metadata": {},
     "output_type": "execute_result"
    }
   ],
   "source": [
    "scaled_exp = pd.read_csv('/sc/arion/projects/YuanLab/gcproj/wen/ONTrac_test/analysis/stereo_seq/stereo_seq_scaled_exp.txt', index_col=0, sep='\\t')\n",
    "scaled_exp.head()"
   ]
  },
  {
   "cell_type": "markdown",
   "id": "eb6094f3-9e17-421d-9dd1-b0a7ab22d384",
   "metadata": {},
   "source": [
    "## within cluster variation"
   ]
  },
  {
   "cell_type": "code",
   "execution_count": null,
   "id": "69032e9a-2bca-47f6-842d-f6b42f5bd819",
   "metadata": {
    "execution": {
     "iopub.execute_input": "2024-12-09T15:14:30.940379Z",
     "iopub.status.busy": "2024-12-09T15:14:30.940130Z",
     "iopub.status.idle": "2024-12-09T15:14:30.949484Z",
     "shell.execute_reply": "2024-12-09T15:14:30.948906Z",
     "shell.execute_reply.started": "2024-12-09T15:14:30.940364Z"
    },
    "tags": []
   },
   "outputs": [],
   "source": [
    "meta_filtered_3_df.head()"
   ]
  },
  {
   "cell_type": "code",
   "execution_count": 15,
   "id": "84419af1-47f4-448b-b68e-cd19b8cf68af",
   "metadata": {
    "execution": {
     "iopub.execute_input": "2024-12-09T15:14:58.882550Z",
     "iopub.status.busy": "2024-12-09T15:14:58.882250Z",
     "iopub.status.idle": "2024-12-09T15:14:58.886582Z",
     "shell.execute_reply": "2024-12-09T15:14:58.885959Z",
     "shell.execute_reply.started": "2024-12-09T15:14:58.882533Z"
    },
    "tags": []
   },
   "outputs": [],
   "source": [
    "meta_filtered_3_df['Cell_NTScore_r'] = 1-meta_filtered_3_df['Cell_NTScore']"
   ]
  },
  {
   "cell_type": "code",
   "execution_count": 17,
   "id": "81b085ff-2570-4c55-8fe1-20b26fe3402b",
   "metadata": {
    "execution": {
     "iopub.execute_input": "2024-12-09T15:15:03.340248Z",
     "iopub.status.busy": "2024-12-09T15:15:03.339923Z",
     "iopub.status.idle": "2024-12-09T15:15:03.345675Z",
     "shell.execute_reply": "2024-12-09T15:15:03.344731Z",
     "shell.execute_reply.started": "2024-12-09T15:15:03.340227Z"
    },
    "tags": []
   },
   "outputs": [],
   "source": [
    "cells_low = meta_filtered_3_df[meta_filtered_3_df['Cell_NTScore_r']<0.17].index.tolist()\n",
    "cells_high = meta_filtered_3_df[meta_filtered_3_df['Cell_NTScore_r']>=0.17].index.tolist()"
   ]
  },
  {
   "cell_type": "code",
   "execution_count": 18,
   "id": "0b11e29d-de12-4613-bd8e-f1b6580308ac",
   "metadata": {
    "execution": {
     "iopub.execute_input": "2024-12-09T15:15:10.240712Z",
     "iopub.status.busy": "2024-12-09T15:15:10.240413Z",
     "iopub.status.idle": "2024-12-09T15:15:10.244172Z",
     "shell.execute_reply": "2024-12-09T15:15:10.243271Z",
     "shell.execute_reply.started": "2024-12-09T15:15:10.240693Z"
    },
    "tags": []
   },
   "outputs": [],
   "source": [
    "genes = [\n",
    "    'Cdk8','Pum3','Nkd1','Hacd3','Tet3','Efna5','Cd24a','Ccnd2','Rpl10','Rrm2','Rpa2','Mrps18c','Phb2'\n",
    "]\n"
   ]
  },
  {
   "cell_type": "code",
   "execution_count": 19,
   "id": "e1ea72c8-abe3-49bb-a3ae-d03a5bbcfda2",
   "metadata": {
    "execution": {
     "iopub.execute_input": "2024-12-09T15:15:10.418940Z",
     "iopub.status.busy": "2024-12-09T15:15:10.418653Z",
     "iopub.status.idle": "2024-12-09T15:15:10.430000Z",
     "shell.execute_reply": "2024-12-09T15:15:10.429077Z",
     "shell.execute_reply.started": "2024-12-09T15:15:10.418922Z"
    },
    "tags": []
   },
   "outputs": [],
   "source": [
    "data_df = scaled_exp.T.loc[[*cells_low,*cells_high],genes]\n",
    "data_df['group'] = ['NT-Low RGC'] * len(cells_low) + ['NT-High RGC'] * len(cells_high)"
   ]
  },
  {
   "cell_type": "code",
   "execution_count": 23,
   "id": "28ee112f-546f-4e30-969d-c686a95268ea",
   "metadata": {
    "execution": {
     "iopub.execute_input": "2024-12-09T15:32:05.015352Z",
     "iopub.status.busy": "2024-12-09T15:32:05.015012Z",
     "iopub.status.idle": "2024-12-09T15:32:05.019136Z",
     "shell.execute_reply": "2024-12-09T15:32:05.018268Z",
     "shell.execute_reply.started": "2024-12-09T15:32:05.015329Z"
    },
    "tags": []
   },
   "outputs": [
    {
     "name": "stdout",
     "output_type": "stream",
     "text": [
      "21\n",
      "59\n"
     ]
    }
   ],
   "source": [
    "print(len(cells_low))\n",
    "print(len(cells_high))"
   ]
  },
  {
   "cell_type": "code",
   "execution_count": 20,
   "id": "b9e8545b-be27-4515-a06f-a53f115e0d45",
   "metadata": {
    "execution": {
     "iopub.execute_input": "2024-12-09T15:15:10.919292Z",
     "iopub.status.busy": "2024-12-09T15:15:10.918817Z",
     "iopub.status.idle": "2024-12-09T15:15:10.929834Z",
     "shell.execute_reply": "2024-12-09T15:15:10.929183Z",
     "shell.execute_reply.started": "2024-12-09T15:15:10.919258Z"
    },
    "tags": []
   },
   "outputs": [
    {
     "data": {
      "text/html": [
       "<div>\n",
       "<style scoped>\n",
       "    .dataframe tbody tr th:only-of-type {\n",
       "        vertical-align: middle;\n",
       "    }\n",
       "\n",
       "    .dataframe tbody tr th {\n",
       "        vertical-align: top;\n",
       "    }\n",
       "\n",
       "    .dataframe thead th {\n",
       "        text-align: right;\n",
       "    }\n",
       "</style>\n",
       "<table border=\"1\" class=\"dataframe\">\n",
       "  <thead>\n",
       "    <tr style=\"text-align: right;\">\n",
       "      <th></th>\n",
       "      <th>Cdk8</th>\n",
       "      <th>Pum3</th>\n",
       "      <th>Nkd1</th>\n",
       "      <th>Hacd3</th>\n",
       "      <th>Tet3</th>\n",
       "      <th>Efna5</th>\n",
       "      <th>Cd24a</th>\n",
       "      <th>Ccnd2</th>\n",
       "      <th>Rpl10</th>\n",
       "      <th>Rrm2</th>\n",
       "      <th>Rpa2</th>\n",
       "      <th>Mrps18c</th>\n",
       "      <th>Phb2</th>\n",
       "      <th>group</th>\n",
       "    </tr>\n",
       "  </thead>\n",
       "  <tbody>\n",
       "    <tr>\n",
       "      <th>E14_E1S3_177312</th>\n",
       "      <td>8.013305</td>\n",
       "      <td>-0.133016</td>\n",
       "      <td>-0.183434</td>\n",
       "      <td>9.989462</td>\n",
       "      <td>-0.168696</td>\n",
       "      <td>-0.349939</td>\n",
       "      <td>-0.622267</td>\n",
       "      <td>-0.338743</td>\n",
       "      <td>-0.658535</td>\n",
       "      <td>-0.172963</td>\n",
       "      <td>-0.131967</td>\n",
       "      <td>-0.222288</td>\n",
       "      <td>-0.254253</td>\n",
       "      <td>NT-Low RGC</td>\n",
       "    </tr>\n",
       "    <tr>\n",
       "      <th>E14_E1S3_177389</th>\n",
       "      <td>3.087999</td>\n",
       "      <td>-0.132633</td>\n",
       "      <td>-0.182944</td>\n",
       "      <td>-0.194911</td>\n",
       "      <td>-0.168218</td>\n",
       "      <td>-0.349134</td>\n",
       "      <td>-0.620698</td>\n",
       "      <td>-0.337947</td>\n",
       "      <td>6.018661</td>\n",
       "      <td>-0.172508</td>\n",
       "      <td>-0.131206</td>\n",
       "      <td>-0.221686</td>\n",
       "      <td>-0.253598</td>\n",
       "      <td>NT-Low RGC</td>\n",
       "    </tr>\n",
       "    <tr>\n",
       "      <th>E14_E1S3_177402</th>\n",
       "      <td>2.008103</td>\n",
       "      <td>-0.145273</td>\n",
       "      <td>-0.199111</td>\n",
       "      <td>-0.212182</td>\n",
       "      <td>-0.183979</td>\n",
       "      <td>-0.375693</td>\n",
       "      <td>-0.672682</td>\n",
       "      <td>-0.364224</td>\n",
       "      <td>0.199452</td>\n",
       "      <td>-0.187527</td>\n",
       "      <td>-0.143834</td>\n",
       "      <td>-0.241542</td>\n",
       "      <td>-0.275226</td>\n",
       "      <td>NT-Low RGC</td>\n",
       "    </tr>\n",
       "    <tr>\n",
       "      <th>E14_E1S3_177425</th>\n",
       "      <td>-0.245940</td>\n",
       "      <td>-0.181350</td>\n",
       "      <td>-0.245231</td>\n",
       "      <td>-0.261485</td>\n",
       "      <td>-0.228924</td>\n",
       "      <td>-0.451276</td>\n",
       "      <td>-0.823176</td>\n",
       "      <td>-0.438998</td>\n",
       "      <td>0.026098</td>\n",
       "      <td>-0.230340</td>\n",
       "      <td>-0.178785</td>\n",
       "      <td>-0.298192</td>\n",
       "      <td>4.196295</td>\n",
       "      <td>NT-Low RGC</td>\n",
       "    </tr>\n",
       "    <tr>\n",
       "      <th>E14_E1S3_177448</th>\n",
       "      <td>2.243143</td>\n",
       "      <td>-0.155650</td>\n",
       "      <td>-0.212382</td>\n",
       "      <td>-0.226363</td>\n",
       "      <td>-0.196914</td>\n",
       "      <td>9.002382</td>\n",
       "      <td>-0.715633</td>\n",
       "      <td>-0.385770</td>\n",
       "      <td>0.005892</td>\n",
       "      <td>-0.199851</td>\n",
       "      <td>-0.153884</td>\n",
       "      <td>-0.257841</td>\n",
       "      <td>-0.292968</td>\n",
       "      <td>NT-Low RGC</td>\n",
       "    </tr>\n",
       "  </tbody>\n",
       "</table>\n",
       "</div>"
      ],
      "text/plain": [
       "                     Cdk8      Pum3      Nkd1     Hacd3      Tet3     Efna5  \\\n",
       "E14_E1S3_177312  8.013305 -0.133016 -0.183434  9.989462 -0.168696 -0.349939   \n",
       "E14_E1S3_177389  3.087999 -0.132633 -0.182944 -0.194911 -0.168218 -0.349134   \n",
       "E14_E1S3_177402  2.008103 -0.145273 -0.199111 -0.212182 -0.183979 -0.375693   \n",
       "E14_E1S3_177425 -0.245940 -0.181350 -0.245231 -0.261485 -0.228924 -0.451276   \n",
       "E14_E1S3_177448  2.243143 -0.155650 -0.212382 -0.226363 -0.196914  9.002382   \n",
       "\n",
       "                    Cd24a     Ccnd2     Rpl10      Rrm2      Rpa2   Mrps18c  \\\n",
       "E14_E1S3_177312 -0.622267 -0.338743 -0.658535 -0.172963 -0.131967 -0.222288   \n",
       "E14_E1S3_177389 -0.620698 -0.337947  6.018661 -0.172508 -0.131206 -0.221686   \n",
       "E14_E1S3_177402 -0.672682 -0.364224  0.199452 -0.187527 -0.143834 -0.241542   \n",
       "E14_E1S3_177425 -0.823176 -0.438998  0.026098 -0.230340 -0.178785 -0.298192   \n",
       "E14_E1S3_177448 -0.715633 -0.385770  0.005892 -0.199851 -0.153884 -0.257841   \n",
       "\n",
       "                     Phb2       group  \n",
       "E14_E1S3_177312 -0.254253  NT-Low RGC  \n",
       "E14_E1S3_177389 -0.253598  NT-Low RGC  \n",
       "E14_E1S3_177402 -0.275226  NT-Low RGC  \n",
       "E14_E1S3_177425  4.196295  NT-Low RGC  \n",
       "E14_E1S3_177448 -0.292968  NT-Low RGC  "
      ]
     },
     "execution_count": 20,
     "metadata": {},
     "output_type": "execute_result"
    }
   ],
   "source": [
    "data_df.head()"
   ]
  },
  {
   "cell_type": "code",
   "execution_count": 22,
   "id": "0b820b1e-44cf-4793-af87-7237f468c54b",
   "metadata": {
    "execution": {
     "iopub.execute_input": "2024-12-09T15:19:39.676210Z",
     "iopub.status.busy": "2024-12-09T15:19:39.675568Z",
     "iopub.status.idle": "2024-12-09T15:19:39.701821Z",
     "shell.execute_reply": "2024-12-09T15:19:39.701425Z",
     "shell.execute_reply.started": "2024-12-09T15:19:39.676185Z"
    },
    "tags": []
   },
   "outputs": [
    {
     "name": "stdout",
     "output_type": "stream",
     "text": [
      "Cdk8 2.658919341983387 0.009508915745094128 821.0 0.027956020517882478\n",
      "Pum3 -1.6450366312129443 0.10398664923713649 447.0 0.05999713741278215\n",
      "Nkd1 -1.3752804186074472 0.17298170475590513 470.0 0.10325137471016226\n",
      "Hacd3 0.3307587464867543 0.7417135941403635 505.0 0.2125518526618987\n",
      "Tet3 -1.1348062443451326 0.25993182587316105 511.0 0.23761750352290179\n",
      "Efna5 3.4413788063126813 0.0009329400191045064 827.0 0.023603327500390747\n",
      "Cd24a -0.5367400761083073 0.5929748642352881 504.0 0.20856755488237333\n",
      "Ccnd2 -0.40664450766200544 0.6853827442070554 598.0 0.8183769614717933\n",
      "Rpl10 2.792068854394023 0.006583812551436758 889.0 0.003266380372977806\n",
      "Rrm2 -0.7890719564400255 0.43246190954676633 485.0 0.142845293479777\n",
      "Rpa2 -0.6017023252044652 0.5491172445592444 532.0 0.34143064519334954\n",
      "Mrps18c 1.8887109565749363 0.06264797638269641 578.0 0.6539142618651163\n",
      "Phb2 2.0365854299491146 0.045085103376720295 617.0 0.9825518074978354\n"
     ]
    }
   ],
   "source": [
    "from scipy.stats import ttest_ind, mannwhitneyu\n",
    "\n",
    "for g in genes:\n",
    "    ttest_s, ttest_p, *_ = ttest_ind(data_df[g].values[:len(cells_low)],data_df[g].values[len(cells_low):])\n",
    "    mann_w_u_s, mann_w_u_p =  mannwhitneyu(data_df[g].values[:len(cells_low)],data_df[g].values[len(cells_low):])\n",
    "    print(g, ttest_s, ttest_p, mann_w_u_s, mann_w_u_p)"
   ]
  }
 ],
 "metadata": {
  "kernelspec": {
   "display_name": "Python 3.11 (scverse)",
   "language": "python",
   "name": "scverse"
  },
  "language_info": {
   "codemirror_mode": {
    "name": "ipython",
    "version": 3
   },
   "file_extension": ".py",
   "mimetype": "text/x-python",
   "name": "python",
   "nbconvert_exporter": "python",
   "pygments_lexer": "ipython3",
   "version": "3.11.5"
  }
 },
 "nbformat": 4,
 "nbformat_minor": 5
}
