{
 "cells": [
  {
   "cell_type": "markdown",
   "id": "3ade337a-deb6-41aa-8c5b-f6778f3ec55d",
   "metadata": {},
   "source": [
    "# Notes"
   ]
  },
  {
   "cell_type": "markdown",
   "id": "8424c003-b93e-48d7-87c6-60708a7d12fc",
   "metadata": {},
   "source": [
    "This notebook contains codes for metacell-based correlation analysis between NT score and gene expression related to Fig. S11, Additional file 4: Table S3"
   ]
  },
  {
   "cell_type": "markdown",
   "id": "466036fe-2148-4ffe-b32c-a27c0ad4838b",
   "metadata": {},
   "source": [
    "# Load Modules"
   ]
  },
  {
   "cell_type": "code",
   "execution_count": 1,
   "id": "a1b3eac4-596c-4b38-8b2a-5c9627d5844e",
   "metadata": {
    "execution": {
     "iopub.execute_input": "2025-06-02T20:30:13.696338Z",
     "iopub.status.busy": "2025-06-02T20:30:13.696028Z",
     "iopub.status.idle": "2025-06-02T20:30:21.186373Z",
     "shell.execute_reply": "2025-06-02T20:30:21.185871Z",
     "shell.execute_reply.started": "2025-06-02T20:30:13.696325Z"
    },
    "tags": []
   },
   "outputs": [],
   "source": [
    "import numpy as np\n",
    "import pandas as pd\n",
    "import matplotlib as mpl\n",
    "mpl.rcParams['pdf.fonttype'] = 42\n",
    "mpl.rcParams['ps.fonttype'] = 42\n",
    "mpl.rcParams['font.sans-serif'] = 'Arial'\n",
    "import matplotlib.pyplot as plt\n",
    "import seaborn as sns\n",
    "from pprint import pprint\n",
    "%matplotlib inline"
   ]
  },
  {
   "cell_type": "code",
   "execution_count": 2,
   "id": "b5c8635f-5b38-40df-8b32-eca14ac2dc7c",
   "metadata": {
    "execution": {
     "iopub.execute_input": "2025-06-02T20:30:21.187932Z",
     "iopub.status.busy": "2025-06-02T20:30:21.187470Z",
     "iopub.status.idle": "2025-06-02T20:30:21.211471Z",
     "shell.execute_reply": "2025-06-02T20:30:21.211120Z",
     "shell.execute_reply.started": "2025-06-02T20:30:21.187904Z"
    },
    "tags": []
   },
   "outputs": [],
   "source": [
    "from optparse import Values"
   ]
  },
  {
   "cell_type": "code",
   "execution_count": 3,
   "id": "13ca1e60-8957-4a1a-9ebb-9fd2bf455dcd",
   "metadata": {
    "execution": {
     "iopub.execute_input": "2025-06-02T20:30:21.212166Z",
     "iopub.status.busy": "2025-06-02T20:30:21.211987Z",
     "iopub.status.idle": "2025-06-02T20:30:21.516937Z",
     "shell.execute_reply": "2025-06-02T20:30:21.516611Z",
     "shell.execute_reply.started": "2025-06-02T20:30:21.212153Z"
    },
    "tags": []
   },
   "outputs": [
    {
     "name": "stdout",
     "output_type": "stream",
     "text": [
      "##################################################################################\n",
      "\n",
      "         ▄▄█▀▀██   ▀█▄   ▀█▀ █▀▀██▀▀█                   ▄▄█▀▀▀▄█\n",
      "        ▄█▀    ██   █▀█   █     ██    ▄▄▄ ▄▄   ▄▄▄▄   ▄█▀     ▀\n",
      "        ██      ██  █ ▀█▄ █     ██     ██▀ ▀▀ ▀▀ ▄██  ██\n",
      "        ▀█▄     ██  █   ███     ██     ██     ▄█▀ ██  ▀█▄      ▄\n",
      "         ▀▀█▄▄▄█▀  ▄█▄   ▀█    ▄██▄   ▄██▄    ▀█▄▄▀█▀  ▀▀█▄▄▄▄▀\n",
      "\n",
      "                        version: 1.2.0\n",
      "\n",
      "##################################################################################\n"
     ]
    }
   ],
   "source": [
    "from ONTraC.analysis.data import AnaData\n",
    "from ONTraC.utils import write_version_info\n",
    "\n",
    "write_version_info()"
   ]
  },
  {
   "cell_type": "code",
   "execution_count": 4,
   "id": "10931b67-e80c-4ff1-8c08-e4313752b633",
   "metadata": {
    "execution": {
     "iopub.execute_input": "2025-06-02T20:30:21.517620Z",
     "iopub.status.busy": "2025-06-02T20:30:21.517470Z",
     "iopub.status.idle": "2025-06-02T20:30:21.551693Z",
     "shell.execute_reply": "2025-06-02T20:30:21.551355Z",
     "shell.execute_reply.started": "2025-06-02T20:30:21.517608Z"
    },
    "tags": []
   },
   "outputs": [],
   "source": [
    "from ONTraC.analysis.trajectory import (construct_meta_cell_along_trajectory,\n",
    "                                        plot_scatter_feat_along_trajectory,\n",
    "                                        plot_cell_type_composition_along_trajectory_from_anadata,\n",
    "                                        plot_cell_type_composition_along_trajectory)"
   ]
  },
  {
   "cell_type": "markdown",
   "id": "01e83134-9166-4a1a-8d2e-f0cbddd254a9",
   "metadata": {},
   "source": [
    "# Load Data"
   ]
  },
  {
   "cell_type": "markdown",
   "id": "9f4be906-e26c-4f2f-952d-38ee714384e6",
   "metadata": {},
   "source": [
    "## download dataset"
   ]
  },
  {
   "cell_type": "code",
   "execution_count": 6,
   "id": "a5963b16-67a8-474c-a242-1ed9c2961f4f",
   "metadata": {
    "execution": {
     "iopub.execute_input": "2025-06-02T20:30:22.543907Z",
     "iopub.status.busy": "2025-06-02T20:30:22.543697Z",
     "iopub.status.idle": "2025-06-02T20:30:29.864375Z",
     "shell.execute_reply": "2025-06-02T20:30:29.863957Z",
     "shell.execute_reply.started": "2025-06-02T20:30:22.543894Z"
    },
    "tags": []
   },
   "outputs": [
    {
     "name": "stdout",
     "output_type": "stream",
     "text": [
      "File downloaded and saved to ./Stereo_seq_data.zip\n"
     ]
    }
   ],
   "source": [
    "import requests\n",
    "\n",
    "# URL of the file\n",
    "url = \"https://zenodo.org/records/15571644/files/Stereo_seq_data.zip\"\n",
    "\n",
    "# Local file path to save the file\n",
    "file_path = \"./Stereo_seq_data.zip\"\n",
    "\n",
    "try:\n",
    "    # Send a GET request to the URL\n",
    "    response = requests.get(url)\n",
    "    response.raise_for_status()  # Check if the request was successful\n",
    "\n",
    "    # Write the content to the file\n",
    "    with open(file_path, \"wb\") as file:\n",
    "        file.write(response.content)\n",
    "\n",
    "    print(f\"File downloaded and saved to {file_path}\")\n",
    "except requests.exceptions.RequestException as e:\n",
    "    print(f\"An error occurred: {e}\")\n"
   ]
  },
  {
   "cell_type": "code",
   "execution_count": 7,
   "id": "0defaa97-6161-44b1-ae7a-dfc41f1de287",
   "metadata": {
    "execution": {
     "iopub.execute_input": "2025-06-02T20:30:29.866133Z",
     "iopub.status.busy": "2025-06-02T20:30:29.865928Z",
     "iopub.status.idle": "2025-06-02T20:30:30.624339Z",
     "shell.execute_reply": "2025-06-02T20:30:30.623957Z",
     "shell.execute_reply.started": "2025-06-02T20:30:29.866119Z"
    },
    "tags": []
   },
   "outputs": [
    {
     "name": "stdout",
     "output_type": "stream",
     "text": [
      "Files extracted to './'\n"
     ]
    }
   ],
   "source": [
    "import zipfile\n",
    "\n",
    "# Path to the zip file\n",
    "zip_file_path = \"Stereo_seq_data.zip\"\n",
    "\n",
    "# Directory where files will be extracted\n",
    "extract_to_path = \"./\"\n",
    "\n",
    "try:\n",
    "    # Open the zip file\n",
    "    with zipfile.ZipFile(zip_file_path, 'r') as zip_ref:\n",
    "        # Extract all files to the specified directory\n",
    "        zip_ref.extractall(extract_to_path)\n",
    "\n",
    "    print(f\"Files extracted to '{extract_to_path}'\")\n",
    "except zipfile.BadZipFile:\n",
    "    print(\"The file is not a valid zip file.\")\n"
   ]
  },
  {
   "cell_type": "markdown",
   "id": "ee3ee675-5a2c-40ff-a090-93ef06bbacdf",
   "metadata": {},
   "source": [
    "## ONTraC output"
   ]
  },
  {
   "cell_type": "code",
   "execution_count": 8,
   "id": "b0bffec9-6fd0-4344-9105-4b471f242f78",
   "metadata": {
    "execution": {
     "iopub.execute_input": "2025-06-02T20:30:30.625306Z",
     "iopub.status.busy": "2025-06-02T20:30:30.624979Z",
     "iopub.status.idle": "2025-06-02T20:30:30.628658Z",
     "shell.execute_reply": "2025-06-02T20:30:30.628315Z",
     "shell.execute_reply.started": "2025-06-02T20:30:30.625291Z"
    },
    "tags": []
   },
   "outputs": [],
   "source": [
    "vis_options = Values()\n",
    "vis_options.NN_dir = './Stereo_seq_data/ONTraC_output/stereo_midbrain_base_NN/'\n",
    "vis_options.GNN_dir = './Stereo_seq_data/ONTraC_output/stereo_midbrain_base_GNN/'\n",
    "vis_options.NT_dir = './Stereo_seq_data/ONTraC_output/stereo_midbrain_base_NT/'\n",
    "vis_options.reverse = True\n",
    "vis_options.output = None"
   ]
  },
  {
   "cell_type": "code",
   "execution_count": 9,
   "id": "71a5bbf0-208f-4b23-a4e0-b69cfb2fa676",
   "metadata": {
    "execution": {
     "iopub.execute_input": "2025-06-02T20:30:30.630649Z",
     "iopub.status.busy": "2025-06-02T20:30:30.630342Z",
     "iopub.status.idle": "2025-06-02T20:30:30.659627Z",
     "shell.execute_reply": "2025-06-02T20:30:30.659279Z",
     "shell.execute_reply.started": "2025-06-02T20:30:30.630636Z"
    },
    "tags": []
   },
   "outputs": [],
   "source": [
    "ana_data = AnaData(vis_options)"
   ]
  },
  {
   "cell_type": "code",
   "execution_count": 10,
   "id": "a33a554e-a5e5-43a8-9bb4-d2dad86f586f",
   "metadata": {
    "execution": {
     "iopub.execute_input": "2025-06-02T20:30:30.660260Z",
     "iopub.status.busy": "2025-06-02T20:30:30.660102Z",
     "iopub.status.idle": "2025-06-02T20:30:30.671366Z",
     "shell.execute_reply": "2025-06-02T20:30:30.671032Z",
     "shell.execute_reply.started": "2025-06-02T20:30:30.660248Z"
    },
    "tags": []
   },
   "outputs": [
    {
     "data": {
      "text/html": [
       "<div>\n",
       "<style scoped>\n",
       "    .dataframe tbody tr th:only-of-type {\n",
       "        vertical-align: middle;\n",
       "    }\n",
       "\n",
       "    .dataframe tbody tr th {\n",
       "        vertical-align: top;\n",
       "    }\n",
       "\n",
       "    .dataframe thead th {\n",
       "        text-align: right;\n",
       "    }\n",
       "</style>\n",
       "<table border=\"1\" class=\"dataframe\">\n",
       "  <thead>\n",
       "    <tr style=\"text-align: right;\">\n",
       "      <th></th>\n",
       "      <th>Sample</th>\n",
       "      <th>Cell_Type</th>\n",
       "      <th>x</th>\n",
       "      <th>y</th>\n",
       "    </tr>\n",
       "    <tr>\n",
       "      <th>Cell_ID</th>\n",
       "      <th></th>\n",
       "      <th></th>\n",
       "      <th></th>\n",
       "      <th></th>\n",
       "    </tr>\n",
       "  </thead>\n",
       "  <tbody>\n",
       "    <tr>\n",
       "      <th>E12_E1S3_100034</th>\n",
       "      <td>E12_E1S3</td>\n",
       "      <td>Fibro</td>\n",
       "      <td>15940.0</td>\n",
       "      <td>18584.0</td>\n",
       "    </tr>\n",
       "    <tr>\n",
       "      <th>E12_E1S3_100035</th>\n",
       "      <td>E12_E1S3</td>\n",
       "      <td>Fibro</td>\n",
       "      <td>15942.0</td>\n",
       "      <td>18623.0</td>\n",
       "    </tr>\n",
       "    <tr>\n",
       "      <th>E12_E1S3_100191</th>\n",
       "      <td>E12_E1S3</td>\n",
       "      <td>Endo</td>\n",
       "      <td>15965.0</td>\n",
       "      <td>18619.0</td>\n",
       "    </tr>\n",
       "    <tr>\n",
       "      <th>E12_E1S3_100256</th>\n",
       "      <td>E12_E1S3</td>\n",
       "      <td>Fibro</td>\n",
       "      <td>15969.0</td>\n",
       "      <td>18717.0</td>\n",
       "    </tr>\n",
       "    <tr>\n",
       "      <th>E12_E1S3_100264</th>\n",
       "      <td>E12_E1S3</td>\n",
       "      <td>Fibro</td>\n",
       "      <td>15974.0</td>\n",
       "      <td>18692.0</td>\n",
       "    </tr>\n",
       "  </tbody>\n",
       "</table>\n",
       "</div>"
      ],
      "text/plain": [
       "                   Sample Cell_Type        x        y\n",
       "Cell_ID                                              \n",
       "E12_E1S3_100034  E12_E1S3     Fibro  15940.0  18584.0\n",
       "E12_E1S3_100035  E12_E1S3     Fibro  15942.0  18623.0\n",
       "E12_E1S3_100191  E12_E1S3      Endo  15965.0  18619.0\n",
       "E12_E1S3_100256  E12_E1S3     Fibro  15969.0  18717.0\n",
       "E12_E1S3_100264  E12_E1S3     Fibro  15974.0  18692.0"
      ]
     },
     "execution_count": 10,
     "metadata": {},
     "output_type": "execute_result"
    }
   ],
   "source": [
    "ana_data.meta_data_df.head()"
   ]
  },
  {
   "cell_type": "markdown",
   "id": "fb3b490e-ccbb-4c7e-bdbb-04e9bc7bfd7a",
   "metadata": {},
   "source": [
    "## gene expression"
   ]
  },
  {
   "cell_type": "code",
   "execution_count": 11,
   "id": "f04c43a8-ffcc-46eb-bcfd-f3231cb11a2f",
   "metadata": {
    "execution": {
     "iopub.execute_input": "2025-06-02T20:30:30.672892Z",
     "iopub.status.busy": "2025-06-02T20:30:30.672720Z",
     "iopub.status.idle": "2025-06-02T20:30:35.158205Z",
     "shell.execute_reply": "2025-06-02T20:30:35.157856Z",
     "shell.execute_reply.started": "2025-06-02T20:30:30.672880Z"
    },
    "tags": []
   },
   "outputs": [
    {
     "data": {
      "text/html": [
       "<div>\n",
       "<style scoped>\n",
       "    .dataframe tbody tr th:only-of-type {\n",
       "        vertical-align: middle;\n",
       "    }\n",
       "\n",
       "    .dataframe tbody tr th {\n",
       "        vertical-align: top;\n",
       "    }\n",
       "\n",
       "    .dataframe thead th {\n",
       "        text-align: right;\n",
       "    }\n",
       "</style>\n",
       "<table border=\"1\" class=\"dataframe\">\n",
       "  <thead>\n",
       "    <tr style=\"text-align: right;\">\n",
       "      <th></th>\n",
       "      <th>0610005C13Rik</th>\n",
       "      <th>0610006L08Rik</th>\n",
       "      <th>0610009B22Rik</th>\n",
       "      <th>0610009O20Rik</th>\n",
       "      <th>0610010F05Rik</th>\n",
       "      <th>0610010K14Rik</th>\n",
       "      <th>0610012G03Rik</th>\n",
       "      <th>0610025J13Rik</th>\n",
       "      <th>0610030E20Rik</th>\n",
       "      <th>0610031O16Rik</th>\n",
       "      <th>...</th>\n",
       "      <th>Zw10</th>\n",
       "      <th>Zwilch</th>\n",
       "      <th>Zwint</th>\n",
       "      <th>Zxdb</th>\n",
       "      <th>Zxdc</th>\n",
       "      <th>Zyg11a</th>\n",
       "      <th>Zyg11b</th>\n",
       "      <th>Zyx</th>\n",
       "      <th>Zzef1</th>\n",
       "      <th>Zzz3</th>\n",
       "    </tr>\n",
       "    <tr>\n",
       "      <th>Cell_ID</th>\n",
       "      <th></th>\n",
       "      <th></th>\n",
       "      <th></th>\n",
       "      <th></th>\n",
       "      <th></th>\n",
       "      <th></th>\n",
       "      <th></th>\n",
       "      <th></th>\n",
       "      <th></th>\n",
       "      <th></th>\n",
       "      <th></th>\n",
       "      <th></th>\n",
       "      <th></th>\n",
       "      <th></th>\n",
       "      <th></th>\n",
       "      <th></th>\n",
       "      <th></th>\n",
       "      <th></th>\n",
       "      <th></th>\n",
       "      <th></th>\n",
       "      <th></th>\n",
       "    </tr>\n",
       "  </thead>\n",
       "  <tbody>\n",
       "    <tr>\n",
       "      <th>E14_E1S3_171289</th>\n",
       "      <td>-0.036511</td>\n",
       "      <td>-0.008535</td>\n",
       "      <td>-0.198124</td>\n",
       "      <td>-0.106792</td>\n",
       "      <td>-0.239179</td>\n",
       "      <td>3.277203</td>\n",
       "      <td>-0.321011</td>\n",
       "      <td>-0.025192</td>\n",
       "      <td>-0.088172</td>\n",
       "      <td>-0.008486</td>\n",
       "      <td>...</td>\n",
       "      <td>-0.091104</td>\n",
       "      <td>-0.068489</td>\n",
       "      <td>-0.389927</td>\n",
       "      <td>-0.073764</td>\n",
       "      <td>-0.117644</td>\n",
       "      <td>-0.043855</td>\n",
       "      <td>-0.223836</td>\n",
       "      <td>-0.21233</td>\n",
       "      <td>-0.148131</td>\n",
       "      <td>-0.199425</td>\n",
       "    </tr>\n",
       "    <tr>\n",
       "      <th>E14_E1S3_171863</th>\n",
       "      <td>-0.036511</td>\n",
       "      <td>-0.008535</td>\n",
       "      <td>-0.198124</td>\n",
       "      <td>-0.106792</td>\n",
       "      <td>-0.239179</td>\n",
       "      <td>-0.307818</td>\n",
       "      <td>-0.321011</td>\n",
       "      <td>-0.025192</td>\n",
       "      <td>-0.088172</td>\n",
       "      <td>-0.008486</td>\n",
       "      <td>...</td>\n",
       "      <td>-0.091104</td>\n",
       "      <td>-0.068489</td>\n",
       "      <td>-0.389927</td>\n",
       "      <td>-0.073764</td>\n",
       "      <td>9.345431</td>\n",
       "      <td>-0.043855</td>\n",
       "      <td>-0.223836</td>\n",
       "      <td>-0.21233</td>\n",
       "      <td>-0.148131</td>\n",
       "      <td>-0.199425</td>\n",
       "    </tr>\n",
       "    <tr>\n",
       "      <th>E14_E1S3_171967</th>\n",
       "      <td>-0.036511</td>\n",
       "      <td>-0.008535</td>\n",
       "      <td>-0.198124</td>\n",
       "      <td>-0.106792</td>\n",
       "      <td>-0.239179</td>\n",
       "      <td>-0.307818</td>\n",
       "      <td>-0.321011</td>\n",
       "      <td>-0.025192</td>\n",
       "      <td>-0.088172</td>\n",
       "      <td>-0.008486</td>\n",
       "      <td>...</td>\n",
       "      <td>-0.091104</td>\n",
       "      <td>-0.068489</td>\n",
       "      <td>-0.389927</td>\n",
       "      <td>-0.073764</td>\n",
       "      <td>-0.117644</td>\n",
       "      <td>-0.043855</td>\n",
       "      <td>-0.223836</td>\n",
       "      <td>-0.21233</td>\n",
       "      <td>-0.148131</td>\n",
       "      <td>-0.199425</td>\n",
       "    </tr>\n",
       "    <tr>\n",
       "      <th>E14_E1S3_171983</th>\n",
       "      <td>-0.036511</td>\n",
       "      <td>-0.008535</td>\n",
       "      <td>-0.198124</td>\n",
       "      <td>-0.106792</td>\n",
       "      <td>-0.239179</td>\n",
       "      <td>2.074143</td>\n",
       "      <td>-0.321011</td>\n",
       "      <td>-0.025192</td>\n",
       "      <td>-0.088172</td>\n",
       "      <td>-0.008486</td>\n",
       "      <td>...</td>\n",
       "      <td>-0.091104</td>\n",
       "      <td>-0.068489</td>\n",
       "      <td>-0.389927</td>\n",
       "      <td>-0.073764</td>\n",
       "      <td>-0.117644</td>\n",
       "      <td>-0.043855</td>\n",
       "      <td>-0.223836</td>\n",
       "      <td>-0.21233</td>\n",
       "      <td>-0.148131</td>\n",
       "      <td>-0.199425</td>\n",
       "    </tr>\n",
       "    <tr>\n",
       "      <th>E14_E1S3_172013</th>\n",
       "      <td>-0.036511</td>\n",
       "      <td>-0.008535</td>\n",
       "      <td>-0.198124</td>\n",
       "      <td>-0.106792</td>\n",
       "      <td>-0.239179</td>\n",
       "      <td>-0.307818</td>\n",
       "      <td>-0.321011</td>\n",
       "      <td>-0.025192</td>\n",
       "      <td>-0.088172</td>\n",
       "      <td>-0.008486</td>\n",
       "      <td>...</td>\n",
       "      <td>-0.091104</td>\n",
       "      <td>-0.068489</td>\n",
       "      <td>-0.389927</td>\n",
       "      <td>-0.073764</td>\n",
       "      <td>-0.117644</td>\n",
       "      <td>-0.043855</td>\n",
       "      <td>-0.223836</td>\n",
       "      <td>-0.21233</td>\n",
       "      <td>-0.148131</td>\n",
       "      <td>-0.199425</td>\n",
       "    </tr>\n",
       "  </tbody>\n",
       "</table>\n",
       "<p>5 rows × 23944 columns</p>\n",
       "</div>"
      ],
      "text/plain": [
       "                 0610005C13Rik  0610006L08Rik  0610009B22Rik  0610009O20Rik  \\\n",
       "Cell_ID                                                                       \n",
       "E14_E1S3_171289      -0.036511      -0.008535      -0.198124      -0.106792   \n",
       "E14_E1S3_171863      -0.036511      -0.008535      -0.198124      -0.106792   \n",
       "E14_E1S3_171967      -0.036511      -0.008535      -0.198124      -0.106792   \n",
       "E14_E1S3_171983      -0.036511      -0.008535      -0.198124      -0.106792   \n",
       "E14_E1S3_172013      -0.036511      -0.008535      -0.198124      -0.106792   \n",
       "\n",
       "                 0610010F05Rik  0610010K14Rik  0610012G03Rik  0610025J13Rik  \\\n",
       "Cell_ID                                                                       \n",
       "E14_E1S3_171289      -0.239179       3.277203      -0.321011      -0.025192   \n",
       "E14_E1S3_171863      -0.239179      -0.307818      -0.321011      -0.025192   \n",
       "E14_E1S3_171967      -0.239179      -0.307818      -0.321011      -0.025192   \n",
       "E14_E1S3_171983      -0.239179       2.074143      -0.321011      -0.025192   \n",
       "E14_E1S3_172013      -0.239179      -0.307818      -0.321011      -0.025192   \n",
       "\n",
       "                 0610030E20Rik  0610031O16Rik  ...      Zw10    Zwilch  \\\n",
       "Cell_ID                                        ...                       \n",
       "E14_E1S3_171289      -0.088172      -0.008486  ... -0.091104 -0.068489   \n",
       "E14_E1S3_171863      -0.088172      -0.008486  ... -0.091104 -0.068489   \n",
       "E14_E1S3_171967      -0.088172      -0.008486  ... -0.091104 -0.068489   \n",
       "E14_E1S3_171983      -0.088172      -0.008486  ... -0.091104 -0.068489   \n",
       "E14_E1S3_172013      -0.088172      -0.008486  ... -0.091104 -0.068489   \n",
       "\n",
       "                    Zwint      Zxdb      Zxdc    Zyg11a    Zyg11b      Zyx  \\\n",
       "Cell_ID                                                                      \n",
       "E14_E1S3_171289 -0.389927 -0.073764 -0.117644 -0.043855 -0.223836 -0.21233   \n",
       "E14_E1S3_171863 -0.389927 -0.073764  9.345431 -0.043855 -0.223836 -0.21233   \n",
       "E14_E1S3_171967 -0.389927 -0.073764 -0.117644 -0.043855 -0.223836 -0.21233   \n",
       "E14_E1S3_171983 -0.389927 -0.073764 -0.117644 -0.043855 -0.223836 -0.21233   \n",
       "E14_E1S3_172013 -0.389927 -0.073764 -0.117644 -0.043855 -0.223836 -0.21233   \n",
       "\n",
       "                    Zzef1      Zzz3  \n",
       "Cell_ID                              \n",
       "E14_E1S3_171289 -0.148131 -0.199425  \n",
       "E14_E1S3_171863 -0.148131 -0.199425  \n",
       "E14_E1S3_171967 -0.148131 -0.199425  \n",
       "E14_E1S3_171983 -0.148131 -0.199425  \n",
       "E14_E1S3_172013 -0.148131 -0.199425  \n",
       "\n",
       "[5 rows x 23944 columns]"
      ]
     },
     "execution_count": 11,
     "metadata": {},
     "output_type": "execute_result"
    }
   ],
   "source": [
    "E14_RGC_scaled_exp = pd.read_csv('./Stereo_seq_data/source/stereo_seq_E14_RGC_scaled_exp.csv.gz', index_col=0)\n",
    "E14_RGC_scaled_exp.head()"
   ]
  },
  {
   "cell_type": "markdown",
   "id": "65443c58-446e-421c-a5e3-d772f3144885",
   "metadata": {},
   "source": [
    "# correlation between gene expression and NT score"
   ]
  },
  {
   "cell_type": "code",
   "execution_count": 12,
   "id": "16bd1c53-1c76-4250-b337-7715dc06b1ec",
   "metadata": {
    "execution": {
     "iopub.execute_input": "2025-06-02T20:30:35.158907Z",
     "iopub.status.busy": "2025-06-02T20:30:35.158790Z",
     "iopub.status.idle": "2025-06-02T20:30:35.213496Z",
     "shell.execute_reply": "2025-06-02T20:30:35.213128Z",
     "shell.execute_reply.started": "2025-06-02T20:30:35.158895Z"
    },
    "tags": []
   },
   "outputs": [],
   "source": [
    "# we are focuing on E14.5 RGCs\n",
    "target_cells = ana_data.meta_data_df[(ana_data.meta_data_df['Cell_Type'] == 'RGC') & (ana_data.meta_data_df['Sample'] == 'E14_E1S3')]\n",
    "E14_RGC_gene_exp_df = E14_RGC_scaled_exp.join(1 - ana_data.NT_score['Cell_NTScore'] if hasattr(ana_data.options, 'reverse')\n",
    "                       and ana_data.options.reverse else ana_data.NT_score['Cell_NTScore'])"
   ]
  },
  {
   "cell_type": "code",
   "execution_count": 13,
   "id": "87b1d169-0cd9-4e2b-a5f2-e5e380f93250",
   "metadata": {
    "execution": {
     "iopub.execute_input": "2025-06-02T20:30:35.214142Z",
     "iopub.status.busy": "2025-06-02T20:30:35.213989Z",
     "iopub.status.idle": "2025-06-02T20:30:35.870055Z",
     "shell.execute_reply": "2025-06-02T20:30:35.869567Z",
     "shell.execute_reply.started": "2025-06-02T20:30:35.214131Z"
    },
    "tags": []
   },
   "outputs": [
    {
     "data": {
      "text/html": [
       "<div>\n",
       "<style scoped>\n",
       "    .dataframe tbody tr th:only-of-type {\n",
       "        vertical-align: middle;\n",
       "    }\n",
       "\n",
       "    .dataframe tbody tr th {\n",
       "        vertical-align: top;\n",
       "    }\n",
       "\n",
       "    .dataframe thead th {\n",
       "        text-align: right;\n",
       "    }\n",
       "</style>\n",
       "<table border=\"1\" class=\"dataframe\">\n",
       "  <thead>\n",
       "    <tr style=\"text-align: right;\">\n",
       "      <th></th>\n",
       "      <th>0610005C13Rik</th>\n",
       "      <th>0610006L08Rik</th>\n",
       "      <th>0610009B22Rik</th>\n",
       "      <th>0610009O20Rik</th>\n",
       "      <th>0610010F05Rik</th>\n",
       "      <th>0610010K14Rik</th>\n",
       "      <th>0610012G03Rik</th>\n",
       "      <th>0610025J13Rik</th>\n",
       "      <th>0610030E20Rik</th>\n",
       "      <th>0610031O16Rik</th>\n",
       "      <th>...</th>\n",
       "      <th>Zwilch</th>\n",
       "      <th>Zwint</th>\n",
       "      <th>Zxdb</th>\n",
       "      <th>Zxdc</th>\n",
       "      <th>Zyg11a</th>\n",
       "      <th>Zyg11b</th>\n",
       "      <th>Zyx</th>\n",
       "      <th>Zzef1</th>\n",
       "      <th>Zzz3</th>\n",
       "      <th>Cell_NTScore</th>\n",
       "    </tr>\n",
       "    <tr>\n",
       "      <th>Cell_ID</th>\n",
       "      <th></th>\n",
       "      <th></th>\n",
       "      <th></th>\n",
       "      <th></th>\n",
       "      <th></th>\n",
       "      <th></th>\n",
       "      <th></th>\n",
       "      <th></th>\n",
       "      <th></th>\n",
       "      <th></th>\n",
       "      <th></th>\n",
       "      <th></th>\n",
       "      <th></th>\n",
       "      <th></th>\n",
       "      <th></th>\n",
       "      <th></th>\n",
       "      <th></th>\n",
       "      <th></th>\n",
       "      <th></th>\n",
       "      <th></th>\n",
       "      <th></th>\n",
       "    </tr>\n",
       "  </thead>\n",
       "  <tbody>\n",
       "    <tr>\n",
       "      <th>E14_E1S3_173789</th>\n",
       "      <td>-0.036511</td>\n",
       "      <td>-0.008535</td>\n",
       "      <td>-0.198124</td>\n",
       "      <td>-0.106792</td>\n",
       "      <td>-0.239179</td>\n",
       "      <td>-0.098032</td>\n",
       "      <td>0.516922</td>\n",
       "      <td>-0.025192</td>\n",
       "      <td>-0.088172</td>\n",
       "      <td>-0.008486</td>\n",
       "      <td>...</td>\n",
       "      <td>0.938360</td>\n",
       "      <td>0.371673</td>\n",
       "      <td>-0.073764</td>\n",
       "      <td>-0.117644</td>\n",
       "      <td>-0.043855</td>\n",
       "      <td>-0.223836</td>\n",
       "      <td>-0.21233</td>\n",
       "      <td>-0.148131</td>\n",
       "      <td>0.353277</td>\n",
       "      <td>0.000230</td>\n",
       "    </tr>\n",
       "    <tr>\n",
       "      <th>E14_E1S3_173259</th>\n",
       "      <td>-0.036511</td>\n",
       "      <td>-0.008535</td>\n",
       "      <td>-0.198124</td>\n",
       "      <td>-0.106792</td>\n",
       "      <td>0.117162</td>\n",
       "      <td>0.537851</td>\n",
       "      <td>-0.049493</td>\n",
       "      <td>-0.025192</td>\n",
       "      <td>-0.088172</td>\n",
       "      <td>-0.008486</td>\n",
       "      <td>...</td>\n",
       "      <td>-0.068489</td>\n",
       "      <td>0.011324</td>\n",
       "      <td>-0.073764</td>\n",
       "      <td>-0.117644</td>\n",
       "      <td>-0.043855</td>\n",
       "      <td>-0.223836</td>\n",
       "      <td>-0.21233</td>\n",
       "      <td>0.946734</td>\n",
       "      <td>-0.199425</td>\n",
       "      <td>0.000240</td>\n",
       "    </tr>\n",
       "    <tr>\n",
       "      <th>E14_E1S3_174106</th>\n",
       "      <td>-0.036511</td>\n",
       "      <td>-0.008535</td>\n",
       "      <td>-0.198124</td>\n",
       "      <td>-0.106792</td>\n",
       "      <td>-0.239179</td>\n",
       "      <td>-0.093338</td>\n",
       "      <td>0.008216</td>\n",
       "      <td>-0.025192</td>\n",
       "      <td>-0.088172</td>\n",
       "      <td>-0.008486</td>\n",
       "      <td>...</td>\n",
       "      <td>-0.068489</td>\n",
       "      <td>-0.117173</td>\n",
       "      <td>0.933613</td>\n",
       "      <td>-0.117644</td>\n",
       "      <td>-0.043855</td>\n",
       "      <td>-0.223836</td>\n",
       "      <td>-0.21233</td>\n",
       "      <td>-0.148131</td>\n",
       "      <td>0.234650</td>\n",
       "      <td>0.000250</td>\n",
       "    </tr>\n",
       "    <tr>\n",
       "      <th>E14_E1S3_173417</th>\n",
       "      <td>-0.036511</td>\n",
       "      <td>-0.008535</td>\n",
       "      <td>-0.198124</td>\n",
       "      <td>-0.106792</td>\n",
       "      <td>-0.239179</td>\n",
       "      <td>-0.064664</td>\n",
       "      <td>-0.321011</td>\n",
       "      <td>-0.025192</td>\n",
       "      <td>-0.088172</td>\n",
       "      <td>-0.008486</td>\n",
       "      <td>...</td>\n",
       "      <td>-0.068489</td>\n",
       "      <td>-0.081511</td>\n",
       "      <td>-0.073764</td>\n",
       "      <td>-0.117644</td>\n",
       "      <td>-0.043855</td>\n",
       "      <td>-0.223836</td>\n",
       "      <td>-0.21233</td>\n",
       "      <td>-0.148131</td>\n",
       "      <td>-0.199425</td>\n",
       "      <td>0.000266</td>\n",
       "    </tr>\n",
       "    <tr>\n",
       "      <th>E14_E1S3_173284</th>\n",
       "      <td>-0.036511</td>\n",
       "      <td>-0.008535</td>\n",
       "      <td>-0.198124</td>\n",
       "      <td>-0.106792</td>\n",
       "      <td>-0.239179</td>\n",
       "      <td>0.321239</td>\n",
       "      <td>-0.321011</td>\n",
       "      <td>-0.025192</td>\n",
       "      <td>-0.088172</td>\n",
       "      <td>-0.008486</td>\n",
       "      <td>...</td>\n",
       "      <td>-0.068489</td>\n",
       "      <td>-0.389927</td>\n",
       "      <td>-0.073764</td>\n",
       "      <td>-0.117644</td>\n",
       "      <td>-0.043855</td>\n",
       "      <td>-0.223836</td>\n",
       "      <td>-0.21233</td>\n",
       "      <td>-0.148131</td>\n",
       "      <td>-0.199425</td>\n",
       "      <td>0.000285</td>\n",
       "    </tr>\n",
       "  </tbody>\n",
       "</table>\n",
       "<p>5 rows × 23945 columns</p>\n",
       "</div>"
      ],
      "text/plain": [
       "                 0610005C13Rik  0610006L08Rik  0610009B22Rik  0610009O20Rik  \\\n",
       "Cell_ID                                                                       \n",
       "E14_E1S3_173789      -0.036511      -0.008535      -0.198124      -0.106792   \n",
       "E14_E1S3_173259      -0.036511      -0.008535      -0.198124      -0.106792   \n",
       "E14_E1S3_174106      -0.036511      -0.008535      -0.198124      -0.106792   \n",
       "E14_E1S3_173417      -0.036511      -0.008535      -0.198124      -0.106792   \n",
       "E14_E1S3_173284      -0.036511      -0.008535      -0.198124      -0.106792   \n",
       "\n",
       "                 0610010F05Rik  0610010K14Rik  0610012G03Rik  0610025J13Rik  \\\n",
       "Cell_ID                                                                       \n",
       "E14_E1S3_173789      -0.239179      -0.098032       0.516922      -0.025192   \n",
       "E14_E1S3_173259       0.117162       0.537851      -0.049493      -0.025192   \n",
       "E14_E1S3_174106      -0.239179      -0.093338       0.008216      -0.025192   \n",
       "E14_E1S3_173417      -0.239179      -0.064664      -0.321011      -0.025192   \n",
       "E14_E1S3_173284      -0.239179       0.321239      -0.321011      -0.025192   \n",
       "\n",
       "                 0610030E20Rik  0610031O16Rik  ...    Zwilch     Zwint  \\\n",
       "Cell_ID                                        ...                       \n",
       "E14_E1S3_173789      -0.088172      -0.008486  ...  0.938360  0.371673   \n",
       "E14_E1S3_173259      -0.088172      -0.008486  ... -0.068489  0.011324   \n",
       "E14_E1S3_174106      -0.088172      -0.008486  ... -0.068489 -0.117173   \n",
       "E14_E1S3_173417      -0.088172      -0.008486  ... -0.068489 -0.081511   \n",
       "E14_E1S3_173284      -0.088172      -0.008486  ... -0.068489 -0.389927   \n",
       "\n",
       "                     Zxdb      Zxdc    Zyg11a    Zyg11b      Zyx     Zzef1  \\\n",
       "Cell_ID                                                                      \n",
       "E14_E1S3_173789 -0.073764 -0.117644 -0.043855 -0.223836 -0.21233 -0.148131   \n",
       "E14_E1S3_173259 -0.073764 -0.117644 -0.043855 -0.223836 -0.21233  0.946734   \n",
       "E14_E1S3_174106  0.933613 -0.117644 -0.043855 -0.223836 -0.21233 -0.148131   \n",
       "E14_E1S3_173417 -0.073764 -0.117644 -0.043855 -0.223836 -0.21233 -0.148131   \n",
       "E14_E1S3_173284 -0.073764 -0.117644 -0.043855 -0.223836 -0.21233 -0.148131   \n",
       "\n",
       "                     Zzz3  Cell_NTScore  \n",
       "Cell_ID                                  \n",
       "E14_E1S3_173789  0.353277      0.000230  \n",
       "E14_E1S3_173259 -0.199425      0.000240  \n",
       "E14_E1S3_174106  0.234650      0.000250  \n",
       "E14_E1S3_173417 -0.199425      0.000266  \n",
       "E14_E1S3_173284 -0.199425      0.000285  \n",
       "\n",
       "[5 rows x 23945 columns]"
      ]
     },
     "execution_count": 13,
     "metadata": {},
     "output_type": "execute_result"
    }
   ],
   "source": [
    "E14_RGC_gene_exp_metacell_data_df = construct_meta_cell_along_trajectory(meta_data_df = E14_RGC_gene_exp_df,\n",
    "                                                                trajectory = 'Cell_NTScore',\n",
    "                                                                n_cells = 10)\n",
    "E14_RGC_gene_exp_metacell_data_df.head()\n"
   ]
  },
  {
   "cell_type": "code",
   "execution_count": 14,
   "id": "90662506-7a8b-4506-a2d7-29751a50cb97",
   "metadata": {
    "execution": {
     "iopub.execute_input": "2025-06-02T20:30:35.870802Z",
     "iopub.status.busy": "2025-06-02T20:30:35.870638Z",
     "iopub.status.idle": "2025-06-02T20:30:36.244598Z",
     "shell.execute_reply": "2025-06-02T20:30:36.244238Z",
     "shell.execute_reply.started": "2025-06-02T20:30:35.870790Z"
    },
    "tags": []
   },
   "outputs": [
    {
     "data": {
      "image/png": "[encoded data removed]",
      "text/plain": [
       "<Figure size 400x300 with 1 Axes>"
      ]
     },
     "metadata": {},
     "output_type": "display_data"
    },
    {
     "data": {
      "image/png": "[encoded data removed]",
      "text/plain": [
       "<Figure size 400x300 with 1 Axes>"
      ]
     },
     "metadata": {},
     "output_type": "display_data"
    },
    {
     "data": {
      "image/png": "[encoded data removed]",
      "text/plain": [
       "<Figure size 400x300 with 1 Axes>"
      ]
     },
     "metadata": {},
     "output_type": "display_data"
    }
   ],
   "source": [
    "for gene in ['Ppia', 'Ccnd2', 'Efna5']:\n",
    "    fig, ax = plot_scatter_feat_along_trajectory(\n",
    "        data_df = E14_RGC_gene_exp_metacell_data_df,\n",
    "        trajectory = 'Cell_NTScore',\n",
    "        feature = gene,\n",
    "        fit_reg = True,\n",
    "        annotate_pos = 'upper right',\n",
    "        figszie = (4,3),\n",
    "        ylabel = 'Normalized Gene Expression',\n",
    "    )"
   ]
  },
  {
   "cell_type": "code",
   "execution_count": 15,
   "id": "c1f669bf-0095-4428-892c-01ca4c966b2c",
   "metadata": {
    "execution": {
     "iopub.execute_input": "2025-06-02T20:30:36.245339Z",
     "iopub.status.busy": "2025-06-02T20:30:36.245178Z",
     "iopub.status.idle": "2025-06-02T20:30:36.564603Z",
     "shell.execute_reply": "2025-06-02T20:30:36.564251Z",
     "shell.execute_reply.started": "2025-06-02T20:30:36.245327Z"
    },
    "tags": []
   },
   "outputs": [
    {
     "data": {
      "image/png": "[encoded data removed]",
      "text/plain": [
       "<Figure size 400x300 with 1 Axes>"
      ]
     },
     "metadata": {},
     "output_type": "display_data"
    },
    {
     "data": {
      "image/png": "[encoded data removed]",
      "text/plain": [
       "<Figure size 400x300 with 1 Axes>"
      ]
     },
     "metadata": {},
     "output_type": "display_data"
    },
    {
     "data": {
      "image/png": "[encoded data removed]",
      "text/plain": [
       "<Figure size 400x300 with 1 Axes>"
      ]
     },
     "metadata": {},
     "output_type": "display_data"
    }
   ],
   "source": [
    "for gene in ['Cdkn1c', 'Phf21b', 'Dcc']:\n",
    "    fig, ax = plot_scatter_feat_along_trajectory(\n",
    "        data_df = E14_RGC_gene_exp_metacell_data_df,\n",
    "        trajectory = 'Cell_NTScore',\n",
    "        feature = gene,\n",
    "        fit_reg = True,\n",
    "        annotate_pos = 'upper left',\n",
    "        figszie = (4,3),\n",
    "        ylabel = 'Normalized Gene Expression',\n",
    "    )"
   ]
  },
  {
   "cell_type": "markdown",
   "id": "4b239b55-e253-467f-9f8b-975d35d95df2",
   "metadata": {},
   "source": [
    "# Additional file 4: Table S3"
   ]
  },
  {
   "cell_type": "code",
   "execution_count": 16,
   "id": "55a5afe7-7631-4759-bfea-5883815728fe",
   "metadata": {
    "execution": {
     "iopub.execute_input": "2025-06-02T20:30:36.565364Z",
     "iopub.status.busy": "2025-06-02T20:30:36.565101Z",
     "iopub.status.idle": "2025-06-02T20:30:36.568372Z",
     "shell.execute_reply": "2025-06-02T20:30:36.568012Z",
     "shell.execute_reply.started": "2025-06-02T20:30:36.565353Z"
    },
    "tags": []
   },
   "outputs": [],
   "source": [
    "from typing import List\n",
    "from scipy.stats import spearmanr, pearsonr\n",
    "\n",
    "def calculate_correlations(df, coordinate: str, genes: List[str]):\n",
    "    correlations = []\n",
    "    \n",
    "    for var in genes:\n",
    "        if df[var].isnull().values.any():\n",
    "            print(f\"Skipping {var} due to null values\")\n",
    "            continue\n",
    "        \n",
    "        a = df[coordinate].values  # Extract the 'A' column as a numpy array\n",
    "        x = df[var].values   # Extract the current variable's column\n",
    "        \n",
    "        # Calculate Spearman's rho for this pair\n",
    "        rho, p_val = pearsonr(a, x)\n",
    "        \n",
    "        correlations.append((var, rho, p_val))\n",
    "    \n",
    "    return pd.DataFrame(correlations, columns=['Variable', 'rho', 'p-value'])"
   ]
  },
  {
   "cell_type": "code",
   "execution_count": 17,
   "id": "e0488c72-86ca-4dfd-958f-ea4040612f17",
   "metadata": {
    "execution": {
     "iopub.execute_input": "2025-06-02T20:30:36.569244Z",
     "iopub.status.busy": "2025-06-02T20:30:36.568893Z",
     "iopub.status.idle": "2025-06-02T20:30:53.306644Z",
     "shell.execute_reply": "2025-06-02T20:30:53.306264Z",
     "shell.execute_reply.started": "2025-06-02T20:30:36.569223Z"
    },
    "tags": []
   },
   "outputs": [
    {
     "name": "stderr",
     "output_type": "stream",
     "text": [
      "/tmp/ipykernel_3440677/1738396462.py:16: ConstantInputWarning: An input array is constant; the correlation coefficient is not defined.\n",
      "  rho, p_val = pearsonr(a, x)\n"
     ]
    }
   ],
   "source": [
    "corr_res = calculate_correlations(df=E14_RGC_gene_exp_metacell_data_df,\n",
    "                                  coordinate='Cell_NTScore',\n",
    "                                  genes=E14_RGC_scaled_exp.columns.tolist()\n",
    "                                 )"
   ]
  },
  {
   "cell_type": "code",
   "execution_count": 18,
   "id": "41f383b9-e788-4b08-b095-f11cdbe39634",
   "metadata": {
    "execution": {
     "iopub.execute_input": "2025-06-02T20:30:53.307340Z",
     "iopub.status.busy": "2025-06-02T20:30:53.307164Z",
     "iopub.status.idle": "2025-06-02T20:30:53.315387Z",
     "shell.execute_reply": "2025-06-02T20:30:53.315068Z",
     "shell.execute_reply.started": "2025-06-02T20:30:53.307329Z"
    },
    "tags": []
   },
   "outputs": [
    {
     "data": {
      "text/html": [
       "<div>\n",
       "<style scoped>\n",
       "    .dataframe tbody tr th:only-of-type {\n",
       "        vertical-align: middle;\n",
       "    }\n",
       "\n",
       "    .dataframe tbody tr th {\n",
       "        vertical-align: top;\n",
       "    }\n",
       "\n",
       "    .dataframe thead th {\n",
       "        text-align: right;\n",
       "    }\n",
       "</style>\n",
       "<table border=\"1\" class=\"dataframe\">\n",
       "  <thead>\n",
       "    <tr style=\"text-align: right;\">\n",
       "      <th></th>\n",
       "      <th>Variable</th>\n",
       "      <th>rho</th>\n",
       "      <th>p-value</th>\n",
       "    </tr>\n",
       "  </thead>\n",
       "  <tbody>\n",
       "    <tr>\n",
       "      <th>17754</th>\n",
       "      <td>Ppia</td>\n",
       "      <td>-0.484622</td>\n",
       "      <td>0.000362</td>\n",
       "    </tr>\n",
       "    <tr>\n",
       "      <th>4024</th>\n",
       "      <td>Ccnd2</td>\n",
       "      <td>-0.479827</td>\n",
       "      <td>0.000422</td>\n",
       "    </tr>\n",
       "    <tr>\n",
       "      <th>22437</th>\n",
       "      <td>Tuba1b</td>\n",
       "      <td>-0.470727</td>\n",
       "      <td>0.000561</td>\n",
       "    </tr>\n",
       "    <tr>\n",
       "      <th>6339</th>\n",
       "      <td>Eif2s2</td>\n",
       "      <td>-0.456194</td>\n",
       "      <td>0.000870</td>\n",
       "    </tr>\n",
       "    <tr>\n",
       "      <th>14784</th>\n",
       "      <td>Mcm3</td>\n",
       "      <td>-0.453214</td>\n",
       "      <td>0.000949</td>\n",
       "    </tr>\n",
       "  </tbody>\n",
       "</table>\n",
       "</div>"
      ],
      "text/plain": [
       "      Variable       rho   p-value\n",
       "17754     Ppia -0.484622  0.000362\n",
       "4024     Ccnd2 -0.479827  0.000422\n",
       "22437   Tuba1b -0.470727  0.000561\n",
       "6339    Eif2s2 -0.456194  0.000870\n",
       "14784     Mcm3 -0.453214  0.000949"
      ]
     },
     "execution_count": 18,
     "metadata": {},
     "output_type": "execute_result"
    }
   ],
   "source": [
    "corr_res = corr_res.dropna()\n",
    "corr_res = corr_res.sort_values('rho')\n",
    "corr_res.head()"
   ]
  },
  {
   "cell_type": "code",
   "execution_count": 19,
   "id": "864caaf7-fc3b-4754-bc18-b770ab8eaf4e",
   "metadata": {
    "execution": {
     "iopub.execute_input": "2025-06-02T20:30:53.316213Z",
     "iopub.status.busy": "2025-06-02T20:30:53.316001Z",
     "iopub.status.idle": "2025-06-02T20:30:53.320500Z",
     "shell.execute_reply": "2025-06-02T20:30:53.320181Z",
     "shell.execute_reply.started": "2025-06-02T20:30:53.316200Z"
    },
    "tags": []
   },
   "outputs": [
    {
     "data": {
      "text/html": [
       "<div>\n",
       "<style scoped>\n",
       "    .dataframe tbody tr th:only-of-type {\n",
       "        vertical-align: middle;\n",
       "    }\n",
       "\n",
       "    .dataframe tbody tr th {\n",
       "        vertical-align: top;\n",
       "    }\n",
       "\n",
       "    .dataframe thead th {\n",
       "        text-align: right;\n",
       "    }\n",
       "</style>\n",
       "<table border=\"1\" class=\"dataframe\">\n",
       "  <thead>\n",
       "    <tr style=\"text-align: right;\">\n",
       "      <th></th>\n",
       "      <th>Variable</th>\n",
       "      <th>rho</th>\n",
       "      <th>p-value</th>\n",
       "    </tr>\n",
       "  </thead>\n",
       "  <tbody>\n",
       "    <tr>\n",
       "      <th>17244</th>\n",
       "      <td>Phf21b</td>\n",
       "      <td>0.542046</td>\n",
       "      <td>4.788367e-05</td>\n",
       "    </tr>\n",
       "    <tr>\n",
       "      <th>3172</th>\n",
       "      <td>Bbs9</td>\n",
       "      <td>0.550067</td>\n",
       "      <td>3.502920e-05</td>\n",
       "    </tr>\n",
       "    <tr>\n",
       "      <th>14090</th>\n",
       "      <td>Lbh</td>\n",
       "      <td>0.618297</td>\n",
       "      <td>1.712368e-06</td>\n",
       "    </tr>\n",
       "    <tr>\n",
       "      <th>10562</th>\n",
       "      <td>Gm3764</td>\n",
       "      <td>0.623302</td>\n",
       "      <td>1.333598e-06</td>\n",
       "    </tr>\n",
       "    <tr>\n",
       "      <th>4264</th>\n",
       "      <td>Cdkn1c</td>\n",
       "      <td>0.629617</td>\n",
       "      <td>9.666948e-07</td>\n",
       "    </tr>\n",
       "  </tbody>\n",
       "</table>\n",
       "</div>"
      ],
      "text/plain": [
       "      Variable       rho       p-value\n",
       "17244   Phf21b  0.542046  4.788367e-05\n",
       "3172      Bbs9  0.550067  3.502920e-05\n",
       "14090      Lbh  0.618297  1.712368e-06\n",
       "10562   Gm3764  0.623302  1.333598e-06\n",
       "4264    Cdkn1c  0.629617  9.666948e-07"
      ]
     },
     "execution_count": 19,
     "metadata": {},
     "output_type": "execute_result"
    }
   ],
   "source": [
    "corr_res.tail()"
   ]
  },
  {
   "cell_type": "code",
   "execution_count": 20,
   "id": "34ebe752-72c1-403c-be75-12662a967ff7",
   "metadata": {
    "execution": {
     "iopub.execute_input": "2025-06-02T20:30:53.321183Z",
     "iopub.status.busy": "2025-06-02T20:30:53.321012Z",
     "iopub.status.idle": "2025-06-02T20:30:53.331948Z",
     "shell.execute_reply": "2025-06-02T20:30:53.331609Z",
     "shell.execute_reply.started": "2025-06-02T20:30:53.321171Z"
    },
    "tags": []
   },
   "outputs": [
    {
     "name": "stderr",
     "output_type": "stream",
     "text": [
      "/tmp/ipykernel_3440677/1047327429.py:5: FutureWarning: Logical ops (and, or, xor) between Pandas objects and dtype-less sequences (e.g. list, tuple) are deprecated and will raise in a future version. Wrap the object in a Series, Index, or np.array before operating instead.\n",
      "  filtered_corr_output = corr_output[([True if abs(x) > 0.4 else False for x in corr_output['Correlation coefficient']]) & (corr_output['P-value'] < 0.01)].iloc[:,:2]\n"
     ]
    },
    {
     "data": {
      "text/html": [
       "<div>\n",
       "<style scoped>\n",
       "    .dataframe tbody tr th:only-of-type {\n",
       "        vertical-align: middle;\n",
       "    }\n",
       "\n",
       "    .dataframe tbody tr th {\n",
       "        vertical-align: top;\n",
       "    }\n",
       "\n",
       "    .dataframe thead th {\n",
       "        text-align: right;\n",
       "    }\n",
       "</style>\n",
       "<table border=\"1\" class=\"dataframe\">\n",
       "  <thead>\n",
       "    <tr style=\"text-align: right;\">\n",
       "      <th></th>\n",
       "      <th>Correlation coefficient</th>\n",
       "      <th>P-value</th>\n",
       "    </tr>\n",
       "    <tr>\n",
       "      <th>Variable</th>\n",
       "      <th></th>\n",
       "      <th></th>\n",
       "    </tr>\n",
       "  </thead>\n",
       "  <tbody>\n",
       "    <tr>\n",
       "      <th>Ppia</th>\n",
       "      <td>-0.484622</td>\n",
       "      <td>0.000362</td>\n",
       "    </tr>\n",
       "    <tr>\n",
       "      <th>Ccnd2</th>\n",
       "      <td>-0.479827</td>\n",
       "      <td>0.000422</td>\n",
       "    </tr>\n",
       "    <tr>\n",
       "      <th>Tuba1b</th>\n",
       "      <td>-0.470727</td>\n",
       "      <td>0.000561</td>\n",
       "    </tr>\n",
       "    <tr>\n",
       "      <th>Eif2s2</th>\n",
       "      <td>-0.456194</td>\n",
       "      <td>0.000870</td>\n",
       "    </tr>\n",
       "    <tr>\n",
       "      <th>Mcm3</th>\n",
       "      <td>-0.453214</td>\n",
       "      <td>0.000949</td>\n",
       "    </tr>\n",
       "  </tbody>\n",
       "</table>\n",
       "</div>"
      ],
      "text/plain": [
       "          Correlation coefficient   P-value\n",
       "Variable                                   \n",
       "Ppia                    -0.484622  0.000362\n",
       "Ccnd2                   -0.479827  0.000422\n",
       "Tuba1b                  -0.470727  0.000561\n",
       "Eif2s2                  -0.456194  0.000870\n",
       "Mcm3                    -0.453214  0.000949"
      ]
     },
     "execution_count": 20,
     "metadata": {},
     "output_type": "execute_result"
    }
   ],
   "source": [
    "corr_output = corr_res.copy()\n",
    "corr_output = corr_output.set_index('Variable')\n",
    "corr_output.columns = ['Correlation coefficient', 'P-value']\n",
    "\n",
    "filtered_corr_output = corr_output[([True if abs(x) > 0.4 else False for x in corr_output['Correlation coefficient']]) & (corr_output['P-value'] < 0.01)].iloc[:,:2]\n",
    "filtered_corr_output.head()\n"
   ]
  },
  {
   "cell_type": "code",
   "execution_count": 21,
   "id": "31f17e8f-800a-41b8-b810-9b1145ee4ae6",
   "metadata": {
    "execution": {
     "iopub.execute_input": "2025-06-02T20:30:53.332533Z",
     "iopub.status.busy": "2025-06-02T20:30:53.332393Z",
     "iopub.status.idle": "2025-06-02T20:30:53.338276Z",
     "shell.execute_reply": "2025-06-02T20:30:53.337949Z",
     "shell.execute_reply.started": "2025-06-02T20:30:53.332522Z"
    },
    "tags": []
   },
   "outputs": [],
   "source": [
    "filtered_corr_output.to_csv('Table_S3.csv')"
   ]
  }
 ],
 "metadata": {
  "kernelspec": {
   "display_name": "Python (ONTraC)",
   "language": "python",
   "name": "ontrac"
  },
  "language_info": {
   "codemirror_mode": {
    "name": "ipython",
    "version": 3
   },
   "file_extension": ".py",
   "mimetype": "text/x-python",
   "name": "python",
   "nbconvert_exporter": "python",
   "pygments_lexer": "ipython3",
   "version": "3.11.9"
  }
 },
 "nbformat": 4,
 "nbformat_minor": 5
}
