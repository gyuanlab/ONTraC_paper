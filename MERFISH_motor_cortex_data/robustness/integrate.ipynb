{
 "cells": [
  {
   "cell_type": "markdown",
   "id": "f2a57d23-b3a5-40a4-9f75-c315bd3b30d3",
   "metadata": {},
   "source": [
    "# Notes"
   ]
  },
  {
   "cell_type": "markdown",
   "id": "9355b716-367e-48d8-8b9d-fb4d90ac1469",
   "metadata": {},
   "source": [
    "# Load Modules"
   ]
  },
  {
   "cell_type": "code",
   "execution_count": 1,
   "id": "5e560d0f-a630-430a-9b7d-b04636c3fa7b",
   "metadata": {
    "execution": {
     "iopub.execute_input": "2024-12-09T18:13:26.785583Z",
     "iopub.status.busy": "2024-12-09T18:13:26.785339Z",
     "iopub.status.idle": "2024-12-09T18:13:34.264343Z",
     "shell.execute_reply": "2024-12-09T18:13:34.263880Z",
     "shell.execute_reply.started": "2024-12-09T18:13:26.785565Z"
    },
    "tags": []
   },
   "outputs": [],
   "source": [
    "import numpy as np\n",
    "import pandas as pd"
   ]
  },
  {
   "cell_type": "code",
   "execution_count": 2,
   "id": "841beeff-c6cb-49ff-80a5-4ea25c8dc76d",
   "metadata": {
    "execution": {
     "iopub.execute_input": "2024-12-09T18:13:34.265606Z",
     "iopub.status.busy": "2024-12-09T18:13:34.265217Z",
     "iopub.status.idle": "2024-12-09T18:13:44.369186Z",
     "shell.execute_reply": "2024-12-09T18:13:44.368544Z",
     "shell.execute_reply.started": "2024-12-09T18:13:34.265586Z"
    },
    "tags": []
   },
   "outputs": [],
   "source": [
    "import matplotlib as mpl\n",
    "mpl.rcParams['pdf.fonttype'] = 42\n",
    "mpl.rcParams['ps.fonttype'] = 42\n",
    "mpl.rcParams['font.sans-serif'] = 'Arial'\n",
    "import matplotlib.pyplot as plt\n",
    "import seaborn as sns\n",
    "from pprint import pprint\n",
    "%matplotlib inline"
   ]
  },
  {
   "cell_type": "markdown",
   "id": "91ba2f59-56e5-49b3-942a-4b502b16ba53",
   "metadata": {},
   "source": [
    "# Load data"
   ]
  },
  {
   "cell_type": "code",
   "execution_count": 7,
   "id": "2f3b2b89-5943-4050-98e4-fc165118e0cd",
   "metadata": {
    "execution": {
     "iopub.execute_input": "2024-12-09T18:14:15.739628Z",
     "iopub.status.busy": "2024-12-09T18:14:15.739214Z",
     "iopub.status.idle": "2024-12-09T18:14:15.773607Z",
     "shell.execute_reply": "2024-12-09T18:14:15.773066Z",
     "shell.execute_reply.started": "2024-12-09T18:14:15.739604Z"
    },
    "tags": []
   },
   "outputs": [
    {
     "data": {
      "text/html": [
       "<div>\n",
       "<style scoped>\n",
       "    .dataframe tbody tr th:only-of-type {\n",
       "        vertical-align: middle;\n",
       "    }\n",
       "\n",
       "    .dataframe tbody tr th {\n",
       "        vertical-align: top;\n",
       "    }\n",
       "\n",
       "    .dataframe thead th {\n",
       "        text-align: right;\n",
       "    }\n",
       "</style>\n",
       "<table border=\"1\" class=\"dataframe\">\n",
       "  <thead>\n",
       "    <tr style=\"text-align: right;\">\n",
       "      <th></th>\n",
       "      <th>run_name</th>\n",
       "      <th>sample</th>\n",
       "      <th>Method</th>\n",
       "      <th>Params</th>\n",
       "      <th>meta_input</th>\n",
       "      <th>n_neighbors</th>\n",
       "      <th>hidden_feats</th>\n",
       "      <th>k</th>\n",
       "      <th>n_gcn_layers</th>\n",
       "      <th>correlation</th>\n",
       "    </tr>\n",
       "  </thead>\n",
       "  <tbody>\n",
       "    <tr>\n",
       "      <th>0</th>\n",
       "      <td>merfish_cortex_base</td>\n",
       "      <td>mouse2_slice31</td>\n",
       "      <td>ONTraC</td>\n",
       "      <td>base</td>\n",
       "      <td>merfish_input.csv</td>\n",
       "      <td>50</td>\n",
       "      <td>4</td>\n",
       "      <td>6</td>\n",
       "      <td>2</td>\n",
       "      <td>0.986163</td>\n",
       "    </tr>\n",
       "    <tr>\n",
       "      <th>1</th>\n",
       "      <td>merfish_cortex_base</td>\n",
       "      <td>mouse2_slice160</td>\n",
       "      <td>ONTraC</td>\n",
       "      <td>base</td>\n",
       "      <td>merfish_input.csv</td>\n",
       "      <td>50</td>\n",
       "      <td>4</td>\n",
       "      <td>6</td>\n",
       "      <td>2</td>\n",
       "      <td>0.958468</td>\n",
       "    </tr>\n",
       "    <tr>\n",
       "      <th>2</th>\n",
       "      <td>merfish_cortex_base</td>\n",
       "      <td>mouse2_slice109</td>\n",
       "      <td>ONTraC</td>\n",
       "      <td>base</td>\n",
       "      <td>merfish_input.csv</td>\n",
       "      <td>50</td>\n",
       "      <td>4</td>\n",
       "      <td>6</td>\n",
       "      <td>2</td>\n",
       "      <td>0.913865</td>\n",
       "    </tr>\n",
       "    <tr>\n",
       "      <th>3</th>\n",
       "      <td>merfish_cortex_base</td>\n",
       "      <td>mouse1_slice71</td>\n",
       "      <td>ONTraC</td>\n",
       "      <td>base</td>\n",
       "      <td>merfish_input.csv</td>\n",
       "      <td>50</td>\n",
       "      <td>4</td>\n",
       "      <td>6</td>\n",
       "      <td>2</td>\n",
       "      <td>0.955667</td>\n",
       "    </tr>\n",
       "    <tr>\n",
       "      <th>4</th>\n",
       "      <td>merfish_cortex_base</td>\n",
       "      <td>mouse2_slice219</td>\n",
       "      <td>ONTraC</td>\n",
       "      <td>base</td>\n",
       "      <td>merfish_input.csv</td>\n",
       "      <td>50</td>\n",
       "      <td>4</td>\n",
       "      <td>6</td>\n",
       "      <td>2</td>\n",
       "      <td>0.975969</td>\n",
       "    </tr>\n",
       "  </tbody>\n",
       "</table>\n",
       "</div>"
      ],
      "text/plain": [
       "              run_name           sample  Method Params         meta_input  \\\n",
       "0  merfish_cortex_base   mouse2_slice31  ONTraC   base  merfish_input.csv   \n",
       "1  merfish_cortex_base  mouse2_slice160  ONTraC   base  merfish_input.csv   \n",
       "2  merfish_cortex_base  mouse2_slice109  ONTraC   base  merfish_input.csv   \n",
       "3  merfish_cortex_base   mouse1_slice71  ONTraC   base  merfish_input.csv   \n",
       "4  merfish_cortex_base  mouse2_slice219  ONTraC   base  merfish_input.csv   \n",
       "\n",
       "   n_neighbors  hidden_feats  k  n_gcn_layers  correlation  \n",
       "0           50             4  6             2     0.986163  \n",
       "1           50             4  6             2     0.958468  \n",
       "2           50             4  6             2     0.913865  \n",
       "3           50             4  6             2     0.955667  \n",
       "4           50             4  6             2     0.975969  "
      ]
     },
     "execution_count": 7,
     "metadata": {},
     "output_type": "execute_result"
    }
   ],
   "source": [
    "merfish_metric_df = pd.read_csv('../../raw_data/merfish_cortex/metrics.csv', index_col=0)\n",
    "merfish_metric_df.head()"
   ]
  },
  {
   "cell_type": "code",
   "execution_count": 8,
   "id": "9eec05a8-0545-4eb0-af2e-60ba09e27ecb",
   "metadata": {
    "execution": {
     "iopub.execute_input": "2024-12-09T18:14:16.667483Z",
     "iopub.status.busy": "2024-12-09T18:14:16.667163Z",
     "iopub.status.idle": "2024-12-09T18:14:16.672237Z",
     "shell.execute_reply": "2024-12-09T18:14:16.671360Z",
     "shell.execute_reply.started": "2024-12-09T18:14:16.667463Z"
    },
    "tags": []
   },
   "outputs": [],
   "source": [
    "selected_merfish_metric_df = merfish_metric_df[merfish_metric_df['sample'].isin(['mouse2_slice99', 'mouse2_slice169', 'mouse1_slice301'])]\n"
   ]
  },
  {
   "cell_type": "markdown",
   "id": "48479992-421a-4dfd-adcb-b59e4ad2c268",
   "metadata": {},
   "source": [
    "# selected merfish samples"
   ]
  },
  {
   "cell_type": "code",
   "execution_count": null,
   "id": "f099aa5a-c8be-4719-acee-2eb06fc06ee1",
   "metadata": {
    "execution": {
     "iopub.execute_input": "2024-12-09T18:14:25.686802Z",
     "iopub.status.busy": "2024-12-09T18:14:25.686354Z",
     "iopub.status.idle": "2024-12-09T18:14:25.702639Z",
     "shell.execute_reply": "2024-12-09T18:14:25.702228Z",
     "shell.execute_reply.started": "2024-12-09T18:14:25.686777Z"
    },
    "tags": []
   },
   "outputs": [],
   "source": [
    "def gen_integrate_res():\n",
    "    for index, row in selected_merfish_metric_df.iterrows():\n",
    "        if row['meta_input'] != 'merfish_input.csv':\n",
    "            continue\n",
    "        yield row['sample'], row['Params'], row['n_neighbors'], row['hidden_feats'], row['k'], row['n_gcn_layers'], row['correlation']\n",
    "\n",
    "\n",
    "integrate_df = pd.DataFrame(gen_integrate_res(),\n",
    "                            columns = [\n",
    "                                'dataset', 'Params', 'n_neighbors', 'hidden_feats', 'k', 'n_gcn_layers', 'correlation'\n",
    "                            ])\n",
    "integrate_df.head()"
   ]
  },
  {
   "cell_type": "code",
   "execution_count": 10,
   "id": "0db820a1-cc2f-4544-9d57-ac18af10589e",
   "metadata": {
    "execution": {
     "iopub.execute_input": "2024-12-09T18:17:07.228045Z",
     "iopub.status.busy": "2024-12-09T18:17:07.227707Z",
     "iopub.status.idle": "2024-12-09T18:17:07.235118Z",
     "shell.execute_reply": "2024-12-09T18:17:07.234475Z",
     "shell.execute_reply.started": "2024-12-09T18:17:07.228020Z"
    },
    "tags": []
   },
   "outputs": [],
   "source": [
    "integrate_df['n_neighbors'] = integrate_df['n_neighbors'].astype('category')\n",
    "integrate_df['hidden_feats'] = integrate_df['hidden_feats'].astype('category')\n",
    "integrate_df['k'] = integrate_df['k'].astype('category')\n",
    "integrate_df['n_gcn_layers'] = integrate_df['n_gcn_layers'].astype('category')"
   ]
  },
  {
   "cell_type": "code",
   "execution_count": null,
   "id": "cc5763fa-7092-40dc-8f95-368f14e6e6cf",
   "metadata": {
    "execution": {
     "iopub.execute_input": "2024-12-09T18:24:17.013626Z",
     "iopub.status.busy": "2024-12-09T18:24:17.013061Z",
     "iopub.status.idle": "2024-12-09T18:24:18.903160Z",
     "shell.execute_reply": "2024-12-09T18:24:18.902745Z",
     "shell.execute_reply.started": "2024-12-09T18:24:17.013602Z"
    },
    "tags": []
   },
   "outputs": [],
   "source": [
    "with sns.axes_style('white', rc={\n",
    "        'xtick.bottom': True,\n",
    "        'ytick.left': True\n",
    "}), sns.plotting_context('paper',\n",
    "                         rc={\n",
    "                             'axes.titlesize': 6,\n",
    "                             'axes.labelsize': 6,\n",
    "                             'xtick.labelsize': 5,\n",
    "                             'ytick.labelsize': 5,\n",
    "                             'legend.fontsize': 5\n",
    "                         }):\n",
    "    \n",
    "    fig, axes = plt.subplots(2, 1, figsize=(5,4))\n",
    "    key = 'n_neighbors'\n",
    "    filter_flag = [True if x == 'base' or x == key else False for x in integrate_df['Params']]\n",
    "    data_df = integrate_df[filter_flag]\n",
    "\n",
    "    \n",
    "    sns.barplot(data=data_df,\n",
    "                x='dataset',\n",
    "                y='correlation',\n",
    "                order=[\n",
    "                       'mouse2_slice99',\n",
    "                       'mouse2_slice169',\n",
    "                       'mouse1_slice301',\n",
    "                      ],\n",
    "                hue=key,\n",
    "                palette={10: 'lightgray', 20: 'darkgray', 50: 'red', 100: 'gray'},\n",
    "                ax=axes[1])\n",
    "    axes[1].set_xticklabels(axes[1].get_xticklabels(), rotation='vertical')\n",
    "    axes[1].set_ylabel('Spearman correlation')\n",
    "    axes[1].legend(loc=\"upper left\", bbox_to_anchor=(1,1))\n",
    "    \n",
    "    fig.tight_layout()\n",
    "    fig.savefig(f'corr_{key}.pdf', transparent=True)\n",
    "    \n",
    "    fig, axes = plt.subplots(2, 1, figsize=(5,4))\n",
    "    key = 'hidden_feats'\n",
    "    filter_flag = [True if x == 'base' or x == key else False for x in integrate_df['Params']]\n",
    "    data_df = integrate_df[filter_flag]\n",
    "\n",
    "    \n",
    "    sns.barplot(data=data_df,\n",
    "                x='dataset',\n",
    "                y='correlation',\n",
    "                order=[\n",
    "                       'mouse2_slice99',\n",
    "                       'mouse2_slice169',\n",
    "                       'mouse1_slice301',\n",
    "                      ],\n",
    "                hue=key,\n",
    "                palette={2: 'lightgray', 4: 'red', 8: 'darkgray', 16: 'gray'},\n",
    "                ax=axes[1])\n",
    "    axes[1].set_xticklabels(axes[1].get_xticklabels(), rotation='vertical')\n",
    "    axes[1].set_ylabel('Spearman correlation')\n",
    "    axes[1].legend(loc=\"upper left\", bbox_to_anchor=(1,1))\n",
    "    \n",
    "    fig.tight_layout()\n",
    "    fig.savefig(f'corr_{key}.pdf', transparent=True)\n",
    "    \n",
    "    fig, axes = plt.subplots(2, 1, figsize=(5,4))\n",
    "    key = 'k'\n",
    "    filter_flag = [True if x == 'base' or x == key else False for x in integrate_df['Params']]\n",
    "    data_df = integrate_df[filter_flag]\n",
    "    \n",
    "    sns.barplot(data=data_df,\n",
    "                x='dataset',\n",
    "                y='correlation',\n",
    "                order=[\n",
    "                       'mouse2_slice99',\n",
    "                       'mouse2_slice169',\n",
    "                       'mouse1_slice301',\n",
    "                      ],\n",
    "                hue=key,\n",
    "                palette={4: 'lightgray', 6: 'red', 8: 'darkgray', 10: 'gray'},\n",
    "                ax=axes[1])\n",
    "    axes[1].set_xticklabels(axes[1].get_xticklabels(), rotation='vertical')\n",
    "    axes[1].set_ylabel('Spearman correlation')\n",
    "    axes[1].legend(loc=\"upper left\", bbox_to_anchor=(1,1))\n",
    "    \n",
    "    fig.tight_layout()\n",
    "    fig.savefig(f'corr_{key}.pdf', transparent=True)\n",
    "    \n",
    "    fig, axes = plt.subplots(2, 1, figsize=(5,4))\n",
    "    key = 'n_gcn_layers'\n",
    "    filter_flag = [True if x == 'base' or x == key else False for x in integrate_df['Params']]\n",
    "    data_df = integrate_df[filter_flag]\n",
    "    \n",
    "    sns.barplot(data=data_df,\n",
    "                x='dataset',\n",
    "                y='correlation',\n",
    "                order=[\n",
    "                       'mouse2_slice99',\n",
    "                       'mouse2_slice169',\n",
    "                       'mouse1_slice301',\n",
    "                      ],\n",
    "                hue=key,\n",
    "                palette={1: 'gainsboro', 2: 'red', 3: 'lightgray', 4: 'darkgray', 5: 'gray', 6: 'dimgray'},\n",
    "                ax=axes[1])\n",
    "    axes[1].set_xticklabels(axes[1].get_xticklabels(), rotation='vertical')\n",
    "    axes[1].set_ylabel('Spearman correlation')\n",
    "    axes[1].legend(loc=\"upper left\", bbox_to_anchor=(1,1))\n",
    "    \n",
    "    fig.tight_layout()\n",
    "    fig.savefig(f'corr_{key}.pdf', transparent=True)"
   ]
  }
 ],
 "metadata": {
  "kernelspec": {
   "display_name": "Python (3.12)",
   "language": "python",
   "name": "py312"
  },
  "language_info": {
   "codemirror_mode": {
    "name": "ipython",
    "version": 3
   },
   "file_extension": ".py",
   "mimetype": "text/x-python",
   "name": "python",
   "nbconvert_exporter": "python",
   "pygments_lexer": "ipython3",
   "version": "3.12.7"
  }
 },
 "nbformat": 4,
 "nbformat_minor": 5
}
