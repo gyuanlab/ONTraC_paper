{
 "cells": [
  {
   "cell_type": "markdown",
   "id": "0ad3ef03-5062-4e8a-a186-eb3003d04fa1",
   "metadata": {},
   "source": [
    "# Notes\n",
    "\n"
   ]
  },
  {
   "cell_type": "markdown",
   "id": "9f46de75-778d-4132-8f09-9c3740f74205",
   "metadata": {},
   "source": [
    "# Load Modules"
   ]
  },
  {
   "cell_type": "code",
   "execution_count": 1,
   "id": "e721c21c-5279-4f86-a589-e03951ba6a5b",
   "metadata": {
    "execution": {
     "iopub.execute_input": "2024-12-05T16:40:24.079950Z",
     "iopub.status.busy": "2024-12-05T16:40:24.079716Z",
     "iopub.status.idle": "2024-12-05T16:40:24.100113Z",
     "shell.execute_reply": "2024-12-05T16:40:24.099465Z",
     "shell.execute_reply.started": "2024-12-05T16:40:24.079931Z"
    },
    "tags": []
   },
   "outputs": [],
   "source": [
    "import os\n",
    "from optparse import Values"
   ]
  },
  {
   "cell_type": "code",
   "execution_count": 2,
   "id": "2b0a8af2-d613-41aa-82ba-649f5a9e14d3",
   "metadata": {
    "execution": {
     "iopub.execute_input": "2024-12-05T16:40:24.229004Z",
     "iopub.status.busy": "2024-12-05T16:40:24.228641Z",
     "iopub.status.idle": "2024-12-05T16:40:33.585419Z",
     "shell.execute_reply": "2024-12-05T16:40:33.584495Z",
     "shell.execute_reply.started": "2024-12-05T16:40:24.228983Z"
    },
    "tags": []
   },
   "outputs": [],
   "source": [
    "import numpy as np\n",
    "import pandas as pd\n",
    "\n",
    "from scipy.stats import spearmanr, pearsonr\n",
    "from scipy.spatial import Delaunay, distance"
   ]
  },
  {
   "cell_type": "code",
   "execution_count": 3,
   "id": "c7862960-db2e-4471-9e1d-b12f04760d33",
   "metadata": {
    "execution": {
     "iopub.execute_input": "2024-12-05T16:40:33.587552Z",
     "iopub.status.busy": "2024-12-05T16:40:33.587062Z",
     "iopub.status.idle": "2024-12-05T16:40:36.305067Z",
     "shell.execute_reply": "2024-12-05T16:40:36.304316Z",
     "shell.execute_reply.started": "2024-12-05T16:40:33.587522Z"
    },
    "tags": []
   },
   "outputs": [],
   "source": [
    "import matplotlib as mpl\n",
    "mpl.rcParams['pdf.fonttype'] = 42\n",
    "mpl.rcParams['ps.fonttype'] = 42\n",
    "mpl.rcParams['font.sans-serif'] = 'Arial'\n",
    "import matplotlib.pyplot as plt\n",
    "import seaborn as sns\n",
    "from pprint import pprint\n",
    "%matplotlib inline"
   ]
  },
  {
   "cell_type": "code",
   "execution_count": 4,
   "id": "661511ed-ad2b-4e6a-bfe4-e1e929164c16",
   "metadata": {
    "execution": {
     "iopub.execute_input": "2024-12-05T16:40:36.306415Z",
     "iopub.status.busy": "2024-12-05T16:40:36.305988Z",
     "iopub.status.idle": "2024-12-05T16:40:41.469412Z",
     "shell.execute_reply": "2024-12-05T16:40:41.468733Z",
     "shell.execute_reply.started": "2024-12-05T16:40:36.306388Z"
    },
    "tags": []
   },
   "outputs": [],
   "source": [
    "import anndata as ad"
   ]
  },
  {
   "cell_type": "markdown",
   "id": "522a1f41-703e-4ecc-a2dc-3efb5723d9ef",
   "metadata": {},
   "source": [
    "# Load data"
   ]
  },
  {
   "cell_type": "code",
   "execution_count": null,
   "id": "1d98d5ca-2185-4d15-942e-b7804749d028",
   "metadata": {
    "execution": {
     "iopub.execute_input": "2024-11-22T02:46:50.001174Z",
     "iopub.status.busy": "2024-11-22T02:46:50.000696Z",
     "iopub.status.idle": "2024-11-22T02:46:50.027260Z",
     "shell.execute_reply": "2024-11-22T02:46:50.026956Z",
     "shell.execute_reply.started": "2024-11-22T02:46:50.001158Z"
    },
    "tags": []
   },
   "outputs": [],
   "source": [
    "%%bash\n",
    "\n",
    "# rsync -avcP ../../../STdata/merfish_mouse_cortex/cell_label_with_meta.csv.gz merfish_meta.csv\n",
    "# rsync -avcP ../../../STdata/merfish_mouse_cortex/raw_data/counts.h5ad counts.h5ad\n"
   ]
  },
  {
   "cell_type": "markdown",
   "id": "c41bdcf3-34ab-462e-8a70-06e3490a3dde",
   "metadata": {},
   "source": [
    "# selected samples"
   ]
  },
  {
   "cell_type": "code",
   "execution_count": 65,
   "id": "c90a728b-1fc4-4809-a1be-04fb1a23d6ae",
   "metadata": {
    "execution": {
     "iopub.execute_input": "2024-12-06T18:23:45.438524Z",
     "iopub.status.busy": "2024-12-06T18:23:45.438176Z",
     "iopub.status.idle": "2024-12-06T18:23:45.440328Z",
     "shell.execute_reply": "2024-12-06T18:23:45.440017Z",
     "shell.execute_reply.started": "2024-12-06T18:23:45.438510Z"
    },
    "tags": []
   },
   "outputs": [],
   "source": [
    "selected_samples = ['mouse2_slice99','mouse2_slice169', 'mouse1_slice301']"
   ]
  },
  {
   "cell_type": "code",
   "execution_count": 99,
   "id": "0be38eb8-8379-4e43-83e6-298318189490",
   "metadata": {
    "execution": {
     "iopub.execute_input": "2024-12-06T19:44:31.462517Z",
     "iopub.status.busy": "2024-12-06T19:44:31.462177Z",
     "iopub.status.idle": "2024-12-06T19:44:31.998954Z",
     "shell.execute_reply": "2024-12-06T19:44:31.998531Z",
     "shell.execute_reply.started": "2024-12-06T19:44:31.462502Z"
    },
    "tags": []
   },
   "outputs": [
    {
     "data": {
      "text/plain": [
       "AnnData object with n_obs × n_vars = 280186 × 254"
      ]
     },
     "execution_count": 99,
     "metadata": {},
     "output_type": "execute_result"
    }
   ],
   "source": [
    "raw_counts = ad.read_h5ad('counts.h5ad')\n",
    "raw_counts"
   ]
  },
  {
   "cell_type": "code",
   "execution_count": null,
   "id": "f97a537e-1486-4d62-a518-851bee5fa634",
   "metadata": {
    "execution": {
     "iopub.execute_input": "2024-12-06T18:23:46.208060Z",
     "iopub.status.busy": "2024-12-06T18:23:46.207763Z",
     "iopub.status.idle": "2024-12-06T18:23:46.652681Z",
     "shell.execute_reply": "2024-12-06T18:23:46.652318Z",
     "shell.execute_reply.started": "2024-12-06T18:23:46.208046Z"
    },
    "tags": []
   },
   "outputs": [],
   "source": [
    "input_df = pd.read_csv('merfish_meta.csv', index_col=0)\n",
    "input_df"
   ]
  },
  {
   "cell_type": "code",
   "execution_count": 97,
   "id": "c47a2b8e-ff25-4222-862d-530d88e2551c",
   "metadata": {
    "execution": {
     "iopub.execute_input": "2024-12-06T19:44:00.472164Z",
     "iopub.status.busy": "2024-12-06T19:44:00.471890Z",
     "iopub.status.idle": "2024-12-06T19:44:00.997568Z",
     "shell.execute_reply": "2024-12-06T19:44:00.997228Z",
     "shell.execute_reply.started": "2024-12-06T19:44:00.472150Z"
    },
    "tags": []
   },
   "outputs": [
    {
     "data": {
      "text/html": [
       "<div>\n",
       "<style scoped>\n",
       "    .dataframe tbody tr th:only-of-type {\n",
       "        vertical-align: middle;\n",
       "    }\n",
       "\n",
       "    .dataframe tbody tr th {\n",
       "        vertical-align: top;\n",
       "    }\n",
       "\n",
       "    .dataframe thead th {\n",
       "        text-align: right;\n",
       "    }\n",
       "</style>\n",
       "<table border=\"1\" class=\"dataframe\">\n",
       "  <thead>\n",
       "    <tr style=\"text-align: right;\">\n",
       "      <th></th>\n",
       "      <th>x</th>\n",
       "      <th>y</th>\n",
       "      <th>Niche_NTScore</th>\n",
       "      <th>Cell_NTScore</th>\n",
       "    </tr>\n",
       "    <tr>\n",
       "      <th>Cell_ID</th>\n",
       "      <th></th>\n",
       "      <th></th>\n",
       "      <th></th>\n",
       "      <th></th>\n",
       "    </tr>\n",
       "  </thead>\n",
       "  <tbody>\n",
       "    <tr>\n",
       "      <th>10000143038275111136124942858811168393</th>\n",
       "      <td>4738.402723</td>\n",
       "      <td>3075.604074</td>\n",
       "      <td>0.398701</td>\n",
       "      <td>0.398146</td>\n",
       "    </tr>\n",
       "    <tr>\n",
       "      <th>100091152035772192874698518269494521268</th>\n",
       "      <td>4319.030049</td>\n",
       "      <td>2628.021401</td>\n",
       "      <td>0.601356</td>\n",
       "      <td>0.611682</td>\n",
       "    </tr>\n",
       "    <tr>\n",
       "      <th>100318785722691998123111916762029843183</th>\n",
       "      <td>4486.534300</td>\n",
       "      <td>2004.802524</td>\n",
       "      <td>0.802234</td>\n",
       "      <td>0.827713</td>\n",
       "    </tr>\n",
       "    <tr>\n",
       "      <th>100341059438931731510635049259352883335</th>\n",
       "      <td>4464.074801</td>\n",
       "      <td>3432.480751</td>\n",
       "      <td>0.506373</td>\n",
       "      <td>0.494413</td>\n",
       "    </tr>\n",
       "    <tr>\n",
       "      <th>101059342090754465645773829438399819266</th>\n",
       "      <td>4127.878468</td>\n",
       "      <td>2366.196146</td>\n",
       "      <td>0.801902</td>\n",
       "      <td>0.827421</td>\n",
       "    </tr>\n",
       "  </tbody>\n",
       "</table>\n",
       "</div>"
      ],
      "text/plain": [
       "                                                   x            y  \\\n",
       "Cell_ID                                                             \n",
       "10000143038275111136124942858811168393   4738.402723  3075.604074   \n",
       "100091152035772192874698518269494521268  4319.030049  2628.021401   \n",
       "100318785722691998123111916762029843183  4486.534300  2004.802524   \n",
       "100341059438931731510635049259352883335  4464.074801  3432.480751   \n",
       "101059342090754465645773829438399819266  4127.878468  2366.196146   \n",
       "\n",
       "                                         Niche_NTScore  Cell_NTScore  \n",
       "Cell_ID                                                               \n",
       "10000143038275111136124942858811168393        0.398701      0.398146  \n",
       "100091152035772192874698518269494521268       0.601356      0.611682  \n",
       "100318785722691998123111916762029843183       0.802234      0.827713  \n",
       "100341059438931731510635049259352883335       0.506373      0.494413  \n",
       "101059342090754465645773829438399819266       0.801902      0.827421  "
      ]
     },
     "execution_count": 97,
     "metadata": {},
     "output_type": "execute_result"
    }
   ],
   "source": [
    "nt_score_df = pd.read_csv('../../output/merfish_cortex_base_NT/NTScore.csv.gz', index_col=0)\n",
    "nt_score_df.head()\n"
   ]
  },
  {
   "cell_type": "code",
   "execution_count": null,
   "id": "1a5c113e-14f9-4b5c-952b-7e0f66552ff0",
   "metadata": {
    "execution": {
     "iopub.execute_input": "2024-12-06T19:44:34.734222Z",
     "iopub.status.busy": "2024-12-06T19:44:34.733893Z",
     "iopub.status.idle": "2024-12-06T19:44:34.893351Z",
     "shell.execute_reply": "2024-12-06T19:44:34.892980Z",
     "shell.execute_reply.started": "2024-12-06T19:44:34.734208Z"
    },
    "tags": []
   },
   "outputs": [],
   "source": [
    "raw_counts.obs = raw_counts.obs.join(input_df)\n",
    "raw_counts.obs = raw_counts.obs.join(nt_score_df[['Cell_NTScore']])\n",
    "raw_counts.obs.head()"
   ]
  },
  {
   "cell_type": "code",
   "execution_count": 101,
   "id": "bd201b37-bcd3-4fda-8aa3-46256dd29965",
   "metadata": {
    "execution": {
     "iopub.execute_input": "2024-12-06T19:44:36.784239Z",
     "iopub.status.busy": "2024-12-06T19:44:36.783920Z",
     "iopub.status.idle": "2024-12-06T19:44:36.800931Z",
     "shell.execute_reply": "2024-12-06T19:44:36.800641Z",
     "shell.execute_reply.started": "2024-12-06T19:44:36.784225Z"
    },
    "tags": []
   },
   "outputs": [
    {
     "name": "stderr",
     "output_type": "stream",
     "text": [
      "/sc/arion/work/wangw32/conda-env/envs/scverse/lib/python3.11/site-packages/anndata/_core/anndata.py:1113: FutureWarning: is_categorical_dtype is deprecated and will be removed in a future version. Use isinstance(dtype, CategoricalDtype) instead\n",
      "  if not is_categorical_dtype(df_full[k]):\n"
     ]
    },
    {
     "data": {
      "text/plain": [
       "View of AnnData object with n_obs × n_vars = 14861 × 254\n",
       "    obs: 'sample_id', 'slice_id', 'class_label', 'subclass', 'label', 'x', 'y', 'cortical_depth', 'extra_annot', 'leiden_res_10.00', 'leiden_res_30.00', 'Cell_NTScore'"
      ]
     },
     "execution_count": 101,
     "metadata": {},
     "output_type": "execute_result"
    }
   ],
   "source": [
    "selected_adata = raw_counts[raw_counts.obs['slice_id'].isin(selected_samples)]\n",
    "selected_adata"
   ]
  },
  {
   "cell_type": "code",
   "execution_count": 102,
   "id": "b69e49ef-cd37-459f-ba8a-b5ed008cb0f5",
   "metadata": {
    "execution": {
     "iopub.execute_input": "2024-12-06T19:44:38.368187Z",
     "iopub.status.busy": "2024-12-06T19:44:38.367950Z",
     "iopub.status.idle": "2024-12-06T19:44:38.373963Z",
     "shell.execute_reply": "2024-12-06T19:44:38.373671Z",
     "shell.execute_reply.started": "2024-12-06T19:44:38.368175Z"
    },
    "tags": []
   },
   "outputs": [
    {
     "data": {
      "text/plain": [
       "ArrayView([[0.00000000e+00, 0.00000000e+00, 0.00000000e+00, ...,\n",
       "            1.41682005e+01, 2.08069440e-02, 4.88566905e-02],\n",
       "           [0.00000000e+00, 0.00000000e+00, 0.00000000e+00, ...,\n",
       "            4.53515244e+00, 5.68433926e-02, 1.55052170e-01],\n",
       "           [0.00000000e+00, 5.32006562e-01, 0.00000000e+00, ...,\n",
       "            1.08872833e+01, 5.11860311e-01, 0.00000000e+00],\n",
       "           ...,\n",
       "           [0.00000000e+00, 0.00000000e+00, 0.00000000e+00, ...,\n",
       "            2.93734223e-01, 0.00000000e+00, 4.81377482e-01],\n",
       "           [0.00000000e+00, 6.62937105e-01, 0.00000000e+00, ...,\n",
       "            8.31894779e+00, 0.00000000e+00, 1.25135668e-03],\n",
       "           [0.00000000e+00, 0.00000000e+00, 0.00000000e+00, ...,\n",
       "            7.09483564e-01, 5.29562458e-02, 1.22337796e-01]],\n",
       "          dtype=float32)"
      ]
     },
     "execution_count": 102,
     "metadata": {},
     "output_type": "execute_result"
    }
   ],
   "source": [
    "selected_adata.X"
   ]
  },
  {
   "cell_type": "code",
   "execution_count": 103,
   "id": "0b09f304-ee93-4c7e-a676-12a2b8f15a91",
   "metadata": {
    "execution": {
     "iopub.execute_input": "2024-12-06T19:44:40.225242Z",
     "iopub.status.busy": "2024-12-06T19:44:40.224926Z",
     "iopub.status.idle": "2024-12-06T19:44:41.960806Z",
     "shell.execute_reply": "2024-12-06T19:44:41.960424Z",
     "shell.execute_reply.started": "2024-12-06T19:44:40.225229Z"
    },
    "tags": []
   },
   "outputs": [],
   "source": [
    "pd.DataFrame(selected_adata.X,\n",
    "             index=[f'Cell_{i}' for i in range(selected_adata.X.shape[0])],\n",
    "             columns=selected_adata.var_names).T.to_csv(\n",
    "    'merfish_selected_exp.csv',\n",
    "    index=True\n",
    ")"
   ]
  },
  {
   "cell_type": "code",
   "execution_count": 104,
   "id": "54a44118-2367-4ea1-827b-1de56028b629",
   "metadata": {
    "execution": {
     "iopub.execute_input": "2024-12-06T19:44:41.961774Z",
     "iopub.status.busy": "2024-12-06T19:44:41.961506Z",
     "iopub.status.idle": "2024-12-06T19:44:41.968656Z",
     "shell.execute_reply": "2024-12-06T19:44:41.968337Z",
     "shell.execute_reply.started": "2024-12-06T19:44:41.961761Z"
    },
    "tags": []
   },
   "outputs": [
    {
     "data": {
      "text/html": [
       "<div>\n",
       "<style scoped>\n",
       "    .dataframe tbody tr th:only-of-type {\n",
       "        vertical-align: middle;\n",
       "    }\n",
       "\n",
       "    .dataframe tbody tr th {\n",
       "        vertical-align: top;\n",
       "    }\n",
       "\n",
       "    .dataframe thead th {\n",
       "        text-align: right;\n",
       "    }\n",
       "</style>\n",
       "<table border=\"1\" class=\"dataframe\">\n",
       "  <thead>\n",
       "    <tr style=\"text-align: right;\">\n",
       "      <th></th>\n",
       "      <th>sample_id</th>\n",
       "      <th>slice_id</th>\n",
       "      <th>class_label</th>\n",
       "      <th>subclass</th>\n",
       "      <th>label</th>\n",
       "      <th>x</th>\n",
       "      <th>y</th>\n",
       "      <th>cortical_depth</th>\n",
       "      <th>extra_annot</th>\n",
       "      <th>leiden_res_10.00</th>\n",
       "      <th>leiden_res_30.00</th>\n",
       "      <th>Cell_NTScore</th>\n",
       "    </tr>\n",
       "    <tr>\n",
       "      <th>index</th>\n",
       "      <th></th>\n",
       "      <th></th>\n",
       "      <th></th>\n",
       "      <th></th>\n",
       "      <th></th>\n",
       "      <th></th>\n",
       "      <th></th>\n",
       "      <th></th>\n",
       "      <th></th>\n",
       "      <th></th>\n",
       "      <th></th>\n",
       "      <th></th>\n",
       "    </tr>\n",
       "  </thead>\n",
       "  <tbody>\n",
       "    <tr>\n",
       "      <th>100058071267450629689866196035029399511</th>\n",
       "      <td>mouse2_sample6</td>\n",
       "      <td>mouse2_slice169</td>\n",
       "      <td>Glutamatergic</td>\n",
       "      <td>L5 ET</td>\n",
       "      <td>L5_ET_3</td>\n",
       "      <td>-3145.779407</td>\n",
       "      <td>3884.950901</td>\n",
       "      <td>667.210907</td>\n",
       "      <td>L5 ET</td>\n",
       "      <td>63</td>\n",
       "      <td>48</td>\n",
       "      <td>0.402788</td>\n",
       "    </tr>\n",
       "    <tr>\n",
       "      <th>100063495197968212990675334030574005996</th>\n",
       "      <td>mouse2_sample6</td>\n",
       "      <td>mouse2_slice169</td>\n",
       "      <td>Glutamatergic</td>\n",
       "      <td>L2/3 IT</td>\n",
       "      <td>L23_IT_4</td>\n",
       "      <td>-2972.356481</td>\n",
       "      <td>2558.893648</td>\n",
       "      <td>364.835270</td>\n",
       "      <td>L2/3 IT</td>\n",
       "      <td>14</td>\n",
       "      <td>171</td>\n",
       "      <td>0.783290</td>\n",
       "    </tr>\n",
       "    <tr>\n",
       "      <th>10006810796963211471780483969639718389</th>\n",
       "      <td>mouse2_sample5</td>\n",
       "      <td>mouse2_slice99</td>\n",
       "      <td>Glutamatergic</td>\n",
       "      <td>L4/5 IT</td>\n",
       "      <td>L45_IT_1</td>\n",
       "      <td>-100.569506</td>\n",
       "      <td>2776.927999</td>\n",
       "      <td>1094.584971</td>\n",
       "      <td>L4/5 IT</td>\n",
       "      <td>42</td>\n",
       "      <td>44</td>\n",
       "      <td>0.646011</td>\n",
       "    </tr>\n",
       "    <tr>\n",
       "      <th>10009720355034894926238975155842221990</th>\n",
       "      <td>mouse2_sample6</td>\n",
       "      <td>mouse2_slice169</td>\n",
       "      <td>Glutamatergic</td>\n",
       "      <td>L6 CT</td>\n",
       "      <td>L6_CT_2</td>\n",
       "      <td>-4048.311904</td>\n",
       "      <td>2090.110198</td>\n",
       "      <td>1270.628357</td>\n",
       "      <td>L6 CT</td>\n",
       "      <td>17</td>\n",
       "      <td>21</td>\n",
       "      <td>0.201171</td>\n",
       "    </tr>\n",
       "    <tr>\n",
       "      <th>100135247598137293514782974101948213300</th>\n",
       "      <td>mouse2_sample6</td>\n",
       "      <td>mouse2_slice169</td>\n",
       "      <td>Glutamatergic</td>\n",
       "      <td>L6 IT</td>\n",
       "      <td>L6_IT_3</td>\n",
       "      <td>-3849.190754</td>\n",
       "      <td>2475.294401</td>\n",
       "      <td>1151.161772</td>\n",
       "      <td>L6 IT</td>\n",
       "      <td>25</td>\n",
       "      <td>260</td>\n",
       "      <td>0.221022</td>\n",
       "    </tr>\n",
       "  </tbody>\n",
       "</table>\n",
       "</div>"
      ],
      "text/plain": [
       "                                              sample_id         slice_id  \\\n",
       "index                                                                      \n",
       "100058071267450629689866196035029399511  mouse2_sample6  mouse2_slice169   \n",
       "100063495197968212990675334030574005996  mouse2_sample6  mouse2_slice169   \n",
       "10006810796963211471780483969639718389   mouse2_sample5   mouse2_slice99   \n",
       "10009720355034894926238975155842221990   mouse2_sample6  mouse2_slice169   \n",
       "100135247598137293514782974101948213300  mouse2_sample6  mouse2_slice169   \n",
       "\n",
       "                                           class_label subclass     label  \\\n",
       "index                                                                       \n",
       "100058071267450629689866196035029399511  Glutamatergic    L5 ET   L5_ET_3   \n",
       "100063495197968212990675334030574005996  Glutamatergic  L2/3 IT  L23_IT_4   \n",
       "10006810796963211471780483969639718389   Glutamatergic  L4/5 IT  L45_IT_1   \n",
       "10009720355034894926238975155842221990   Glutamatergic    L6 CT   L6_CT_2   \n",
       "100135247598137293514782974101948213300  Glutamatergic    L6 IT   L6_IT_3   \n",
       "\n",
       "                                                   x            y  \\\n",
       "index                                                               \n",
       "100058071267450629689866196035029399511 -3145.779407  3884.950901   \n",
       "100063495197968212990675334030574005996 -2972.356481  2558.893648   \n",
       "10006810796963211471780483969639718389   -100.569506  2776.927999   \n",
       "10009720355034894926238975155842221990  -4048.311904  2090.110198   \n",
       "100135247598137293514782974101948213300 -3849.190754  2475.294401   \n",
       "\n",
       "                                         cortical_depth extra_annot  \\\n",
       "index                                                                 \n",
       "100058071267450629689866196035029399511      667.210907       L5 ET   \n",
       "100063495197968212990675334030574005996      364.835270     L2/3 IT   \n",
       "10006810796963211471780483969639718389      1094.584971     L4/5 IT   \n",
       "10009720355034894926238975155842221990      1270.628357       L6 CT   \n",
       "100135247598137293514782974101948213300     1151.161772       L6 IT   \n",
       "\n",
       "                                         leiden_res_10.00  leiden_res_30.00  \\\n",
       "index                                                                         \n",
       "100058071267450629689866196035029399511                63                48   \n",
       "100063495197968212990675334030574005996                14               171   \n",
       "10006810796963211471780483969639718389                 42                44   \n",
       "10009720355034894926238975155842221990                 17                21   \n",
       "100135247598137293514782974101948213300                25               260   \n",
       "\n",
       "                                         Cell_NTScore  \n",
       "index                                                  \n",
       "100058071267450629689866196035029399511      0.402788  \n",
       "100063495197968212990675334030574005996      0.783290  \n",
       "10006810796963211471780483969639718389       0.646011  \n",
       "10009720355034894926238975155842221990       0.201171  \n",
       "100135247598137293514782974101948213300      0.221022  "
      ]
     },
     "execution_count": 104,
     "metadata": {},
     "output_type": "execute_result"
    }
   ],
   "source": [
    "selected_adata.obs.head()"
   ]
  },
  {
   "cell_type": "code",
   "execution_count": 133,
   "id": "86a9ae7c-bcf2-47c6-8148-37f3cd555944",
   "metadata": {
    "execution": {
     "iopub.execute_input": "2024-12-08T03:02:46.372022Z",
     "iopub.status.busy": "2024-12-08T03:02:46.371594Z",
     "iopub.status.idle": "2024-12-08T03:02:46.441346Z",
     "shell.execute_reply": "2024-12-08T03:02:46.440981Z",
     "shell.execute_reply.started": "2024-12-08T03:02:46.372006Z"
    },
    "tags": []
   },
   "outputs": [],
   "source": [
    "selected_meta_df = selected_adata.obs[['subclass','x','y','slice_id','cortical_depth','Cell_NTScore','label']]\n",
    "selected_meta_df.columns = ['Cell_Type','x','y','Sample','cortical_depth','Cell_NTScore','label']\n",
    "selected_meta_df.index = [f'Cell_{i}' for i in range(selected_adata.X.shape[0])]\n",
    "selected_meta_df.to_csv('merfish_selected_meta.csv', index=True, index_label='Cell_ID')"
   ]
  },
  {
   "cell_type": "code",
   "execution_count": 74,
   "id": "1974cb05-3996-4397-bf6d-3716dfafa1b1",
   "metadata": {
    "execution": {
     "iopub.execute_input": "2024-12-06T18:23:52.039552Z",
     "iopub.status.busy": "2024-12-06T18:23:52.039321Z",
     "iopub.status.idle": "2024-12-06T18:23:52.557691Z",
     "shell.execute_reply": "2024-12-06T18:23:52.557354Z",
     "shell.execute_reply.started": "2024-12-06T18:23:52.039539Z"
    },
    "tags": []
   },
   "outputs": [
    {
     "data": {
      "text/plain": [
       "<Axes: xlabel='x', ylabel='y'>"
      ]
     },
     "execution_count": 74,
     "metadata": {},
     "output_type": "execute_result"
    },
    {
     "data": {
      "image/png": "[encoded data removed]",
      "text/plain": [
       "<Figure size 640x480 with 1 Axes>"
      ]
     },
     "metadata": {},
     "output_type": "display_data"
    }
   ],
   "source": [
    "fig, ax = plt.subplots()\n",
    "sns.scatterplot(data = selected_meta_df,\n",
    "                x = 'x',\n",
    "                y = 'y',\n",
    "                hue = 'Sample',\n",
    "                ax = ax)"
   ]
  },
  {
   "cell_type": "markdown",
   "id": "7ffd88ac-bf70-4337-8104-b9d350a3d900",
   "metadata": {},
   "source": [
    "# Gen pseudotime run lsf\n",
    "\n",
    "\n",
    "- Our HPC using Load Sharing Facility (LSF) Job Scheduler, please modify the following code to fit your own computer.\n",
    "- Please also modify the path for yourself"
   ]
  },
  {
   "cell_type": "code",
   "execution_count": 86,
   "id": "a008098f-341e-4005-a9d7-3daee7d6dc20",
   "metadata": {
    "execution": {
     "iopub.execute_input": "2024-12-06T18:31:50.071938Z",
     "iopub.status.busy": "2024-12-06T18:31:50.071472Z",
     "iopub.status.idle": "2024-12-06T18:31:50.074088Z",
     "shell.execute_reply": "2024-12-06T18:31:50.073753Z",
     "shell.execute_reply.started": "2024-12-06T18:31:50.071922Z"
    },
    "tags": []
   },
   "outputs": [],
   "source": [
    "run_lsf_dir = '../../run_lsf'\n",
    "\n",
    "os.makedirs(run_lsf_dir, exist_ok=True)"
   ]
  },
  {
   "cell_type": "code",
   "execution_count": 107,
   "id": "9341b451-71a7-4835-b5ff-e03d761f3d0d",
   "metadata": {
    "execution": {
     "iopub.execute_input": "2024-12-08T02:17:22.965523Z",
     "iopub.status.busy": "2024-12-08T02:17:22.965094Z",
     "iopub.status.idle": "2024-12-08T02:17:22.967644Z",
     "shell.execute_reply": "2024-12-08T02:17:22.967283Z",
     "shell.execute_reply.started": "2024-12-08T02:17:22.965507Z"
    },
    "tags": []
   },
   "outputs": [],
   "source": [
    "templete = '''#!/bin/bash\n",
    "#BSUB -J {name}\n",
    "#BSUB -n 12\n",
    "#BSUB -P acc_YuanLab\n",
    "#BSUB -q gpu\n",
    "#BSUB -W 20:00\n",
    "#BSUB -R \"rusage[mem=10000] span[hosts=1]\"\n",
    "#BSUB -gpu num=1\n",
    "#BSUB -R h100nvl\n",
    "\n",
    "#BSUB -oo log/job_{name}.out\n",
    "#BSUB -eo log/job_{name}.err\n",
    "\n",
    "JOBID=$1\n",
    "\n",
    "source /hpc/users/wangw32/.bash_profile\n",
    "\n",
    "mkdir -p tasks/bench_marking/merfish_selected\n",
    "\n",
    "conda activate seurat_v4\n",
    "Rscript scripts/run_DPT_merfish.R raw_data/merfish_cortex/sce_selected_obj.rds tasks/bench_marking/merfish_selected\n",
    "'''"
   ]
  },
  {
   "cell_type": "code",
   "execution_count": 108,
   "id": "697f911a-db6a-4d16-98b6-ba1eec8f48a9",
   "metadata": {
    "execution": {
     "iopub.execute_input": "2024-12-08T02:17:23.148814Z",
     "iopub.status.busy": "2024-12-08T02:17:23.148539Z",
     "iopub.status.idle": "2024-12-08T02:17:23.154129Z",
     "shell.execute_reply": "2024-12-08T02:17:23.153817Z",
     "shell.execute_reply.started": "2024-12-08T02:17:23.148800Z"
    },
    "tags": []
   },
   "outputs": [],
   "source": [
    "name = 'merfish_selected_DPT'\n",
    "\n",
    "with open(f'{run_lsf_dir}/{name}_run_lsf.sh', 'w') as f:\n",
    "    f.write(templete.format(name=name))\n"
   ]
  },
  {
   "cell_type": "code",
   "execution_count": 89,
   "id": "b5db4aa8-c44f-4e9d-8719-7db874165790",
   "metadata": {
    "execution": {
     "iopub.execute_input": "2024-12-06T18:31:50.561872Z",
     "iopub.status.busy": "2024-12-06T18:31:50.561570Z",
     "iopub.status.idle": "2024-12-06T18:31:50.563681Z",
     "shell.execute_reply": "2024-12-06T18:31:50.563378Z",
     "shell.execute_reply.started": "2024-12-06T18:31:50.561860Z"
    },
    "tags": []
   },
   "outputs": [],
   "source": [
    "templete = '''#!/bin/bash\n",
    "#BSUB -J {name}\n",
    "#BSUB -n 12\n",
    "#BSUB -P acc_YuanLab\n",
    "#BSUB -q gpu\n",
    "#BSUB -W 20:00\n",
    "#BSUB -R \"rusage[mem=10000] span[hosts=1]\"\n",
    "#BSUB -gpu num=1\n",
    "#BSUB -R h100nvl\n",
    "\n",
    "#BSUB -oo log/job_{name}.out\n",
    "#BSUB -eo log/job_{name}.err\n",
    "\n",
    "JOBID=$1\n",
    "\n",
    "source /hpc/users/wangw32/.bash_profile\n",
    "\n",
    "mkdir -p tasks/bench_marking/merfish_selected\n",
    "\n",
    "conda activate seurat_v4\n",
    "Rscript scripts/run_monocle.R raw_data/merfish_cortex/cds_selected_obj.rds tasks/bench_marking/merfish_selected\n",
    "'''"
   ]
  },
  {
   "cell_type": "code",
   "execution_count": 90,
   "id": "247e0bee-d3f7-49d9-85b9-07d574e54530",
   "metadata": {
    "execution": {
     "iopub.execute_input": "2024-12-06T18:31:50.709313Z",
     "iopub.status.busy": "2024-12-06T18:31:50.709088Z",
     "iopub.status.idle": "2024-12-06T18:31:50.711544Z",
     "shell.execute_reply": "2024-12-06T18:31:50.711189Z",
     "shell.execute_reply.started": "2024-12-06T18:31:50.709301Z"
    },
    "tags": []
   },
   "outputs": [],
   "source": [
    "name = 'merfish_selected_monocle'\n",
    "\n",
    "with open(f'{run_lsf_dir}/{name}_run_lsf.sh', 'w') as f:\n",
    "    f.write(templete.format(name=name))"
   ]
  },
  {
   "cell_type": "code",
   "execution_count": 91,
   "id": "c6199136-63c4-4a21-abc0-bf0a662883af",
   "metadata": {
    "execution": {
     "iopub.execute_input": "2024-12-06T18:31:50.843652Z",
     "iopub.status.busy": "2024-12-06T18:31:50.843429Z",
     "iopub.status.idle": "2024-12-06T18:31:50.845501Z",
     "shell.execute_reply": "2024-12-06T18:31:50.845170Z",
     "shell.execute_reply.started": "2024-12-06T18:31:50.843640Z"
    },
    "tags": []
   },
   "outputs": [],
   "source": [
    "templete = '''#!/bin/bash\n",
    "#BSUB -J {name}\n",
    "#BSUB -n 12\n",
    "#BSUB -P acc_YuanLab\n",
    "#BSUB -q gpu\n",
    "#BSUB -W 20:00\n",
    "#BSUB -R \"rusage[mem=10000] span[hosts=1]\"\n",
    "#BSUB -gpu num=1\n",
    "#BSUB -R h100nvl\n",
    "\n",
    "#BSUB -oo log/job_{name}.out\n",
    "#BSUB -eo log/job_{name}.err\n",
    "\n",
    "JOBID=$1\n",
    "\n",
    "source /hpc/users/wangw32/.bash_profile\n",
    "\n",
    "mkdir -p tasks/bench_marking/merfish_selected\n",
    "\n",
    "conda activate seurat_v4\n",
    "Rscript scripts/run_TSCAN.R raw_data/merfish_cortex/merfish_selected_exp.csv tasks/bench_marking/merfish_selected\n",
    "'''"
   ]
  },
  {
   "cell_type": "code",
   "execution_count": 92,
   "id": "0a58b794-f5af-4274-ab9d-78bc67630c8f",
   "metadata": {
    "execution": {
     "iopub.execute_input": "2024-12-06T18:31:51.006260Z",
     "iopub.status.busy": "2024-12-06T18:31:51.006006Z",
     "iopub.status.idle": "2024-12-06T18:31:51.008751Z",
     "shell.execute_reply": "2024-12-06T18:31:51.008446Z",
     "shell.execute_reply.started": "2024-12-06T18:31:51.006248Z"
    },
    "tags": []
   },
   "outputs": [],
   "source": [
    "name = 'merfish_selected_tscan'\n",
    "\n",
    "with open(f'{run_lsf_dir}/{name}_run_lsf.sh', 'w') as f:\n",
    "    f.write(templete.format(name=name))"
   ]
  },
  {
   "cell_type": "code",
   "execution_count": 93,
   "id": "93268677-945c-4147-ba9e-d596927aac64",
   "metadata": {
    "execution": {
     "iopub.execute_input": "2024-12-06T18:31:51.173873Z",
     "iopub.status.busy": "2024-12-06T18:31:51.173591Z",
     "iopub.status.idle": "2024-12-06T18:31:51.175640Z",
     "shell.execute_reply": "2024-12-06T18:31:51.175335Z",
     "shell.execute_reply.started": "2024-12-06T18:31:51.173861Z"
    },
    "tags": []
   },
   "outputs": [],
   "source": [
    "templete = '''#!/bin/bash\n",
    "#BSUB -J {name}\n",
    "#BSUB -n 12\n",
    "#BSUB -P acc_YuanLab\n",
    "#BSUB -q gpu\n",
    "#BSUB -W 20:00\n",
    "#BSUB -R \"rusage[mem=10000] span[hosts=1]\"\n",
    "#BSUB -gpu num=1\n",
    "#BSUB -R h100nvl\n",
    "\n",
    "#BSUB -oo log/job_{name}.out\n",
    "#BSUB -eo log/job_{name}.err\n",
    "\n",
    "JOBID=$1\n",
    "\n",
    "source /hpc/users/wangw32/.bash_profile\n",
    "\n",
    "mkdir -p tasks/bench_marking/merfish_selected\n",
    "\n",
    "conda activate spaceflow\n",
    "python scripts/run_SpaceFlow.py raw_data/merfish_cortex/merfish_selected_exp.csv raw_data/merfish_cortex/merfish_selected_meta.csv tasks/bench_marking/merfish_selected\n",
    "'''"
   ]
  },
  {
   "cell_type": "code",
   "execution_count": 94,
   "id": "4aa94c41-aca8-4590-9766-5cf808d52d37",
   "metadata": {
    "execution": {
     "iopub.execute_input": "2024-12-06T18:31:51.329839Z",
     "iopub.status.busy": "2024-12-06T18:31:51.329556Z",
     "iopub.status.idle": "2024-12-06T18:31:51.331976Z",
     "shell.execute_reply": "2024-12-06T18:31:51.331677Z",
     "shell.execute_reply.started": "2024-12-06T18:31:51.329827Z"
    },
    "tags": []
   },
   "outputs": [],
   "source": [
    "name = 'merfish_selected_spaceFlow'\n",
    "\n",
    "with open(f'{run_lsf_dir}/{name}_run_lsf.sh', 'w') as f:\n",
    "    f.write(templete.format(name=name))"
   ]
  },
  {
   "cell_type": "code",
   "execution_count": 95,
   "id": "975e5783-2d93-42ea-b76c-0540ca6ea3f8",
   "metadata": {
    "execution": {
     "iopub.execute_input": "2024-12-06T18:31:51.510341Z",
     "iopub.status.busy": "2024-12-06T18:31:51.510092Z",
     "iopub.status.idle": "2024-12-06T18:31:51.512153Z",
     "shell.execute_reply": "2024-12-06T18:31:51.511847Z",
     "shell.execute_reply.started": "2024-12-06T18:31:51.510330Z"
    },
    "tags": []
   },
   "outputs": [],
   "source": [
    "templete = '''#!/bin/bash\n",
    "#BSUB -J {name}\n",
    "#BSUB -n 12\n",
    "#BSUB -P acc_YuanLab\n",
    "#BSUB -q gpu\n",
    "#BSUB -W 20:00\n",
    "#BSUB -R \"rusage[mem=100000] span[hosts=1]\"\n",
    "#BSUB -gpu num=1\n",
    "#BSUB -R h100nvl\n",
    "\n",
    "#BSUB -oo log/job_{name}.out\n",
    "#BSUB -eo log/job_{name}.err\n",
    "\n",
    "JOBID=$1\n",
    "\n",
    "source /hpc/users/wangw32/.bash_profile\n",
    "\n",
    "mkdir -p tasks/bench_marking/merfish_selected\n",
    "\n",
    "conda activate spatialpca_env\n",
    "Rscript scripts/run_spatialPCA.R raw_data/merfish_cortex/merfish_selected_exp.csv raw_data/merfish_cortex/merfish_selected_meta.csv tasks/bench_marking/merfish_selected\n",
    "'''"
   ]
  },
  {
   "cell_type": "code",
   "execution_count": 96,
   "id": "f414f95a-939c-418e-a304-2c453fd836bd",
   "metadata": {
    "execution": {
     "iopub.execute_input": "2024-12-06T18:31:51.706517Z",
     "iopub.status.busy": "2024-12-06T18:31:51.706249Z",
     "iopub.status.idle": "2024-12-06T18:31:51.708565Z",
     "shell.execute_reply": "2024-12-06T18:31:51.708275Z",
     "shell.execute_reply.started": "2024-12-06T18:31:51.706505Z"
    },
    "tags": []
   },
   "outputs": [],
   "source": [
    "name = 'merfish_selected_spatialPCA'\n",
    "\n",
    "with open(f'{run_lsf_dir}/{name}_run_lsf.sh', 'w') as f:\n",
    "    f.write(templete.format(name=name))"
   ]
  },
  {
   "cell_type": "markdown",
   "id": "8606f668-cb9a-4750-aac4-00e6bd27e79a",
   "metadata": {},
   "source": [
    "# benchmark results collect"
   ]
  },
  {
   "cell_type": "code",
   "execution_count": 115,
   "id": "4fc7776a-e591-4cfe-a1e7-982808f93a3e",
   "metadata": {
    "execution": {
     "iopub.execute_input": "2024-12-08T02:41:35.434103Z",
     "iopub.status.busy": "2024-12-08T02:41:35.433670Z",
     "iopub.status.idle": "2024-12-08T02:41:35.436116Z",
     "shell.execute_reply": "2024-12-08T02:41:35.435752Z",
     "shell.execute_reply.started": "2024-12-08T02:41:35.434086Z"
    },
    "tags": []
   },
   "outputs": [],
   "source": [
    "from scipy.stats import spearmanr, pearsonr"
   ]
  },
  {
   "cell_type": "code",
   "execution_count": 106,
   "id": "f33296bf-7a80-40e5-ab7d-de1b353a8cf8",
   "metadata": {
    "execution": {
     "iopub.execute_input": "2024-12-08T00:27:16.787851Z",
     "iopub.status.busy": "2024-12-08T00:27:16.787418Z",
     "iopub.status.idle": "2024-12-08T00:27:16.795899Z",
     "shell.execute_reply": "2024-12-08T00:27:16.795428Z",
     "shell.execute_reply.started": "2024-12-08T00:27:16.787835Z"
    },
    "tags": []
   },
   "outputs": [
    {
     "data": {
      "text/html": [
       "<div>\n",
       "<style scoped>\n",
       "    .dataframe tbody tr th:only-of-type {\n",
       "        vertical-align: middle;\n",
       "    }\n",
       "\n",
       "    .dataframe tbody tr th {\n",
       "        vertical-align: top;\n",
       "    }\n",
       "\n",
       "    .dataframe thead th {\n",
       "        text-align: right;\n",
       "    }\n",
       "</style>\n",
       "<table border=\"1\" class=\"dataframe\">\n",
       "  <thead>\n",
       "    <tr style=\"text-align: right;\">\n",
       "      <th></th>\n",
       "      <th>sample_id</th>\n",
       "      <th>slice_id</th>\n",
       "      <th>class_label</th>\n",
       "      <th>subclass</th>\n",
       "      <th>label</th>\n",
       "      <th>x</th>\n",
       "      <th>y</th>\n",
       "      <th>cortical_depth</th>\n",
       "      <th>extra_annot</th>\n",
       "      <th>leiden_res_10.00</th>\n",
       "      <th>leiden_res_30.00</th>\n",
       "      <th>Cell_NTScore</th>\n",
       "    </tr>\n",
       "    <tr>\n",
       "      <th>index</th>\n",
       "      <th></th>\n",
       "      <th></th>\n",
       "      <th></th>\n",
       "      <th></th>\n",
       "      <th></th>\n",
       "      <th></th>\n",
       "      <th></th>\n",
       "      <th></th>\n",
       "      <th></th>\n",
       "      <th></th>\n",
       "      <th></th>\n",
       "      <th></th>\n",
       "    </tr>\n",
       "  </thead>\n",
       "  <tbody>\n",
       "    <tr>\n",
       "      <th>100058071267450629689866196035029399511</th>\n",
       "      <td>mouse2_sample6</td>\n",
       "      <td>mouse2_slice169</td>\n",
       "      <td>Glutamatergic</td>\n",
       "      <td>L5 ET</td>\n",
       "      <td>L5_ET_3</td>\n",
       "      <td>-3145.779407</td>\n",
       "      <td>3884.950901</td>\n",
       "      <td>667.210907</td>\n",
       "      <td>L5 ET</td>\n",
       "      <td>63</td>\n",
       "      <td>48</td>\n",
       "      <td>0.402788</td>\n",
       "    </tr>\n",
       "    <tr>\n",
       "      <th>100063495197968212990675334030574005996</th>\n",
       "      <td>mouse2_sample6</td>\n",
       "      <td>mouse2_slice169</td>\n",
       "      <td>Glutamatergic</td>\n",
       "      <td>L2/3 IT</td>\n",
       "      <td>L23_IT_4</td>\n",
       "      <td>-2972.356481</td>\n",
       "      <td>2558.893648</td>\n",
       "      <td>364.835270</td>\n",
       "      <td>L2/3 IT</td>\n",
       "      <td>14</td>\n",
       "      <td>171</td>\n",
       "      <td>0.783290</td>\n",
       "    </tr>\n",
       "    <tr>\n",
       "      <th>10006810796963211471780483969639718389</th>\n",
       "      <td>mouse2_sample5</td>\n",
       "      <td>mouse2_slice99</td>\n",
       "      <td>Glutamatergic</td>\n",
       "      <td>L4/5 IT</td>\n",
       "      <td>L45_IT_1</td>\n",
       "      <td>-100.569506</td>\n",
       "      <td>2776.927999</td>\n",
       "      <td>1094.584971</td>\n",
       "      <td>L4/5 IT</td>\n",
       "      <td>42</td>\n",
       "      <td>44</td>\n",
       "      <td>0.646011</td>\n",
       "    </tr>\n",
       "    <tr>\n",
       "      <th>10009720355034894926238975155842221990</th>\n",
       "      <td>mouse2_sample6</td>\n",
       "      <td>mouse2_slice169</td>\n",
       "      <td>Glutamatergic</td>\n",
       "      <td>L6 CT</td>\n",
       "      <td>L6_CT_2</td>\n",
       "      <td>-4048.311904</td>\n",
       "      <td>2090.110198</td>\n",
       "      <td>1270.628357</td>\n",
       "      <td>L6 CT</td>\n",
       "      <td>17</td>\n",
       "      <td>21</td>\n",
       "      <td>0.201171</td>\n",
       "    </tr>\n",
       "    <tr>\n",
       "      <th>100135247598137293514782974101948213300</th>\n",
       "      <td>mouse2_sample6</td>\n",
       "      <td>mouse2_slice169</td>\n",
       "      <td>Glutamatergic</td>\n",
       "      <td>L6 IT</td>\n",
       "      <td>L6_IT_3</td>\n",
       "      <td>-3849.190754</td>\n",
       "      <td>2475.294401</td>\n",
       "      <td>1151.161772</td>\n",
       "      <td>L6 IT</td>\n",
       "      <td>25</td>\n",
       "      <td>260</td>\n",
       "      <td>0.221022</td>\n",
       "    </tr>\n",
       "  </tbody>\n",
       "</table>\n",
       "</div>"
      ],
      "text/plain": [
       "                                              sample_id         slice_id  \\\n",
       "index                                                                      \n",
       "100058071267450629689866196035029399511  mouse2_sample6  mouse2_slice169   \n",
       "100063495197968212990675334030574005996  mouse2_sample6  mouse2_slice169   \n",
       "10006810796963211471780483969639718389   mouse2_sample5   mouse2_slice99   \n",
       "10009720355034894926238975155842221990   mouse2_sample6  mouse2_slice169   \n",
       "100135247598137293514782974101948213300  mouse2_sample6  mouse2_slice169   \n",
       "\n",
       "                                           class_label subclass     label  \\\n",
       "index                                                                       \n",
       "100058071267450629689866196035029399511  Glutamatergic    L5 ET   L5_ET_3   \n",
       "100063495197968212990675334030574005996  Glutamatergic  L2/3 IT  L23_IT_4   \n",
       "10006810796963211471780483969639718389   Glutamatergic  L4/5 IT  L45_IT_1   \n",
       "10009720355034894926238975155842221990   Glutamatergic    L6 CT   L6_CT_2   \n",
       "100135247598137293514782974101948213300  Glutamatergic    L6 IT   L6_IT_3   \n",
       "\n",
       "                                                   x            y  \\\n",
       "index                                                               \n",
       "100058071267450629689866196035029399511 -3145.779407  3884.950901   \n",
       "100063495197968212990675334030574005996 -2972.356481  2558.893648   \n",
       "10006810796963211471780483969639718389   -100.569506  2776.927999   \n",
       "10009720355034894926238975155842221990  -4048.311904  2090.110198   \n",
       "100135247598137293514782974101948213300 -3849.190754  2475.294401   \n",
       "\n",
       "                                         cortical_depth extra_annot  \\\n",
       "index                                                                 \n",
       "100058071267450629689866196035029399511      667.210907       L5 ET   \n",
       "100063495197968212990675334030574005996      364.835270     L2/3 IT   \n",
       "10006810796963211471780483969639718389      1094.584971     L4/5 IT   \n",
       "10009720355034894926238975155842221990      1270.628357       L6 CT   \n",
       "100135247598137293514782974101948213300     1151.161772       L6 IT   \n",
       "\n",
       "                                         leiden_res_10.00  leiden_res_30.00  \\\n",
       "index                                                                         \n",
       "100058071267450629689866196035029399511                63                48   \n",
       "100063495197968212990675334030574005996                14               171   \n",
       "10006810796963211471780483969639718389                 42                44   \n",
       "10009720355034894926238975155842221990                 17                21   \n",
       "100135247598137293514782974101948213300                25               260   \n",
       "\n",
       "                                         Cell_NTScore  \n",
       "index                                                  \n",
       "100058071267450629689866196035029399511      0.402788  \n",
       "100063495197968212990675334030574005996      0.783290  \n",
       "10006810796963211471780483969639718389       0.646011  \n",
       "10009720355034894926238975155842221990       0.201171  \n",
       "100135247598137293514782974101948213300      0.221022  "
      ]
     },
     "execution_count": 106,
     "metadata": {},
     "output_type": "execute_result"
    }
   ],
   "source": [
    "selected_adata.obs.head()"
   ]
  },
  {
   "cell_type": "code",
   "execution_count": 113,
   "id": "0c6c3da6-b702-4349-a384-91d9606eccc3",
   "metadata": {
    "execution": {
     "iopub.execute_input": "2024-12-08T02:37:14.164669Z",
     "iopub.status.busy": "2024-12-08T02:37:14.164244Z",
     "iopub.status.idle": "2024-12-08T02:37:14.171011Z",
     "shell.execute_reply": "2024-12-08T02:37:14.170672Z",
     "shell.execute_reply.started": "2024-12-08T02:37:14.164652Z"
    },
    "tags": []
   },
   "outputs": [
    {
     "data": {
      "text/html": [
       "<div>\n",
       "<style scoped>\n",
       "    .dataframe tbody tr th:only-of-type {\n",
       "        vertical-align: middle;\n",
       "    }\n",
       "\n",
       "    .dataframe tbody tr th {\n",
       "        vertical-align: top;\n",
       "    }\n",
       "\n",
       "    .dataframe thead th {\n",
       "        text-align: right;\n",
       "    }\n",
       "</style>\n",
       "<table border=\"1\" class=\"dataframe\">\n",
       "  <thead>\n",
       "    <tr style=\"text-align: right;\">\n",
       "      <th></th>\n",
       "      <th>0</th>\n",
       "    </tr>\n",
       "  </thead>\n",
       "  <tbody>\n",
       "    <tr>\n",
       "      <th>0</th>\n",
       "      <td>0.31968</td>\n",
       "    </tr>\n",
       "    <tr>\n",
       "      <th>1</th>\n",
       "      <td>0.89710</td>\n",
       "    </tr>\n",
       "    <tr>\n",
       "      <th>2</th>\n",
       "      <td>0.79635</td>\n",
       "    </tr>\n",
       "    <tr>\n",
       "      <th>3</th>\n",
       "      <td>0.12418</td>\n",
       "    </tr>\n",
       "    <tr>\n",
       "      <th>4</th>\n",
       "      <td>0.09127</td>\n",
       "    </tr>\n",
       "  </tbody>\n",
       "</table>\n",
       "</div>"
      ],
      "text/plain": [
       "         0\n",
       "0  0.31968\n",
       "1  0.89710\n",
       "2  0.79635\n",
       "3  0.12418\n",
       "4  0.09127"
      ]
     },
     "execution_count": 113,
     "metadata": {},
     "output_type": "execute_result"
    }
   ],
   "source": [
    "spaceFlow_results = pd.read_csv('../../tasks/bench_marking/merfish_selected/pSM_values.tsv',\n",
    "                                header=None)\n",
    "spaceFlow_results.head()\n"
   ]
  },
  {
   "cell_type": "code",
   "execution_count": 114,
   "id": "01773d87-d5c1-4c59-9de1-4c779ea94e27",
   "metadata": {
    "execution": {
     "iopub.execute_input": "2024-12-08T02:37:47.163461Z",
     "iopub.status.busy": "2024-12-08T02:37:47.163075Z",
     "iopub.status.idle": "2024-12-08T02:37:47.191015Z",
     "shell.execute_reply": "2024-12-08T02:37:47.190709Z",
     "shell.execute_reply.started": "2024-12-08T02:37:47.163446Z"
    },
    "tags": []
   },
   "outputs": [
    {
     "data": {
      "text/html": [
       "<div>\n",
       "<style scoped>\n",
       "    .dataframe tbody tr th:only-of-type {\n",
       "        vertical-align: middle;\n",
       "    }\n",
       "\n",
       "    .dataframe tbody tr th {\n",
       "        vertical-align: top;\n",
       "    }\n",
       "\n",
       "    .dataframe thead th {\n",
       "        text-align: right;\n",
       "    }\n",
       "</style>\n",
       "<table border=\"1\" class=\"dataframe\">\n",
       "  <thead>\n",
       "    <tr style=\"text-align: right;\">\n",
       "      <th></th>\n",
       "      <th>Unnamed: 0</th>\n",
       "      <th>x</th>\n",
       "    </tr>\n",
       "  </thead>\n",
       "  <tbody>\n",
       "    <tr>\n",
       "      <th>0</th>\n",
       "      <td>1</td>\n",
       "      <td>10.889199</td>\n",
       "    </tr>\n",
       "    <tr>\n",
       "      <th>1</th>\n",
       "      <td>2</td>\n",
       "      <td>NaN</td>\n",
       "    </tr>\n",
       "    <tr>\n",
       "      <th>2</th>\n",
       "      <td>3</td>\n",
       "      <td>7.772159</td>\n",
       "    </tr>\n",
       "    <tr>\n",
       "      <th>3</th>\n",
       "      <td>4</td>\n",
       "      <td>13.464537</td>\n",
       "    </tr>\n",
       "    <tr>\n",
       "      <th>4</th>\n",
       "      <td>5</td>\n",
       "      <td>13.682230</td>\n",
       "    </tr>\n",
       "  </tbody>\n",
       "</table>\n",
       "</div>"
      ],
      "text/plain": [
       "   Unnamed: 0          x\n",
       "0           1  10.889199\n",
       "1           2        NaN\n",
       "2           3   7.772159\n",
       "3           4  13.464537\n",
       "4           5  13.682230"
      ]
     },
     "execution_count": 114,
     "metadata": {},
     "output_type": "execute_result"
    }
   ],
   "source": [
    "spatialPCS_results = pd.read_csv('../../tasks/bench_marking/merfish_selected/spatial_pca.csv')\n",
    "spatialPCS_results.head()\n"
   ]
  },
  {
   "cell_type": "code",
   "execution_count": 109,
   "id": "deb2f7eb-8b67-4ed5-833d-406f22781c27",
   "metadata": {
    "execution": {
     "iopub.execute_input": "2024-12-08T02:30:39.205153Z",
     "iopub.status.busy": "2024-12-08T02:30:39.204772Z",
     "iopub.status.idle": "2024-12-08T02:30:39.242979Z",
     "shell.execute_reply": "2024-12-08T02:30:39.242662Z",
     "shell.execute_reply.started": "2024-12-08T02:30:39.205138Z"
    },
    "tags": []
   },
   "outputs": [
    {
     "data": {
      "text/html": [
       "<div>\n",
       "<style scoped>\n",
       "    .dataframe tbody tr th:only-of-type {\n",
       "        vertical-align: middle;\n",
       "    }\n",
       "\n",
       "    .dataframe tbody tr th {\n",
       "        vertical-align: top;\n",
       "    }\n",
       "\n",
       "    .dataframe thead th {\n",
       "        text-align: right;\n",
       "    }\n",
       "</style>\n",
       "<table border=\"1\" class=\"dataframe\">\n",
       "  <thead>\n",
       "    <tr style=\"text-align: right;\">\n",
       "      <th></th>\n",
       "      <th>Unnamed: 0</th>\n",
       "      <th>sim_time</th>\n",
       "      <th>dpt_norm</th>\n",
       "    </tr>\n",
       "  </thead>\n",
       "  <tbody>\n",
       "    <tr>\n",
       "      <th>0</th>\n",
       "      <td>Cell_0</td>\n",
       "      <td>667.210907</td>\n",
       "      <td>0.985734</td>\n",
       "    </tr>\n",
       "    <tr>\n",
       "      <th>1</th>\n",
       "      <td>Cell_1</td>\n",
       "      <td>364.835270</td>\n",
       "      <td>0.489502</td>\n",
       "    </tr>\n",
       "    <tr>\n",
       "      <th>2</th>\n",
       "      <td>Cell_2</td>\n",
       "      <td>1094.584971</td>\n",
       "      <td>0.729879</td>\n",
       "    </tr>\n",
       "    <tr>\n",
       "      <th>3</th>\n",
       "      <td>Cell_3</td>\n",
       "      <td>1270.628357</td>\n",
       "      <td>0.903365</td>\n",
       "    </tr>\n",
       "    <tr>\n",
       "      <th>4</th>\n",
       "      <td>Cell_4</td>\n",
       "      <td>1151.161772</td>\n",
       "      <td>0.510498</td>\n",
       "    </tr>\n",
       "  </tbody>\n",
       "</table>\n",
       "</div>"
      ],
      "text/plain": [
       "  Unnamed: 0     sim_time  dpt_norm\n",
       "0     Cell_0   667.210907  0.985734\n",
       "1     Cell_1   364.835270  0.489502\n",
       "2     Cell_2  1094.584971  0.729879\n",
       "3     Cell_3  1270.628357  0.903365\n",
       "4     Cell_4  1151.161772  0.510498"
      ]
     },
     "execution_count": 109,
     "metadata": {},
     "output_type": "execute_result"
    }
   ],
   "source": [
    "dpt_results = pd.read_csv('../../tasks/bench_marking/merfish_selected/DPT.csv')\n",
    "dpt_results.head()\n"
   ]
  },
  {
   "cell_type": "code",
   "execution_count": 110,
   "id": "12bbe6fe-ae1f-4167-b32f-beef38b5b9cc",
   "metadata": {
    "execution": {
     "iopub.execute_input": "2024-12-08T02:31:19.435894Z",
     "iopub.status.busy": "2024-12-08T02:31:19.435570Z",
     "iopub.status.idle": "2024-12-08T02:31:19.474966Z",
     "shell.execute_reply": "2024-12-08T02:31:19.474655Z",
     "shell.execute_reply.started": "2024-12-08T02:31:19.435878Z"
    },
    "tags": []
   },
   "outputs": [
    {
     "data": {
      "text/html": [
       "<div>\n",
       "<style scoped>\n",
       "    .dataframe tbody tr th:only-of-type {\n",
       "        vertical-align: middle;\n",
       "    }\n",
       "\n",
       "    .dataframe tbody tr th {\n",
       "        vertical-align: top;\n",
       "    }\n",
       "\n",
       "    .dataframe thead th {\n",
       "        text-align: right;\n",
       "    }\n",
       "</style>\n",
       "<table border=\"1\" class=\"dataframe\">\n",
       "  <thead>\n",
       "    <tr style=\"text-align: right;\">\n",
       "      <th></th>\n",
       "      <th>Unnamed: 0</th>\n",
       "      <th>sim_time</th>\n",
       "      <th>Size_Factor</th>\n",
       "      <th>monocle3_norm</th>\n",
       "    </tr>\n",
       "  </thead>\n",
       "  <tbody>\n",
       "    <tr>\n",
       "      <th>0</th>\n",
       "      <td>Cell_0</td>\n",
       "      <td>667.210907</td>\n",
       "      <td>2.020660</td>\n",
       "      <td>0.391050</td>\n",
       "    </tr>\n",
       "    <tr>\n",
       "      <th>1</th>\n",
       "      <td>Cell_1</td>\n",
       "      <td>364.835270</td>\n",
       "      <td>0.597277</td>\n",
       "      <td>0.431157</td>\n",
       "    </tr>\n",
       "    <tr>\n",
       "      <th>2</th>\n",
       "      <td>Cell_2</td>\n",
       "      <td>1094.584971</td>\n",
       "      <td>1.613425</td>\n",
       "      <td>0.679273</td>\n",
       "    </tr>\n",
       "    <tr>\n",
       "      <th>3</th>\n",
       "      <td>Cell_3</td>\n",
       "      <td>1270.628357</td>\n",
       "      <td>1.314786</td>\n",
       "      <td>0.353567</td>\n",
       "    </tr>\n",
       "    <tr>\n",
       "      <th>4</th>\n",
       "      <td>Cell_4</td>\n",
       "      <td>1151.161772</td>\n",
       "      <td>1.958605</td>\n",
       "      <td>0.857806</td>\n",
       "    </tr>\n",
       "  </tbody>\n",
       "</table>\n",
       "</div>"
      ],
      "text/plain": [
       "  Unnamed: 0     sim_time  Size_Factor  monocle3_norm\n",
       "0     Cell_0   667.210907     2.020660       0.391050\n",
       "1     Cell_1   364.835270     0.597277       0.431157\n",
       "2     Cell_2  1094.584971     1.613425       0.679273\n",
       "3     Cell_3  1270.628357     1.314786       0.353567\n",
       "4     Cell_4  1151.161772     1.958605       0.857806"
      ]
     },
     "execution_count": 110,
     "metadata": {},
     "output_type": "execute_result"
    }
   ],
   "source": [
    "monocle_results = pd.read_csv('../../tasks/bench_marking/merfish_selected/monocle.csv')\n",
    "monocle_results.head()\n"
   ]
  },
  {
   "cell_type": "code",
   "execution_count": 111,
   "id": "9313dee7-1ea4-48bf-a6cf-7c1c60177a40",
   "metadata": {
    "execution": {
     "iopub.execute_input": "2024-12-08T02:36:35.359986Z",
     "iopub.status.busy": "2024-12-08T02:36:35.359705Z",
     "iopub.status.idle": "2024-12-08T02:36:35.407125Z",
     "shell.execute_reply": "2024-12-08T02:36:35.406810Z",
     "shell.execute_reply.started": "2024-12-08T02:36:35.359971Z"
    },
    "tags": []
   },
   "outputs": [
    {
     "data": {
      "text/html": [
       "<div>\n",
       "<style scoped>\n",
       "    .dataframe tbody tr th:only-of-type {\n",
       "        vertical-align: middle;\n",
       "    }\n",
       "\n",
       "    .dataframe tbody tr th {\n",
       "        vertical-align: top;\n",
       "    }\n",
       "\n",
       "    .dataframe thead th {\n",
       "        text-align: right;\n",
       "    }\n",
       "</style>\n",
       "<table border=\"1\" class=\"dataframe\">\n",
       "  <thead>\n",
       "    <tr style=\"text-align: right;\">\n",
       "      <th></th>\n",
       "      <th>Unnamed: 0</th>\n",
       "      <th>tscan_norm</th>\n",
       "    </tr>\n",
       "  </thead>\n",
       "  <tbody>\n",
       "    <tr>\n",
       "      <th>0</th>\n",
       "      <td>Cell_0</td>\n",
       "      <td>0.674950</td>\n",
       "    </tr>\n",
       "    <tr>\n",
       "      <th>1</th>\n",
       "      <td>Cell_1</td>\n",
       "      <td>NaN</td>\n",
       "    </tr>\n",
       "    <tr>\n",
       "      <th>2</th>\n",
       "      <td>Cell_2</td>\n",
       "      <td>NaN</td>\n",
       "    </tr>\n",
       "    <tr>\n",
       "      <th>3</th>\n",
       "      <td>Cell_3</td>\n",
       "      <td>0.874988</td>\n",
       "    </tr>\n",
       "    <tr>\n",
       "      <th>4</th>\n",
       "      <td>Cell_4</td>\n",
       "      <td>0.867696</td>\n",
       "    </tr>\n",
       "  </tbody>\n",
       "</table>\n",
       "</div>"
      ],
      "text/plain": [
       "  Unnamed: 0  tscan_norm\n",
       "0     Cell_0    0.674950\n",
       "1     Cell_1         NaN\n",
       "2     Cell_2         NaN\n",
       "3     Cell_3    0.874988\n",
       "4     Cell_4    0.867696"
      ]
     },
     "execution_count": 111,
     "metadata": {},
     "output_type": "execute_result"
    }
   ],
   "source": [
    "tscan_results = pd.read_csv('../../tasks/bench_marking/merfish_selected/tscan.csv')\n",
    "tscan_results.head()\n"
   ]
  },
  {
   "cell_type": "code",
   "execution_count": 119,
   "id": "9e0bc4ca-61db-46c2-a053-4b3e10975906",
   "metadata": {
    "execution": {
     "iopub.execute_input": "2024-12-08T02:48:24.337028Z",
     "iopub.status.busy": "2024-12-08T02:48:24.336704Z",
     "iopub.status.idle": "2024-12-08T02:48:24.340233Z",
     "shell.execute_reply": "2024-12-08T02:48:24.339879Z",
     "shell.execute_reply.started": "2024-12-08T02:48:24.337013Z"
    },
    "tags": []
   },
   "outputs": [],
   "source": [
    "selected_adata.obs['SpaceFlow_res'] = spaceFlow_results.iloc[:,0].values\n",
    "selected_adata.obs['SptialPCA_res'] = spatialPCS_results['x'].values\n",
    "selected_adata.obs['DPT_res'] = dpt_results['dpt_norm'].values\n",
    "selected_adata.obs['Monocle_res'] = monocle_results['monocle3_norm'].values\n",
    "selected_adata.obs['TSCAN_res'] = tscan_results['tscan_norm'].values\n"
   ]
  },
  {
   "cell_type": "code",
   "execution_count": 120,
   "id": "555ff0bf-2caf-4b03-b3ec-2823bd4a6e4c",
   "metadata": {
    "execution": {
     "iopub.execute_input": "2024-12-08T02:48:31.470443Z",
     "iopub.status.busy": "2024-12-08T02:48:31.470021Z",
     "iopub.status.idle": "2024-12-08T02:48:31.479224Z",
     "shell.execute_reply": "2024-12-08T02:48:31.478775Z",
     "shell.execute_reply.started": "2024-12-08T02:48:31.470428Z"
    },
    "tags": []
   },
   "outputs": [
    {
     "data": {
      "text/html": [
       "<div>\n",
       "<style scoped>\n",
       "    .dataframe tbody tr th:only-of-type {\n",
       "        vertical-align: middle;\n",
       "    }\n",
       "\n",
       "    .dataframe tbody tr th {\n",
       "        vertical-align: top;\n",
       "    }\n",
       "\n",
       "    .dataframe thead th {\n",
       "        text-align: right;\n",
       "    }\n",
       "</style>\n",
       "<table border=\"1\" class=\"dataframe\">\n",
       "  <thead>\n",
       "    <tr style=\"text-align: right;\">\n",
       "      <th></th>\n",
       "      <th>sample_id</th>\n",
       "      <th>slice_id</th>\n",
       "      <th>class_label</th>\n",
       "      <th>subclass</th>\n",
       "      <th>label</th>\n",
       "      <th>x</th>\n",
       "      <th>y</th>\n",
       "      <th>cortical_depth</th>\n",
       "      <th>extra_annot</th>\n",
       "      <th>leiden_res_10.00</th>\n",
       "      <th>leiden_res_30.00</th>\n",
       "      <th>Cell_NTScore</th>\n",
       "      <th>SpaceFlow_res</th>\n",
       "      <th>SptialPCA_res</th>\n",
       "      <th>DPT_res</th>\n",
       "      <th>Monocle_res</th>\n",
       "      <th>TSCAN_res</th>\n",
       "    </tr>\n",
       "    <tr>\n",
       "      <th>index</th>\n",
       "      <th></th>\n",
       "      <th></th>\n",
       "      <th></th>\n",
       "      <th></th>\n",
       "      <th></th>\n",
       "      <th></th>\n",
       "      <th></th>\n",
       "      <th></th>\n",
       "      <th></th>\n",
       "      <th></th>\n",
       "      <th></th>\n",
       "      <th></th>\n",
       "      <th></th>\n",
       "      <th></th>\n",
       "      <th></th>\n",
       "      <th></th>\n",
       "      <th></th>\n",
       "    </tr>\n",
       "  </thead>\n",
       "  <tbody>\n",
       "    <tr>\n",
       "      <th>100058071267450629689866196035029399511</th>\n",
       "      <td>mouse2_sample6</td>\n",
       "      <td>mouse2_slice169</td>\n",
       "      <td>Glutamatergic</td>\n",
       "      <td>L5 ET</td>\n",
       "      <td>L5_ET_3</td>\n",
       "      <td>-3145.779407</td>\n",
       "      <td>3884.950901</td>\n",
       "      <td>667.210907</td>\n",
       "      <td>L5 ET</td>\n",
       "      <td>63</td>\n",
       "      <td>48</td>\n",
       "      <td>0.402788</td>\n",
       "      <td>0.31968</td>\n",
       "      <td>10.889199</td>\n",
       "      <td>0.985734</td>\n",
       "      <td>0.391050</td>\n",
       "      <td>0.674950</td>\n",
       "    </tr>\n",
       "    <tr>\n",
       "      <th>100063495197968212990675334030574005996</th>\n",
       "      <td>mouse2_sample6</td>\n",
       "      <td>mouse2_slice169</td>\n",
       "      <td>Glutamatergic</td>\n",
       "      <td>L2/3 IT</td>\n",
       "      <td>L23_IT_4</td>\n",
       "      <td>-2972.356481</td>\n",
       "      <td>2558.893648</td>\n",
       "      <td>364.835270</td>\n",
       "      <td>L2/3 IT</td>\n",
       "      <td>14</td>\n",
       "      <td>171</td>\n",
       "      <td>0.783290</td>\n",
       "      <td>0.89710</td>\n",
       "      <td>NaN</td>\n",
       "      <td>0.489502</td>\n",
       "      <td>0.431157</td>\n",
       "      <td>NaN</td>\n",
       "    </tr>\n",
       "    <tr>\n",
       "      <th>10006810796963211471780483969639718389</th>\n",
       "      <td>mouse2_sample5</td>\n",
       "      <td>mouse2_slice99</td>\n",
       "      <td>Glutamatergic</td>\n",
       "      <td>L4/5 IT</td>\n",
       "      <td>L45_IT_1</td>\n",
       "      <td>-100.569506</td>\n",
       "      <td>2776.927999</td>\n",
       "      <td>1094.584971</td>\n",
       "      <td>L4/5 IT</td>\n",
       "      <td>42</td>\n",
       "      <td>44</td>\n",
       "      <td>0.646011</td>\n",
       "      <td>0.79635</td>\n",
       "      <td>7.772159</td>\n",
       "      <td>0.729879</td>\n",
       "      <td>0.679273</td>\n",
       "      <td>NaN</td>\n",
       "    </tr>\n",
       "    <tr>\n",
       "      <th>10009720355034894926238975155842221990</th>\n",
       "      <td>mouse2_sample6</td>\n",
       "      <td>mouse2_slice169</td>\n",
       "      <td>Glutamatergic</td>\n",
       "      <td>L6 CT</td>\n",
       "      <td>L6_CT_2</td>\n",
       "      <td>-4048.311904</td>\n",
       "      <td>2090.110198</td>\n",
       "      <td>1270.628357</td>\n",
       "      <td>L6 CT</td>\n",
       "      <td>17</td>\n",
       "      <td>21</td>\n",
       "      <td>0.201171</td>\n",
       "      <td>0.12418</td>\n",
       "      <td>13.464537</td>\n",
       "      <td>0.903365</td>\n",
       "      <td>0.353567</td>\n",
       "      <td>0.874988</td>\n",
       "    </tr>\n",
       "    <tr>\n",
       "      <th>100135247598137293514782974101948213300</th>\n",
       "      <td>mouse2_sample6</td>\n",
       "      <td>mouse2_slice169</td>\n",
       "      <td>Glutamatergic</td>\n",
       "      <td>L6 IT</td>\n",
       "      <td>L6_IT_3</td>\n",
       "      <td>-3849.190754</td>\n",
       "      <td>2475.294401</td>\n",
       "      <td>1151.161772</td>\n",
       "      <td>L6 IT</td>\n",
       "      <td>25</td>\n",
       "      <td>260</td>\n",
       "      <td>0.221022</td>\n",
       "      <td>0.09127</td>\n",
       "      <td>13.682230</td>\n",
       "      <td>0.510498</td>\n",
       "      <td>0.857806</td>\n",
       "      <td>0.867696</td>\n",
       "    </tr>\n",
       "  </tbody>\n",
       "</table>\n",
       "</div>"
      ],
      "text/plain": [
       "                                              sample_id         slice_id  \\\n",
       "index                                                                      \n",
       "100058071267450629689866196035029399511  mouse2_sample6  mouse2_slice169   \n",
       "100063495197968212990675334030574005996  mouse2_sample6  mouse2_slice169   \n",
       "10006810796963211471780483969639718389   mouse2_sample5   mouse2_slice99   \n",
       "10009720355034894926238975155842221990   mouse2_sample6  mouse2_slice169   \n",
       "100135247598137293514782974101948213300  mouse2_sample6  mouse2_slice169   \n",
       "\n",
       "                                           class_label subclass     label  \\\n",
       "index                                                                       \n",
       "100058071267450629689866196035029399511  Glutamatergic    L5 ET   L5_ET_3   \n",
       "100063495197968212990675334030574005996  Glutamatergic  L2/3 IT  L23_IT_4   \n",
       "10006810796963211471780483969639718389   Glutamatergic  L4/5 IT  L45_IT_1   \n",
       "10009720355034894926238975155842221990   Glutamatergic    L6 CT   L6_CT_2   \n",
       "100135247598137293514782974101948213300  Glutamatergic    L6 IT   L6_IT_3   \n",
       "\n",
       "                                                   x            y  \\\n",
       "index                                                               \n",
       "100058071267450629689866196035029399511 -3145.779407  3884.950901   \n",
       "100063495197968212990675334030574005996 -2972.356481  2558.893648   \n",
       "10006810796963211471780483969639718389   -100.569506  2776.927999   \n",
       "10009720355034894926238975155842221990  -4048.311904  2090.110198   \n",
       "100135247598137293514782974101948213300 -3849.190754  2475.294401   \n",
       "\n",
       "                                         cortical_depth extra_annot  \\\n",
       "index                                                                 \n",
       "100058071267450629689866196035029399511      667.210907       L5 ET   \n",
       "100063495197968212990675334030574005996      364.835270     L2/3 IT   \n",
       "10006810796963211471780483969639718389      1094.584971     L4/5 IT   \n",
       "10009720355034894926238975155842221990      1270.628357       L6 CT   \n",
       "100135247598137293514782974101948213300     1151.161772       L6 IT   \n",
       "\n",
       "                                         leiden_res_10.00  leiden_res_30.00  \\\n",
       "index                                                                         \n",
       "100058071267450629689866196035029399511                63                48   \n",
       "100063495197968212990675334030574005996                14               171   \n",
       "10006810796963211471780483969639718389                 42                44   \n",
       "10009720355034894926238975155842221990                 17                21   \n",
       "100135247598137293514782974101948213300                25               260   \n",
       "\n",
       "                                         Cell_NTScore  SpaceFlow_res  \\\n",
       "index                                                                  \n",
       "100058071267450629689866196035029399511      0.402788        0.31968   \n",
       "100063495197968212990675334030574005996      0.783290        0.89710   \n",
       "10006810796963211471780483969639718389       0.646011        0.79635   \n",
       "10009720355034894926238975155842221990       0.201171        0.12418   \n",
       "100135247598137293514782974101948213300      0.221022        0.09127   \n",
       "\n",
       "                                         SptialPCA_res   DPT_res  Monocle_res  \\\n",
       "index                                                                           \n",
       "100058071267450629689866196035029399511      10.889199  0.985734     0.391050   \n",
       "100063495197968212990675334030574005996            NaN  0.489502     0.431157   \n",
       "10006810796963211471780483969639718389        7.772159  0.729879     0.679273   \n",
       "10009720355034894926238975155842221990       13.464537  0.903365     0.353567   \n",
       "100135247598137293514782974101948213300      13.682230  0.510498     0.857806   \n",
       "\n",
       "                                         TSCAN_res  \n",
       "index                                               \n",
       "100058071267450629689866196035029399511   0.674950  \n",
       "100063495197968212990675334030574005996        NaN  \n",
       "10006810796963211471780483969639718389         NaN  \n",
       "10009720355034894926238975155842221990    0.874988  \n",
       "100135247598137293514782974101948213300   0.867696  "
      ]
     },
     "execution_count": 120,
     "metadata": {},
     "output_type": "execute_result"
    }
   ],
   "source": [
    "selected_adata.obs.head()"
   ]
  },
  {
   "cell_type": "code",
   "execution_count": 123,
   "id": "7c795ad9-9d29-4f61-b5a7-9bd5f635b401",
   "metadata": {
    "execution": {
     "iopub.execute_input": "2024-12-08T02:54:08.158837Z",
     "iopub.status.busy": "2024-12-08T02:54:08.158508Z",
     "iopub.status.idle": "2024-12-08T02:54:08.228638Z",
     "shell.execute_reply": "2024-12-08T02:54:08.228331Z",
     "shell.execute_reply.started": "2024-12-08T02:54:08.158821Z"
    },
    "tags": []
   },
   "outputs": [
    {
     "data": {
      "text/html": [
       "<div>\n",
       "<style scoped>\n",
       "    .dataframe tbody tr th:only-of-type {\n",
       "        vertical-align: middle;\n",
       "    }\n",
       "\n",
       "    .dataframe tbody tr th {\n",
       "        vertical-align: top;\n",
       "    }\n",
       "\n",
       "    .dataframe thead th {\n",
       "        text-align: right;\n",
       "    }\n",
       "</style>\n",
       "<table border=\"1\" class=\"dataframe\">\n",
       "  <thead>\n",
       "    <tr style=\"text-align: right;\">\n",
       "      <th></th>\n",
       "      <th>sample</th>\n",
       "      <th>method</th>\n",
       "      <th>corr</th>\n",
       "    </tr>\n",
       "  </thead>\n",
       "  <tbody>\n",
       "    <tr>\n",
       "      <th>0</th>\n",
       "      <td>mouse2_slice169</td>\n",
       "      <td>ONTraC</td>\n",
       "      <td>0.973321</td>\n",
       "    </tr>\n",
       "    <tr>\n",
       "      <th>1</th>\n",
       "      <td>mouse2_slice169</td>\n",
       "      <td>SpaceFlow</td>\n",
       "      <td>0.678586</td>\n",
       "    </tr>\n",
       "    <tr>\n",
       "      <th>2</th>\n",
       "      <td>mouse2_slice169</td>\n",
       "      <td>SpatialPCA</td>\n",
       "      <td>0.936065</td>\n",
       "    </tr>\n",
       "    <tr>\n",
       "      <th>3</th>\n",
       "      <td>mouse2_slice169</td>\n",
       "      <td>DPT</td>\n",
       "      <td>0.139788</td>\n",
       "    </tr>\n",
       "    <tr>\n",
       "      <th>4</th>\n",
       "      <td>mouse2_slice169</td>\n",
       "      <td>Monocle</td>\n",
       "      <td>0.119603</td>\n",
       "    </tr>\n",
       "  </tbody>\n",
       "</table>\n",
       "</div>"
      ],
      "text/plain": [
       "            sample      method      corr\n",
       "0  mouse2_slice169      ONTraC  0.973321\n",
       "1  mouse2_slice169   SpaceFlow  0.678586\n",
       "2  mouse2_slice169  SpatialPCA  0.936065\n",
       "3  mouse2_slice169         DPT  0.139788\n",
       "4  mouse2_slice169     Monocle  0.119603"
      ]
     },
     "execution_count": 123,
     "metadata": {},
     "output_type": "execute_result"
    }
   ],
   "source": [
    "def gen_res():\n",
    "    for sample in selected_adata.obs['slice_id'].unique():\n",
    "        sample_df = selected_adata.obs[selected_adata.obs['slice_id'] == sample]\n",
    "        yield sample, 'ONTraC', abs(spearmanr(sample_df['cortical_depth'], sample_df['Cell_NTScore'], nan_policy='omit')[0])\n",
    "        yield sample, 'SpaceFlow', abs(spearmanr(sample_df['cortical_depth'], sample_df['SpaceFlow_res'], nan_policy='omit')[0])\n",
    "        yield sample, 'SpatialPCA', abs(spearmanr(sample_df['cortical_depth'], sample_df['SptialPCA_res'], nan_policy='omit')[0])\n",
    "        yield sample, 'DPT', abs(spearmanr(sample_df['cortical_depth'], sample_df['DPT_res'], nan_policy='omit')[0])\n",
    "        yield sample, 'Monocle', abs(spearmanr(sample_df['cortical_depth'], sample_df['Monocle_res'], nan_policy='omit')[0])\n",
    "        yield sample, 'TSCAN', abs(spearmanr(sample_df['cortical_depth'], sample_df['TSCAN_res'], nan_policy='omit')[0])\n",
    "            \n",
    "\n",
    "            \n",
    "results_df = pd.DataFrame(gen_res(), columns = ['sample', 'method', 'corr'])\n",
    "results_df.head()"
   ]
  },
  {
   "cell_type": "code",
   "execution_count": 132,
   "id": "e053bc24-a54f-48eb-9d47-9ef4b09cc69a",
   "metadata": {
    "execution": {
     "iopub.execute_input": "2024-12-08T02:58:12.639403Z",
     "iopub.status.busy": "2024-12-08T02:58:12.638962Z",
     "iopub.status.idle": "2024-12-08T02:58:12.859793Z",
     "shell.execute_reply": "2024-12-08T02:58:12.859416Z",
     "shell.execute_reply.started": "2024-12-08T02:58:12.639387Z"
    },
    "tags": []
   },
   "outputs": [
    {
     "data": {
      "image/png": "[encoded data removed]",
      "text/plain": [
       "<Figure size 500x300 with 1 Axes>"
      ]
     },
     "metadata": {},
     "output_type": "display_data"
    }
   ],
   "source": [
    "with sns.axes_style('white', rc={\n",
    "        'xtick.bottom': True,\n",
    "        'ytick.left': True\n",
    "}), sns.plotting_context('paper',\n",
    "                         rc={\n",
    "                             'axes.titlesize': 8,\n",
    "                             'axes.labelsize': 8,\n",
    "                             'xtick.labelsize': 6,\n",
    "                             'ytick.labelsize': 6,\n",
    "                             'legend.fontsize': 6\n",
    "                         }):\n",
    "    fig, ax = plt.subplots(figsize=(5,3))\n",
    "    sns.barplot(\n",
    "        results_df,\n",
    "        x = 'sample',\n",
    "        y = 'corr',\n",
    "        hue = 'method',\n",
    "        ax = ax\n",
    "    )\n",
    "    ax.legend(loc=\"upper left\", bbox_to_anchor=(1,1))\n",
    "    ax.set_ylabel('Spearman correlation')\n",
    "    fig.tight_layout()\n",
    "    fig.savefig('merfish_selected_benchmark.pdf', transparent=True)"
   ]
  },
  {
   "cell_type": "code",
   "execution_count": null,
   "id": "09b14199-30d6-4380-8757-85f4536152eb",
   "metadata": {},
   "outputs": [],
   "source": []
  }
 ],
 "metadata": {
  "kernelspec": {
   "display_name": "Python 3.11 (scverse)",
   "language": "python",
   "name": "scverse"
  },
  "language_info": {
   "codemirror_mode": {
    "name": "ipython",
    "version": 3
   },
   "file_extension": ".py",
   "mimetype": "text/x-python",
   "name": "python",
   "nbconvert_exporter": "python",
   "pygments_lexer": "ipython3",
   "version": "3.11.5"
  },
  "toc-autonumbering": true
 },
 "nbformat": 4,
 "nbformat_minor": 5
}
