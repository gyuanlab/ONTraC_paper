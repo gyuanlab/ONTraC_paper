{
 "cells": [
  {
   "cell_type": "markdown",
   "id": "bb8490be-3168-48d9-ad9e-8d350bb7d9ec",
   "metadata": {},
   "source": [
    "# Notes"
   ]
  },
  {
   "cell_type": "markdown",
   "id": "b5b7fddb-b444-4c55-be8d-ee3f63dad258",
   "metadata": {},
   "source": [
    "# Load Modules"
   ]
  },
  {
   "cell_type": "code",
   "execution_count": 3,
   "id": "06827952-a5d4-4a79-b027-8fc56b0f7cfd",
   "metadata": {
    "execution": {
     "iopub.execute_input": "2024-11-27T03:16:39.036073Z",
     "iopub.status.busy": "2024-11-27T03:16:39.035648Z",
     "iopub.status.idle": "2024-11-27T03:16:39.068343Z",
     "shell.execute_reply": "2024-11-27T03:16:39.068000Z",
     "shell.execute_reply.started": "2024-11-27T03:16:39.036058Z"
    },
    "tags": []
   },
   "outputs": [],
   "source": [
    "import os\n",
    "from optparse import Values"
   ]
  },
  {
   "cell_type": "code",
   "execution_count": 4,
   "id": "c7e13cea-5118-4d85-8f12-65bc38100334",
   "metadata": {
    "execution": {
     "iopub.execute_input": "2024-11-27T03:16:39.219940Z",
     "iopub.status.busy": "2024-11-27T03:16:39.219604Z",
     "iopub.status.idle": "2024-11-27T03:16:55.043530Z",
     "shell.execute_reply": "2024-11-27T03:16:55.043146Z",
     "shell.execute_reply.started": "2024-11-27T03:16:39.219925Z"
    },
    "tags": []
   },
   "outputs": [],
   "source": [
    "import numpy as np\n",
    "import pandas as pd\n",
    "\n",
    "from scipy.stats import spearmanr, pearsonr\n",
    "from scipy.spatial import Delaunay\n",
    "\n",
    "import matplotlib as mpl\n",
    "mpl.rcParams['pdf.fonttype'] = 42\n",
    "mpl.rcParams['ps.fonttype'] = 42\n",
    "mpl.rcParams['font.sans-serif'] = 'Arial'\n",
    "import matplotlib.pyplot as plt\n",
    "import seaborn as sns\n",
    "from pprint import pprint\n",
    "%matplotlib inline"
   ]
  },
  {
   "cell_type": "markdown",
   "id": "658bad96-0197-4ea7-8af9-2afe7fedce20",
   "metadata": {},
   "source": [
    "# Load data"
   ]
  },
  {
   "cell_type": "code",
   "execution_count": null,
   "id": "0bf81815-f299-4c5f-8e20-e5a3df04d077",
   "metadata": {
    "execution": {
     "iopub.execute_input": "2024-11-27T02:46:41.809400Z",
     "iopub.status.busy": "2024-11-27T02:46:41.808996Z",
     "iopub.status.idle": "2024-11-27T02:46:41.934971Z",
     "shell.execute_reply": "2024-11-27T02:46:41.934664Z",
     "shell.execute_reply.started": "2024-11-27T02:46:41.809384Z"
    },
    "tags": []
   },
   "outputs": [],
   "source": [
    "meta_df = pd.read_csv('simulation_linear_ontrac_input.csv', index_col=0)"
   ]
  },
  {
   "cell_type": "code",
   "execution_count": null,
   "id": "6b28641a",
   "metadata": {},
   "outputs": [],
   "source": [
    "meta_df[['Sample','Cell_Type','x','y']].to_csv('simulated_input.csv', index=True, index_label='Cell_ID')"
   ]
  },
  {
   "cell_type": "markdown",
   "id": "d9096ff3-c0ee-4d68-aa7b-498dcba85f63",
   "metadata": {},
   "source": [
    "# Gen run lsf\n",
    "\n",
    "- Our HPC using Load Sharing Facility (LSF) Job Scheduler, please modify the following code to fit your own computer.\n",
    "- Please also modify the path for yourself"
   ]
  },
  {
   "cell_type": "code",
   "execution_count": 5,
   "id": "540de9b0-cced-48bd-87d6-34ab8a75d18c",
   "metadata": {
    "execution": {
     "iopub.execute_input": "2024-11-27T03:16:55.044596Z",
     "iopub.status.busy": "2024-11-27T03:16:55.044243Z",
     "iopub.status.idle": "2024-11-27T03:16:55.046643Z",
     "shell.execute_reply": "2024-11-27T03:16:55.046346Z",
     "shell.execute_reply.started": "2024-11-27T03:16:55.044580Z"
    },
    "tags": []
   },
   "outputs": [],
   "source": [
    "run_lsf_dir = '../../run_lsf'\n",
    "\n",
    "os.makedirs(run_lsf_dir, exist_ok=True)"
   ]
  },
  {
   "cell_type": "code",
   "execution_count": null,
   "id": "67a47010-0823-415e-93cf-86b703064b93",
   "metadata": {
    "execution": {
     "iopub.execute_input": "2024-11-22T02:45:06.617183Z",
     "iopub.status.busy": "2024-11-22T02:45:06.616944Z",
     "iopub.status.idle": "2024-11-22T02:45:06.619061Z",
     "shell.execute_reply": "2024-11-22T02:45:06.618776Z",
     "shell.execute_reply.started": "2024-11-22T02:45:06.617169Z"
    },
    "tags": []
   },
   "outputs": [],
   "source": [
    "templete = '''#!/bin/bash\n",
    "#BSUB -J {name}\n",
    "#BSUB -n 12\n",
    "#BSUB -P acc_YuanLab\n",
    "#BSUB -q gpuexpress\n",
    "#BSUB -W 2:00\n",
    "#BSUB -R \"rusage[mem=10000] span[hosts=1]\"\n",
    "#BSUB -gpu num=1\n",
    "#BSUB -R h100nvl\n",
    "\n",
    "#BSUB -oo log/job_{name}.out\n",
    "#BSUB -eo log/job_{name}.err\n",
    "\n",
    "JOBID=$1\n",
    "\n",
    "source /hpc/users/wangw32/.bash_profile\n",
    "\n",
    "mkdir -p output log\n",
    "\n",
    "conda activate ONTraC\n",
    "ONTraC --meta-input {meta_input} --NN-dir {NN_dir} --GNN-dir {GNN_dir} --NT-dir {NT_dir} --n-cpu 12 --n-neighbors {n_neighbors} --device cuda --epochs 1000 --batch-size 10 -s 42 --patience 100 --min-delta 0.001 --min-epochs 50 --lr 0.03 --hidden-feats {hidden_feats} --n-gcn-layers {n_gcn_layers} -k {k} --modularity-loss-weight 0.3 --purity-loss-weight 300 --regularization-loss-weight 0.1 --beta 0.03 > log/{name}.log\n",
    "\n",
    "'''"
   ]
  },
  {
   "cell_type": "code",
   "execution_count": 6,
   "id": "b91c86e7-09a3-4cc0-a51c-849ae7783992",
   "metadata": {
    "execution": {
     "iopub.execute_input": "2024-11-22T02:45:06.655198Z",
     "iopub.status.busy": "2024-11-22T02:45:06.654960Z",
     "iopub.status.idle": "2024-11-22T02:45:06.657014Z",
     "shell.execute_reply": "2024-11-22T02:45:06.656729Z",
     "shell.execute_reply.started": "2024-11-22T02:45:06.655184Z"
    },
    "tags": []
   },
   "outputs": [],
   "source": [
    "analysis_templete = '''#!/bin/bash\n",
    "#BSUB -J {name}_analysis\n",
    "#BSUB -n 1\n",
    "#BSUB -P acc_YuanLab\n",
    "#BSUB -q express\n",
    "#BSUB -W 2:00\n",
    "#BSUB -R \"rusage[mem=10000] span[hosts=1]\"\n",
    "\n",
    "#BSUB -oo log/job_{name}_analysis.out\n",
    "#BSUB -eo log/job_{name}_analysis.err\n",
    "\n",
    "JOBID=$1\n",
    "\n",
    "source /hpc/users/wangw32/.bash_profile\n",
    "\n",
    "mkdir -p analysis_output\n",
    "\n",
    "conda activate ONTraC\n",
    "\n",
    "ONTraC_analysis --NN-dir {NN_dir} --GNN-dir {GNN_dir} --NT-dir {NT_dir} -o analysis_output/{name} -l log/{name}.log -s --suppress-cell-type-composition\n",
    "'''"
   ]
  },
  {
   "cell_type": "code",
   "execution_count": 21,
   "id": "f7d02cad-9d06-410d-92d3-1b25850e3892",
   "metadata": {
    "execution": {
     "iopub.execute_input": "2024-11-25T06:03:52.149668Z",
     "iopub.status.busy": "2024-11-25T06:03:52.149375Z",
     "iopub.status.idle": "2024-11-25T06:03:52.151891Z",
     "shell.execute_reply": "2024-11-25T06:03:52.151581Z",
     "shell.execute_reply.started": "2024-11-25T06:03:52.149653Z"
    },
    "tags": []
   },
   "outputs": [],
   "source": [
    "# ------------------------------------\n",
    "# Hyper Parameters\n",
    "# ------------------------------------\n",
    "test_params = {  # first one is the default\n",
    "    'n_neighbors': [50, 10, 20, 100],\n",
    "    'hidden_feats': [4, 2, 8, 16],\n",
    "    'k': [6, 4, 8, 10],\n",
    "    'n_gcn_layers': [2, 1, 3, 4, 5, 6]\n",
    "}"
   ]
  },
  {
   "cell_type": "code",
   "execution_count": null,
   "id": "0fd24002-cd1b-4427-8027-83d227d3af70",
   "metadata": {
    "execution": {
     "iopub.execute_input": "2024-11-22T02:45:21.292912Z",
     "iopub.status.busy": "2024-11-22T02:45:21.292658Z",
     "iopub.status.idle": "2024-11-22T02:45:21.309866Z",
     "shell.execute_reply": "2024-11-22T02:45:21.309542Z",
     "shell.execute_reply.started": "2024-11-22T02:45:21.292898Z"
    },
    "tags": []
   },
   "outputs": [],
   "source": [
    "from typing import Dict\n",
    "\n",
    "\n",
    "def gen_run_lsf(name: str,\n",
    "                meta_input: str,\n",
    "                params: Dict,\n",
    "                template: str,\n",
    "                output_dir: str):\n",
    "    written_params = {}\n",
    "\n",
    "    written_params.update({key: params[key][0] for key in params})  # load default params\n",
    "    written_params[\"name\"] = f'{name}_base'\n",
    "    written_params[\"meta_input\"] = meta_input\n",
    "    written_params[\"NN_dir\"] = f'output/{written_params[\"name\"]}_NN'\n",
    "    written_params[\"GNN_dir\"] = f'output/{written_params[\"name\"]}_GNN'\n",
    "    written_params[\"NT_dir\"] = f'output/{written_params[\"name\"]}_NT'\n",
    "    with open(f'{output_dir}/{written_params[\"name\"]}_run_lsf.sh', 'w') as f:\n",
    "        f.write(template.format(**written_params))\n",
    "    \n",
    "    for key, value in params.items():\n",
    "        for value_ in value[1:]:\n",
    "            written_params[key] = value_\n",
    "            written_params[\"name\"] = f'{name}_{key}_{value_}'\n",
    "            written_params[\"meta_input\"] = meta_input\n",
    "            written_params[\"NN_dir\"] = f'output/{written_params[\"name\"]}_NN'\n",
    "            written_params[\"GNN_dir\"] = f'output/{written_params[\"name\"]}_GNN'\n",
    "            written_params[\"NT_dir\"] = f'output/{written_params[\"name\"]}_NT'\n",
    "            with open(f'{output_dir}/{written_params[\"name\"]}_run_lsf.sh', 'w') as f:\n",
    "                f.write(template.format(**written_params))\n",
    "        written_params[key] = params[key][0]\n",
    "\n",
    "\n",
    "gen_run_lsf(name='simulated_linear',\n",
    "            meta_input='raw_data/simulated_linear/simulated_input.csv',\n",
    "            params=test_params,\n",
    "            template=templete,\n",
    "            output_dir=run_lsf_dir)"
   ]
  },
  {
   "cell_type": "code",
   "execution_count": null,
   "id": "3fe06195-48db-4c00-9319-2d63ff3c6f90",
   "metadata": {
    "execution": {
     "iopub.execute_input": "2024-11-22T02:45:23.498334Z",
     "iopub.status.busy": "2024-11-22T02:45:23.498041Z",
     "iopub.status.idle": "2024-11-22T02:45:23.515304Z",
     "shell.execute_reply": "2024-11-22T02:45:23.515000Z",
     "shell.execute_reply.started": "2024-11-22T02:45:23.498319Z"
    },
    "tags": []
   },
   "outputs": [],
   "source": [
    "from typing import Dict\n",
    "\n",
    "\n",
    "def gen_analysis_lsf(name: str,\n",
    "                meta_input: str,\n",
    "                params: Dict,\n",
    "                template: str,\n",
    "                output_dir: str):\n",
    "    written_params = {}\n",
    "\n",
    "    written_params.update({key: params[key][0] for key in params})  # load default params\n",
    "    written_params[\"name\"] = f'{name}_base'\n",
    "    written_params[\"meta_input\"] = meta_input\n",
    "    written_params[\"NN_dir\"] = f'output/{written_params[\"name\"]}_NN'\n",
    "    written_params[\"GNN_dir\"] = f'output/{written_params[\"name\"]}_GNN'\n",
    "    written_params[\"NT_dir\"] = f'output/{written_params[\"name\"]}_NT'\n",
    "    with open(f'{output_dir}/{written_params[\"name\"]}_analysis_lsf.sh', 'w') as f:\n",
    "        f.write(template.format(**written_params))\n",
    "    \n",
    "    for key, value in params.items():\n",
    "        for value_ in value[1:]:\n",
    "            written_params[key] = value_\n",
    "            written_params[\"name\"] = f'{name}_{key}_{value_}'\n",
    "            written_params[\"meta_input\"] = meta_input\n",
    "            written_params[\"NN_dir\"] = f'output/{written_params[\"name\"]}_NN'\n",
    "            written_params[\"GNN_dir\"] = f'output/{written_params[\"name\"]}_GNN'\n",
    "            written_params[\"NT_dir\"] = f'output/{written_params[\"name\"]}_NT'\n",
    "            with open(f'{output_dir}/{written_params[\"name\"]}_analysis_lsf.sh', 'w') as f:\n",
    "                f.write(template.format(**written_params))\n",
    "        written_params[key] = params[key][0]  # recover to the default\n",
    "\n",
    "\n",
    "gen_analysis_lsf(name='simulated_linear',\n",
    "            meta_input='raw_data/simulated_linear/simulated_input.csv',\n",
    "            params=test_params,\n",
    "            template=analysis_templete,\n",
    "            output_dir=run_lsf_dir)"
   ]
  },
  {
   "cell_type": "markdown",
   "id": "23b92e99-d4cc-494b-9ecb-9f9430a51b38",
   "metadata": {},
   "source": [
    "# Metric"
   ]
  },
  {
   "cell_type": "code",
   "execution_count": 22,
   "id": "8acb5712-6f3d-4e26-aff2-d186155e6370",
   "metadata": {
    "execution": {
     "iopub.execute_input": "2024-11-25T06:04:36.940361Z",
     "iopub.status.busy": "2024-11-25T06:04:36.939955Z",
     "iopub.status.idle": "2024-11-25T06:04:36.968916Z",
     "shell.execute_reply": "2024-11-25T06:04:36.968588Z",
     "shell.execute_reply.started": "2024-11-25T06:04:36.940345Z"
    },
    "tags": []
   },
   "outputs": [
    {
     "data": {
      "text/html": [
       "<div>\n",
       "<style scoped>\n",
       "    .dataframe tbody tr th:only-of-type {\n",
       "        vertical-align: middle;\n",
       "    }\n",
       "\n",
       "    .dataframe tbody tr th {\n",
       "        vertical-align: top;\n",
       "    }\n",
       "\n",
       "    .dataframe thead th {\n",
       "        text-align: right;\n",
       "    }\n",
       "</style>\n",
       "<table border=\"1\" class=\"dataframe\">\n",
       "  <thead>\n",
       "    <tr style=\"text-align: right;\">\n",
       "      <th></th>\n",
       "      <th>Sample</th>\n",
       "      <th>UMAP1</th>\n",
       "      <th>UMAP2</th>\n",
       "      <th>time</th>\n",
       "      <th>lineage</th>\n",
       "      <th>Cell_Type</th>\n",
       "      <th>r</th>\n",
       "      <th>theta</th>\n",
       "      <th>x</th>\n",
       "      <th>y</th>\n",
       "    </tr>\n",
       "    <tr>\n",
       "      <th>Cell_ID</th>\n",
       "      <th></th>\n",
       "      <th></th>\n",
       "      <th></th>\n",
       "      <th></th>\n",
       "      <th></th>\n",
       "      <th></th>\n",
       "      <th></th>\n",
       "      <th></th>\n",
       "      <th></th>\n",
       "      <th></th>\n",
       "    </tr>\n",
       "  </thead>\n",
       "  <tbody>\n",
       "    <tr>\n",
       "      <th>cell562</th>\n",
       "      <td>Simulation</td>\n",
       "      <td>3.141247</td>\n",
       "      <td>6.648345</td>\n",
       "      <td>0.325221</td>\n",
       "      <td>1</td>\n",
       "      <td>A</td>\n",
       "      <td>17.108442</td>\n",
       "      <td>92.387241</td>\n",
       "      <td>-0.712621</td>\n",
       "      <td>17.093594</td>\n",
       "    </tr>\n",
       "    <tr>\n",
       "      <th>cell779</th>\n",
       "      <td>Simulation</td>\n",
       "      <td>3.083348</td>\n",
       "      <td>6.590264</td>\n",
       "      <td>0.457619</td>\n",
       "      <td>1</td>\n",
       "      <td>A</td>\n",
       "      <td>20.294256</td>\n",
       "      <td>323.012103</td>\n",
       "      <td>16.210293</td>\n",
       "      <td>-12.209964</td>\n",
       "    </tr>\n",
       "    <tr>\n",
       "      <th>cell637</th>\n",
       "      <td>Simulation</td>\n",
       "      <td>3.039063</td>\n",
       "      <td>6.706306</td>\n",
       "      <td>0.459809</td>\n",
       "      <td>1</td>\n",
       "      <td>A</td>\n",
       "      <td>20.342765</td>\n",
       "      <td>184.818052</td>\n",
       "      <td>-20.270883</td>\n",
       "      <td>-1.708626</td>\n",
       "    </tr>\n",
       "    <tr>\n",
       "      <th>cell168</th>\n",
       "      <td>Simulation</td>\n",
       "      <td>2.943072</td>\n",
       "      <td>6.653493</td>\n",
       "      <td>0.491919</td>\n",
       "      <td>1</td>\n",
       "      <td>A</td>\n",
       "      <td>21.041083</td>\n",
       "      <td>250.849126</td>\n",
       "      <td>-6.902670</td>\n",
       "      <td>-19.876627</td>\n",
       "    </tr>\n",
       "    <tr>\n",
       "      <th>cell393</th>\n",
       "      <td>Simulation</td>\n",
       "      <td>3.054525</td>\n",
       "      <td>6.533715</td>\n",
       "      <td>0.491919</td>\n",
       "      <td>1</td>\n",
       "      <td>A</td>\n",
       "      <td>21.041083</td>\n",
       "      <td>162.404762</td>\n",
       "      <td>-20.056692</td>\n",
       "      <td>6.360523</td>\n",
       "    </tr>\n",
       "  </tbody>\n",
       "</table>\n",
       "</div>"
      ],
      "text/plain": [
       "             Sample     UMAP1     UMAP2      time  lineage Cell_Type  \\\n",
       "Cell_ID                                                                \n",
       "cell562  Simulation  3.141247  6.648345  0.325221        1         A   \n",
       "cell779  Simulation  3.083348  6.590264  0.457619        1         A   \n",
       "cell637  Simulation  3.039063  6.706306  0.459809        1         A   \n",
       "cell168  Simulation  2.943072  6.653493  0.491919        1         A   \n",
       "cell393  Simulation  3.054525  6.533715  0.491919        1         A   \n",
       "\n",
       "                 r       theta          x          y  \n",
       "Cell_ID                                               \n",
       "cell562  17.108442   92.387241  -0.712621  17.093594  \n",
       "cell779  20.294256  323.012103  16.210293 -12.209964  \n",
       "cell637  20.342765  184.818052 -20.270883  -1.708626  \n",
       "cell168  21.041083  250.849126  -6.902670 -19.876627  \n",
       "cell393  21.041083  162.404762 -20.056692   6.360523  "
      ]
     },
     "execution_count": 22,
     "metadata": {},
     "output_type": "execute_result"
    }
   ],
   "source": [
    "input_df = pd.read_csv('simulated_input.csv', index_col=0)\n",
    "input_df.head()"
   ]
  },
  {
   "cell_type": "code",
   "execution_count": null,
   "id": "ff9bcbac-59b6-4a57-8f49-037076a83c3a",
   "metadata": {
    "execution": {
     "iopub.execute_input": "2024-11-25T06:25:56.760314Z",
     "iopub.status.busy": "2024-11-25T06:25:56.759913Z",
     "iopub.status.idle": "2024-11-25T06:25:57.043122Z",
     "shell.execute_reply": "2024-11-25T06:25:57.042816Z",
     "shell.execute_reply.started": "2024-11-25T06:25:56.760296Z"
    },
    "tags": []
   },
   "outputs": [],
   "source": [
    "def get_results_df():\n",
    "    written_params = {}\n",
    "    written_params.update({key: values[0] for key, values in test_params.items()})\n",
    "    run_name = 'simulated_linear_base'\n",
    "    NTScore_df = pd.read_csv(f'../../output/{run_name}_NT/NTScore.csv.gz', index_col=0)\n",
    "    NTScore_df = NTScore_df.join(input_df['r'])\n",
    "    corr = abs(spearmanr(NTScore_df['r'], NTScore_df['Cell_NTScore'])[0])\n",
    "    yield run_name, 'ONTraC', 'base', written_params['n_neighbors'], written_params['hidden_feats'], written_params['k'], written_params['n_gcn_layers'], corr\n",
    "\n",
    "    for key, value in test_params.items():\n",
    "        for value_ in value[1:]:\n",
    "            written_params[key] = value_\n",
    "            run_name = f'simulated_data_{key}_{value_}'\n",
    "            NTScore_df = pd.read_csv(f'../../output/{run_name}_NT/NTScore.csv.gz', index_col=0)\n",
    "            NTScore_df = NTScore_df.join(input_df['r'])\n",
    "            corr = abs(spearmanr(NTScore_df['r'], NTScore_df['Cell_NTScore'])[0])\n",
    "            yield run_name, 'ONTraC', key, written_params['n_neighbors'], written_params['hidden_feats'], written_params['k'], written_params['n_gcn_layers'], corr\n",
    "        written_params[key] = test_params[key][0]  # recover to the default\n",
    "\n",
    "\n",
    "\n",
    "\n",
    "results_df = pd.DataFrame(get_results_df(),\n",
    "                          columns = ['run_name', 'Method', 'Params', 'n_neighbors', 'hidden_feats', 'k', 'n_gcn_layers', 'correlation'])\n",
    "results_df.head()"
   ]
  },
  {
   "cell_type": "code",
   "execution_count": 37,
   "id": "df52fc64-4815-4e81-a973-553a3565a28a",
   "metadata": {
    "execution": {
     "iopub.execute_input": "2024-11-25T06:26:01.065435Z",
     "iopub.status.busy": "2024-11-25T06:26:01.065156Z",
     "iopub.status.idle": "2024-11-25T06:26:01.068621Z",
     "shell.execute_reply": "2024-11-25T06:26:01.068327Z",
     "shell.execute_reply.started": "2024-11-25T06:26:01.065420Z"
    },
    "tags": []
   },
   "outputs": [],
   "source": [
    "results_df.to_csv('metrics.csv', index=False)"
   ]
  }
 ],
 "metadata": {
  "kernelspec": {
   "display_name": "Python (3.12)",
   "language": "python",
   "name": "py312"
  },
  "language_info": {
   "codemirror_mode": {
    "name": "ipython",
    "version": 3
   },
   "file_extension": ".py",
   "mimetype": "text/x-python",
   "name": "python",
   "nbconvert_exporter": "python",
   "pygments_lexer": "ipython3",
   "version": "3.12.7"
  }
 },
 "nbformat": 4,
 "nbformat_minor": 5
}
