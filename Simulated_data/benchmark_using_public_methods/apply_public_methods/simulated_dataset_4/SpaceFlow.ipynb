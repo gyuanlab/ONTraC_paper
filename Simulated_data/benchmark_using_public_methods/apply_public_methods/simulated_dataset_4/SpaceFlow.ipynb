{
 "cells": [
  {
   "cell_type": "markdown",
   "id": "c1ee2e7f-fe2e-406e-a977-12987653bdb1",
   "metadata": {},
   "source": [
    "# Notes"
   ]
  },
  {
   "cell_type": "markdown",
   "id": "64970ecf-b0ab-40cd-834d-f8a89441bcf1",
   "metadata": {},
   "source": [
    "# Load Modules"
   ]
  },
  {
   "cell_type": "code",
   "execution_count": 1,
   "id": "d650baf8-056c-4cd9-9c0c-dc3a9f54d11c",
   "metadata": {
    "execution": {
     "iopub.execute_input": "2024-12-04T18:28:39.683913Z",
     "iopub.status.busy": "2024-12-04T18:28:39.683552Z",
     "iopub.status.idle": "2024-12-04T18:29:21.071819Z",
     "shell.execute_reply": "2024-12-04T18:29:21.071324Z",
     "shell.execute_reply.started": "2024-12-04T18:28:39.683896Z"
    },
    "tags": []
   },
   "outputs": [],
   "source": [
    "import numpy as np\n",
    "import pandas as pd\n",
    "\n",
    "import anndata as adata\n",
    "import scanpy as sc\n",
    "import squidpy as sq\n",
    "from SpaceFlow import SpaceFlow"
   ]
  },
  {
   "cell_type": "markdown",
   "id": "c2eaeb45-13f4-4803-b541-1d53a4b9d0f7",
   "metadata": {},
   "source": [
    "# Load Data"
   ]
  },
  {
   "cell_type": "code",
   "execution_count": 2,
   "id": "1ce4f95d-caf7-4009-beba-040f01926dc0",
   "metadata": {
    "execution": {
     "iopub.execute_input": "2024-12-04T18:29:21.073280Z",
     "iopub.status.busy": "2024-12-04T18:29:21.072722Z",
     "iopub.status.idle": "2024-12-04T18:29:21.138661Z",
     "shell.execute_reply": "2024-12-04T18:29:21.138294Z",
     "shell.execute_reply.started": "2024-12-04T18:29:21.073258Z"
    },
    "tags": []
   },
   "outputs": [
    {
     "data": {
      "text/html": [
       "<div>\n",
       "<style scoped>\n",
       "    .dataframe tbody tr th:only-of-type {\n",
       "        vertical-align: middle;\n",
       "    }\n",
       "\n",
       "    .dataframe tbody tr th {\n",
       "        vertical-align: top;\n",
       "    }\n",
       "\n",
       "    .dataframe thead th {\n",
       "        text-align: right;\n",
       "    }\n",
       "</style>\n",
       "<table border=\"1\" class=\"dataframe\">\n",
       "  <thead>\n",
       "    <tr style=\"text-align: right;\">\n",
       "      <th></th>\n",
       "      <th>cell1</th>\n",
       "      <th>cell2</th>\n",
       "      <th>cell3</th>\n",
       "      <th>cell4</th>\n",
       "      <th>cell5</th>\n",
       "      <th>cell6</th>\n",
       "      <th>cell7</th>\n",
       "      <th>cell8</th>\n",
       "      <th>cell9</th>\n",
       "      <th>cell10</th>\n",
       "      <th>...</th>\n",
       "      <th>cell445</th>\n",
       "      <th>cell446</th>\n",
       "      <th>cell447</th>\n",
       "      <th>cell448</th>\n",
       "      <th>cell449</th>\n",
       "      <th>cell450</th>\n",
       "      <th>cell451</th>\n",
       "      <th>cell452</th>\n",
       "      <th>cell453</th>\n",
       "      <th>cell454</th>\n",
       "    </tr>\n",
       "  </thead>\n",
       "  <tbody>\n",
       "    <tr>\n",
       "      <th>A1_TF1</th>\n",
       "      <td>0</td>\n",
       "      <td>0</td>\n",
       "      <td>0</td>\n",
       "      <td>0</td>\n",
       "      <td>0</td>\n",
       "      <td>0</td>\n",
       "      <td>0</td>\n",
       "      <td>0</td>\n",
       "      <td>0</td>\n",
       "      <td>0</td>\n",
       "      <td>...</td>\n",
       "      <td>0</td>\n",
       "      <td>0</td>\n",
       "      <td>0</td>\n",
       "      <td>0</td>\n",
       "      <td>0</td>\n",
       "      <td>0</td>\n",
       "      <td>0</td>\n",
       "      <td>0</td>\n",
       "      <td>0</td>\n",
       "      <td>0</td>\n",
       "    </tr>\n",
       "    <tr>\n",
       "      <th>A2_TF1</th>\n",
       "      <td>0</td>\n",
       "      <td>0</td>\n",
       "      <td>0</td>\n",
       "      <td>0</td>\n",
       "      <td>0</td>\n",
       "      <td>0</td>\n",
       "      <td>0</td>\n",
       "      <td>0</td>\n",
       "      <td>0</td>\n",
       "      <td>0</td>\n",
       "      <td>...</td>\n",
       "      <td>0</td>\n",
       "      <td>0</td>\n",
       "      <td>0</td>\n",
       "      <td>0</td>\n",
       "      <td>0</td>\n",
       "      <td>0</td>\n",
       "      <td>0</td>\n",
       "      <td>0</td>\n",
       "      <td>0</td>\n",
       "      <td>0</td>\n",
       "    </tr>\n",
       "    <tr>\n",
       "      <th>A2_TF2</th>\n",
       "      <td>0</td>\n",
       "      <td>0</td>\n",
       "      <td>0</td>\n",
       "      <td>0</td>\n",
       "      <td>0</td>\n",
       "      <td>0</td>\n",
       "      <td>0</td>\n",
       "      <td>0</td>\n",
       "      <td>0</td>\n",
       "      <td>0</td>\n",
       "      <td>...</td>\n",
       "      <td>0</td>\n",
       "      <td>0</td>\n",
       "      <td>0</td>\n",
       "      <td>0</td>\n",
       "      <td>0</td>\n",
       "      <td>0</td>\n",
       "      <td>0</td>\n",
       "      <td>0</td>\n",
       "      <td>0</td>\n",
       "      <td>0</td>\n",
       "    </tr>\n",
       "    <tr>\n",
       "      <th>A2_TF3</th>\n",
       "      <td>0</td>\n",
       "      <td>0</td>\n",
       "      <td>0</td>\n",
       "      <td>0</td>\n",
       "      <td>0</td>\n",
       "      <td>0</td>\n",
       "      <td>0</td>\n",
       "      <td>0</td>\n",
       "      <td>0</td>\n",
       "      <td>0</td>\n",
       "      <td>...</td>\n",
       "      <td>0</td>\n",
       "      <td>0</td>\n",
       "      <td>0</td>\n",
       "      <td>0</td>\n",
       "      <td>0</td>\n",
       "      <td>0</td>\n",
       "      <td>0</td>\n",
       "      <td>0</td>\n",
       "      <td>0</td>\n",
       "      <td>0</td>\n",
       "    </tr>\n",
       "    <tr>\n",
       "      <th>A2_TF4</th>\n",
       "      <td>0</td>\n",
       "      <td>0</td>\n",
       "      <td>0</td>\n",
       "      <td>0</td>\n",
       "      <td>0</td>\n",
       "      <td>0</td>\n",
       "      <td>0</td>\n",
       "      <td>0</td>\n",
       "      <td>0</td>\n",
       "      <td>0</td>\n",
       "      <td>...</td>\n",
       "      <td>0</td>\n",
       "      <td>0</td>\n",
       "      <td>0</td>\n",
       "      <td>0</td>\n",
       "      <td>0</td>\n",
       "      <td>0</td>\n",
       "      <td>0</td>\n",
       "      <td>0</td>\n",
       "      <td>0</td>\n",
       "      <td>0</td>\n",
       "    </tr>\n",
       "  </tbody>\n",
       "</table>\n",
       "<p>5 rows × 454 columns</p>\n",
       "</div>"
      ],
      "text/plain": [
       "        cell1  cell2  cell3  cell4  cell5  cell6  cell7  cell8  cell9  cell10  \\\n",
       "A1_TF1      0      0      0      0      0      0      0      0      0       0   \n",
       "A2_TF1      0      0      0      0      0      0      0      0      0       0   \n",
       "A2_TF2      0      0      0      0      0      0      0      0      0       0   \n",
       "A2_TF3      0      0      0      0      0      0      0      0      0       0   \n",
       "A2_TF4      0      0      0      0      0      0      0      0      0       0   \n",
       "\n",
       "        ...  cell445  cell446  cell447  cell448  cell449  cell450  cell451  \\\n",
       "A1_TF1  ...        0        0        0        0        0        0        0   \n",
       "A2_TF1  ...        0        0        0        0        0        0        0   \n",
       "A2_TF2  ...        0        0        0        0        0        0        0   \n",
       "A2_TF3  ...        0        0        0        0        0        0        0   \n",
       "A2_TF4  ...        0        0        0        0        0        0        0   \n",
       "\n",
       "        cell452  cell453  cell454  \n",
       "A1_TF1        0        0        0  \n",
       "A2_TF1        0        0        0  \n",
       "A2_TF2        0        0        0  \n",
       "A2_TF3        0        0        0  \n",
       "A2_TF4        0        0        0  \n",
       "\n",
       "[5 rows x 454 columns]"
      ]
     },
     "execution_count": 2,
     "metadata": {},
     "output_type": "execute_result"
    }
   ],
   "source": [
    "exp_df = pd.read_csv(\"./simulated_expression.csv\", index_col=0)\n",
    "exp_df.head()"
   ]
  },
  {
   "cell_type": "code",
   "execution_count": null,
   "id": "181eb263-23a7-4dc7-a5f8-6bd98d83a726",
   "metadata": {
    "execution": {
     "iopub.execute_input": "2024-12-04T18:29:21.139307Z",
     "iopub.status.busy": "2024-12-04T18:29:21.139164Z",
     "iopub.status.idle": "2024-12-04T18:29:21.163953Z",
     "shell.execute_reply": "2024-12-04T18:29:21.163565Z",
     "shell.execute_reply.started": "2024-12-04T18:29:21.139292Z"
    },
    "tags": []
   },
   "outputs": [
    {
     "data": {
      "text/html": [
       "<div>\n",
       "<style scoped>\n",
       "    .dataframe tbody tr th:only-of-type {\n",
       "        vertical-align: middle;\n",
       "    }\n",
       "\n",
       "    .dataframe tbody tr th {\n",
       "        vertical-align: top;\n",
       "    }\n",
       "\n",
       "    .dataframe thead th {\n",
       "        text-align: right;\n",
       "    }\n",
       "</style>\n",
       "<table border=\"1\" class=\"dataframe\">\n",
       "  <thead>\n",
       "    <tr style=\"text-align: right;\">\n",
       "      <th></th>\n",
       "      <th>x</th>\n",
       "      <th>y</th>\n",
       "      <th>Niche_NTScore</th>\n",
       "      <th>Cell_NTScore</th>\n",
       "      <th>Ground_Truth</th>\n",
       "      <th>Cell_Type</th>\n",
       "      <th>Lineage</th>\n",
       "    </tr>\n",
       "    <tr>\n",
       "      <th>Cell_ID</th>\n",
       "      <th></th>\n",
       "      <th></th>\n",
       "      <th></th>\n",
       "      <th></th>\n",
       "      <th></th>\n",
       "      <th></th>\n",
       "      <th></th>\n",
       "    </tr>\n",
       "  </thead>\n",
       "  <tbody>\n",
       "    <tr>\n",
       "      <th>cell1</th>\n",
       "      <td>-0.400000</td>\n",
       "      <td>0.933977</td>\n",
       "      <td>0.325438</td>\n",
       "      <td>0.410390</td>\n",
       "      <td>0.400000</td>\n",
       "      <td>A</td>\n",
       "      <td>1</td>\n",
       "    </tr>\n",
       "    <tr>\n",
       "      <th>cell2</th>\n",
       "      <td>0.400000</td>\n",
       "      <td>-0.970186</td>\n",
       "      <td>0.365129</td>\n",
       "      <td>0.441723</td>\n",
       "      <td>0.400000</td>\n",
       "      <td>A</td>\n",
       "      <td>1</td>\n",
       "    </tr>\n",
       "    <tr>\n",
       "      <th>cell3</th>\n",
       "      <td>-0.405310</td>\n",
       "      <td>-0.829752</td>\n",
       "      <td>0.547304</td>\n",
       "      <td>0.490767</td>\n",
       "      <td>0.405310</td>\n",
       "      <td>A</td>\n",
       "      <td>1</td>\n",
       "    </tr>\n",
       "    <tr>\n",
       "      <th>cell4</th>\n",
       "      <td>0.000000</td>\n",
       "      <td>-0.023475</td>\n",
       "      <td>0.000446</td>\n",
       "      <td>0.068882</td>\n",
       "      <td>0.000000</td>\n",
       "      <td>D</td>\n",
       "      <td>2</td>\n",
       "    </tr>\n",
       "    <tr>\n",
       "      <th>cell5</th>\n",
       "      <td>0.405357</td>\n",
       "      <td>-0.981907</td>\n",
       "      <td>0.345863</td>\n",
       "      <td>0.448035</td>\n",
       "      <td>0.405357</td>\n",
       "      <td>A</td>\n",
       "      <td>1</td>\n",
       "    </tr>\n",
       "  </tbody>\n",
       "</table>\n",
       "</div>"
      ],
      "text/plain": [
       "                x         y  Niche_NTScore  Cell_NTScore  Ground_Truth  \\\n",
       "Cell_ID                                                                  \n",
       "cell1   -0.400000  0.933977       0.325438      0.410390      0.400000   \n",
       "cell2    0.400000 -0.970186       0.365129      0.441723      0.400000   \n",
       "cell3   -0.405310 -0.829752       0.547304      0.490767      0.405310   \n",
       "cell4    0.000000 -0.023475       0.000446      0.068882      0.000000   \n",
       "cell5    0.405357 -0.981907       0.345863      0.448035      0.405357   \n",
       "\n",
       "        Cell_Type  Lineage  \n",
       "Cell_ID                     \n",
       "cell1           A        1  \n",
       "cell2           A        1  \n",
       "cell3           A        1  \n",
       "cell4           D        2  \n",
       "cell5           A        1  "
      ]
     },
     "execution_count": 3,
     "metadata": {},
     "output_type": "execute_result"
    }
   ],
   "source": [
    "meta_info_df = pd.read_csv(\"./simulation_disconnected_ontrac_input.csv\", index_col=0)\n",
    "meta_info_df.head()"
   ]
  },
  {
   "cell_type": "code",
   "execution_count": 4,
   "id": "ce0dfa03-659c-40d1-a243-b6fd4bdeae91",
   "metadata": {
    "execution": {
     "iopub.execute_input": "2024-12-04T18:29:21.165298Z",
     "iopub.status.busy": "2024-12-04T18:29:21.164961Z",
     "iopub.status.idle": "2024-12-04T18:29:21.169478Z",
     "shell.execute_reply": "2024-12-04T18:29:21.169097Z",
     "shell.execute_reply.started": "2024-12-04T18:29:21.165282Z"
    },
    "tags": []
   },
   "outputs": [],
   "source": [
    "ad = adata.AnnData(exp_df.T)"
   ]
  },
  {
   "cell_type": "code",
   "execution_count": 5,
   "id": "c8a7a0e0-832c-40e0-931a-ef42fac55c69",
   "metadata": {
    "execution": {
     "iopub.execute_input": "2024-12-04T18:29:21.170262Z",
     "iopub.status.busy": "2024-12-04T18:29:21.170114Z",
     "iopub.status.idle": "2024-12-04T18:29:21.173437Z",
     "shell.execute_reply": "2024-12-04T18:29:21.173087Z",
     "shell.execute_reply.started": "2024-12-04T18:29:21.170248Z"
    },
    "tags": []
   },
   "outputs": [
    {
     "data": {
      "text/plain": [
       "array([[    0,     0,     0, ...,     0,     0,     0],\n",
       "       [    0,     0,     0, ...,     0,     0,     0],\n",
       "       [    0,     0,     0, ..., 24237, 24052, 35726],\n",
       "       ...,\n",
       "       [    0,     0,     0, ..., 16683, 32342, 53638],\n",
       "       [    0,     0,     0, ..., 10039, 17304, 21119],\n",
       "       [    0,     0,     0, ...,  6950, 17967, 19057]])"
      ]
     },
     "execution_count": 5,
     "metadata": {},
     "output_type": "execute_result"
    }
   ],
   "source": [
    "ad.X"
   ]
  },
  {
   "cell_type": "code",
   "execution_count": 6,
   "id": "0eefabca-8388-4148-aa7b-5f962d68129d",
   "metadata": {
    "execution": {
     "iopub.execute_input": "2024-12-04T18:29:21.174339Z",
     "iopub.status.busy": "2024-12-04T18:29:21.174017Z",
     "iopub.status.idle": "2024-12-04T18:29:21.177153Z",
     "shell.execute_reply": "2024-12-04T18:29:21.176816Z",
     "shell.execute_reply.started": "2024-12-04T18:29:21.174324Z"
    },
    "tags": []
   },
   "outputs": [
    {
     "data": {
      "text/plain": [
       "Index(['cell1', 'cell2', 'cell3', 'cell4', 'cell5', 'cell6', 'cell7', 'cell8',\n",
       "       'cell9', 'cell10',\n",
       "       ...\n",
       "       'cell445', 'cell446', 'cell447', 'cell448', 'cell449', 'cell450',\n",
       "       'cell451', 'cell452', 'cell453', 'cell454'],\n",
       "      dtype='object', length=454)"
      ]
     },
     "execution_count": 6,
     "metadata": {},
     "output_type": "execute_result"
    }
   ],
   "source": [
    "ad.obs_names"
   ]
  },
  {
   "cell_type": "code",
   "execution_count": 7,
   "id": "938c4917-8c15-4da1-a63d-422af42314d6",
   "metadata": {
    "execution": {
     "iopub.execute_input": "2024-12-04T18:29:21.177947Z",
     "iopub.status.busy": "2024-12-04T18:29:21.177652Z",
     "iopub.status.idle": "2024-12-04T18:29:21.181012Z",
     "shell.execute_reply": "2024-12-04T18:29:21.180668Z",
     "shell.execute_reply.started": "2024-12-04T18:29:21.177932Z"
    },
    "tags": []
   },
   "outputs": [
    {
     "data": {
      "text/plain": [
       "Index(['A1_TF1', 'A2_TF1', 'A2_TF2', 'A2_TF3', 'A2_TF4', 'A3_TF1', 'A3_TF2',\n",
       "       'A4_TF1', 'A5_TF1', 'A6_TF1', 'A6_TF2', 'A7_TF1', 'A7_TF2',\n",
       "       'left_A1_TF1', 'left_A1_TF2', 'left_A1_TF3', 'left_A1_TF4',\n",
       "       'left_B1_TF1', 'left_B1_TF2', 'left_B1_TF3', 'left_B2_TF1',\n",
       "       'left_C1_TF1', 'left_C2_TF1', 'left_C2_TF2', 'left_C2_TF3',\n",
       "       'left_C3_TF1', 'left_C3_TF2', 'left_C4_TF1', 'left_C4_TF2',\n",
       "       'left_D1_TF1', 'left_D1_TF2', 'left_D1_TF3', 'left_D2_TF1',\n",
       "       'left_D3_TF1', 'left_D4_TF1', 'left_D4_TF2', 'left_D4_TF3',\n",
       "       'left_D4_TF4', 'left_D4_TF5', 'left_E1_TF1', 'left_E1_TF2',\n",
       "       'left_E1_TF3', 'left_E1_TF4', 'left_E1_TF5', 'left_E1_TF6',\n",
       "       'left_E1_TF7', 'left_F1_TF1', 'left_F1_TF2', 'left_F1_TF3',\n",
       "       'left_F1_TF4', 'left_F1_TF5', 'left_F1_TF6', 'left_F1_TF7',\n",
       "       'left_F1_TF8', 'left_F1_TF9', 'left_F1_TF10', 'left_F2_TF1',\n",
       "       'left_F2_TF2', 'right_M1_TF1', 'right_M1_TF2', 'right_M1_TF3',\n",
       "       'right_M2_TF1', 'right_M3_TF1', 'right_M3_TF2', 'right_M3_TF3',\n",
       "       'right_M4_TF1', 'right_M5_TF1', 'right_M5_TF2', 'right_M5_TF3',\n",
       "       'B1_TF1', 'B1_TF2', 'B2_TF1', 'B2_TF2', 'B2_TF3', 'B2_TF4', 'B2_TF5',\n",
       "       'B2_TF6', 'B3_TF1', 'B3_TF2', 'B3_TF3', 'B3_TF4', 'B3_TF5', 'B3_TF6',\n",
       "       'B4_TF1', 'B5_TF1', 'B5_TF2', 'B5_TF3', 'B6_TF1', 'B6_TF2', 'B6_TF3',\n",
       "       'B7_TF1', 'B8_TF1', 'B9_TF1', 'B9_TF2', 'B9_TF3', 'B10_TF1', 'B10_TF2',\n",
       "       'B10_TF3', 'B10_TF4', 'B10_TF5'],\n",
       "      dtype='object')"
      ]
     },
     "execution_count": 7,
     "metadata": {},
     "output_type": "execute_result"
    }
   ],
   "source": [
    "ad.var_names"
   ]
  },
  {
   "cell_type": "code",
   "execution_count": 8,
   "id": "9387c5b1-9065-4807-b9fc-7a446bcea765",
   "metadata": {
    "execution": {
     "iopub.execute_input": "2024-12-04T18:29:21.181780Z",
     "iopub.status.busy": "2024-12-04T18:29:21.181483Z",
     "iopub.status.idle": "2024-12-04T18:29:21.188674Z",
     "shell.execute_reply": "2024-12-04T18:29:21.188236Z",
     "shell.execute_reply.started": "2024-12-04T18:29:21.181753Z"
    },
    "tags": []
   },
   "outputs": [
    {
     "data": {
      "text/html": [
       "<div>\n",
       "<style scoped>\n",
       "    .dataframe tbody tr th:only-of-type {\n",
       "        vertical-align: middle;\n",
       "    }\n",
       "\n",
       "    .dataframe tbody tr th {\n",
       "        vertical-align: top;\n",
       "    }\n",
       "\n",
       "    .dataframe thead th {\n",
       "        text-align: right;\n",
       "    }\n",
       "</style>\n",
       "<table border=\"1\" class=\"dataframe\">\n",
       "  <thead>\n",
       "    <tr style=\"text-align: right;\">\n",
       "      <th></th>\n",
       "      <th>x</th>\n",
       "      <th>y</th>\n",
       "      <th>Niche_NTScore</th>\n",
       "      <th>Cell_NTScore</th>\n",
       "      <th>Ground_Truth</th>\n",
       "      <th>Cell_Type</th>\n",
       "      <th>Lineage</th>\n",
       "    </tr>\n",
       "  </thead>\n",
       "  <tbody>\n",
       "    <tr>\n",
       "      <th>cell1</th>\n",
       "      <td>-0.400000</td>\n",
       "      <td>0.933977</td>\n",
       "      <td>0.325438</td>\n",
       "      <td>0.410390</td>\n",
       "      <td>0.400000</td>\n",
       "      <td>A</td>\n",
       "      <td>1</td>\n",
       "    </tr>\n",
       "    <tr>\n",
       "      <th>cell2</th>\n",
       "      <td>0.400000</td>\n",
       "      <td>-0.970186</td>\n",
       "      <td>0.365129</td>\n",
       "      <td>0.441723</td>\n",
       "      <td>0.400000</td>\n",
       "      <td>A</td>\n",
       "      <td>1</td>\n",
       "    </tr>\n",
       "    <tr>\n",
       "      <th>cell3</th>\n",
       "      <td>-0.405310</td>\n",
       "      <td>-0.829752</td>\n",
       "      <td>0.547304</td>\n",
       "      <td>0.490767</td>\n",
       "      <td>0.405310</td>\n",
       "      <td>A</td>\n",
       "      <td>1</td>\n",
       "    </tr>\n",
       "    <tr>\n",
       "      <th>cell4</th>\n",
       "      <td>0.000000</td>\n",
       "      <td>-0.023475</td>\n",
       "      <td>0.000446</td>\n",
       "      <td>0.068882</td>\n",
       "      <td>0.000000</td>\n",
       "      <td>D</td>\n",
       "      <td>2</td>\n",
       "    </tr>\n",
       "    <tr>\n",
       "      <th>cell5</th>\n",
       "      <td>0.405357</td>\n",
       "      <td>-0.981907</td>\n",
       "      <td>0.345863</td>\n",
       "      <td>0.448035</td>\n",
       "      <td>0.405357</td>\n",
       "      <td>A</td>\n",
       "      <td>1</td>\n",
       "    </tr>\n",
       "  </tbody>\n",
       "</table>\n",
       "</div>"
      ],
      "text/plain": [
       "              x         y  Niche_NTScore  Cell_NTScore  Ground_Truth  \\\n",
       "cell1 -0.400000  0.933977       0.325438      0.410390      0.400000   \n",
       "cell2  0.400000 -0.970186       0.365129      0.441723      0.400000   \n",
       "cell3 -0.405310 -0.829752       0.547304      0.490767      0.405310   \n",
       "cell4  0.000000 -0.023475       0.000446      0.068882      0.000000   \n",
       "cell5  0.405357 -0.981907       0.345863      0.448035      0.405357   \n",
       "\n",
       "      Cell_Type  Lineage  \n",
       "cell1         A        1  \n",
       "cell2         A        1  \n",
       "cell3         A        1  \n",
       "cell4         D        2  \n",
       "cell5         A        1  "
      ]
     },
     "execution_count": 8,
     "metadata": {},
     "output_type": "execute_result"
    }
   ],
   "source": [
    "ad.obs = ad.obs.join(meta_info_df)\n",
    "ad.obs.head()"
   ]
  },
  {
   "cell_type": "code",
   "execution_count": 9,
   "id": "c39f6d8e-2fb0-4df8-adaf-361dea3ffb5a",
   "metadata": {
    "execution": {
     "iopub.execute_input": "2024-12-04T18:29:21.189320Z",
     "iopub.status.busy": "2024-12-04T18:29:21.189174Z",
     "iopub.status.idle": "2024-12-04T18:29:21.192101Z",
     "shell.execute_reply": "2024-12-04T18:29:21.191737Z",
     "shell.execute_reply.started": "2024-12-04T18:29:21.189305Z"
    },
    "tags": []
   },
   "outputs": [],
   "source": [
    "ad.obsm['spatial'] = ad.obs[['x', 'y']].values"
   ]
  },
  {
   "cell_type": "markdown",
   "id": "4ef62e7a-df66-424a-817c-e3089a6a683c",
   "metadata": {},
   "source": [
    "# SpaceFlow"
   ]
  },
  {
   "cell_type": "code",
   "execution_count": 10,
   "id": "d8090963-fc0e-4ca2-94f4-41894ca02c38",
   "metadata": {
    "execution": {
     "iopub.execute_input": "2024-12-04T18:29:21.193696Z",
     "iopub.status.busy": "2024-12-04T18:29:21.193368Z",
     "iopub.status.idle": "2024-12-04T18:29:21.195672Z",
     "shell.execute_reply": "2024-12-04T18:29:21.195322Z",
     "shell.execute_reply.started": "2024-12-04T18:29:21.193681Z"
    },
    "tags": []
   },
   "outputs": [],
   "source": [
    "sf = SpaceFlow.SpaceFlow(adata=ad)"
   ]
  },
  {
   "cell_type": "code",
   "execution_count": 11,
   "id": "e25c40fa-c5cd-4457-ba0d-e7d28bea6230",
   "metadata": {
    "execution": {
     "iopub.execute_input": "2024-12-04T18:29:21.196549Z",
     "iopub.status.busy": "2024-12-04T18:29:21.196205Z",
     "iopub.status.idle": "2024-12-04T18:29:21.380441Z",
     "shell.execute_reply": "2024-12-04T18:29:21.380081Z",
     "shell.execute_reply.started": "2024-12-04T18:29:21.196534Z"
    },
    "tags": []
   },
   "outputs": [
    {
     "name": "stderr",
     "output_type": "stream",
     "text": [
      "/sc/arion/work/wangw32/conda-env/envs/spaceflow/lib/python3.9/site-packages/scanpy/preprocessing/_highly_variable_genes.py:412: UserWarning: `n_top_genes` > number of normalized dispersions, returning all genes with normalized dispersions.\n",
      "  warnings.warn(msg, UserWarning)\n"
     ]
    }
   ],
   "source": [
    "sf.preprocessing_data(n_top_genes=3000)"
   ]
  },
  {
   "cell_type": "code",
   "execution_count": 12,
   "id": "e6cdc83d-f74f-42a1-84c0-58fd2fcf1fbe",
   "metadata": {
    "execution": {
     "iopub.execute_input": "2024-12-04T18:29:21.383426Z",
     "iopub.status.busy": "2024-12-04T18:29:21.382212Z",
     "iopub.status.idle": "2024-12-04T18:30:00.840462Z",
     "shell.execute_reply": "2024-12-04T18:30:00.839962Z",
     "shell.execute_reply.started": "2024-12-04T18:29:21.383404Z"
    },
    "tags": []
   },
   "outputs": [
    {
     "name": "stdout",
     "output_type": "stream",
     "text": [
      "Epoch 2/1000, Loss: 1.3369324207305908\n",
      "Epoch 12/1000, Loss: 0.54261714220047\n",
      "Epoch 22/1000, Loss: 0.4450288414955139\n",
      "Epoch 32/1000, Loss: 0.49127960205078125\n",
      "Epoch 42/1000, Loss: 0.36630064249038696\n",
      "Epoch 52/1000, Loss: 0.3908672630786896\n",
      "Epoch 62/1000, Loss: 0.3023373782634735\n",
      "Epoch 72/1000, Loss: 0.28467869758605957\n",
      "Epoch 82/1000, Loss: 0.4443659782409668\n",
      "Epoch 92/1000, Loss: 0.2570444643497467\n",
      "Epoch 102/1000, Loss: 0.28431031107902527\n",
      "Epoch 112/1000, Loss: 0.3656499683856964\n",
      "Epoch 122/1000, Loss: 0.27943283319473267\n",
      "Epoch 132/1000, Loss: 0.2740798890590668\n",
      "Epoch 142/1000, Loss: 0.22006568312644958\n",
      "Epoch 152/1000, Loss: 0.27803730964660645\n",
      "Epoch 162/1000, Loss: 0.26659297943115234\n",
      "Epoch 172/1000, Loss: 0.2794443368911743\n",
      "Epoch 182/1000, Loss: 0.21455731987953186\n",
      "Epoch 192/1000, Loss: 0.21174442768096924\n",
      "Training complete!\n",
      "Embedding is saved at ./embedding.tsv\n"
     ]
    },
    {
     "data": {
      "text/plain": [
       "array([[ 0.9132539 ,  0.33997113, -0.557186  , ...,  0.71219903,\n",
       "        -0.379583  ,  2.656052  ],\n",
       "       [ 0.9091226 , -0.28985685, -0.3451687 , ...,  1.815215  ,\n",
       "        -0.29234487,  3.06506   ],\n",
       "       [-0.0305405 , -0.34902844, -0.42890546, ...,  1.8680053 ,\n",
       "        -0.41675106,  2.5989106 ],\n",
       "       ...,\n",
       "       [-0.01779817,  0.36902303, -0.21315616, ...,  1.0938028 ,\n",
       "        -0.29153696,  2.4918332 ],\n",
       "       [ 0.93923366,  0.64475626, -0.47861633, ...,  1.1122226 ,\n",
       "        -0.37373063,  3.1757944 ],\n",
       "       [ 0.37917057,  1.1721675 , -0.39169067, ...,  1.0352012 ,\n",
       "        -0.39769626,  3.0863378 ]], dtype=float32)"
      ]
     },
     "execution_count": 12,
     "metadata": {},
     "output_type": "execute_result"
    }
   ],
   "source": [
    "sf.train(spatial_regularization_strength=0.1, z_dim=50, lr=1e-3, epochs=1000, max_patience=50, min_stop=100, random_seed=42, gpu=0, regularization_acceleration=True, edge_subset_sz=1000000)"
   ]
  },
  {
   "cell_type": "code",
   "execution_count": 13,
   "id": "ca28fadb-e6f7-44cd-a7b6-5fc3de9dc0c2",
   "metadata": {
    "execution": {
     "iopub.execute_input": "2024-12-04T18:30:00.841545Z",
     "iopub.status.busy": "2024-12-04T18:30:00.841224Z",
     "iopub.status.idle": "2024-12-04T18:30:07.200625Z",
     "shell.execute_reply": "2024-12-04T18:30:07.200085Z",
     "shell.execute_reply.started": "2024-12-04T18:30:00.841527Z"
    },
    "tags": []
   },
   "outputs": [
    {
     "name": "stdout",
     "output_type": "stream",
     "text": [
      "Performing domain segmentation\n"
     ]
    },
    {
     "name": "stderr",
     "output_type": "stream",
     "text": [
      "/sc/arion/work/wangw32/conda-env/envs/spaceflow/lib/python3.9/site-packages/tqdm/auto.py:21: TqdmWarning: IProgress not found. Please update jupyter and ipywidgets. See https://ipywidgets.readthedocs.io/en/stable/user_install.html\n",
      "  from .autonotebook import tqdm as notebook_tqdm\n"
     ]
    },
    {
     "name": "stdout",
     "output_type": "stream",
     "text": [
      "Segmentation complete, domain labels of cells or spots saved at ./domains.tsv !\n"
     ]
    },
    {
     "name": "stderr",
     "output_type": "stream",
     "text": [
      "/sc/arion/work/wangw32/conda-env/envs/spaceflow/lib/python3.9/site-packages/SpaceFlow/SpaceFlow.py:306: FutureWarning: In the future, the default backend for leiden will be igraph instead of leidenalg.\n",
      "\n",
      " To achieve the future defaults please pass: flavor=\"igraph\" and n_iterations=2.  directed must also be False to work with igraph's implementation.\n",
      "  sc.tl.leiden(embedding_adata, resolution=float(resolution))\n"
     ]
    }
   ],
   "source": [
    "sf.segmentation(domain_label_save_filepath=\"./domains.tsv\", n_neighbors=50, resolution=1.0)"
   ]
  },
  {
   "cell_type": "code",
   "execution_count": 14,
   "id": "08a16504-a83e-4c55-8fe8-67db117514f9",
   "metadata": {
    "execution": {
     "iopub.execute_input": "2024-12-04T18:30:07.202412Z",
     "iopub.status.busy": "2024-12-04T18:30:07.201403Z",
     "iopub.status.idle": "2024-12-04T18:30:07.612058Z",
     "shell.execute_reply": "2024-12-04T18:30:07.611657Z",
     "shell.execute_reply.started": "2024-12-04T18:30:07.202386Z"
    },
    "tags": []
   },
   "outputs": [
    {
     "name": "stdout",
     "output_type": "stream",
     "text": [
      "No segmentation data found, please ensure you have run the segmentation() method.\n"
     ]
    },
    {
     "data": {
      "image/png": "[encoded data removed]",
      "text/plain": [
       "<Figure size 400x400 with 1 Axes>"
      ]
     },
     "metadata": {},
     "output_type": "display_data"
    }
   ],
   "source": [
    "sf.plot_segmentation(segmentation_figure_save_filepath=\"./domain_segmentation.pdf\", colormap=\"tab20\", scatter_sz=1., rsz=4., csz=4., wspace=.4, hspace=.5, left=0.125, right=0.9, bottom=0.1, top=0.9)"
   ]
  },
  {
   "cell_type": "code",
   "execution_count": 15,
   "id": "ab517a16-4f80-465f-90e5-7fae9eb8d137",
   "metadata": {
    "execution": {
     "iopub.execute_input": "2024-12-04T18:30:07.612945Z",
     "iopub.status.busy": "2024-12-04T18:30:07.612636Z",
     "iopub.status.idle": "2024-12-04T18:30:08.856853Z",
     "shell.execute_reply": "2024-12-04T18:30:08.856402Z",
     "shell.execute_reply.started": "2024-12-04T18:30:07.612929Z"
    },
    "tags": []
   },
   "outputs": [
    {
     "name": "stdout",
     "output_type": "stream",
     "text": [
      "Performing pseudo-Spatiotemporal Map\n",
      "pseudo-Spatiotemporal Map(pSM) calculation complete, pSM values of cells or spots saved at ./pSM_values.tsv!\n"
     ]
    }
   ],
   "source": [
    "sf.pseudo_Spatiotemporal_Map(pSM_values_save_filepath=\"./pSM_values.tsv\", n_neighbors=20, resolution=1.0)"
   ]
  },
  {
   "cell_type": "code",
   "execution_count": 16,
   "id": "c8f058ae-502f-4e51-b93a-70b70bd092e3",
   "metadata": {
    "execution": {
     "iopub.execute_input": "2024-12-04T18:30:08.858934Z",
     "iopub.status.busy": "2024-12-04T18:30:08.858550Z",
     "iopub.status.idle": "2024-12-04T18:30:09.905101Z",
     "shell.execute_reply": "2024-12-04T18:30:09.904630Z",
     "shell.execute_reply.started": "2024-12-04T18:30:08.858915Z"
    },
    "tags": []
   },
   "outputs": [
    {
     "name": "stdout",
     "output_type": "stream",
     "text": [
      "Plotting complete, pseudo-Spatiotemporal Map figure saved at ./pseudo-Spatiotemporal-Map.pdf !\n"
     ]
    }
   ],
   "source": [
    "sf.plot_pSM(pSM_figure_save_filepath=\"./pseudo-Spatiotemporal-Map.pdf\", colormap=\"roma\", scatter_sz=1., rsz=4., csz=4., wspace=.4, hspace=.5, left=0.125, right=0.9, bottom=0.1, top=0.9)"
   ]
  }
 ],
 "metadata": {
  "kernelspec": {
   "display_name": "Python 3.9 (spaceflow)",
   "language": "python",
   "name": "py39_spaceflow"
  },
  "language_info": {
   "codemirror_mode": {
    "name": "ipython",
    "version": 3
   },
   "file_extension": ".py",
   "mimetype": "text/x-python",
   "name": "python",
   "nbconvert_exporter": "python",
   "pygments_lexer": "ipython3",
   "version": "3.9.19"
  }
 },
 "nbformat": 4,
 "nbformat_minor": 5
}
