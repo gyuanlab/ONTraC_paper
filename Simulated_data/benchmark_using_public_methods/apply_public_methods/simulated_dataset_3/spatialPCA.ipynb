{
 "cells": [
  {
   "cell_type": "code",
   "execution_count": 1,
   "id": "4a0b7ace-ba0f-44d8-b826-537758c3bbeb",
   "metadata": {
    "execution": {
     "iopub.execute_input": "2024-12-04T18:25:37.270466Z",
     "iopub.status.busy": "2024-12-04T18:25:37.269052Z",
     "iopub.status.idle": "2024-12-04T18:25:45.541268Z",
     "shell.execute_reply": "2024-12-04T18:25:45.539863Z"
    },
    "tags": [],
    "vscode": {
     "languageId": "r"
    }
   },
   "outputs": [
    {
     "name": "stderr",
     "output_type": "stream",
     "text": [
      "Loading required package: princurve\n",
      "\n",
      "Loading required package: TrajectoryUtils\n",
      "\n",
      "Loading required package: SingleCellExperiment\n",
      "\n",
      "Loading required package: SummarizedExperiment\n",
      "\n",
      "Loading required package: MatrixGenerics\n",
      "\n",
      "Loading required package: matrixStats\n",
      "\n",
      "\n",
      "Attaching package: ‘MatrixGenerics’\n",
      "\n",
      "\n",
      "The following objects are masked from ‘package:matrixStats’:\n",
      "\n",
      "    colAlls, colAnyNAs, colAnys, colAvgsPerRowSet, colCollapse,\n",
      "    colCounts, colCummaxs, colCummins, colCumprods, colCumsums,\n",
      "    colDiffs, colIQRDiffs, colIQRs, colLogSumExps, colMadDiffs,\n",
      "    colMads, colMaxs, colMeans2, colMedians, colMins, colOrderStats,\n",
      "    colProds, colQuantiles, colRanges, colRanks, colSdDiffs, colSds,\n",
      "    colSums2, colTabulates, colVarDiffs, colVars, colWeightedMads,\n",
      "    colWeightedMeans, colWeightedMedians, colWeightedSds,\n",
      "    colWeightedVars, rowAlls, rowAnyNAs, rowAnys, rowAvgsPerColSet,\n",
      "    rowCollapse, rowCounts, rowCummaxs, rowCummins, rowCumprods,\n",
      "    rowCumsums, rowDiffs, rowIQRDiffs, rowIQRs, rowLogSumExps,\n",
      "    rowMadDiffs, rowMads, rowMaxs, rowMeans2, rowMedians, rowMins,\n",
      "    rowOrderStats, rowProds, rowQuantiles, rowRanges, rowRanks,\n",
      "    rowSdDiffs, rowSds, rowSums2, rowTabulates, rowVarDiffs, rowVars,\n",
      "    rowWeightedMads, rowWeightedMeans, rowWeightedMedians,\n",
      "    rowWeightedSds, rowWeightedVars\n",
      "\n",
      "\n",
      "Loading required package: GenomicRanges\n",
      "\n",
      "Loading required package: stats4\n",
      "\n",
      "Loading required package: BiocGenerics\n",
      "\n",
      "\n",
      "Attaching package: ‘BiocGenerics’\n",
      "\n",
      "\n",
      "The following objects are masked from ‘package:stats’:\n",
      "\n",
      "    IQR, mad, sd, var, xtabs\n",
      "\n",
      "\n",
      "The following objects are masked from ‘package:base’:\n",
      "\n",
      "    anyDuplicated, aperm, append, as.data.frame, basename, cbind,\n",
      "    colnames, dirname, do.call, duplicated, eval, evalq, Filter, Find,\n",
      "    get, grep, grepl, intersect, is.unsorted, lapply, Map, mapply,\n",
      "    match, mget, order, paste, pmax, pmax.int, pmin, pmin.int,\n",
      "    Position, rank, rbind, Reduce, rownames, sapply, setdiff, sort,\n",
      "    table, tapply, union, unique, unsplit, which.max, which.min\n",
      "\n",
      "\n",
      "Loading required package: S4Vectors\n",
      "\n",
      "\n",
      "Attaching package: ‘S4Vectors’\n",
      "\n",
      "\n",
      "The following object is masked from ‘package:utils’:\n",
      "\n",
      "    findMatches\n",
      "\n",
      "\n",
      "The following objects are masked from ‘package:base’:\n",
      "\n",
      "    expand.grid, I, unname\n",
      "\n",
      "\n",
      "Loading required package: IRanges\n",
      "\n",
      "Loading required package: GenomeInfoDb\n",
      "\n",
      "Loading required package: Biobase\n",
      "\n",
      "Welcome to Bioconductor\n",
      "\n",
      "    Vignettes contain introductory material; view with\n",
      "    'browseVignettes()'. To cite Bioconductor, see\n",
      "    'citation(\"Biobase\")', and for packages 'citation(\"pkgname\")'.\n",
      "\n",
      "\n",
      "\n",
      "Attaching package: ‘Biobase’\n",
      "\n",
      "\n",
      "The following object is masked from ‘package:MatrixGenerics’:\n",
      "\n",
      "    rowMedians\n",
      "\n",
      "\n",
      "The following objects are masked from ‘package:matrixStats’:\n",
      "\n",
      "    anyMissing, rowMedians\n",
      "\n",
      "\n"
     ]
    }
   ],
   "source": [
    "library(SpatialPCA)\n",
    "library(slingshot)"
   ]
  },
  {
   "cell_type": "code",
   "execution_count": 2,
   "id": "46f72e71-e522-4518-897e-df7aab866f40",
   "metadata": {
    "execution": {
     "iopub.execute_input": "2024-12-04T18:25:45.565105Z",
     "iopub.status.busy": "2024-12-04T18:25:45.543260Z",
     "iopub.status.idle": "2024-12-04T18:25:45.590015Z",
     "shell.execute_reply": "2024-12-04T18:25:45.588857Z"
    },
    "tags": [],
    "vscode": {
     "languageId": "r"
    }
   },
   "outputs": [],
   "source": [
    "exp_df <- read.csv(\"simulated_expression.csv\", row.names = 1)"
   ]
  },
  {
   "cell_type": "code",
   "execution_count": 4,
   "id": "5aa17d09-fb92-4a2e-8b81-534831e50496",
   "metadata": {
    "execution": {
     "iopub.execute_input": "2024-12-04T18:25:55.716792Z",
     "iopub.status.busy": "2024-12-04T18:25:55.715795Z",
     "iopub.status.idle": "2024-12-04T18:25:55.727172Z",
     "shell.execute_reply": "2024-12-04T18:25:55.726145Z"
    },
    "tags": [],
    "vscode": {
     "languageId": "r"
    }
   },
   "outputs": [],
   "source": [
    "rownames(exp_df) <- gsub(\"_\", \"-\", rownames(exp_df))"
   ]
  },
  {
   "cell_type": "code",
   "execution_count": 5,
   "id": "e12f1d85-a929-401a-9fe7-1b5dc15270d6",
   "metadata": {
    "execution": {
     "iopub.execute_input": "2024-12-04T18:25:56.287188Z",
     "iopub.status.busy": "2024-12-04T18:25:56.286347Z",
     "iopub.status.idle": "2024-12-04T18:25:56.426418Z",
     "shell.execute_reply": "2024-12-04T18:25:56.425363Z"
    },
    "tags": [],
    "vscode": {
     "languageId": "r"
    }
   },
   "outputs": [
    {
     "data": {
      "text/html": [
       "<table class=\"dataframe\">\n",
       "<caption>A data.frame: 6 × 500</caption>\n",
       "<thead>\n",
       "\t<tr><th></th><th scope=col>cell1</th><th scope=col>cell2</th><th scope=col>cell3</th><th scope=col>cell4</th><th scope=col>cell5</th><th scope=col>cell6</th><th scope=col>cell7</th><th scope=col>cell8</th><th scope=col>cell9</th><th scope=col>cell10</th><th scope=col>⋯</th><th scope=col>cell491</th><th scope=col>cell492</th><th scope=col>cell493</th><th scope=col>cell494</th><th scope=col>cell495</th><th scope=col>cell496</th><th scope=col>cell497</th><th scope=col>cell498</th><th scope=col>cell499</th><th scope=col>cell500</th></tr>\n",
       "\t<tr><th></th><th scope=col>&lt;int&gt;</th><th scope=col>&lt;int&gt;</th><th scope=col>&lt;int&gt;</th><th scope=col>&lt;int&gt;</th><th scope=col>&lt;int&gt;</th><th scope=col>&lt;int&gt;</th><th scope=col>&lt;int&gt;</th><th scope=col>&lt;int&gt;</th><th scope=col>&lt;int&gt;</th><th scope=col>&lt;int&gt;</th><th scope=col>⋯</th><th scope=col>&lt;int&gt;</th><th scope=col>&lt;int&gt;</th><th scope=col>&lt;int&gt;</th><th scope=col>&lt;int&gt;</th><th scope=col>&lt;int&gt;</th><th scope=col>&lt;int&gt;</th><th scope=col>&lt;int&gt;</th><th scope=col>&lt;int&gt;</th><th scope=col>&lt;int&gt;</th><th scope=col>&lt;int&gt;</th></tr>\n",
       "</thead>\n",
       "<tbody>\n",
       "\t<tr><th scope=row>Burn1-TF1</th><td> 8</td><td> 9</td><td> 8</td><td> 6</td><td> 6</td><td>10</td><td> 3</td><td>14</td><td> 7</td><td> 2</td><td>⋯</td><td> 6</td><td> 9</td><td>13</td><td> 8</td><td>11</td><td> 6</td><td>10</td><td>12</td><td> 2</td><td> 3</td></tr>\n",
       "\t<tr><th scope=row>Burn1-TF2</th><td>13</td><td>17</td><td> 3</td><td>11</td><td> 9</td><td>11</td><td> 3</td><td>14</td><td> 7</td><td> 4</td><td>⋯</td><td> 8</td><td> 8</td><td>20</td><td> 9</td><td>12</td><td> 9</td><td>13</td><td> 5</td><td> 6</td><td> 8</td></tr>\n",
       "\t<tr><th scope=row>Burn1-TF3</th><td>17</td><td> 9</td><td>15</td><td>11</td><td>11</td><td>16</td><td>14</td><td>16</td><td>10</td><td> 6</td><td>⋯</td><td> 9</td><td>15</td><td>21</td><td>13</td><td>21</td><td>16</td><td>16</td><td>16</td><td>11</td><td>12</td></tr>\n",
       "\t<tr><th scope=row>Burn2-TF1</th><td>16</td><td>10</td><td>10</td><td>18</td><td>16</td><td>14</td><td>10</td><td>17</td><td>20</td><td>13</td><td>⋯</td><td>12</td><td>18</td><td>23</td><td>17</td><td>15</td><td>12</td><td>19</td><td>25</td><td>15</td><td>17</td></tr>\n",
       "\t<tr><th scope=row>Burn3-TF1</th><td>15</td><td>11</td><td> 9</td><td> 4</td><td>21</td><td>12</td><td> 5</td><td>11</td><td> 7</td><td> 5</td><td>⋯</td><td> 4</td><td> 7</td><td> 6</td><td>14</td><td>10</td><td>10</td><td> 9</td><td>15</td><td> 5</td><td> 5</td></tr>\n",
       "\t<tr><th scope=row>Burn3-TF2</th><td> 7</td><td> 3</td><td> 3</td><td> 2</td><td>11</td><td>10</td><td> 2</td><td> 2</td><td> 7</td><td> 8</td><td>⋯</td><td> 4</td><td>12</td><td> 7</td><td> 8</td><td> 7</td><td> 5</td><td>15</td><td>13</td><td> 3</td><td> 5</td></tr>\n",
       "</tbody>\n",
       "</table>\n"
      ],
      "text/latex": [
       "A data.frame: 6 × 500\n",
       "\\begin{tabular}{r|lllllllllllllllllllll}\n",
       "  & cell1 & cell2 & cell3 & cell4 & cell5 & cell6 & cell7 & cell8 & cell9 & cell10 & ⋯ & cell491 & cell492 & cell493 & cell494 & cell495 & cell496 & cell497 & cell498 & cell499 & cell500\\\\\n",
       "  & <int> & <int> & <int> & <int> & <int> & <int> & <int> & <int> & <int> & <int> & ⋯ & <int> & <int> & <int> & <int> & <int> & <int> & <int> & <int> & <int> & <int>\\\\\n",
       "\\hline\n",
       "\tBurn1-TF1 &  8 &  9 &  8 &  6 &  6 & 10 &  3 & 14 &  7 &  2 & ⋯ &  6 &  9 & 13 &  8 & 11 &  6 & 10 & 12 &  2 &  3\\\\\n",
       "\tBurn1-TF2 & 13 & 17 &  3 & 11 &  9 & 11 &  3 & 14 &  7 &  4 & ⋯ &  8 &  8 & 20 &  9 & 12 &  9 & 13 &  5 &  6 &  8\\\\\n",
       "\tBurn1-TF3 & 17 &  9 & 15 & 11 & 11 & 16 & 14 & 16 & 10 &  6 & ⋯ &  9 & 15 & 21 & 13 & 21 & 16 & 16 & 16 & 11 & 12\\\\\n",
       "\tBurn2-TF1 & 16 & 10 & 10 & 18 & 16 & 14 & 10 & 17 & 20 & 13 & ⋯ & 12 & 18 & 23 & 17 & 15 & 12 & 19 & 25 & 15 & 17\\\\\n",
       "\tBurn3-TF1 & 15 & 11 &  9 &  4 & 21 & 12 &  5 & 11 &  7 &  5 & ⋯ &  4 &  7 &  6 & 14 & 10 & 10 &  9 & 15 &  5 &  5\\\\\n",
       "\tBurn3-TF2 &  7 &  3 &  3 &  2 & 11 & 10 &  2 &  2 &  7 &  8 & ⋯ &  4 & 12 &  7 &  8 &  7 &  5 & 15 & 13 &  3 &  5\\\\\n",
       "\\end{tabular}\n"
      ],
      "text/markdown": [
       "\n",
       "A data.frame: 6 × 500\n",
       "\n",
       "| <!--/--> | cell1 &lt;int&gt; | cell2 &lt;int&gt; | cell3 &lt;int&gt; | cell4 &lt;int&gt; | cell5 &lt;int&gt; | cell6 &lt;int&gt; | cell7 &lt;int&gt; | cell8 &lt;int&gt; | cell9 &lt;int&gt; | cell10 &lt;int&gt; | ⋯ ⋯ | cell491 &lt;int&gt; | cell492 &lt;int&gt; | cell493 &lt;int&gt; | cell494 &lt;int&gt; | cell495 &lt;int&gt; | cell496 &lt;int&gt; | cell497 &lt;int&gt; | cell498 &lt;int&gt; | cell499 &lt;int&gt; | cell500 &lt;int&gt; |\n",
       "|---|---|---|---|---|---|---|---|---|---|---|---|---|---|---|---|---|---|---|---|---|---|\n",
       "| Burn1-TF1 |  8 |  9 |  8 |  6 |  6 | 10 |  3 | 14 |  7 |  2 | ⋯ |  6 |  9 | 13 |  8 | 11 |  6 | 10 | 12 |  2 |  3 |\n",
       "| Burn1-TF2 | 13 | 17 |  3 | 11 |  9 | 11 |  3 | 14 |  7 |  4 | ⋯ |  8 |  8 | 20 |  9 | 12 |  9 | 13 |  5 |  6 |  8 |\n",
       "| Burn1-TF3 | 17 |  9 | 15 | 11 | 11 | 16 | 14 | 16 | 10 |  6 | ⋯ |  9 | 15 | 21 | 13 | 21 | 16 | 16 | 16 | 11 | 12 |\n",
       "| Burn2-TF1 | 16 | 10 | 10 | 18 | 16 | 14 | 10 | 17 | 20 | 13 | ⋯ | 12 | 18 | 23 | 17 | 15 | 12 | 19 | 25 | 15 | 17 |\n",
       "| Burn3-TF1 | 15 | 11 |  9 |  4 | 21 | 12 |  5 | 11 |  7 |  5 | ⋯ |  4 |  7 |  6 | 14 | 10 | 10 |  9 | 15 |  5 |  5 |\n",
       "| Burn3-TF2 |  7 |  3 |  3 |  2 | 11 | 10 |  2 |  2 |  7 |  8 | ⋯ |  4 | 12 |  7 |  8 |  7 |  5 | 15 | 13 |  3 |  5 |\n",
       "\n"
      ],
      "text/plain": [
       "          cell1 cell2 cell3 cell4 cell5 cell6 cell7 cell8 cell9 cell10 ⋯\n",
       "Burn1-TF1  8     9     8     6     6    10     3    14     7     2     ⋯\n",
       "Burn1-TF2 13    17     3    11     9    11     3    14     7     4     ⋯\n",
       "Burn1-TF3 17     9    15    11    11    16    14    16    10     6     ⋯\n",
       "Burn2-TF1 16    10    10    18    16    14    10    17    20    13     ⋯\n",
       "Burn3-TF1 15    11     9     4    21    12     5    11     7     5     ⋯\n",
       "Burn3-TF2  7     3     3     2    11    10     2     2     7     8     ⋯\n",
       "          cell491 cell492 cell493 cell494 cell495 cell496 cell497 cell498\n",
       "Burn1-TF1  6       9      13       8      11       6      10      12     \n",
       "Burn1-TF2  8       8      20       9      12       9      13       5     \n",
       "Burn1-TF3  9      15      21      13      21      16      16      16     \n",
       "Burn2-TF1 12      18      23      17      15      12      19      25     \n",
       "Burn3-TF1  4       7       6      14      10      10       9      15     \n",
       "Burn3-TF2  4      12       7       8       7       5      15      13     \n",
       "          cell499 cell500\n",
       "Burn1-TF1  2       3     \n",
       "Burn1-TF2  6       8     \n",
       "Burn1-TF3 11      12     \n",
       "Burn2-TF1 15      17     \n",
       "Burn3-TF1  5       5     \n",
       "Burn3-TF2  3       5     "
      ]
     },
     "metadata": {},
     "output_type": "display_data"
    }
   ],
   "source": [
    "head(exp_df)"
   ]
  },
  {
   "cell_type": "code",
   "execution_count": 6,
   "id": "c12596ea-6e75-4eb8-8807-40162ddd1b08",
   "metadata": {
    "execution": {
     "iopub.execute_input": "2024-12-04T18:25:56.730008Z",
     "iopub.status.busy": "2024-12-04T18:25:56.729164Z",
     "iopub.status.idle": "2024-12-04T18:25:56.753460Z",
     "shell.execute_reply": "2024-12-04T18:25:56.752425Z"
    },
    "tags": [],
    "vscode": {
     "languageId": "r"
    }
   },
   "outputs": [],
   "source": [
    "meta_info_df <- read.csv(\"pseudotime_output.csv\", row.names = 1)"
   ]
  },
  {
   "cell_type": "code",
   "execution_count": 7,
   "id": "2712e6a0-2c56-4e14-8c93-6c0c5c94b970",
   "metadata": {
    "execution": {
     "iopub.execute_input": "2024-12-04T18:25:57.662188Z",
     "iopub.status.busy": "2024-12-04T18:25:57.661343Z",
     "iopub.status.idle": "2024-12-04T18:25:57.684897Z",
     "shell.execute_reply": "2024-12-04T18:25:57.683890Z"
    },
    "tags": [],
    "vscode": {
     "languageId": "r"
    }
   },
   "outputs": [
    {
     "data": {
      "text/html": [
       "<table class=\"dataframe\">\n",
       "<caption>A data.frame: 6 × 29</caption>\n",
       "<thead>\n",
       "\t<tr><th></th><th scope=col>x</th><th scope=col>y</th><th scope=col>r</th><th scope=col>lineage</th><th scope=col>ONTraC</th><th scope=col>DPT</th><th scope=col>monocle3</th><th scope=col>TSCAN</th><th scope=col>DPT_norm</th><th scope=col>monocle3_norm</th><th scope=col>⋯</th><th scope=col>TSCAN_l2</th><th scope=col>DPT_l2_norm</th><th scope=col>monocle3_l2_norm</th><th scope=col>TSCAN_l2_norm</th><th scope=col>DPT_l3</th><th scope=col>monocle3_l3</th><th scope=col>TSCAN_l3</th><th scope=col>DPT_l3_norm</th><th scope=col>monocle3_l3_norm</th><th scope=col>TSCAN_l3_norm</th></tr>\n",
       "\t<tr><th></th><th scope=col>&lt;dbl&gt;</th><th scope=col>&lt;dbl&gt;</th><th scope=col>&lt;dbl&gt;</th><th scope=col>&lt;int&gt;</th><th scope=col>&lt;dbl&gt;</th><th scope=col>&lt;dbl&gt;</th><th scope=col>&lt;dbl&gt;</th><th scope=col>&lt;int&gt;</th><th scope=col>&lt;dbl&gt;</th><th scope=col>&lt;dbl&gt;</th><th scope=col>⋯</th><th scope=col>&lt;int&gt;</th><th scope=col>&lt;dbl&gt;</th><th scope=col>&lt;dbl&gt;</th><th scope=col>&lt;dbl&gt;</th><th scope=col>&lt;dbl&gt;</th><th scope=col>&lt;dbl&gt;</th><th scope=col>&lt;int&gt;</th><th scope=col>&lt;dbl&gt;</th><th scope=col>&lt;dbl&gt;</th><th scope=col>&lt;dbl&gt;</th></tr>\n",
       "</thead>\n",
       "<tbody>\n",
       "\t<tr><th scope=row>cell1</th><td>0.1899555</td><td>0.7234187</td><td>0.3400232</td><td>3</td><td>0.19909275</td><td>19.494454</td><td>Inf</td><td> 61</td><td>0.7314629</td><td>0.6793587</td><td>⋯</td><td>NA</td><td>       NA</td><td>       NA</td><td>       NA</td><td>3.3383037</td><td>1.5004421</td><td>46</td><td>0.3529412</td><td>0.50000000</td><td>0.44117647</td></tr>\n",
       "\t<tr><th scope=row>cell2</th><td>0.8986162</td><td>0.8862130</td><td>0.2352948</td><td>1</td><td>0.04155392</td><td>26.019171</td><td>Inf</td><td> NA</td><td>0.9118236</td><td>0.8436874</td><td>⋯</td><td>NA</td><td>       NA</td><td>       NA</td><td>       NA</td><td>       NA</td><td>       NA</td><td>NA</td><td>       NA</td><td>        NA</td><td>        NA</td></tr>\n",
       "\t<tr><th scope=row>cell3</th><td>0.1772525</td><td>0.5725945</td><td>0.4814236</td><td>3</td><td>0.44504909</td><td>15.455340</td><td>Inf</td><td>107</td><td>0.6372745</td><td>0.6192385</td><td>⋯</td><td>NA</td><td>       NA</td><td>       NA</td><td>       NA</td><td>0.1857672</td><td>0.2294327</td><td> 7</td><td>0.1274510</td><td>0.28431373</td><td>0.05882353</td></tr>\n",
       "\t<tr><th scope=row>cell4</th><td>0.9773162</td><td>0.2535936</td><td>0.7934621</td><td>2</td><td>0.89561595</td><td> 9.176393</td><td>Inf</td><td> NA</td><td>0.4829659</td><td>0.5711423</td><td>⋯</td><td>57</td><td>0.8275862</td><td>0.6551724</td><td>0.6436782</td><td>       NA</td><td>       NA</td><td>NA</td><td>       NA</td><td>        NA</td><td>        NA</td></tr>\n",
       "\t<tr><th scope=row>cell5</th><td>0.9611189</td><td>0.9822358</td><td>0.1899959</td><td>1</td><td>0.01498122</td><td>25.956647</td><td>Inf</td><td> NA</td><td>0.9058116</td><td>0.6633267</td><td>⋯</td><td>NA</td><td>       NA</td><td>       NA</td><td>       NA</td><td>       NA</td><td>       NA</td><td>NA</td><td>       NA</td><td>        NA</td><td>        NA</td></tr>\n",
       "\t<tr><th scope=row>cell6</th><td>0.2361229</td><td>0.8074413</td><td>0.2451217</td><td>3</td><td>0.10953713</td><td>19.742992</td><td>Inf</td><td> 45</td><td>0.7695391</td><td>0.3687375</td><td>⋯</td><td>NA</td><td>       NA</td><td>       NA</td><td>       NA</td><td>3.5824615</td><td>0.1689272</td><td>61</td><td>0.5294118</td><td>0.01960784</td><td>0.58823529</td></tr>\n",
       "</tbody>\n",
       "</table>\n"
      ],
      "text/latex": [
       "A data.frame: 6 × 29\n",
       "\\begin{tabular}{r|lllllllllllllllllllll}\n",
       "  & x & y & r & lineage & ONTraC & DPT & monocle3 & TSCAN & DPT\\_norm & monocle3\\_norm & ⋯ & TSCAN\\_l2 & DPT\\_l2\\_norm & monocle3\\_l2\\_norm & TSCAN\\_l2\\_norm & DPT\\_l3 & monocle3\\_l3 & TSCAN\\_l3 & DPT\\_l3\\_norm & monocle3\\_l3\\_norm & TSCAN\\_l3\\_norm\\\\\n",
       "  & <dbl> & <dbl> & <dbl> & <int> & <dbl> & <dbl> & <dbl> & <int> & <dbl> & <dbl> & ⋯ & <int> & <dbl> & <dbl> & <dbl> & <dbl> & <dbl> & <int> & <dbl> & <dbl> & <dbl>\\\\\n",
       "\\hline\n",
       "\tcell1 & 0.1899555 & 0.7234187 & 0.3400232 & 3 & 0.19909275 & 19.494454 & Inf &  61 & 0.7314629 & 0.6793587 & ⋯ & NA &        NA &        NA &        NA & 3.3383037 & 1.5004421 & 46 & 0.3529412 & 0.50000000 & 0.44117647\\\\\n",
       "\tcell2 & 0.8986162 & 0.8862130 & 0.2352948 & 1 & 0.04155392 & 26.019171 & Inf &  NA & 0.9118236 & 0.8436874 & ⋯ & NA &        NA &        NA &        NA &        NA &        NA & NA &        NA &         NA &         NA\\\\\n",
       "\tcell3 & 0.1772525 & 0.5725945 & 0.4814236 & 3 & 0.44504909 & 15.455340 & Inf & 107 & 0.6372745 & 0.6192385 & ⋯ & NA &        NA &        NA &        NA & 0.1857672 & 0.2294327 &  7 & 0.1274510 & 0.28431373 & 0.05882353\\\\\n",
       "\tcell4 & 0.9773162 & 0.2535936 & 0.7934621 & 2 & 0.89561595 &  9.176393 & Inf &  NA & 0.4829659 & 0.5711423 & ⋯ & 57 & 0.8275862 & 0.6551724 & 0.6436782 &        NA &        NA & NA &        NA &         NA &         NA\\\\\n",
       "\tcell5 & 0.9611189 & 0.9822358 & 0.1899959 & 1 & 0.01498122 & 25.956647 & Inf &  NA & 0.9058116 & 0.6633267 & ⋯ & NA &        NA &        NA &        NA &        NA &        NA & NA &        NA &         NA &         NA\\\\\n",
       "\tcell6 & 0.2361229 & 0.8074413 & 0.2451217 & 3 & 0.10953713 & 19.742992 & Inf &  45 & 0.7695391 & 0.3687375 & ⋯ & NA &        NA &        NA &        NA & 3.5824615 & 0.1689272 & 61 & 0.5294118 & 0.01960784 & 0.58823529\\\\\n",
       "\\end{tabular}\n"
      ],
      "text/markdown": [
       "\n",
       "A data.frame: 6 × 29\n",
       "\n",
       "| <!--/--> | x &lt;dbl&gt; | y &lt;dbl&gt; | r &lt;dbl&gt; | lineage &lt;int&gt; | ONTraC &lt;dbl&gt; | DPT &lt;dbl&gt; | monocle3 &lt;dbl&gt; | TSCAN &lt;int&gt; | DPT_norm &lt;dbl&gt; | monocle3_norm &lt;dbl&gt; | ⋯ ⋯ | TSCAN_l2 &lt;int&gt; | DPT_l2_norm &lt;dbl&gt; | monocle3_l2_norm &lt;dbl&gt; | TSCAN_l2_norm &lt;dbl&gt; | DPT_l3 &lt;dbl&gt; | monocle3_l3 &lt;dbl&gt; | TSCAN_l3 &lt;int&gt; | DPT_l3_norm &lt;dbl&gt; | monocle3_l3_norm &lt;dbl&gt; | TSCAN_l3_norm &lt;dbl&gt; |\n",
       "|---|---|---|---|---|---|---|---|---|---|---|---|---|---|---|---|---|---|---|---|---|---|\n",
       "| cell1 | 0.1899555 | 0.7234187 | 0.3400232 | 3 | 0.19909275 | 19.494454 | Inf |  61 | 0.7314629 | 0.6793587 | ⋯ | NA |        NA |        NA |        NA | 3.3383037 | 1.5004421 | 46 | 0.3529412 | 0.50000000 | 0.44117647 |\n",
       "| cell2 | 0.8986162 | 0.8862130 | 0.2352948 | 1 | 0.04155392 | 26.019171 | Inf |  NA | 0.9118236 | 0.8436874 | ⋯ | NA |        NA |        NA |        NA |        NA |        NA | NA |        NA |         NA |         NA |\n",
       "| cell3 | 0.1772525 | 0.5725945 | 0.4814236 | 3 | 0.44504909 | 15.455340 | Inf | 107 | 0.6372745 | 0.6192385 | ⋯ | NA |        NA |        NA |        NA | 0.1857672 | 0.2294327 |  7 | 0.1274510 | 0.28431373 | 0.05882353 |\n",
       "| cell4 | 0.9773162 | 0.2535936 | 0.7934621 | 2 | 0.89561595 |  9.176393 | Inf |  NA | 0.4829659 | 0.5711423 | ⋯ | 57 | 0.8275862 | 0.6551724 | 0.6436782 |        NA |        NA | NA |        NA |         NA |         NA |\n",
       "| cell5 | 0.9611189 | 0.9822358 | 0.1899959 | 1 | 0.01498122 | 25.956647 | Inf |  NA | 0.9058116 | 0.6633267 | ⋯ | NA |        NA |        NA |        NA |        NA |        NA | NA |        NA |         NA |         NA |\n",
       "| cell6 | 0.2361229 | 0.8074413 | 0.2451217 | 3 | 0.10953713 | 19.742992 | Inf |  45 | 0.7695391 | 0.3687375 | ⋯ | NA |        NA |        NA |        NA | 3.5824615 | 0.1689272 | 61 | 0.5294118 | 0.01960784 | 0.58823529 |\n",
       "\n"
      ],
      "text/plain": [
       "      x         y         r         lineage ONTraC     DPT       monocle3 TSCAN\n",
       "cell1 0.1899555 0.7234187 0.3400232 3       0.19909275 19.494454 Inf       61  \n",
       "cell2 0.8986162 0.8862130 0.2352948 1       0.04155392 26.019171 Inf       NA  \n",
       "cell3 0.1772525 0.5725945 0.4814236 3       0.44504909 15.455340 Inf      107  \n",
       "cell4 0.9773162 0.2535936 0.7934621 2       0.89561595  9.176393 Inf       NA  \n",
       "cell5 0.9611189 0.9822358 0.1899959 1       0.01498122 25.956647 Inf       NA  \n",
       "cell6 0.2361229 0.8074413 0.2451217 3       0.10953713 19.742992 Inf       45  \n",
       "      DPT_norm  monocle3_norm ⋯ TSCAN_l2 DPT_l2_norm monocle3_l2_norm\n",
       "cell1 0.7314629 0.6793587     ⋯ NA              NA          NA       \n",
       "cell2 0.9118236 0.8436874     ⋯ NA              NA          NA       \n",
       "cell3 0.6372745 0.6192385     ⋯ NA              NA          NA       \n",
       "cell4 0.4829659 0.5711423     ⋯ 57       0.8275862   0.6551724       \n",
       "cell5 0.9058116 0.6633267     ⋯ NA              NA          NA       \n",
       "cell6 0.7695391 0.3687375     ⋯ NA              NA          NA       \n",
       "      TSCAN_l2_norm DPT_l3    monocle3_l3 TSCAN_l3 DPT_l3_norm monocle3_l3_norm\n",
       "cell1        NA     3.3383037 1.5004421   46       0.3529412   0.50000000      \n",
       "cell2        NA            NA        NA   NA              NA           NA      \n",
       "cell3        NA     0.1857672 0.2294327    7       0.1274510   0.28431373      \n",
       "cell4 0.6436782            NA        NA   NA              NA           NA      \n",
       "cell5        NA            NA        NA   NA              NA           NA      \n",
       "cell6        NA     3.5824615 0.1689272   61       0.5294118   0.01960784      \n",
       "      TSCAN_l3_norm\n",
       "cell1 0.44117647   \n",
       "cell2         NA   \n",
       "cell3 0.05882353   \n",
       "cell4         NA   \n",
       "cell5         NA   \n",
       "cell6 0.58823529   "
      ]
     },
     "metadata": {},
     "output_type": "display_data"
    }
   ],
   "source": [
    "head(meta_info_df)"
   ]
  },
  {
   "cell_type": "code",
   "execution_count": 8,
   "id": "e12f445f-b8fd-454a-95e5-3591ce235483",
   "metadata": {
    "execution": {
     "iopub.execute_input": "2024-12-04T18:25:58.185069Z",
     "iopub.status.busy": "2024-12-04T18:25:58.184215Z",
     "iopub.status.idle": "2024-12-04T18:25:58.192258Z",
     "shell.execute_reply": "2024-12-04T18:25:58.191229Z"
    },
    "tags": [],
    "vscode": {
     "languageId": "r"
    }
   },
   "outputs": [],
   "source": [
    "xy_coods <- as.matrix(meta_info_df[colnames(exp_df),c('x', 'y')])"
   ]
  },
  {
   "cell_type": "code",
   "execution_count": 9,
   "id": "14c9b2d1-2bc8-438c-8717-4c59a6412b96",
   "metadata": {
    "execution": {
     "iopub.execute_input": "2024-12-04T18:25:58.532553Z",
     "iopub.status.busy": "2024-12-04T18:25:58.531706Z",
     "iopub.status.idle": "2024-12-04T18:25:58.544545Z",
     "shell.execute_reply": "2024-12-04T18:25:58.543545Z"
    },
    "tags": [],
    "vscode": {
     "languageId": "r"
    }
   },
   "outputs": [
    {
     "data": {
      "text/html": [
       "<table class=\"dataframe\">\n",
       "<caption>A matrix: 6 × 2 of type dbl</caption>\n",
       "<thead>\n",
       "\t<tr><th></th><th scope=col>x</th><th scope=col>y</th></tr>\n",
       "</thead>\n",
       "<tbody>\n",
       "\t<tr><th scope=row>cell1</th><td>0.1899555</td><td>0.7234187</td></tr>\n",
       "\t<tr><th scope=row>cell2</th><td>0.8986162</td><td>0.8862130</td></tr>\n",
       "\t<tr><th scope=row>cell3</th><td>0.1772525</td><td>0.5725945</td></tr>\n",
       "\t<tr><th scope=row>cell4</th><td>0.9773162</td><td>0.2535936</td></tr>\n",
       "\t<tr><th scope=row>cell5</th><td>0.9611189</td><td>0.9822358</td></tr>\n",
       "\t<tr><th scope=row>cell6</th><td>0.2361229</td><td>0.8074413</td></tr>\n",
       "</tbody>\n",
       "</table>\n"
      ],
      "text/latex": [
       "A matrix: 6 × 2 of type dbl\n",
       "\\begin{tabular}{r|ll}\n",
       "  & x & y\\\\\n",
       "\\hline\n",
       "\tcell1 & 0.1899555 & 0.7234187\\\\\n",
       "\tcell2 & 0.8986162 & 0.8862130\\\\\n",
       "\tcell3 & 0.1772525 & 0.5725945\\\\\n",
       "\tcell4 & 0.9773162 & 0.2535936\\\\\n",
       "\tcell5 & 0.9611189 & 0.9822358\\\\\n",
       "\tcell6 & 0.2361229 & 0.8074413\\\\\n",
       "\\end{tabular}\n"
      ],
      "text/markdown": [
       "\n",
       "A matrix: 6 × 2 of type dbl\n",
       "\n",
       "| <!--/--> | x | y |\n",
       "|---|---|---|\n",
       "| cell1 | 0.1899555 | 0.7234187 |\n",
       "| cell2 | 0.8986162 | 0.8862130 |\n",
       "| cell3 | 0.1772525 | 0.5725945 |\n",
       "| cell4 | 0.9773162 | 0.2535936 |\n",
       "| cell5 | 0.9611189 | 0.9822358 |\n",
       "| cell6 | 0.2361229 | 0.8074413 |\n",
       "\n"
      ],
      "text/plain": [
       "      x         y        \n",
       "cell1 0.1899555 0.7234187\n",
       "cell2 0.8986162 0.8862130\n",
       "cell3 0.1772525 0.5725945\n",
       "cell4 0.9773162 0.2535936\n",
       "cell5 0.9611189 0.9822358\n",
       "cell6 0.2361229 0.8074413"
      ]
     },
     "metadata": {},
     "output_type": "display_data"
    }
   ],
   "source": [
    "head(xy_coods)"
   ]
  },
  {
   "cell_type": "code",
   "execution_count": null,
   "id": "4fb8664e-ab9a-4e39-9545-f08a5d81338b",
   "metadata": {
    "execution": {
     "iopub.execute_input": "2024-12-04T18:25:58.920419Z",
     "iopub.status.busy": "2024-12-04T18:25:58.919572Z",
     "iopub.status.idle": "2024-12-04T18:26:01.625962Z",
     "shell.execute_reply": "2024-12-04T18:26:01.624204Z"
    },
    "tags": [],
    "vscode": {
     "languageId": "r"
    }
   },
   "outputs": [
    {
     "name": "stdout",
     "output_type": "stream",
     "text": [
      "## Use SCTransform function in Seurat to normalize data. \n"
     ]
    },
    {
     "name": "stderr",
     "output_type": "stream",
     "text": [
      "Calculating cell attributes from input UMI matrix: log_umi\n",
      "\n",
      "Variance stabilizing transformation of count matrix of size 100 by 500\n",
      "\n",
      "Model formula is y ~ log_umi\n",
      "\n",
      "Get Negative Binomial regression parameters per gene\n",
      "\n",
      "Using 100 genes, 500 cells\n",
      "\n"
     ]
    },
    {
     "name": "stdout",
     "output_type": "stream",
     "text": [
      "  |======================================================================| 100%\n"
     ]
    },
    {
     "name": "stderr",
     "output_type": "stream",
     "text": [
      "Found 7 outliers - those will be ignored in fitting/regularization step\n",
      "\n",
      "\n",
      "Second step: Get residuals using fitted parameters for 100 genes\n",
      "\n"
     ]
    },
    {
     "name": "stdout",
     "output_type": "stream",
     "text": [
      "  |======================================================================| 100%\n"
     ]
    },
    {
     "name": "stderr",
     "output_type": "stream",
     "text": [
      "Computing corrected count matrix for 100 genes\n",
      "\n"
     ]
    },
    {
     "name": "stdout",
     "output_type": "stream",
     "text": [
      "  |======================================================================| 100%\n"
     ]
    },
    {
     "name": "stderr",
     "output_type": "stream",
     "text": [
      "Calculating gene attributes\n",
      "\n",
      "Wall clock passed: Time difference of 0.7465107 secs\n",
      "\n",
      "Determine variable features\n",
      "\n",
      "Place corrected count matrix in counts slot\n",
      "\n",
      "Centering data matrix\n",
      "\n",
      "Set default assay to SCT\n",
      "\n"
     ]
    },
    {
     "name": "stdout",
     "output_type": "stream",
     "text": [
      "## Use spark.test function in SPARK package to select spatially variable genes. \n",
      "## ===== SPARK INPUT INFORMATION ==== \n",
      "## number of total samples:  500 \n",
      "## number of total features:  98 \n",
      "## number of adjusted covariates:  0 \n",
      "# fitting normalized count-based spatial model under the null hypothesis ... \n",
      "## testing Gaussian kernel: 1...\n",
      "## testing Periodic kernel: 1...\n",
      "## testing Gaussian kernel: 2...\n",
      "## testing Periodic kernel: 2...\n",
      "## testing Gaussian kernel: 3...\n",
      "## testing Periodic kernel: 3...\n",
      "## testing Gaussian kernel: 4...\n",
      "## testing Periodic kernel: 4...\n",
      "## testing Gaussian kernel: 5...\n",
      "## testing Periodic kernel: 5...\n",
      "## Identified  1  spatial genes through spark.test function. \n",
      "The  number of significant spatial genes is less than the specified number of spatial genes. \n",
      "## Using  1  significant spatially variable genes. \n"
     ]
    }
   ],
   "source": [
    "# no enough spatial genes detected here, so SpatialPCA can not get results\n",
    "spatialPCA_obj <- CreateSpatialPCAObject(counts=as.matrix(exp_df), location=xy_coods, project = \"SpatialPCA\",gene.type=\"spatial\",sparkversion=\"spark\",numCores_spark=5,gene.number=3000, customGenelist=NULL,min.loctions = 2, min.features=2)\n"
   ]
  },
  {
   "cell_type": "code",
   "execution_count": 11,
   "id": "9991a839-13d4-4544-94a0-81cc6fabac05",
   "metadata": {
    "execution": {
     "iopub.execute_input": "2024-12-04T18:26:03.919559Z",
     "iopub.status.busy": "2024-12-04T18:26:03.918659Z",
     "iopub.status.idle": "2024-12-04T18:26:03.930303Z",
     "shell.execute_reply": "2024-12-04T18:26:03.929227Z"
    },
    "tags": [],
    "vscode": {
     "languageId": "r"
    }
   },
   "outputs": [
    {
     "name": "stdout",
     "output_type": "stream",
     "text": [
      "## Selected kernel type is:  gaussian  \n"
     ]
    },
    {
     "ename": "ERROR",
     "evalue": "Error in 1:dim(object@normalized_expr)[1]: argument of length 0\n",
     "output_type": "error",
     "traceback": [
      "Error in 1:dim(object@normalized_expr)[1]: argument of length 0\nTraceback:\n",
      "1. SpatialPCA_buildKernel(spatialPCA_obj, kerneltype = \"gaussian\", \n .     bandwidthtype = \"SJ\", bandwidth.set.by.user = NULL)"
     ]
    }
   ],
   "source": [
    "spatialPCA_obj <- SpatialPCA_buildKernel(spatialPCA_obj, kerneltype=\"gaussian\", bandwidthtype=\"SJ\",bandwidth.set.by.user=NULL)\n",
    "spatialPCA_obj <- SpatialPCA_EstimateLoading(spatialPCA_obj,fast=FALSE,SpatialPCnum=10) \n",
    "spatialPCA_obj <- SpatialPCA_SpatialPCs(spatialPCA_obj, fast=FALSE)"
   ]
  },
  {
   "cell_type": "code",
   "execution_count": null,
   "id": "ac3aa06c-1eca-45c3-af10-1456f00d85b1",
   "metadata": {
    "tags": [],
    "vscode": {
     "languageId": "r"
    }
   },
   "outputs": [],
   "source": [
    "clusterlabel= walktrap_clustering(clusternum=6,\n",
    "                                  latent_dat=spatialPCA_obj@SpatialPCs,\n",
    "                                  knearest=round(sqrt(dim(spatialPCA_obj@SpatialPCs)[2]))\n",
    "                                 ) "
   ]
  },
  {
   "cell_type": "code",
   "execution_count": null,
   "id": "a27b2712-ebfd-4d8b-8fb2-c6a72dcf3144",
   "metadata": {
    "tags": [],
    "vscode": {
     "languageId": "r"
    }
   },
   "outputs": [],
   "source": [
    "sce <- SingleCellExperiment(assays = as.matrix(exp_df))"
   ]
  },
  {
   "cell_type": "code",
   "execution_count": null,
   "id": "c6e20c2b-9d4b-4db4-81f7-f67224caeedd",
   "metadata": {
    "tags": [],
    "vscode": {
     "languageId": "r"
    }
   },
   "outputs": [],
   "source": [
    "reducedDims(sce) <- SimpleList(DRM = t(spatialPCA_obj@SpatialPCs))"
   ]
  },
  {
   "cell_type": "code",
   "execution_count": null,
   "id": "972c481c-4b20-4e10-90cb-75c9aeb2d64d",
   "metadata": {
    "tags": [],
    "vscode": {
     "languageId": "r"
    }
   },
   "outputs": [],
   "source": [
    "colData(sce)$clusterlabel <- factor(clusterlabel)    \n",
    "sce  <-slingshot(sce, clusterLabels = 'clusterlabel', reducedDim = 'DRM',start.clus=\"3\" ) \n",
    "# in this data we set white matter region as start cluster, one can change to their preferred start region \n",
    "\n",
    "# summary(sce@colData@listData)\n",
    "pseudotime_traj1 <- sce@colData@listData$slingPseudotime_1 # in this data only one trajectory was inferred\n"
   ]
  },
  {
   "cell_type": "code",
   "execution_count": null,
   "id": "b3a6656b-8cea-405a-b8a0-e4dfcdc56b3a",
   "metadata": {
    "tags": [],
    "vscode": {
     "languageId": "r"
    }
   },
   "outputs": [],
   "source": [
    "write.csv(pseudotime_traj1, \"pseudotime_spatial_pca.csv\")"
   ]
  }
 ],
 "metadata": {
  "kernelspec": {
   "display_name": "R 4.3 Seurat v4",
   "language": "R",
   "name": "ir4.3seuratv4"
  },
  "language_info": {
   "codemirror_mode": "r",
   "file_extension": ".r",
   "mimetype": "text/x-r-source",
   "name": "R",
   "pygments_lexer": "r",
   "version": "4.3.2"
  }
 },
 "nbformat": 4,
 "nbformat_minor": 5
}
