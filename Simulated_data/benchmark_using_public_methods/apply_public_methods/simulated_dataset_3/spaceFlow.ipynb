{
 "cells": [
  {
   "cell_type": "markdown",
   "id": "16eeb08f-b140-4126-bf97-00f7f52651b9",
   "metadata": {},
   "source": [
    "# Notes"
   ]
  },
  {
   "cell_type": "markdown",
   "id": "b4112f82-2882-4bf8-851a-fbf1775e79f0",
   "metadata": {},
   "source": [
    "# Load Modules"
   ]
  },
  {
   "cell_type": "code",
   "execution_count": 1,
   "id": "0422ac21-083d-4a4b-ac35-94da5ee2a8f1",
   "metadata": {
    "execution": {
     "iopub.execute_input": "2024-12-04T18:15:55.330325Z",
     "iopub.status.busy": "2024-12-04T18:15:55.330050Z",
     "iopub.status.idle": "2024-12-04T18:16:46.305374Z",
     "shell.execute_reply": "2024-12-04T18:16:46.304879Z",
     "shell.execute_reply.started": "2024-12-04T18:15:55.330307Z"
    },
    "tags": []
   },
   "outputs": [],
   "source": [
    "import numpy as np\n",
    "import pandas as pd\n",
    "\n",
    "import anndata as adata\n",
    "import scanpy as sc\n",
    "import squidpy as sq\n",
    "from SpaceFlow import SpaceFlow"
   ]
  },
  {
   "cell_type": "markdown",
   "id": "5b05daa4-1d7e-4560-a7d2-1c26ab9651a6",
   "metadata": {},
   "source": [
    "# Load Data"
   ]
  },
  {
   "cell_type": "code",
   "execution_count": 3,
   "id": "734a0fa1-1cd0-4782-b96a-04f03c2d508c",
   "metadata": {
    "execution": {
     "iopub.execute_input": "2024-12-04T18:22:07.658486Z",
     "iopub.status.busy": "2024-12-04T18:22:07.658129Z",
     "iopub.status.idle": "2024-12-04T18:22:07.728174Z",
     "shell.execute_reply": "2024-12-04T18:22:07.727788Z",
     "shell.execute_reply.started": "2024-12-04T18:22:07.658467Z"
    },
    "tags": []
   },
   "outputs": [
    {
     "data": {
      "text/html": [
       "<div>\n",
       "<style scoped>\n",
       "    .dataframe tbody tr th:only-of-type {\n",
       "        vertical-align: middle;\n",
       "    }\n",
       "\n",
       "    .dataframe tbody tr th {\n",
       "        vertical-align: top;\n",
       "    }\n",
       "\n",
       "    .dataframe thead th {\n",
       "        text-align: right;\n",
       "    }\n",
       "</style>\n",
       "<table border=\"1\" class=\"dataframe\">\n",
       "  <thead>\n",
       "    <tr style=\"text-align: right;\">\n",
       "      <th></th>\n",
       "      <th>cell1</th>\n",
       "      <th>cell2</th>\n",
       "      <th>cell3</th>\n",
       "      <th>cell4</th>\n",
       "      <th>cell5</th>\n",
       "      <th>cell6</th>\n",
       "      <th>cell7</th>\n",
       "      <th>cell8</th>\n",
       "      <th>cell9</th>\n",
       "      <th>cell10</th>\n",
       "      <th>...</th>\n",
       "      <th>cell491</th>\n",
       "      <th>cell492</th>\n",
       "      <th>cell493</th>\n",
       "      <th>cell494</th>\n",
       "      <th>cell495</th>\n",
       "      <th>cell496</th>\n",
       "      <th>cell497</th>\n",
       "      <th>cell498</th>\n",
       "      <th>cell499</th>\n",
       "      <th>cell500</th>\n",
       "    </tr>\n",
       "  </thead>\n",
       "  <tbody>\n",
       "    <tr>\n",
       "      <th>Burn1_TF1</th>\n",
       "      <td>8</td>\n",
       "      <td>9</td>\n",
       "      <td>8</td>\n",
       "      <td>6</td>\n",
       "      <td>6</td>\n",
       "      <td>10</td>\n",
       "      <td>3</td>\n",
       "      <td>14</td>\n",
       "      <td>7</td>\n",
       "      <td>2</td>\n",
       "      <td>...</td>\n",
       "      <td>6</td>\n",
       "      <td>9</td>\n",
       "      <td>13</td>\n",
       "      <td>8</td>\n",
       "      <td>11</td>\n",
       "      <td>6</td>\n",
       "      <td>10</td>\n",
       "      <td>12</td>\n",
       "      <td>2</td>\n",
       "      <td>3</td>\n",
       "    </tr>\n",
       "    <tr>\n",
       "      <th>Burn1_TF2</th>\n",
       "      <td>13</td>\n",
       "      <td>17</td>\n",
       "      <td>3</td>\n",
       "      <td>11</td>\n",
       "      <td>9</td>\n",
       "      <td>11</td>\n",
       "      <td>3</td>\n",
       "      <td>14</td>\n",
       "      <td>7</td>\n",
       "      <td>4</td>\n",
       "      <td>...</td>\n",
       "      <td>8</td>\n",
       "      <td>8</td>\n",
       "      <td>20</td>\n",
       "      <td>9</td>\n",
       "      <td>12</td>\n",
       "      <td>9</td>\n",
       "      <td>13</td>\n",
       "      <td>5</td>\n",
       "      <td>6</td>\n",
       "      <td>8</td>\n",
       "    </tr>\n",
       "    <tr>\n",
       "      <th>Burn1_TF3</th>\n",
       "      <td>17</td>\n",
       "      <td>9</td>\n",
       "      <td>15</td>\n",
       "      <td>11</td>\n",
       "      <td>11</td>\n",
       "      <td>16</td>\n",
       "      <td>14</td>\n",
       "      <td>16</td>\n",
       "      <td>10</td>\n",
       "      <td>6</td>\n",
       "      <td>...</td>\n",
       "      <td>9</td>\n",
       "      <td>15</td>\n",
       "      <td>21</td>\n",
       "      <td>13</td>\n",
       "      <td>21</td>\n",
       "      <td>16</td>\n",
       "      <td>16</td>\n",
       "      <td>16</td>\n",
       "      <td>11</td>\n",
       "      <td>12</td>\n",
       "    </tr>\n",
       "    <tr>\n",
       "      <th>Burn2_TF1</th>\n",
       "      <td>16</td>\n",
       "      <td>10</td>\n",
       "      <td>10</td>\n",
       "      <td>18</td>\n",
       "      <td>16</td>\n",
       "      <td>14</td>\n",
       "      <td>10</td>\n",
       "      <td>17</td>\n",
       "      <td>20</td>\n",
       "      <td>13</td>\n",
       "      <td>...</td>\n",
       "      <td>12</td>\n",
       "      <td>18</td>\n",
       "      <td>23</td>\n",
       "      <td>17</td>\n",
       "      <td>15</td>\n",
       "      <td>12</td>\n",
       "      <td>19</td>\n",
       "      <td>25</td>\n",
       "      <td>15</td>\n",
       "      <td>17</td>\n",
       "    </tr>\n",
       "    <tr>\n",
       "      <th>Burn3_TF1</th>\n",
       "      <td>15</td>\n",
       "      <td>11</td>\n",
       "      <td>9</td>\n",
       "      <td>4</td>\n",
       "      <td>21</td>\n",
       "      <td>12</td>\n",
       "      <td>5</td>\n",
       "      <td>11</td>\n",
       "      <td>7</td>\n",
       "      <td>5</td>\n",
       "      <td>...</td>\n",
       "      <td>4</td>\n",
       "      <td>7</td>\n",
       "      <td>6</td>\n",
       "      <td>14</td>\n",
       "      <td>10</td>\n",
       "      <td>10</td>\n",
       "      <td>9</td>\n",
       "      <td>15</td>\n",
       "      <td>5</td>\n",
       "      <td>5</td>\n",
       "    </tr>\n",
       "  </tbody>\n",
       "</table>\n",
       "<p>5 rows × 500 columns</p>\n",
       "</div>"
      ],
      "text/plain": [
       "           cell1  cell2  cell3  cell4  cell5  cell6  cell7  cell8  cell9  \\\n",
       "Burn1_TF1      8      9      8      6      6     10      3     14      7   \n",
       "Burn1_TF2     13     17      3     11      9     11      3     14      7   \n",
       "Burn1_TF3     17      9     15     11     11     16     14     16     10   \n",
       "Burn2_TF1     16     10     10     18     16     14     10     17     20   \n",
       "Burn3_TF1     15     11      9      4     21     12      5     11      7   \n",
       "\n",
       "           cell10  ...  cell491  cell492  cell493  cell494  cell495  cell496  \\\n",
       "Burn1_TF1       2  ...        6        9       13        8       11        6   \n",
       "Burn1_TF2       4  ...        8        8       20        9       12        9   \n",
       "Burn1_TF3       6  ...        9       15       21       13       21       16   \n",
       "Burn2_TF1      13  ...       12       18       23       17       15       12   \n",
       "Burn3_TF1       5  ...        4        7        6       14       10       10   \n",
       "\n",
       "           cell497  cell498  cell499  cell500  \n",
       "Burn1_TF1       10       12        2        3  \n",
       "Burn1_TF2       13        5        6        8  \n",
       "Burn1_TF3       16       16       11       12  \n",
       "Burn2_TF1       19       25       15       17  \n",
       "Burn3_TF1        9       15        5        5  \n",
       "\n",
       "[5 rows x 500 columns]"
      ]
     },
     "execution_count": 3,
     "metadata": {},
     "output_type": "execute_result"
    }
   ],
   "source": [
    "exp_df = pd.read_csv(\"./simulated_expression.csv\", index_col=0)\n",
    "exp_df.head()"
   ]
  },
  {
   "cell_type": "code",
   "execution_count": null,
   "id": "84c7a869-b96e-401f-94d1-e143536459c0",
   "metadata": {
    "execution": {
     "iopub.execute_input": "2024-12-04T18:22:08.702300Z",
     "iopub.status.busy": "2024-12-04T18:22:08.701930Z",
     "iopub.status.idle": "2024-12-04T18:22:08.710368Z",
     "shell.execute_reply": "2024-12-04T18:22:08.710008Z",
     "shell.execute_reply.started": "2024-12-04T18:22:08.702283Z"
    },
    "tags": []
   },
   "outputs": [
    {
     "data": {
      "text/html": [
       "<div>\n",
       "<style scoped>\n",
       "    .dataframe tbody tr th:only-of-type {\n",
       "        vertical-align: middle;\n",
       "    }\n",
       "\n",
       "    .dataframe tbody tr th {\n",
       "        vertical-align: top;\n",
       "    }\n",
       "\n",
       "    .dataframe thead th {\n",
       "        text-align: right;\n",
       "    }\n",
       "</style>\n",
       "<table border=\"1\" class=\"dataframe\">\n",
       "  <thead>\n",
       "    <tr style=\"text-align: right;\">\n",
       "      <th></th>\n",
       "      <th>x</th>\n",
       "      <th>y</th>\n",
       "      <th>Niche_NTScore</th>\n",
       "      <th>Cell_NTScore</th>\n",
       "      <th>Ground_Truth</th>\n",
       "      <th>Cell_Type</th>\n",
       "      <th>Lineage</th>\n",
       "    </tr>\n",
       "    <tr>\n",
       "      <th>Cell_ID</th>\n",
       "      <th></th>\n",
       "      <th></th>\n",
       "      <th></th>\n",
       "      <th></th>\n",
       "      <th></th>\n",
       "      <th></th>\n",
       "      <th></th>\n",
       "    </tr>\n",
       "  </thead>\n",
       "  <tbody>\n",
       "    <tr>\n",
       "      <th>cell1</th>\n",
       "      <td>0.189955</td>\n",
       "      <td>0.723419</td>\n",
       "      <td>0.199948</td>\n",
       "      <td>0.199093</td>\n",
       "      <td>0.340023</td>\n",
       "      <td>I</td>\n",
       "      <td>3</td>\n",
       "    </tr>\n",
       "    <tr>\n",
       "      <th>cell2</th>\n",
       "      <td>0.898616</td>\n",
       "      <td>0.886213</td>\n",
       "      <td>0.004731</td>\n",
       "      <td>0.041554</td>\n",
       "      <td>0.235295</td>\n",
       "      <td>A</td>\n",
       "      <td>1</td>\n",
       "    </tr>\n",
       "    <tr>\n",
       "      <th>cell3</th>\n",
       "      <td>0.177252</td>\n",
       "      <td>0.572594</td>\n",
       "      <td>0.487955</td>\n",
       "      <td>0.445049</td>\n",
       "      <td>0.481424</td>\n",
       "      <td>I</td>\n",
       "      <td>3</td>\n",
       "    </tr>\n",
       "    <tr>\n",
       "      <th>cell4</th>\n",
       "      <td>0.977316</td>\n",
       "      <td>0.253594</td>\n",
       "      <td>0.886338</td>\n",
       "      <td>0.895616</td>\n",
       "      <td>0.793462</td>\n",
       "      <td>G</td>\n",
       "      <td>2</td>\n",
       "    </tr>\n",
       "    <tr>\n",
       "      <th>cell5</th>\n",
       "      <td>0.961119</td>\n",
       "      <td>0.982236</td>\n",
       "      <td>0.002581</td>\n",
       "      <td>0.014981</td>\n",
       "      <td>0.189996</td>\n",
       "      <td>A</td>\n",
       "      <td>1</td>\n",
       "    </tr>\n",
       "  </tbody>\n",
       "</table>\n",
       "</div>"
      ],
      "text/plain": [
       "                x         y  Niche_NTScore  Cell_NTScore  Ground_Truth  \\\n",
       "Cell_ID                                                                  \n",
       "cell1    0.189955  0.723419       0.199948      0.199093      0.340023   \n",
       "cell2    0.898616  0.886213       0.004731      0.041554      0.235295   \n",
       "cell3    0.177252  0.572594       0.487955      0.445049      0.481424   \n",
       "cell4    0.977316  0.253594       0.886338      0.895616      0.793462   \n",
       "cell5    0.961119  0.982236       0.002581      0.014981      0.189996   \n",
       "\n",
       "        Cell_Type  Lineage  \n",
       "Cell_ID                     \n",
       "cell1           I        3  \n",
       "cell2           A        1  \n",
       "cell3           I        3  \n",
       "cell4           G        2  \n",
       "cell5           A        1  "
      ]
     },
     "execution_count": 4,
     "metadata": {},
     "output_type": "execute_result"
    }
   ],
   "source": [
    "meta_info_df = pd.read_csv(\"./simulation_nonlinear_ontrac_input.csv\", index_col=0)\n",
    "meta_info_df.head()"
   ]
  },
  {
   "cell_type": "code",
   "execution_count": 5,
   "id": "199e8cb7-ba3d-4996-82ad-e7bad4b2c104",
   "metadata": {
    "execution": {
     "iopub.execute_input": "2024-12-04T18:22:10.364922Z",
     "iopub.status.busy": "2024-12-04T18:22:10.364576Z",
     "iopub.status.idle": "2024-12-04T18:22:10.369898Z",
     "shell.execute_reply": "2024-12-04T18:22:10.369495Z",
     "shell.execute_reply.started": "2024-12-04T18:22:10.364906Z"
    },
    "tags": []
   },
   "outputs": [],
   "source": [
    "ad = adata.AnnData(exp_df.T)"
   ]
  },
  {
   "cell_type": "code",
   "execution_count": 6,
   "id": "03ec2be9-e42b-48ff-a164-b3858fdb972a",
   "metadata": {
    "execution": {
     "iopub.execute_input": "2024-12-04T18:22:10.749431Z",
     "iopub.status.busy": "2024-12-04T18:22:10.749070Z",
     "iopub.status.idle": "2024-12-04T18:22:10.752266Z",
     "shell.execute_reply": "2024-12-04T18:22:10.751915Z",
     "shell.execute_reply.started": "2024-12-04T18:22:10.749415Z"
    },
    "tags": []
   },
   "outputs": [
    {
     "data": {
      "text/plain": [
       "array([[ 8, 13, 17, ...,  0,  0,  0],\n",
       "       [ 9, 17,  9, ..., 10, 22,  7],\n",
       "       [ 8,  3, 15, ...,  0,  0,  0],\n",
       "       ...,\n",
       "       [12,  5, 16, ..., 15, 21, 10],\n",
       "       [ 2,  6, 11, ...,  0,  0,  0],\n",
       "       [ 3,  8, 12, ...,  0,  0,  0]])"
      ]
     },
     "execution_count": 6,
     "metadata": {},
     "output_type": "execute_result"
    }
   ],
   "source": [
    "ad.X"
   ]
  },
  {
   "cell_type": "code",
   "execution_count": 7,
   "id": "7519f006-c7f2-46d8-ab45-ca2ee38776d7",
   "metadata": {
    "execution": {
     "iopub.execute_input": "2024-12-04T18:22:10.999778Z",
     "iopub.status.busy": "2024-12-04T18:22:10.999420Z",
     "iopub.status.idle": "2024-12-04T18:22:11.002526Z",
     "shell.execute_reply": "2024-12-04T18:22:11.002179Z",
     "shell.execute_reply.started": "2024-12-04T18:22:10.999757Z"
    },
    "tags": []
   },
   "outputs": [
    {
     "data": {
      "text/plain": [
       "Index(['cell1', 'cell2', 'cell3', 'cell4', 'cell5', 'cell6', 'cell7', 'cell8',\n",
       "       'cell9', 'cell10',\n",
       "       ...\n",
       "       'cell491', 'cell492', 'cell493', 'cell494', 'cell495', 'cell496',\n",
       "       'cell497', 'cell498', 'cell499', 'cell500'],\n",
       "      dtype='object', length=500)"
      ]
     },
     "execution_count": 7,
     "metadata": {},
     "output_type": "execute_result"
    }
   ],
   "source": [
    "ad.obs_names"
   ]
  },
  {
   "cell_type": "code",
   "execution_count": 8,
   "id": "60a59bd6-41af-41a9-ab76-c1c1cc00b768",
   "metadata": {
    "execution": {
     "iopub.execute_input": "2024-12-04T18:22:11.179746Z",
     "iopub.status.busy": "2024-12-04T18:22:11.179417Z",
     "iopub.status.idle": "2024-12-04T18:22:11.182718Z",
     "shell.execute_reply": "2024-12-04T18:22:11.182338Z",
     "shell.execute_reply.started": "2024-12-04T18:22:11.179730Z"
    },
    "tags": []
   },
   "outputs": [
    {
     "data": {
      "text/plain": [
       "Index(['Burn1_TF1', 'Burn1_TF2', 'Burn1_TF3', 'Burn2_TF1', 'Burn3_TF1',\n",
       "       'Burn3_TF2', 'Burn4_TF1', 'Burn5_TF1', 'A1_TF1', 'A1_TF2', 'A2_TF1',\n",
       "       'A3_TF1', 'A3_TF2', 'A4_TF1', 'A4_TF2', 'B1_TF1', 'B1_TF2', 'B2_TF1',\n",
       "       'B3_TF1', 'B3_TF2', 'B4_TF1', 'B4_TF2', 'B5_TF1', 'B6_TF1', 'C1_TF1',\n",
       "       'C1_TF2', 'C2_TF1', 'C3_TF1', 'C4_TF1', 'C4_TF2', 'C5_TF1', 'C6_TF1',\n",
       "       'C6_TF2', 'C7_TF1', 'C7_TF2', 'C8_TF1', 'C8_TF2', 'C8_TF3', 'C9_TF1',\n",
       "       'C9_TF2', 'C10_TF1', 'C10_TF2', 'C11_TF1', 'C12_TF1', 'C12_TF2',\n",
       "       'C13_TF1', 'C14_TF1', 'C14_TF2', 'D1_TF1', 'D2_TF1', 'D3_TF1', 'D4_TF1',\n",
       "       'D4_TF2', 'D5_TF1', 'D5_TF2', 'D6_TF1', 'D7_TF1', 'D7_TF2', 'D8_TF1',\n",
       "       'D9_TF1', 'D9_TF2', 'D10_TF1', 'D11_TF1', 'D11_TF2', 'D12_TF1',\n",
       "       'D12_TF2', 'D12_TF3', 'D13_TF1', 'D13_TF2', 'D14_TF1', 'D14_TF2',\n",
       "       'E1_TF1', 'E2_TF1', 'E3_TF1', 'E3_TF2', 'E3_TF3', 'E4_TF1', 'E5_TF1',\n",
       "       'F1_TF1', 'F2_TF1', 'F2_TF2', 'F3_TF1', 'F3_TF2', 'F3_TF3', 'F4_TF1',\n",
       "       'F4_TF2', 'F5_TF1', 'G1_TF1', 'G1_TF2', 'G2_TF1', 'G2_TF2', 'G2_TF3',\n",
       "       'G2_TF4', 'G2_TF5', 'G3_TF1', 'G4_TF1', 'G4_TF2', 'G4_TF3', 'G5_TF1',\n",
       "       'G5_TF2'],\n",
       "      dtype='object')"
      ]
     },
     "execution_count": 8,
     "metadata": {},
     "output_type": "execute_result"
    }
   ],
   "source": [
    "ad.var_names"
   ]
  },
  {
   "cell_type": "code",
   "execution_count": 9,
   "id": "ab7864b3-da77-4f11-b372-5d676f7b68f8",
   "metadata": {
    "execution": {
     "iopub.execute_input": "2024-12-04T18:22:11.396805Z",
     "iopub.status.busy": "2024-12-04T18:22:11.396449Z",
     "iopub.status.idle": "2024-12-04T18:22:11.403730Z",
     "shell.execute_reply": "2024-12-04T18:22:11.403385Z",
     "shell.execute_reply.started": "2024-12-04T18:22:11.396789Z"
    },
    "tags": []
   },
   "outputs": [
    {
     "data": {
      "text/html": [
       "<div>\n",
       "<style scoped>\n",
       "    .dataframe tbody tr th:only-of-type {\n",
       "        vertical-align: middle;\n",
       "    }\n",
       "\n",
       "    .dataframe tbody tr th {\n",
       "        vertical-align: top;\n",
       "    }\n",
       "\n",
       "    .dataframe thead th {\n",
       "        text-align: right;\n",
       "    }\n",
       "</style>\n",
       "<table border=\"1\" class=\"dataframe\">\n",
       "  <thead>\n",
       "    <tr style=\"text-align: right;\">\n",
       "      <th></th>\n",
       "      <th>x</th>\n",
       "      <th>y</th>\n",
       "      <th>Niche_NTScore</th>\n",
       "      <th>Cell_NTScore</th>\n",
       "      <th>Ground_Truth</th>\n",
       "      <th>Cell_Type</th>\n",
       "      <th>Lineage</th>\n",
       "    </tr>\n",
       "  </thead>\n",
       "  <tbody>\n",
       "    <tr>\n",
       "      <th>cell1</th>\n",
       "      <td>0.189955</td>\n",
       "      <td>0.723419</td>\n",
       "      <td>0.199948</td>\n",
       "      <td>0.199093</td>\n",
       "      <td>0.340023</td>\n",
       "      <td>I</td>\n",
       "      <td>3</td>\n",
       "    </tr>\n",
       "    <tr>\n",
       "      <th>cell2</th>\n",
       "      <td>0.898616</td>\n",
       "      <td>0.886213</td>\n",
       "      <td>0.004731</td>\n",
       "      <td>0.041554</td>\n",
       "      <td>0.235295</td>\n",
       "      <td>A</td>\n",
       "      <td>1</td>\n",
       "    </tr>\n",
       "    <tr>\n",
       "      <th>cell3</th>\n",
       "      <td>0.177252</td>\n",
       "      <td>0.572594</td>\n",
       "      <td>0.487955</td>\n",
       "      <td>0.445049</td>\n",
       "      <td>0.481424</td>\n",
       "      <td>I</td>\n",
       "      <td>3</td>\n",
       "    </tr>\n",
       "    <tr>\n",
       "      <th>cell4</th>\n",
       "      <td>0.977316</td>\n",
       "      <td>0.253594</td>\n",
       "      <td>0.886338</td>\n",
       "      <td>0.895616</td>\n",
       "      <td>0.793462</td>\n",
       "      <td>G</td>\n",
       "      <td>2</td>\n",
       "    </tr>\n",
       "    <tr>\n",
       "      <th>cell5</th>\n",
       "      <td>0.961119</td>\n",
       "      <td>0.982236</td>\n",
       "      <td>0.002581</td>\n",
       "      <td>0.014981</td>\n",
       "      <td>0.189996</td>\n",
       "      <td>A</td>\n",
       "      <td>1</td>\n",
       "    </tr>\n",
       "  </tbody>\n",
       "</table>\n",
       "</div>"
      ],
      "text/plain": [
       "              x         y  Niche_NTScore  Cell_NTScore  Ground_Truth  \\\n",
       "cell1  0.189955  0.723419       0.199948      0.199093      0.340023   \n",
       "cell2  0.898616  0.886213       0.004731      0.041554      0.235295   \n",
       "cell3  0.177252  0.572594       0.487955      0.445049      0.481424   \n",
       "cell4  0.977316  0.253594       0.886338      0.895616      0.793462   \n",
       "cell5  0.961119  0.982236       0.002581      0.014981      0.189996   \n",
       "\n",
       "      Cell_Type  Lineage  \n",
       "cell1         I        3  \n",
       "cell2         A        1  \n",
       "cell3         I        3  \n",
       "cell4         G        2  \n",
       "cell5         A        1  "
      ]
     },
     "execution_count": 9,
     "metadata": {},
     "output_type": "execute_result"
    }
   ],
   "source": [
    "ad.obs = ad.obs.join(meta_info_df)\n",
    "ad.obs.head()"
   ]
  },
  {
   "cell_type": "code",
   "execution_count": 10,
   "id": "5728cb61-2d11-4812-bb1c-7b99e544aa80",
   "metadata": {
    "execution": {
     "iopub.execute_input": "2024-12-04T18:22:11.733556Z",
     "iopub.status.busy": "2024-12-04T18:22:11.733193Z",
     "iopub.status.idle": "2024-12-04T18:22:11.736178Z",
     "shell.execute_reply": "2024-12-04T18:22:11.735802Z",
     "shell.execute_reply.started": "2024-12-04T18:22:11.733540Z"
    },
    "tags": []
   },
   "outputs": [],
   "source": [
    "ad.obsm['spatial'] = ad.obs[['x', 'y']].values"
   ]
  },
  {
   "cell_type": "markdown",
   "id": "2cd4ff98-fd69-42a8-b076-ca6dff30159a",
   "metadata": {},
   "source": [
    "# SpaceFlow"
   ]
  },
  {
   "cell_type": "code",
   "execution_count": 11,
   "id": "fa83788b-787b-481a-8da7-82bf961f9f4c",
   "metadata": {
    "execution": {
     "iopub.execute_input": "2024-12-04T18:22:12.334910Z",
     "iopub.status.busy": "2024-12-04T18:22:12.334549Z",
     "iopub.status.idle": "2024-12-04T18:22:12.336814Z",
     "shell.execute_reply": "2024-12-04T18:22:12.336448Z",
     "shell.execute_reply.started": "2024-12-04T18:22:12.334893Z"
    },
    "tags": []
   },
   "outputs": [],
   "source": [
    "sf = SpaceFlow.SpaceFlow(adata=ad)"
   ]
  },
  {
   "cell_type": "code",
   "execution_count": 12,
   "id": "c301036d-b919-4c12-ad96-c73b5d89d471",
   "metadata": {
    "execution": {
     "iopub.execute_input": "2024-12-04T18:22:12.503153Z",
     "iopub.status.busy": "2024-12-04T18:22:12.502881Z",
     "iopub.status.idle": "2024-12-04T18:22:12.709145Z",
     "shell.execute_reply": "2024-12-04T18:22:12.708781Z",
     "shell.execute_reply.started": "2024-12-04T18:22:12.503137Z"
    },
    "tags": []
   },
   "outputs": [],
   "source": [
    "sf.preprocessing_data(n_top_genes=3000)"
   ]
  },
  {
   "cell_type": "code",
   "execution_count": 13,
   "id": "cd96ff8b-2f0c-47a3-9f6a-7730aff7fc19",
   "metadata": {
    "execution": {
     "iopub.execute_input": "2024-12-04T18:22:12.710255Z",
     "iopub.status.busy": "2024-12-04T18:22:12.709809Z",
     "iopub.status.idle": "2024-12-04T18:24:53.469523Z",
     "shell.execute_reply": "2024-12-04T18:24:53.468943Z",
     "shell.execute_reply.started": "2024-12-04T18:22:12.710236Z"
    },
    "tags": []
   },
   "outputs": [
    {
     "name": "stdout",
     "output_type": "stream",
     "text": [
      "Epoch 2/1000, Loss: 3.8884174823760986\n",
      "Epoch 12/1000, Loss: 1.584325909614563\n",
      "Epoch 22/1000, Loss: 1.5967681407928467\n",
      "Epoch 32/1000, Loss: 1.4533754587173462\n",
      "Epoch 42/1000, Loss: 1.4577561616897583\n",
      "Epoch 52/1000, Loss: 1.446679949760437\n",
      "Epoch 62/1000, Loss: 1.4420374631881714\n",
      "Epoch 72/1000, Loss: 1.4341834783554077\n",
      "Epoch 82/1000, Loss: 1.4410206079483032\n",
      "Epoch 92/1000, Loss: 1.4237825870513916\n",
      "Epoch 102/1000, Loss: 1.4333922863006592\n",
      "Epoch 112/1000, Loss: 1.4270031452178955\n",
      "Epoch 122/1000, Loss: 1.4251006841659546\n",
      "Epoch 132/1000, Loss: 1.4204598665237427\n",
      "Epoch 142/1000, Loss: 1.4199604988098145\n",
      "Epoch 152/1000, Loss: 1.4027296304702759\n",
      "Epoch 162/1000, Loss: 1.4057801961898804\n",
      "Epoch 172/1000, Loss: 1.403363823890686\n",
      "Epoch 182/1000, Loss: 1.370269775390625\n",
      "Epoch 192/1000, Loss: 1.3937160968780518\n",
      "Epoch 202/1000, Loss: 1.4057875871658325\n",
      "Epoch 212/1000, Loss: 1.3615305423736572\n",
      "Epoch 222/1000, Loss: 1.3419767618179321\n",
      "Epoch 232/1000, Loss: 1.315801739692688\n",
      "Epoch 242/1000, Loss: 1.3565508127212524\n",
      "Epoch 252/1000, Loss: 1.3406389951705933\n",
      "Epoch 262/1000, Loss: 1.2921175956726074\n",
      "Epoch 272/1000, Loss: 1.2684102058410645\n",
      "Epoch 282/1000, Loss: 1.3515208959579468\n",
      "Epoch 292/1000, Loss: 1.286942720413208\n",
      "Epoch 302/1000, Loss: 1.2787193059921265\n",
      "Epoch 312/1000, Loss: 1.2397496700286865\n",
      "Epoch 322/1000, Loss: 1.231963038444519\n",
      "Epoch 332/1000, Loss: 1.2655047178268433\n",
      "Epoch 342/1000, Loss: 1.2705903053283691\n",
      "Epoch 352/1000, Loss: 1.2396726608276367\n",
      "Epoch 362/1000, Loss: 1.2007811069488525\n",
      "Epoch 372/1000, Loss: 1.1726962327957153\n",
      "Epoch 382/1000, Loss: 1.1572113037109375\n",
      "Epoch 392/1000, Loss: 1.1460914611816406\n",
      "Epoch 402/1000, Loss: 1.0901516675949097\n",
      "Epoch 412/1000, Loss: 1.1899793148040771\n",
      "Epoch 422/1000, Loss: 1.2083553075790405\n",
      "Epoch 432/1000, Loss: 1.1082017421722412\n",
      "Epoch 442/1000, Loss: 1.045853853225708\n",
      "Epoch 452/1000, Loss: 1.0866966247558594\n",
      "Epoch 462/1000, Loss: 1.0498160123825073\n",
      "Epoch 472/1000, Loss: 1.133366584777832\n",
      "Epoch 482/1000, Loss: 1.1571465730667114\n",
      "Epoch 492/1000, Loss: 0.9687108397483826\n",
      "Epoch 502/1000, Loss: 1.0427501201629639\n",
      "Epoch 512/1000, Loss: 1.0431913137435913\n",
      "Epoch 522/1000, Loss: 0.937938928604126\n",
      "Epoch 532/1000, Loss: 0.9476284980773926\n",
      "Epoch 542/1000, Loss: 0.8555951118469238\n",
      "Epoch 552/1000, Loss: 0.9040907621383667\n",
      "Epoch 562/1000, Loss: 0.9484632015228271\n",
      "Epoch 572/1000, Loss: 0.7934246063232422\n",
      "Epoch 582/1000, Loss: 0.9486502408981323\n",
      "Epoch 592/1000, Loss: 0.9000556468963623\n",
      "Epoch 602/1000, Loss: 0.7983302474021912\n",
      "Epoch 612/1000, Loss: 0.9824130535125732\n",
      "Epoch 622/1000, Loss: 0.9105113744735718\n",
      "Epoch 632/1000, Loss: 0.838361382484436\n",
      "Epoch 642/1000, Loss: 0.8841649889945984\n",
      "Epoch 652/1000, Loss: 0.8614904880523682\n",
      "Epoch 662/1000, Loss: 0.7534668445587158\n",
      "Epoch 672/1000, Loss: 0.7629649043083191\n",
      "Epoch 682/1000, Loss: 0.8998945951461792\n",
      "Epoch 692/1000, Loss: 0.7939884662628174\n",
      "Epoch 702/1000, Loss: 0.8500713109970093\n",
      "Epoch 712/1000, Loss: 0.7508177757263184\n",
      "Epoch 722/1000, Loss: 0.8109530806541443\n",
      "Epoch 732/1000, Loss: 0.7588756680488586\n",
      "Epoch 742/1000, Loss: 0.8016485571861267\n",
      "Epoch 752/1000, Loss: 0.7285247445106506\n",
      "Epoch 762/1000, Loss: 0.6675145626068115\n",
      "Epoch 772/1000, Loss: 0.6381791234016418\n",
      "Epoch 782/1000, Loss: 0.676644504070282\n",
      "Epoch 792/1000, Loss: 0.6643767356872559\n",
      "Epoch 802/1000, Loss: 0.6174647212028503\n",
      "Epoch 812/1000, Loss: 0.6460153460502625\n",
      "Training complete!\n",
      "Embedding is saved at ./embedding.tsv\n"
     ]
    },
    {
     "data": {
      "text/plain": [
       "array([[-0.19212465, -0.40189043, -0.5800811 , ..., -0.12960789,\n",
       "         0.2201553 ,  1.2056655 ],\n",
       "       [-0.16620415, -0.40907627, -0.5972732 , ..., -0.18908359,\n",
       "         0.29135972,  0.73690736],\n",
       "       [-0.23607902, -0.3941578 , -0.59418786, ..., -0.17951839,\n",
       "         0.25234097,  1.0483694 ],\n",
       "       ...,\n",
       "       [-0.25415516, -0.3970382 , -0.6141088 , ..., -0.1240408 ,\n",
       "         0.78323007,  0.46943048],\n",
       "       [-0.08670382, -0.33697712, -0.5921117 , ..., -0.23253292,\n",
       "         0.11530359,  0.04291064],\n",
       "       [-0.13927048, -0.38938728, -0.62076455, ..., -0.27101523,\n",
       "        -0.04741761,  0.81340355]], dtype=float32)"
      ]
     },
     "execution_count": 13,
     "metadata": {},
     "output_type": "execute_result"
    }
   ],
   "source": [
    "sf.train(spatial_regularization_strength=0.1, z_dim=50, lr=1e-3, epochs=1000, max_patience=50, min_stop=100, random_seed=42, gpu=0, regularization_acceleration=True, edge_subset_sz=1000000)"
   ]
  },
  {
   "cell_type": "code",
   "execution_count": 14,
   "id": "eff94da5-9989-4c5d-9deb-b6492003be0f",
   "metadata": {
    "execution": {
     "iopub.execute_input": "2024-12-04T18:24:53.471026Z",
     "iopub.status.busy": "2024-12-04T18:24:53.470610Z",
     "iopub.status.idle": "2024-12-04T18:25:00.296753Z",
     "shell.execute_reply": "2024-12-04T18:25:00.296309Z",
     "shell.execute_reply.started": "2024-12-04T18:24:53.471006Z"
    },
    "tags": []
   },
   "outputs": [
    {
     "name": "stdout",
     "output_type": "stream",
     "text": [
      "Performing domain segmentation\n"
     ]
    },
    {
     "name": "stderr",
     "output_type": "stream",
     "text": [
      "/sc/arion/work/wangw32/conda-env/envs/spaceflow/lib/python3.9/site-packages/tqdm/auto.py:21: TqdmWarning: IProgress not found. Please update jupyter and ipywidgets. See https://ipywidgets.readthedocs.io/en/stable/user_install.html\n",
      "  from .autonotebook import tqdm as notebook_tqdm\n",
      "/sc/arion/work/wangw32/conda-env/envs/spaceflow/lib/python3.9/site-packages/SpaceFlow/SpaceFlow.py:306: FutureWarning: In the future, the default backend for leiden will be igraph instead of leidenalg.\n",
      "\n",
      " To achieve the future defaults please pass: flavor=\"igraph\" and n_iterations=2.  directed must also be False to work with igraph's implementation.\n",
      "  sc.tl.leiden(embedding_adata, resolution=float(resolution))\n"
     ]
    },
    {
     "name": "stdout",
     "output_type": "stream",
     "text": [
      "Segmentation complete, domain labels of cells or spots saved at ./domains.tsv !\n"
     ]
    }
   ],
   "source": [
    "sf.segmentation(domain_label_save_filepath=\"./domains.tsv\", n_neighbors=50, resolution=1.0)"
   ]
  },
  {
   "cell_type": "code",
   "execution_count": 15,
   "id": "0caba8c3-27e2-4b6b-bba0-ca66e226f028",
   "metadata": {
    "execution": {
     "iopub.execute_input": "2024-12-04T18:25:00.298136Z",
     "iopub.status.busy": "2024-12-04T18:25:00.297456Z",
     "iopub.status.idle": "2024-12-04T18:25:00.806072Z",
     "shell.execute_reply": "2024-12-04T18:25:00.805589Z",
     "shell.execute_reply.started": "2024-12-04T18:25:00.298114Z"
    },
    "tags": []
   },
   "outputs": [
    {
     "name": "stdout",
     "output_type": "stream",
     "text": [
      "No segmentation data found, please ensure you have run the segmentation() method.\n"
     ]
    },
    {
     "data": {
      "image/png": "[encoded data removed]",
      "text/plain": [
       "<Figure size 400x400 with 1 Axes>"
      ]
     },
     "metadata": {},
     "output_type": "display_data"
    }
   ],
   "source": [
    "sf.plot_segmentation(segmentation_figure_save_filepath=\"./domain_segmentation.pdf\", colormap=\"tab20\", scatter_sz=1., rsz=4., csz=4., wspace=.4, hspace=.5, left=0.125, right=0.9, bottom=0.1, top=0.9)"
   ]
  },
  {
   "cell_type": "code",
   "execution_count": 16,
   "id": "2a1e5418-d832-4afe-8fb5-4b496d25a878",
   "metadata": {
    "execution": {
     "iopub.execute_input": "2024-12-04T18:25:00.807477Z",
     "iopub.status.busy": "2024-12-04T18:25:00.807195Z",
     "iopub.status.idle": "2024-12-04T18:25:02.128939Z",
     "shell.execute_reply": "2024-12-04T18:25:02.128502Z",
     "shell.execute_reply.started": "2024-12-04T18:25:00.807459Z"
    },
    "tags": []
   },
   "outputs": [
    {
     "name": "stdout",
     "output_type": "stream",
     "text": [
      "Performing pseudo-Spatiotemporal Map\n",
      "pseudo-Spatiotemporal Map(pSM) calculation complete, pSM values of cells or spots saved at ./pSM_values.tsv!\n"
     ]
    }
   ],
   "source": [
    "sf.pseudo_Spatiotemporal_Map(pSM_values_save_filepath=\"./pSM_values.tsv\", n_neighbors=20, resolution=1.0)"
   ]
  },
  {
   "cell_type": "code",
   "execution_count": 17,
   "id": "fd24aea8-78e7-43e4-817f-07d392324ab4",
   "metadata": {
    "execution": {
     "iopub.execute_input": "2024-12-04T18:25:02.131958Z",
     "iopub.status.busy": "2024-12-04T18:25:02.129591Z",
     "iopub.status.idle": "2024-12-04T18:25:03.413927Z",
     "shell.execute_reply": "2024-12-04T18:25:03.413413Z",
     "shell.execute_reply.started": "2024-12-04T18:25:02.131933Z"
    },
    "tags": []
   },
   "outputs": [
    {
     "name": "stdout",
     "output_type": "stream",
     "text": [
      "Plotting complete, pseudo-Spatiotemporal Map figure saved at ./pseudo-Spatiotemporal-Map.pdf !\n"
     ]
    }
   ],
   "source": [
    "sf.plot_pSM(pSM_figure_save_filepath=\"./pseudo-Spatiotemporal-Map.pdf\", colormap=\"roma\", scatter_sz=1., rsz=4., csz=4., wspace=.4, hspace=.5, left=0.125, right=0.9, bottom=0.1, top=0.9)"
   ]
  },
  {
   "cell_type": "code",
   "execution_count": null,
   "id": "cba6191e-2569-4448-8c28-92f8b1c0ce73",
   "metadata": {},
   "outputs": [],
   "source": []
  }
 ],
 "metadata": {
  "kernelspec": {
   "display_name": "Python 3.9 (spaceflow)",
   "language": "python",
   "name": "py39_spaceflow"
  },
  "language_info": {
   "codemirror_mode": {
    "name": "ipython",
    "version": 3
   },
   "file_extension": ".py",
   "mimetype": "text/x-python",
   "name": "python",
   "nbconvert_exporter": "python",
   "pygments_lexer": "ipython3",
   "version": "3.9.19"
  }
 },
 "nbformat": 4,
 "nbformat_minor": 5
}
