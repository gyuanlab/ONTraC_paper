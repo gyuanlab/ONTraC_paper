{
 "cells": [
  {
   "cell_type": "markdown",
   "id": "34e5e9eb-0f82-4028-8e8c-d64eef34f67b",
   "metadata": {},
   "source": [
    "# Notes"
   ]
  },
  {
   "cell_type": "markdown",
   "id": "88297ec5-ba67-4175-996f-8fd2a3427464",
   "metadata": {},
   "source": [
    "# Load Modules"
   ]
  },
  {
   "cell_type": "code",
   "execution_count": 3,
   "id": "8d148998-6779-4806-89df-e3edfdbd7eaf",
   "metadata": {
    "execution": {
     "iopub.execute_input": "2024-04-12T20:42:12.220630Z",
     "iopub.status.busy": "2024-04-12T20:42:12.219833Z",
     "iopub.status.idle": "2024-04-12T20:43:34.037213Z",
     "shell.execute_reply": "2024-04-12T20:43:34.036321Z",
     "shell.execute_reply.started": "2024-04-12T20:42:12.220560Z"
    },
    "tags": []
   },
   "outputs": [],
   "source": [
    "import numpy as np\n",
    "import pandas as pd\n",
    "\n",
    "import anndata as adata\n",
    "import scanpy as sc\n",
    "import squidpy as sq\n",
    "from SpaceFlow import SpaceFlow"
   ]
  },
  {
   "cell_type": "markdown",
   "id": "9eeaadc6-50be-4843-b9c5-0315be929e3d",
   "metadata": {},
   "source": [
    "# Load Data"
   ]
  },
  {
   "cell_type": "code",
   "execution_count": null,
   "id": "e8a304cc-be00-418d-b74d-b34c0f93d159",
   "metadata": {
    "execution": {
     "iopub.execute_input": "2024-04-12T15:51:37.199195Z",
     "iopub.status.busy": "2024-04-12T15:51:37.197684Z",
     "iopub.status.idle": "2024-04-12T15:51:37.284911Z",
     "shell.execute_reply": "2024-04-12T15:51:37.284050Z",
     "shell.execute_reply.started": "2024-04-12T15:51:37.199154Z"
    },
    "tags": []
   },
   "outputs": [
    {
     "data": {
      "text/html": [
       "<div>\n",
       "<style scoped>\n",
       "    .dataframe tbody tr th:only-of-type {\n",
       "        vertical-align: middle;\n",
       "    }\n",
       "\n",
       "    .dataframe tbody tr th {\n",
       "        vertical-align: top;\n",
       "    }\n",
       "\n",
       "    .dataframe thead th {\n",
       "        text-align: right;\n",
       "    }\n",
       "</style>\n",
       "<table border=\"1\" class=\"dataframe\">\n",
       "  <thead>\n",
       "    <tr style=\"text-align: right;\">\n",
       "      <th></th>\n",
       "      <th>cell1</th>\n",
       "      <th>cell2</th>\n",
       "      <th>cell3</th>\n",
       "      <th>cell4</th>\n",
       "      <th>cell5</th>\n",
       "      <th>cell6</th>\n",
       "      <th>cell7</th>\n",
       "      <th>cell8</th>\n",
       "      <th>cell9</th>\n",
       "      <th>cell10</th>\n",
       "      <th>...</th>\n",
       "      <th>cell991</th>\n",
       "      <th>cell992</th>\n",
       "      <th>cell993</th>\n",
       "      <th>cell994</th>\n",
       "      <th>cell995</th>\n",
       "      <th>cell996</th>\n",
       "      <th>cell997</th>\n",
       "      <th>cell998</th>\n",
       "      <th>cell999</th>\n",
       "      <th>cell1000</th>\n",
       "    </tr>\n",
       "  </thead>\n",
       "  <tbody>\n",
       "    <tr>\n",
       "      <th>Burn1_TF1</th>\n",
       "      <td>2</td>\n",
       "      <td>2</td>\n",
       "      <td>8</td>\n",
       "      <td>6</td>\n",
       "      <td>5</td>\n",
       "      <td>2</td>\n",
       "      <td>7</td>\n",
       "      <td>1</td>\n",
       "      <td>3</td>\n",
       "      <td>4</td>\n",
       "      <td>...</td>\n",
       "      <td>4</td>\n",
       "      <td>2</td>\n",
       "      <td>3</td>\n",
       "      <td>6</td>\n",
       "      <td>2</td>\n",
       "      <td>4</td>\n",
       "      <td>2</td>\n",
       "      <td>3</td>\n",
       "      <td>8</td>\n",
       "      <td>4</td>\n",
       "    </tr>\n",
       "    <tr>\n",
       "      <th>Burn2_TF1</th>\n",
       "      <td>4</td>\n",
       "      <td>4</td>\n",
       "      <td>9</td>\n",
       "      <td>3</td>\n",
       "      <td>5</td>\n",
       "      <td>3</td>\n",
       "      <td>2</td>\n",
       "      <td>4</td>\n",
       "      <td>3</td>\n",
       "      <td>3</td>\n",
       "      <td>...</td>\n",
       "      <td>7</td>\n",
       "      <td>6</td>\n",
       "      <td>2</td>\n",
       "      <td>6</td>\n",
       "      <td>3</td>\n",
       "      <td>1</td>\n",
       "      <td>4</td>\n",
       "      <td>7</td>\n",
       "      <td>7</td>\n",
       "      <td>6</td>\n",
       "    </tr>\n",
       "    <tr>\n",
       "      <th>Burn3_TF1</th>\n",
       "      <td>4</td>\n",
       "      <td>1</td>\n",
       "      <td>6</td>\n",
       "      <td>3</td>\n",
       "      <td>2</td>\n",
       "      <td>3</td>\n",
       "      <td>5</td>\n",
       "      <td>2</td>\n",
       "      <td>4</td>\n",
       "      <td>4</td>\n",
       "      <td>...</td>\n",
       "      <td>8</td>\n",
       "      <td>5</td>\n",
       "      <td>5</td>\n",
       "      <td>2</td>\n",
       "      <td>3</td>\n",
       "      <td>5</td>\n",
       "      <td>4</td>\n",
       "      <td>6</td>\n",
       "      <td>7</td>\n",
       "      <td>2</td>\n",
       "    </tr>\n",
       "    <tr>\n",
       "      <th>Burn4_TF1</th>\n",
       "      <td>5</td>\n",
       "      <td>3</td>\n",
       "      <td>5</td>\n",
       "      <td>6</td>\n",
       "      <td>3</td>\n",
       "      <td>1</td>\n",
       "      <td>1</td>\n",
       "      <td>3</td>\n",
       "      <td>3</td>\n",
       "      <td>2</td>\n",
       "      <td>...</td>\n",
       "      <td>1</td>\n",
       "      <td>1</td>\n",
       "      <td>1</td>\n",
       "      <td>4</td>\n",
       "      <td>5</td>\n",
       "      <td>3</td>\n",
       "      <td>4</td>\n",
       "      <td>4</td>\n",
       "      <td>6</td>\n",
       "      <td>3</td>\n",
       "    </tr>\n",
       "    <tr>\n",
       "      <th>A1_TF1</th>\n",
       "      <td>2</td>\n",
       "      <td>4</td>\n",
       "      <td>8</td>\n",
       "      <td>4</td>\n",
       "      <td>1</td>\n",
       "      <td>2</td>\n",
       "      <td>4</td>\n",
       "      <td>3</td>\n",
       "      <td>2</td>\n",
       "      <td>2</td>\n",
       "      <td>...</td>\n",
       "      <td>5</td>\n",
       "      <td>1</td>\n",
       "      <td>2</td>\n",
       "      <td>2</td>\n",
       "      <td>3</td>\n",
       "      <td>3</td>\n",
       "      <td>3</td>\n",
       "      <td>4</td>\n",
       "      <td>5</td>\n",
       "      <td>0</td>\n",
       "    </tr>\n",
       "  </tbody>\n",
       "</table>\n",
       "<p>5 rows × 1000 columns</p>\n",
       "</div>"
      ],
      "text/plain": [
       "           cell1  cell2  cell3  cell4  cell5  cell6  cell7  cell8  cell9  \\\n",
       "Burn1_TF1      2      2      8      6      5      2      7      1      3   \n",
       "Burn2_TF1      4      4      9      3      5      3      2      4      3   \n",
       "Burn3_TF1      4      1      6      3      2      3      5      2      4   \n",
       "Burn4_TF1      5      3      5      6      3      1      1      3      3   \n",
       "A1_TF1         2      4      8      4      1      2      4      3      2   \n",
       "\n",
       "           cell10  ...  cell991  cell992  cell993  cell994  cell995  cell996  \\\n",
       "Burn1_TF1       4  ...        4        2        3        6        2        4   \n",
       "Burn2_TF1       3  ...        7        6        2        6        3        1   \n",
       "Burn3_TF1       4  ...        8        5        5        2        3        5   \n",
       "Burn4_TF1       2  ...        1        1        1        4        5        3   \n",
       "A1_TF1          2  ...        5        1        2        2        3        3   \n",
       "\n",
       "           cell997  cell998  cell999  cell1000  \n",
       "Burn1_TF1        2        3        8         4  \n",
       "Burn2_TF1        4        7        7         6  \n",
       "Burn3_TF1        4        6        7         2  \n",
       "Burn4_TF1        4        4        6         3  \n",
       "A1_TF1           3        4        5         0  \n",
       "\n",
       "[5 rows x 1000 columns]"
      ]
     },
     "execution_count": 2,
     "metadata": {},
     "output_type": "execute_result"
    }
   ],
   "source": [
    "exp_df = pd.read_csv(\"simulated_expression.csv\", index_col=0)\n",
    "exp_df.head()"
   ]
  },
  {
   "cell_type": "code",
   "execution_count": null,
   "id": "a77a910f-12e6-4e03-9ffd-d2a2dedbfe11",
   "metadata": {
    "execution": {
     "iopub.execute_input": "2024-04-12T15:51:37.286784Z",
     "iopub.status.busy": "2024-04-12T15:51:37.286019Z",
     "iopub.status.idle": "2024-04-12T15:51:37.307835Z",
     "shell.execute_reply": "2024-04-12T15:51:37.306639Z",
     "shell.execute_reply.started": "2024-04-12T15:51:37.286754Z"
    },
    "tags": []
   },
   "outputs": [
    {
     "data": {
      "text/html": [
       "<div>\n",
       "<style scoped>\n",
       "    .dataframe tbody tr th:only-of-type {\n",
       "        vertical-align: middle;\n",
       "    }\n",
       "\n",
       "    .dataframe tbody tr th {\n",
       "        vertical-align: top;\n",
       "    }\n",
       "\n",
       "    .dataframe thead th {\n",
       "        text-align: right;\n",
       "    }\n",
       "</style>\n",
       "<table border=\"1\" class=\"dataframe\">\n",
       "  <thead>\n",
       "    <tr style=\"text-align: right;\">\n",
       "      <th></th>\n",
       "      <th>Sample</th>\n",
       "      <th>UMAP1</th>\n",
       "      <th>UMAP2</th>\n",
       "      <th>time</th>\n",
       "      <th>lineage</th>\n",
       "      <th>Cell_Type</th>\n",
       "      <th>r</th>\n",
       "      <th>theta</th>\n",
       "      <th>x</th>\n",
       "      <th>y</th>\n",
       "    </tr>\n",
       "    <tr>\n",
       "      <th>Cell_ID</th>\n",
       "      <th></th>\n",
       "      <th></th>\n",
       "      <th></th>\n",
       "      <th></th>\n",
       "      <th></th>\n",
       "      <th></th>\n",
       "      <th></th>\n",
       "      <th></th>\n",
       "      <th></th>\n",
       "      <th></th>\n",
       "    </tr>\n",
       "  </thead>\n",
       "  <tbody>\n",
       "    <tr>\n",
       "      <th>cell562</th>\n",
       "      <td>Simulation</td>\n",
       "      <td>3.141247</td>\n",
       "      <td>6.648345</td>\n",
       "      <td>0.325221</td>\n",
       "      <td>1</td>\n",
       "      <td>A</td>\n",
       "      <td>17.108442</td>\n",
       "      <td>92.387241</td>\n",
       "      <td>-0.712621</td>\n",
       "      <td>17.093594</td>\n",
       "    </tr>\n",
       "    <tr>\n",
       "      <th>cell779</th>\n",
       "      <td>Simulation</td>\n",
       "      <td>3.083348</td>\n",
       "      <td>6.590264</td>\n",
       "      <td>0.457619</td>\n",
       "      <td>1</td>\n",
       "      <td>A</td>\n",
       "      <td>20.294256</td>\n",
       "      <td>323.012103</td>\n",
       "      <td>16.210293</td>\n",
       "      <td>-12.209964</td>\n",
       "    </tr>\n",
       "    <tr>\n",
       "      <th>cell637</th>\n",
       "      <td>Simulation</td>\n",
       "      <td>3.039063</td>\n",
       "      <td>6.706306</td>\n",
       "      <td>0.459809</td>\n",
       "      <td>1</td>\n",
       "      <td>A</td>\n",
       "      <td>20.342765</td>\n",
       "      <td>184.818052</td>\n",
       "      <td>-20.270883</td>\n",
       "      <td>-1.708626</td>\n",
       "    </tr>\n",
       "    <tr>\n",
       "      <th>cell168</th>\n",
       "      <td>Simulation</td>\n",
       "      <td>2.943072</td>\n",
       "      <td>6.653493</td>\n",
       "      <td>0.491919</td>\n",
       "      <td>1</td>\n",
       "      <td>A</td>\n",
       "      <td>21.041083</td>\n",
       "      <td>250.849126</td>\n",
       "      <td>-6.902670</td>\n",
       "      <td>-19.876627</td>\n",
       "    </tr>\n",
       "    <tr>\n",
       "      <th>cell393</th>\n",
       "      <td>Simulation</td>\n",
       "      <td>3.054525</td>\n",
       "      <td>6.533715</td>\n",
       "      <td>0.491919</td>\n",
       "      <td>1</td>\n",
       "      <td>A</td>\n",
       "      <td>21.041083</td>\n",
       "      <td>162.404762</td>\n",
       "      <td>-20.056692</td>\n",
       "      <td>6.360523</td>\n",
       "    </tr>\n",
       "  </tbody>\n",
       "</table>\n",
       "</div>"
      ],
      "text/plain": [
       "             Sample     UMAP1     UMAP2      time  lineage Cell_Type  \\\n",
       "Cell_ID                                                                \n",
       "cell562  Simulation  3.141247  6.648345  0.325221        1         A   \n",
       "cell779  Simulation  3.083348  6.590264  0.457619        1         A   \n",
       "cell637  Simulation  3.039063  6.706306  0.459809        1         A   \n",
       "cell168  Simulation  2.943072  6.653493  0.491919        1         A   \n",
       "cell393  Simulation  3.054525  6.533715  0.491919        1         A   \n",
       "\n",
       "                 r       theta          x          y  \n",
       "Cell_ID                                               \n",
       "cell562  17.108442   92.387241  -0.712621  17.093594  \n",
       "cell779  20.294256  323.012103  16.210293 -12.209964  \n",
       "cell637  20.342765  184.818052 -20.270883  -1.708626  \n",
       "cell168  21.041083  250.849126  -6.902670 -19.876627  \n",
       "cell393  21.041083  162.404762 -20.056692   6.360523  "
      ]
     },
     "execution_count": 3,
     "metadata": {},
     "output_type": "execute_result"
    }
   ],
   "source": [
    "meta_info_df = pd.read_csv(\"full_simulation_data_with_noise.csv\", index_col=0)\n",
    "meta_info_df.head()"
   ]
  },
  {
   "cell_type": "code",
   "execution_count": 4,
   "id": "0b4ffa78-3ff9-461c-84e0-6c8e8289f849",
   "metadata": {
    "execution": {
     "iopub.execute_input": "2024-04-12T15:51:37.311312Z",
     "iopub.status.busy": "2024-04-12T15:51:37.310872Z",
     "iopub.status.idle": "2024-04-12T15:51:37.319027Z",
     "shell.execute_reply": "2024-04-12T15:51:37.318197Z",
     "shell.execute_reply.started": "2024-04-12T15:51:37.311285Z"
    },
    "tags": []
   },
   "outputs": [],
   "source": [
    "ad = adata.AnnData(exp_df.T)"
   ]
  },
  {
   "cell_type": "code",
   "execution_count": 5,
   "id": "ef6cda7a-8018-477f-a177-2ecb10420b38",
   "metadata": {
    "execution": {
     "iopub.execute_input": "2024-04-12T15:51:37.320940Z",
     "iopub.status.busy": "2024-04-12T15:51:37.320528Z",
     "iopub.status.idle": "2024-04-12T15:51:37.329906Z",
     "shell.execute_reply": "2024-04-12T15:51:37.329020Z",
     "shell.execute_reply.started": "2024-04-12T15:51:37.320914Z"
    },
    "tags": []
   },
   "outputs": [
    {
     "data": {
      "text/plain": [
       "array([[ 2,  4,  4, ..., 17,  6,  6],\n",
       "       [ 2,  4,  1, ..., 13,  0,  7],\n",
       "       [ 8,  9,  6, ..., 24,  4,  6],\n",
       "       ...,\n",
       "       [ 3,  7,  6, ..., 15,  1,  4],\n",
       "       [ 8,  7,  7, ..., 15,  1, 10],\n",
       "       [ 4,  6,  2, ..., 10,  1,  6]])"
      ]
     },
     "execution_count": 5,
     "metadata": {},
     "output_type": "execute_result"
    }
   ],
   "source": [
    "ad.X"
   ]
  },
  {
   "cell_type": "code",
   "execution_count": 6,
   "id": "ca70075d-2319-4333-82b2-9c5862d3d9e2",
   "metadata": {
    "execution": {
     "iopub.execute_input": "2024-04-12T15:51:37.331774Z",
     "iopub.status.busy": "2024-04-12T15:51:37.331345Z",
     "iopub.status.idle": "2024-04-12T15:51:37.338602Z",
     "shell.execute_reply": "2024-04-12T15:51:37.337744Z",
     "shell.execute_reply.started": "2024-04-12T15:51:37.331746Z"
    },
    "tags": []
   },
   "outputs": [
    {
     "data": {
      "text/plain": [
       "Index(['cell1', 'cell2', 'cell3', 'cell4', 'cell5', 'cell6', 'cell7', 'cell8',\n",
       "       'cell9', 'cell10',\n",
       "       ...\n",
       "       'cell991', 'cell992', 'cell993', 'cell994', 'cell995', 'cell996',\n",
       "       'cell997', 'cell998', 'cell999', 'cell1000'],\n",
       "      dtype='object', length=1000)"
      ]
     },
     "execution_count": 6,
     "metadata": {},
     "output_type": "execute_result"
    }
   ],
   "source": [
    "ad.obs_names"
   ]
  },
  {
   "cell_type": "code",
   "execution_count": 7,
   "id": "0220df0f-c56b-438a-81f0-e4841c862993",
   "metadata": {
    "execution": {
     "iopub.execute_input": "2024-04-12T15:51:37.340488Z",
     "iopub.status.busy": "2024-04-12T15:51:37.339915Z",
     "iopub.status.idle": "2024-04-12T15:51:37.347037Z",
     "shell.execute_reply": "2024-04-12T15:51:37.346253Z",
     "shell.execute_reply.started": "2024-04-12T15:51:37.340461Z"
    },
    "tags": []
   },
   "outputs": [
    {
     "data": {
      "text/plain": [
       "Index(['Burn1_TF1', 'Burn2_TF1', 'Burn3_TF1', 'Burn4_TF1', 'A1_TF1', 'A2_TF1',\n",
       "       'A3_TF1', 'A4_TF1', 'A5_TF1', 'A6_TF1',\n",
       "       ...\n",
       "       'HK41', 'HK42', 'HK43', 'HK44', 'HK45', 'HK46', 'HK47', 'HK48', 'HK49',\n",
       "       'HK50'],\n",
       "      dtype='object', length=135)"
      ]
     },
     "execution_count": 7,
     "metadata": {},
     "output_type": "execute_result"
    }
   ],
   "source": [
    "ad.var_names"
   ]
  },
  {
   "cell_type": "code",
   "execution_count": 8,
   "id": "9180c2db-2f5b-41d6-be4d-7bc76ac87331",
   "metadata": {
    "execution": {
     "iopub.execute_input": "2024-04-12T15:51:37.348934Z",
     "iopub.status.busy": "2024-04-12T15:51:37.348038Z",
     "iopub.status.idle": "2024-04-12T15:51:37.364403Z",
     "shell.execute_reply": "2024-04-12T15:51:37.363548Z",
     "shell.execute_reply.started": "2024-04-12T15:51:37.348898Z"
    },
    "tags": []
   },
   "outputs": [
    {
     "data": {
      "text/html": [
       "<div>\n",
       "<style scoped>\n",
       "    .dataframe tbody tr th:only-of-type {\n",
       "        vertical-align: middle;\n",
       "    }\n",
       "\n",
       "    .dataframe tbody tr th {\n",
       "        vertical-align: top;\n",
       "    }\n",
       "\n",
       "    .dataframe thead th {\n",
       "        text-align: right;\n",
       "    }\n",
       "</style>\n",
       "<table border=\"1\" class=\"dataframe\">\n",
       "  <thead>\n",
       "    <tr style=\"text-align: right;\">\n",
       "      <th></th>\n",
       "      <th>Sample</th>\n",
       "      <th>UMAP1</th>\n",
       "      <th>UMAP2</th>\n",
       "      <th>time</th>\n",
       "      <th>lineage</th>\n",
       "      <th>Cell_Type</th>\n",
       "      <th>r</th>\n",
       "      <th>theta</th>\n",
       "      <th>x</th>\n",
       "      <th>y</th>\n",
       "    </tr>\n",
       "  </thead>\n",
       "  <tbody>\n",
       "    <tr>\n",
       "      <th>cell1</th>\n",
       "      <td>Simulation</td>\n",
       "      <td>5.341630</td>\n",
       "      <td>-4.380950</td>\n",
       "      <td>990.257958</td>\n",
       "      <td>2</td>\n",
       "      <td>J</td>\n",
       "      <td>783.098137</td>\n",
       "      <td>127.503785</td>\n",
       "      <td>-476.760985</td>\n",
       "      <td>621.242027</td>\n",
       "    </tr>\n",
       "    <tr>\n",
       "      <th>cell2</th>\n",
       "      <td>Simulation</td>\n",
       "      <td>0.004179</td>\n",
       "      <td>0.829091</td>\n",
       "      <td>227.543106</td>\n",
       "      <td>1</td>\n",
       "      <td>D</td>\n",
       "      <td>452.535960</td>\n",
       "      <td>139.165465</td>\n",
       "      <td>-342.389193</td>\n",
       "      <td>295.902748</td>\n",
       "    </tr>\n",
       "    <tr>\n",
       "      <th>cell3</th>\n",
       "      <td>Simulation</td>\n",
       "      <td>-7.408302</td>\n",
       "      <td>-3.197001</td>\n",
       "      <td>558.623873</td>\n",
       "      <td>1</td>\n",
       "      <td>F</td>\n",
       "      <td>709.056758</td>\n",
       "      <td>349.044340</td>\n",
       "      <td>696.133880</td>\n",
       "      <td>-134.755730</td>\n",
       "    </tr>\n",
       "    <tr>\n",
       "      <th>cell4</th>\n",
       "      <td>Simulation</td>\n",
       "      <td>-7.239113</td>\n",
       "      <td>-3.128485</td>\n",
       "      <td>573.547864</td>\n",
       "      <td>1</td>\n",
       "      <td>F</td>\n",
       "      <td>718.465781</td>\n",
       "      <td>297.288026</td>\n",
       "      <td>329.390581</td>\n",
       "      <td>-638.509924</td>\n",
       "    </tr>\n",
       "    <tr>\n",
       "      <th>cell5</th>\n",
       "      <td>Simulation</td>\n",
       "      <td>-5.224359</td>\n",
       "      <td>-1.215822</td>\n",
       "      <td>500.117479</td>\n",
       "      <td>1</td>\n",
       "      <td>F</td>\n",
       "      <td>670.899196</td>\n",
       "      <td>24.532851</td>\n",
       "      <td>610.332666</td>\n",
       "      <td>278.567349</td>\n",
       "    </tr>\n",
       "  </tbody>\n",
       "</table>\n",
       "</div>"
      ],
      "text/plain": [
       "           Sample     UMAP1     UMAP2        time  lineage Cell_Type  \\\n",
       "cell1  Simulation  5.341630 -4.380950  990.257958        2         J   \n",
       "cell2  Simulation  0.004179  0.829091  227.543106        1         D   \n",
       "cell3  Simulation -7.408302 -3.197001  558.623873        1         F   \n",
       "cell4  Simulation -7.239113 -3.128485  573.547864        1         F   \n",
       "cell5  Simulation -5.224359 -1.215822  500.117479        1         F   \n",
       "\n",
       "                r       theta           x           y  \n",
       "cell1  783.098137  127.503785 -476.760985  621.242027  \n",
       "cell2  452.535960  139.165465 -342.389193  295.902748  \n",
       "cell3  709.056758  349.044340  696.133880 -134.755730  \n",
       "cell4  718.465781  297.288026  329.390581 -638.509924  \n",
       "cell5  670.899196   24.532851  610.332666  278.567349  "
      ]
     },
     "execution_count": 8,
     "metadata": {},
     "output_type": "execute_result"
    }
   ],
   "source": [
    "ad.obs = ad.obs.join(meta_info_df)\n",
    "ad.obs.head()"
   ]
  },
  {
   "cell_type": "code",
   "execution_count": 9,
   "id": "8c262cd1-18ec-4f2f-b29a-854fcafc2d56",
   "metadata": {
    "execution": {
     "iopub.execute_input": "2024-04-12T15:51:37.365832Z",
     "iopub.status.busy": "2024-04-12T15:51:37.365556Z",
     "iopub.status.idle": "2024-04-12T15:51:37.371326Z",
     "shell.execute_reply": "2024-04-12T15:51:37.370501Z",
     "shell.execute_reply.started": "2024-04-12T15:51:37.365810Z"
    },
    "tags": []
   },
   "outputs": [],
   "source": [
    "ad.obsm['spatial'] = ad.obs[['x', 'y']].values"
   ]
  },
  {
   "cell_type": "markdown",
   "id": "e7fd9ea8-7e4a-4180-a86f-e5bf7046d640",
   "metadata": {},
   "source": [
    "# SpaceFlow"
   ]
  },
  {
   "cell_type": "code",
   "execution_count": 10,
   "id": "ab81c9b8-db33-4918-a173-340be3580445",
   "metadata": {
    "execution": {
     "iopub.execute_input": "2024-04-12T15:51:37.372734Z",
     "iopub.status.busy": "2024-04-12T15:51:37.372465Z",
     "iopub.status.idle": "2024-04-12T15:51:37.378716Z",
     "shell.execute_reply": "2024-04-12T15:51:37.377814Z",
     "shell.execute_reply.started": "2024-04-12T15:51:37.372714Z"
    },
    "tags": []
   },
   "outputs": [],
   "source": [
    "sf = SpaceFlow.SpaceFlow(adata=ad)"
   ]
  },
  {
   "cell_type": "code",
   "execution_count": 11,
   "id": "917334c7-0f1e-4c06-8c94-77474607205c",
   "metadata": {
    "execution": {
     "iopub.execute_input": "2024-04-12T15:51:37.380497Z",
     "iopub.status.busy": "2024-04-12T15:51:37.379966Z",
     "iopub.status.idle": "2024-04-12T15:51:37.937046Z",
     "shell.execute_reply": "2024-04-12T15:51:37.936210Z",
     "shell.execute_reply.started": "2024-04-12T15:51:37.380469Z"
    },
    "tags": []
   },
   "outputs": [],
   "source": [
    "sf.preprocessing_data(n_top_genes=3000)"
   ]
  },
  {
   "cell_type": "code",
   "execution_count": 12,
   "id": "ba0105b9-5b06-4115-94b5-09b6711e3183",
   "metadata": {
    "execution": {
     "iopub.execute_input": "2024-04-12T15:51:37.945065Z",
     "iopub.status.busy": "2024-04-12T15:51:37.942255Z",
     "iopub.status.idle": "2024-04-12T15:53:49.621720Z",
     "shell.execute_reply": "2024-04-12T15:53:49.621030Z",
     "shell.execute_reply.started": "2024-04-12T15:51:37.945026Z"
    },
    "tags": []
   },
   "outputs": [
    {
     "name": "stdout",
     "output_type": "stream",
     "text": [
      "Epoch 2/1000, Loss: 3.408705234527588\n",
      "Epoch 12/1000, Loss: 1.5153772830963135\n",
      "Epoch 22/1000, Loss: 1.3853490352630615\n",
      "Epoch 32/1000, Loss: 1.3262304067611694\n",
      "Epoch 42/1000, Loss: 1.2307413816452026\n",
      "Epoch 52/1000, Loss: 1.1209650039672852\n",
      "Epoch 62/1000, Loss: 0.9460107684135437\n",
      "Epoch 72/1000, Loss: 0.8356530666351318\n",
      "Epoch 82/1000, Loss: 0.744941234588623\n",
      "Epoch 92/1000, Loss: 0.6351093053817749\n",
      "Epoch 102/1000, Loss: 0.5351232886314392\n",
      "Epoch 112/1000, Loss: 0.5140056610107422\n",
      "Epoch 122/1000, Loss: 0.5894868969917297\n",
      "Epoch 132/1000, Loss: 0.5158069133758545\n",
      "Epoch 142/1000, Loss: 0.43827372789382935\n",
      "Epoch 152/1000, Loss: 0.4136343002319336\n",
      "Epoch 162/1000, Loss: 0.3894919157028198\n",
      "Epoch 172/1000, Loss: 0.35410675406455994\n",
      "Epoch 182/1000, Loss: 0.32037344574928284\n",
      "Epoch 192/1000, Loss: 0.3028799295425415\n",
      "Epoch 202/1000, Loss: 0.3410320281982422\n",
      "Epoch 212/1000, Loss: 0.2946223318576813\n",
      "Epoch 222/1000, Loss: 0.3160688579082489\n",
      "Epoch 232/1000, Loss: 0.3033824861049652\n",
      "Epoch 242/1000, Loss: 0.2843722403049469\n",
      "Epoch 252/1000, Loss: 0.2619408369064331\n",
      "Epoch 262/1000, Loss: 0.2696104049682617\n",
      "Epoch 272/1000, Loss: 0.3296431005001068\n",
      "Epoch 282/1000, Loss: 0.3141235113143921\n",
      "Epoch 292/1000, Loss: 0.23989006876945496\n",
      "Epoch 302/1000, Loss: 0.2323949635028839\n",
      "Epoch 312/1000, Loss: 0.26467448472976685\n",
      "Epoch 322/1000, Loss: 0.23188984394073486\n",
      "Epoch 332/1000, Loss: 0.23008422553539276\n",
      "Epoch 342/1000, Loss: 0.21309144794940948\n",
      "Epoch 352/1000, Loss: 0.21832188963890076\n",
      "Training complete!\n",
      "Embedding is saved at ./embedding.tsv\n"
     ]
    },
    {
     "data": {
      "text/plain": [
       "array([[ 3.6518886 ,  3.644271  ,  2.056975  , ...,  2.1606865 ,\n",
       "         2.8216217 , -1.2302538 ],\n",
       "       [ 1.8339579 ,  2.448432  ,  1.9350927 , ...,  1.5817999 ,\n",
       "        -0.06176059, -0.66618675],\n",
       "       [ 3.4309165 ,  3.0622802 ,  1.7470442 , ...,  2.3560681 ,\n",
       "         1.710612  , -1.0808235 ],\n",
       "       ...,\n",
       "       [ 3.0763502 ,  2.8791084 ,  2.0787172 , ...,  2.1463373 ,\n",
       "         1.0361824 , -1.0748554 ],\n",
       "       [ 5.1107574 ,  4.197751  ,  2.663534  , ...,  2.6584816 ,\n",
       "         2.2861319 , -1.3519484 ],\n",
       "       [ 4.9640937 ,  4.5026555 ,  2.7537236 , ...,  2.5354414 ,\n",
       "         2.5385947 , -1.405331  ]], dtype=float32)"
      ]
     },
     "execution_count": 12,
     "metadata": {},
     "output_type": "execute_result"
    }
   ],
   "source": [
    "sf.train(spatial_regularization_strength=0.1, z_dim=50, lr=1e-3, epochs=1000, max_patience=50, min_stop=100, random_seed=42, gpu=0, regularization_acceleration=True, edge_subset_sz=1000000)"
   ]
  },
  {
   "cell_type": "code",
   "execution_count": 17,
   "id": "5858d2a7-36f2-4ef2-9935-cd5147f435cf",
   "metadata": {
    "execution": {
     "iopub.execute_input": "2024-04-12T15:54:47.318674Z",
     "iopub.status.busy": "2024-04-12T15:54:47.317937Z",
     "iopub.status.idle": "2024-04-12T15:54:48.120961Z",
     "shell.execute_reply": "2024-04-12T15:54:48.120223Z",
     "shell.execute_reply.started": "2024-04-12T15:54:47.318624Z"
    },
    "tags": []
   },
   "outputs": [
    {
     "name": "stdout",
     "output_type": "stream",
     "text": [
      "Performing domain segmentation\n",
      "Segmentation complete, domain labels of cells or spots saved at ./domains.tsv !\n"
     ]
    }
   ],
   "source": [
    "sf.segmentation(domain_label_save_filepath=\"./domains.tsv\", n_neighbors=50, resolution=1.0)"
   ]
  },
  {
   "cell_type": "code",
   "execution_count": 18,
   "id": "11370167-7aed-42f3-a5f1-372757c4b67a",
   "metadata": {
    "execution": {
     "iopub.execute_input": "2024-04-12T15:55:09.581039Z",
     "iopub.status.busy": "2024-04-12T15:55:09.580304Z",
     "iopub.status.idle": "2024-04-12T15:55:11.244303Z",
     "shell.execute_reply": "2024-04-12T15:55:11.242907Z",
     "shell.execute_reply.started": "2024-04-12T15:55:09.580992Z"
    },
    "tags": []
   },
   "outputs": [
    {
     "name": "stdout",
     "output_type": "stream",
     "text": [
      "Plotting complete, segmentation figure saved at ./domain_segmentation.pdf !\n"
     ]
    }
   ],
   "source": [
    "sf.plot_segmentation(segmentation_figure_save_filepath=\"./domain_segmentation.pdf\", colormap=\"tab20\", scatter_sz=1., rsz=4., csz=4., wspace=.4, hspace=.5, left=0.125, right=0.9, bottom=0.1, top=0.9)"
   ]
  },
  {
   "cell_type": "code",
   "execution_count": 19,
   "id": "be93a463-17ec-4cf4-9bb0-bb8ad1fc0ce9",
   "metadata": {
    "execution": {
     "iopub.execute_input": "2024-04-12T15:55:36.642175Z",
     "iopub.status.busy": "2024-04-12T15:55:36.641403Z",
     "iopub.status.idle": "2024-04-12T15:55:40.533881Z",
     "shell.execute_reply": "2024-04-12T15:55:40.533304Z",
     "shell.execute_reply.started": "2024-04-12T15:55:36.642127Z"
    },
    "tags": []
   },
   "outputs": [
    {
     "name": "stdout",
     "output_type": "stream",
     "text": [
      "Performing pseudo-Spatiotemporal Map\n",
      "pseudo-Spatiotemporal Map(pSM) calculation complete, pSM values of cells or spots saved at ./pSM_values.tsv!\n"
     ]
    }
   ],
   "source": [
    "sf.pseudo_Spatiotemporal_Map(pSM_values_save_filepath=\"./pSM_values.tsv\", n_neighbors=20, resolution=1.0)"
   ]
  },
  {
   "cell_type": "code",
   "execution_count": 20,
   "id": "4f0c96dd-b940-4419-847c-97f03959f8f8",
   "metadata": {
    "execution": {
     "iopub.execute_input": "2024-04-12T15:55:41.943884Z",
     "iopub.status.busy": "2024-04-12T15:55:41.943143Z",
     "iopub.status.idle": "2024-04-12T15:55:43.011253Z",
     "shell.execute_reply": "2024-04-12T15:55:43.010685Z",
     "shell.execute_reply.started": "2024-04-12T15:55:41.943837Z"
    },
    "tags": []
   },
   "outputs": [
    {
     "name": "stdout",
     "output_type": "stream",
     "text": [
      "Plotting complete, pseudo-Spatiotemporal Map figure saved at ./pseudo-Spatiotemporal-Map.pdf !\n"
     ]
    }
   ],
   "source": [
    "sf.plot_pSM(pSM_figure_save_filepath=\"./pseudo-Spatiotemporal-Map.pdf\", colormap=\"roma\", scatter_sz=1., rsz=4., csz=4., wspace=.4, hspace=.5, left=0.125, right=0.9, bottom=0.1, top=0.9)"
   ]
  },
  {
   "cell_type": "code",
   "execution_count": 2,
   "id": "c60bf7df-8214-462c-8616-84ae72f897c8",
   "metadata": {
    "execution": {
     "iopub.execute_input": "2024-04-12T20:42:08.244080Z",
     "iopub.status.busy": "2024-04-12T20:42:08.243361Z",
     "iopub.status.idle": "2024-04-12T20:42:08.397423Z",
     "shell.execute_reply": "2024-04-12T20:42:08.396349Z",
     "shell.execute_reply.started": "2024-04-12T20:42:08.244028Z"
    },
    "tags": []
   },
   "outputs": [],
   "source": [
    "import session_info"
   ]
  },
  {
   "cell_type": "code",
   "execution_count": 4,
   "id": "57ebd953-14a7-4fcb-ac1f-dacc99a02860",
   "metadata": {
    "execution": {
     "iopub.execute_input": "2024-04-12T20:43:34.042692Z",
     "iopub.status.busy": "2024-04-12T20:43:34.040619Z",
     "iopub.status.idle": "2024-04-12T20:43:42.432676Z",
     "shell.execute_reply": "2024-04-12T20:43:42.431419Z",
     "shell.execute_reply.started": "2024-04-12T20:43:34.042639Z"
    },
    "tags": []
   },
   "outputs": [
    {
     "data": {
      "text/html": [
       "<details>\n",
       "<summary>Click to view session information</summary>\n",
       "<pre>\n",
       "-----\n",
       "SpaceFlow           NA\n",
       "anndata             0.10.7\n",
       "numpy               1.23.4\n",
       "pandas              2.2.2\n",
       "scanpy              1.10.1\n",
       "session_info        1.0.0\n",
       "squidpy             1.4.1\n",
       "-----\n",
       "</pre>\n",
       "<details>\n",
       "<summary>Click to view modules imported as dependencies</summary>\n",
       "<pre>\n",
       "PIL                         10.3.0\n",
       "anyio                       NA\n",
       "arrow                       1.3.0\n",
       "asciitree                   NA\n",
       "asttokens                   NA\n",
       "attr                        23.2.0\n",
       "attrs                       23.2.0\n",
       "babel                       2.14.0\n",
       "certifi                     2024.02.02\n",
       "cffi                        1.16.0\n",
       "charset_normalizer          3.3.2\n",
       "cloudpickle                 3.0.0\n",
       "cmcrameri                   1.8\n",
       "comm                        0.2.2\n",
       "cycler                      0.12.1\n",
       "cython_runtime              NA\n",
       "dask                        2024.4.1\n",
       "dask_expr                   1.0.11\n",
       "dask_image                  2023.08.1\n",
       "datashader                  0.16.0\n",
       "datatree                    0.0.14\n",
       "dateutil                    2.9.0.post0\n",
       "debugpy                     1.8.1\n",
       "decorator                   5.1.1\n",
       "defusedxml                  0.7.1\n",
       "docrep                      0.3.2\n",
       "executing                   2.0.1\n",
       "fastjsonschema              NA\n",
       "fqdn                        NA\n",
       "fsspec                      2023.6.0\n",
       "geopandas                   0.14.3\n",
       "gudhi                       3.9.0\n",
       "h5py                        3.11.0\n",
       "idna                        3.7\n",
       "igraph                      0.11.4\n",
       "imageio                     2.34.0\n",
       "importlib_metadata          NA\n",
       "ipykernel                   6.29.4\n",
       "isoduration                 NA\n",
       "jedi                        0.19.1\n",
       "jinja2                      3.1.3\n",
       "joblib                      1.4.0\n",
       "json5                       0.9.24\n",
       "jsonpointer                 2.4\n",
       "jsonschema                  4.21.1\n",
       "jsonschema_specifications   NA\n",
       "jupyter_events              0.10.0\n",
       "jupyter_server              2.14.0\n",
       "jupyterlab_server           2.26.0\n",
       "kiwisolver                  1.4.5\n",
       "lazy_loader                 0.4\n",
       "legacy_api_wrap             NA\n",
       "leidenalg                   0.10.2\n",
       "llvmlite                    0.42.0\n",
       "markupsafe                  2.1.5\n",
       "matplotlib                  3.8.4\n",
       "matplotlib_scalebar         0.8.1\n",
       "mpl_toolkits                NA\n",
       "mpmath                      1.3.0\n",
       "msgpack                     1.0.8\n",
       "multipledispatch            0.6.0\n",
       "multiscale_spatial_image    0.11.2\n",
       "natsort                     8.4.0\n",
       "nbformat                    5.10.4\n",
       "networkx                    2.8\n",
       "numba                       0.59.1\n",
       "numcodecs                   0.12.1\n",
       "ome_zarr                    NA\n",
       "overrides                   NA\n",
       "packaging                   24.0\n",
       "param                       2.1.0\n",
       "parso                       0.8.4\n",
       "patsy                       0.5.6\n",
       "pkg_resources               NA\n",
       "platformdirs                4.2.0\n",
       "prometheus_client           NA\n",
       "prompt_toolkit              3.0.43\n",
       "psutil                      5.9.8\n",
       "pure_eval                   0.2.2\n",
       "pyarrow                     15.0.2\n",
       "pycparser                   2.22\n",
       "pyct                        0.5.0\n",
       "pydev_ipython               NA\n",
       "pydevconsole                NA\n",
       "pydevd                      2.9.5\n",
       "pydevd_file_utils           NA\n",
       "pydevd_plugins              NA\n",
       "pydevd_tracing              NA\n",
       "pygeos                      0.14\n",
       "pygments                    2.17.2\n",
       "pyparsing                   3.1.2\n",
       "pyproj                      3.6.1\n",
       "pythonjsonlogger            NA\n",
       "pytz                        2024.1\n",
       "referencing                 NA\n",
       "requests                    2.31.0\n",
       "rfc3339_validator           0.1.4\n",
       "rfc3986_validator           0.1.1\n",
       "rich                        NA\n",
       "rpds                        NA\n",
       "scipy                       1.13.0\n",
       "seaborn                     0.13.2\n",
       "send2trash                  NA\n",
       "setuptools                  69.2.0\n",
       "shapely                     2.0.3\n",
       "six                         1.16.0\n",
       "skimage                     0.23.1\n",
       "sklearn                     1.4.2\n",
       "sniffio                     1.3.1\n",
       "spatial_image               0.3.0\n",
       "spatialdata                 0.0.15\n",
       "stack_data                  0.6.3\n",
       "statsmodels                 0.14.1\n",
       "sympy                       1.12\n",
       "tblib                       3.0.0\n",
       "texttable                   1.7.0\n",
       "threadpoolctl               3.4.0\n",
       "tifffile                    2024.2.12\n",
       "tlz                         0.12.1\n",
       "toolz                       0.12.1\n",
       "torch                       2.2.2+cu121\n",
       "torch_geometric             2.5.2\n",
       "torch_scatter               2.1.2\n",
       "torch_sparse                0.6.18\n",
       "torchgen                    NA\n",
       "tornado                     6.4\n",
       "tqdm                        4.66.2\n",
       "traitlets                   5.14.2\n",
       "typing_extensions           NA\n",
       "uri_template                NA\n",
       "urllib3                     1.26.18\n",
       "validators                  0.28.0\n",
       "wcwidth                     0.2.13\n",
       "webcolors                   1.13\n",
       "websocket                   1.7.0\n",
       "xarray                      2023.12.0\n",
       "xarray_dataclasses          1.7.0\n",
       "xarray_schema               0.0.3\n",
       "xrspatial                   0.3.7\n",
       "yaml                        6.0.1\n",
       "zarr                        2.17.2\n",
       "zipp                        NA\n",
       "zmq                         25.1.2\n",
       "</pre>\n",
       "</details> <!-- seems like this ends pre, so might as well be explicit -->\n",
       "<pre>\n",
       "-----\n",
       "IPython             8.23.0\n",
       "jupyter_client      8.6.1\n",
       "jupyter_core        5.7.2\n",
       "jupyterlab          4.1.6\n",
       "notebook            7.1.2\n",
       "-----\n",
       "Python 3.11.8 | packaged by conda-forge | (main, Feb 16 2024, 20:53:32) [GCC 12.3.0]\n",
       "Linux-3.10.0-1160.el7.x86_64-x86_64-with-glibc2.17\n",
       "-----\n",
       "Session information updated at 2024-04-12 16:43\n",
       "</pre>\n",
       "</details>"
      ],
      "text/plain": [
       "<IPython.core.display.HTML object>"
      ]
     },
     "execution_count": 4,
     "metadata": {},
     "output_type": "execute_result"
    }
   ],
   "source": [
    "session_info.show()"
   ]
  },
  {
   "cell_type": "code",
   "execution_count": null,
   "id": "994611a0-27ce-4abe-9be0-904f2c1ec87b",
   "metadata": {},
   "outputs": [],
   "source": []
  }
 ],
 "metadata": {
  "kernelspec": {
   "display_name": "Python (spaceflow)",
   "language": "python",
   "name": "spaceflow"
  },
  "language_info": {
   "codemirror_mode": {
    "name": "ipython",
    "version": 3
   },
   "file_extension": ".py",
   "mimetype": "text/x-python",
   "name": "python",
   "nbconvert_exporter": "python",
   "pygments_lexer": "ipython3",
   "version": "3.11.8"
  }
 },
 "nbformat": 4,
 "nbformat_minor": 5
}
