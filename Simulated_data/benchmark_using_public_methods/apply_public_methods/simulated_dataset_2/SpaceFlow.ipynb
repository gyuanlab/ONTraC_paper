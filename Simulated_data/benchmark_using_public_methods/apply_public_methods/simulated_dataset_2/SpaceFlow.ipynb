{
 "cells": [
  {
   "cell_type": "markdown",
   "id": "c003a5a1-8f31-4872-bbfd-e80375a97d08",
   "metadata": {},
   "source": [
    "# Notes"
   ]
  },
  {
   "cell_type": "markdown",
   "id": "d083e8a3-dcdf-4728-aaae-e51a4ea6be54",
   "metadata": {},
   "source": [
    "# Load Modules"
   ]
  },
  {
   "cell_type": "code",
   "execution_count": 1,
   "id": "d0095c64-143b-47a6-be0d-60444dbd712e",
   "metadata": {
    "execution": {
     "iopub.execute_input": "2024-12-04T17:57:58.532336Z",
     "iopub.status.busy": "2024-12-04T17:57:58.531967Z",
     "iopub.status.idle": "2024-12-04T17:58:58.875480Z",
     "shell.execute_reply": "2024-12-04T17:58:58.874987Z",
     "shell.execute_reply.started": "2024-12-04T17:57:58.532316Z"
    },
    "tags": []
   },
   "outputs": [],
   "source": [
    "import numpy as np\n",
    "import pandas as pd\n",
    "\n",
    "import anndata as adata\n",
    "import scanpy as sc\n",
    "import squidpy as sq\n",
    "from SpaceFlow import SpaceFlow"
   ]
  },
  {
   "cell_type": "markdown",
   "id": "f85299c7-889c-4d49-8086-222e64cf36c3",
   "metadata": {},
   "source": [
    "# Load Data"
   ]
  },
  {
   "cell_type": "code",
   "execution_count": null,
   "id": "544b4650-3f1a-4dcf-942e-16593365b542",
   "metadata": {
    "execution": {
     "iopub.execute_input": "2024-12-04T17:59:02.093275Z",
     "iopub.status.busy": "2024-12-04T17:59:02.092682Z",
     "iopub.status.idle": "2024-12-04T17:59:02.197214Z",
     "shell.execute_reply": "2024-12-04T17:59:02.196852Z",
     "shell.execute_reply.started": "2024-12-04T17:59:02.093253Z"
    },
    "tags": []
   },
   "outputs": [
    {
     "data": {
      "text/html": [
       "<div>\n",
       "<style scoped>\n",
       "    .dataframe tbody tr th:only-of-type {\n",
       "        vertical-align: middle;\n",
       "    }\n",
       "\n",
       "    .dataframe tbody tr th {\n",
       "        vertical-align: top;\n",
       "    }\n",
       "\n",
       "    .dataframe thead th {\n",
       "        text-align: right;\n",
       "    }\n",
       "</style>\n",
       "<table border=\"1\" class=\"dataframe\">\n",
       "  <thead>\n",
       "    <tr style=\"text-align: right;\">\n",
       "      <th></th>\n",
       "      <th>cell1</th>\n",
       "      <th>cell2</th>\n",
       "      <th>cell3</th>\n",
       "      <th>cell4</th>\n",
       "      <th>cell5</th>\n",
       "      <th>cell6</th>\n",
       "      <th>cell7</th>\n",
       "      <th>cell8</th>\n",
       "      <th>cell9</th>\n",
       "      <th>cell10</th>\n",
       "      <th>...</th>\n",
       "      <th>cell491</th>\n",
       "      <th>cell492</th>\n",
       "      <th>cell493</th>\n",
       "      <th>cell494</th>\n",
       "      <th>cell495</th>\n",
       "      <th>cell496</th>\n",
       "      <th>cell497</th>\n",
       "      <th>cell498</th>\n",
       "      <th>cell499</th>\n",
       "      <th>cell500</th>\n",
       "    </tr>\n",
       "  </thead>\n",
       "  <tbody>\n",
       "    <tr>\n",
       "      <th>Burn1_TF1</th>\n",
       "      <td>8</td>\n",
       "      <td>9</td>\n",
       "      <td>8</td>\n",
       "      <td>6</td>\n",
       "      <td>6</td>\n",
       "      <td>10</td>\n",
       "      <td>3</td>\n",
       "      <td>14</td>\n",
       "      <td>7</td>\n",
       "      <td>2</td>\n",
       "      <td>...</td>\n",
       "      <td>6</td>\n",
       "      <td>9</td>\n",
       "      <td>13</td>\n",
       "      <td>8</td>\n",
       "      <td>11</td>\n",
       "      <td>6</td>\n",
       "      <td>10</td>\n",
       "      <td>12</td>\n",
       "      <td>2</td>\n",
       "      <td>3</td>\n",
       "    </tr>\n",
       "    <tr>\n",
       "      <th>Burn1_TF2</th>\n",
       "      <td>13</td>\n",
       "      <td>17</td>\n",
       "      <td>3</td>\n",
       "      <td>11</td>\n",
       "      <td>9</td>\n",
       "      <td>11</td>\n",
       "      <td>3</td>\n",
       "      <td>14</td>\n",
       "      <td>7</td>\n",
       "      <td>4</td>\n",
       "      <td>...</td>\n",
       "      <td>8</td>\n",
       "      <td>8</td>\n",
       "      <td>20</td>\n",
       "      <td>9</td>\n",
       "      <td>12</td>\n",
       "      <td>9</td>\n",
       "      <td>13</td>\n",
       "      <td>5</td>\n",
       "      <td>6</td>\n",
       "      <td>8</td>\n",
       "    </tr>\n",
       "    <tr>\n",
       "      <th>Burn1_TF3</th>\n",
       "      <td>17</td>\n",
       "      <td>9</td>\n",
       "      <td>15</td>\n",
       "      <td>11</td>\n",
       "      <td>11</td>\n",
       "      <td>16</td>\n",
       "      <td>14</td>\n",
       "      <td>16</td>\n",
       "      <td>10</td>\n",
       "      <td>6</td>\n",
       "      <td>...</td>\n",
       "      <td>9</td>\n",
       "      <td>15</td>\n",
       "      <td>21</td>\n",
       "      <td>13</td>\n",
       "      <td>21</td>\n",
       "      <td>16</td>\n",
       "      <td>16</td>\n",
       "      <td>16</td>\n",
       "      <td>11</td>\n",
       "      <td>12</td>\n",
       "    </tr>\n",
       "    <tr>\n",
       "      <th>Burn2_TF1</th>\n",
       "      <td>16</td>\n",
       "      <td>10</td>\n",
       "      <td>10</td>\n",
       "      <td>18</td>\n",
       "      <td>16</td>\n",
       "      <td>14</td>\n",
       "      <td>10</td>\n",
       "      <td>17</td>\n",
       "      <td>20</td>\n",
       "      <td>13</td>\n",
       "      <td>...</td>\n",
       "      <td>12</td>\n",
       "      <td>18</td>\n",
       "      <td>23</td>\n",
       "      <td>17</td>\n",
       "      <td>15</td>\n",
       "      <td>12</td>\n",
       "      <td>19</td>\n",
       "      <td>25</td>\n",
       "      <td>15</td>\n",
       "      <td>17</td>\n",
       "    </tr>\n",
       "    <tr>\n",
       "      <th>Burn3_TF1</th>\n",
       "      <td>15</td>\n",
       "      <td>11</td>\n",
       "      <td>9</td>\n",
       "      <td>4</td>\n",
       "      <td>21</td>\n",
       "      <td>12</td>\n",
       "      <td>5</td>\n",
       "      <td>11</td>\n",
       "      <td>7</td>\n",
       "      <td>5</td>\n",
       "      <td>...</td>\n",
       "      <td>4</td>\n",
       "      <td>7</td>\n",
       "      <td>6</td>\n",
       "      <td>14</td>\n",
       "      <td>10</td>\n",
       "      <td>10</td>\n",
       "      <td>9</td>\n",
       "      <td>15</td>\n",
       "      <td>5</td>\n",
       "      <td>5</td>\n",
       "    </tr>\n",
       "  </tbody>\n",
       "</table>\n",
       "<p>5 rows × 500 columns</p>\n",
       "</div>"
      ],
      "text/plain": [
       "           cell1  cell2  cell3  cell4  cell5  cell6  cell7  cell8  cell9  \\\n",
       "Burn1_TF1      8      9      8      6      6     10      3     14      7   \n",
       "Burn1_TF2     13     17      3     11      9     11      3     14      7   \n",
       "Burn1_TF3     17      9     15     11     11     16     14     16     10   \n",
       "Burn2_TF1     16     10     10     18     16     14     10     17     20   \n",
       "Burn3_TF1     15     11      9      4     21     12      5     11      7   \n",
       "\n",
       "           cell10  ...  cell491  cell492  cell493  cell494  cell495  cell496  \\\n",
       "Burn1_TF1       2  ...        6        9       13        8       11        6   \n",
       "Burn1_TF2       4  ...        8        8       20        9       12        9   \n",
       "Burn1_TF3       6  ...        9       15       21       13       21       16   \n",
       "Burn2_TF1      13  ...       12       18       23       17       15       12   \n",
       "Burn3_TF1       5  ...        4        7        6       14       10       10   \n",
       "\n",
       "           cell497  cell498  cell499  cell500  \n",
       "Burn1_TF1       10       12        2        3  \n",
       "Burn1_TF2       13        5        6        8  \n",
       "Burn1_TF3       16       16       11       12  \n",
       "Burn2_TF1       19       25       15       17  \n",
       "Burn3_TF1        9       15        5        5  \n",
       "\n",
       "[5 rows x 500 columns]"
      ]
     },
     "execution_count": 2,
     "metadata": {},
     "output_type": "execute_result"
    }
   ],
   "source": [
    "exp_df = pd.read_csv(\"simulated_expression.csv\", index_col=0)\n",
    "exp_df.head()"
   ]
  },
  {
   "cell_type": "code",
   "execution_count": null,
   "id": "48d36019-e1c4-408b-9c9f-0c68674f4c3c",
   "metadata": {
    "execution": {
     "iopub.execute_input": "2024-12-04T17:59:18.280457Z",
     "iopub.status.busy": "2024-12-04T17:59:18.280077Z",
     "iopub.status.idle": "2024-12-04T17:59:18.300237Z",
     "shell.execute_reply": "2024-12-04T17:59:18.299854Z",
     "shell.execute_reply.started": "2024-12-04T17:59:18.280440Z"
    },
    "tags": []
   },
   "outputs": [],
   "source": [
    "meta_info_df = pd.read_csv(\"simulated_meta.csv\", index_col=0)\n",
    "meta_info_df.head()"
   ]
  },
  {
   "cell_type": "code",
   "execution_count": 6,
   "id": "10b3bbe2-9357-4441-a52c-395efff298b4",
   "metadata": {
    "execution": {
     "iopub.execute_input": "2024-12-04T17:59:20.221967Z",
     "iopub.status.busy": "2024-12-04T17:59:20.221601Z",
     "iopub.status.idle": "2024-12-04T17:59:20.225912Z",
     "shell.execute_reply": "2024-12-04T17:59:20.225528Z",
     "shell.execute_reply.started": "2024-12-04T17:59:20.221950Z"
    },
    "tags": []
   },
   "outputs": [],
   "source": [
    "ad = adata.AnnData(exp_df.T)"
   ]
  },
  {
   "cell_type": "code",
   "execution_count": 7,
   "id": "b3df7a0d-a115-4b2f-ad4c-f60103ed1958",
   "metadata": {
    "execution": {
     "iopub.execute_input": "2024-12-04T17:59:20.761755Z",
     "iopub.status.busy": "2024-12-04T17:59:20.761422Z",
     "iopub.status.idle": "2024-12-04T17:59:20.764734Z",
     "shell.execute_reply": "2024-12-04T17:59:20.764342Z",
     "shell.execute_reply.started": "2024-12-04T17:59:20.761740Z"
    },
    "tags": []
   },
   "outputs": [
    {
     "data": {
      "text/plain": [
       "array([[ 8, 13, 17, ...,  0,  0,  0],\n",
       "       [ 9, 17,  9, ..., 10, 22,  7],\n",
       "       [ 8,  3, 15, ...,  0,  0,  0],\n",
       "       ...,\n",
       "       [12,  5, 16, ..., 15, 21, 10],\n",
       "       [ 2,  6, 11, ...,  0,  0,  0],\n",
       "       [ 3,  8, 12, ...,  0,  0,  0]])"
      ]
     },
     "execution_count": 7,
     "metadata": {},
     "output_type": "execute_result"
    }
   ],
   "source": [
    "ad.X"
   ]
  },
  {
   "cell_type": "code",
   "execution_count": 8,
   "id": "f93ff2dc-0011-4839-82f7-b75682ed6178",
   "metadata": {
    "execution": {
     "iopub.execute_input": "2024-12-04T17:59:21.192148Z",
     "iopub.status.busy": "2024-12-04T17:59:21.191803Z",
     "iopub.status.idle": "2024-12-04T17:59:21.195501Z",
     "shell.execute_reply": "2024-12-04T17:59:21.195167Z",
     "shell.execute_reply.started": "2024-12-04T17:59:21.192132Z"
    },
    "tags": []
   },
   "outputs": [
    {
     "data": {
      "text/plain": [
       "Index(['cell1', 'cell2', 'cell3', 'cell4', 'cell5', 'cell6', 'cell7', 'cell8',\n",
       "       'cell9', 'cell10',\n",
       "       ...\n",
       "       'cell491', 'cell492', 'cell493', 'cell494', 'cell495', 'cell496',\n",
       "       'cell497', 'cell498', 'cell499', 'cell500'],\n",
       "      dtype='object', length=500)"
      ]
     },
     "execution_count": 8,
     "metadata": {},
     "output_type": "execute_result"
    }
   ],
   "source": [
    "ad.obs_names"
   ]
  },
  {
   "cell_type": "code",
   "execution_count": 9,
   "id": "84b012fa-c9a9-4ea2-b2e3-3c2bcc002c44",
   "metadata": {
    "execution": {
     "iopub.execute_input": "2024-12-04T17:59:21.555647Z",
     "iopub.status.busy": "2024-12-04T17:59:21.555389Z",
     "iopub.status.idle": "2024-12-04T17:59:21.558724Z",
     "shell.execute_reply": "2024-12-04T17:59:21.558349Z",
     "shell.execute_reply.started": "2024-12-04T17:59:21.555632Z"
    },
    "tags": []
   },
   "outputs": [
    {
     "data": {
      "text/plain": [
       "Index(['Burn1_TF1', 'Burn1_TF2', 'Burn1_TF3', 'Burn2_TF1', 'Burn3_TF1',\n",
       "       'Burn3_TF2', 'Burn4_TF1', 'Burn5_TF1', 'A1_TF1', 'A1_TF2', 'A2_TF1',\n",
       "       'A3_TF1', 'A3_TF2', 'A4_TF1', 'A4_TF2', 'B1_TF1', 'B1_TF2', 'B2_TF1',\n",
       "       'B3_TF1', 'B3_TF2', 'B4_TF1', 'B4_TF2', 'B5_TF1', 'B6_TF1', 'C1_TF1',\n",
       "       'C1_TF2', 'C2_TF1', 'C3_TF1', 'C4_TF1', 'C4_TF2', 'C5_TF1', 'C6_TF1',\n",
       "       'C6_TF2', 'C7_TF1', 'C7_TF2', 'C8_TF1', 'C8_TF2', 'C8_TF3', 'C9_TF1',\n",
       "       'C9_TF2', 'C10_TF1', 'C10_TF2', 'C11_TF1', 'C12_TF1', 'C12_TF2',\n",
       "       'C13_TF1', 'C14_TF1', 'C14_TF2', 'D1_TF1', 'D2_TF1', 'D3_TF1', 'D4_TF1',\n",
       "       'D4_TF2', 'D5_TF1', 'D5_TF2', 'D6_TF1', 'D7_TF1', 'D7_TF2', 'D8_TF1',\n",
       "       'D9_TF1', 'D9_TF2', 'D10_TF1', 'D11_TF1', 'D11_TF2', 'D12_TF1',\n",
       "       'D12_TF2', 'D12_TF3', 'D13_TF1', 'D13_TF2', 'D14_TF1', 'D14_TF2',\n",
       "       'E1_TF1', 'E2_TF1', 'E3_TF1', 'E3_TF2', 'E3_TF3', 'E4_TF1', 'E5_TF1',\n",
       "       'F1_TF1', 'F2_TF1', 'F2_TF2', 'F3_TF1', 'F3_TF2', 'F3_TF3', 'F4_TF1',\n",
       "       'F4_TF2', 'F5_TF1', 'G1_TF1', 'G1_TF2', 'G2_TF1', 'G2_TF2', 'G2_TF3',\n",
       "       'G2_TF4', 'G2_TF5', 'G3_TF1', 'G4_TF1', 'G4_TF2', 'G4_TF3', 'G5_TF1',\n",
       "       'G5_TF2'],\n",
       "      dtype='object')"
      ]
     },
     "execution_count": 9,
     "metadata": {},
     "output_type": "execute_result"
    }
   ],
   "source": [
    "ad.var_names"
   ]
  },
  {
   "cell_type": "code",
   "execution_count": 10,
   "id": "0ad6ac36-e53c-4d58-a86c-a633c2b777a2",
   "metadata": {
    "execution": {
     "iopub.execute_input": "2024-12-04T17:59:25.049025Z",
     "iopub.status.busy": "2024-12-04T17:59:25.048662Z",
     "iopub.status.idle": "2024-12-04T17:59:25.055997Z",
     "shell.execute_reply": "2024-12-04T17:59:25.055641Z",
     "shell.execute_reply.started": "2024-12-04T17:59:25.049010Z"
    },
    "tags": []
   },
   "outputs": [
    {
     "data": {
      "text/html": [
       "<div>\n",
       "<style scoped>\n",
       "    .dataframe tbody tr th:only-of-type {\n",
       "        vertical-align: middle;\n",
       "    }\n",
       "\n",
       "    .dataframe tbody tr th {\n",
       "        vertical-align: top;\n",
       "    }\n",
       "\n",
       "    .dataframe thead th {\n",
       "        text-align: right;\n",
       "    }\n",
       "</style>\n",
       "<table border=\"1\" class=\"dataframe\">\n",
       "  <thead>\n",
       "    <tr style=\"text-align: right;\">\n",
       "      <th></th>\n",
       "      <th>x</th>\n",
       "      <th>y</th>\n",
       "      <th>Niche_NTScore</th>\n",
       "      <th>Cell_NTScore</th>\n",
       "      <th>Ground_Truth</th>\n",
       "      <th>Cell_Type</th>\n",
       "      <th>Lineage</th>\n",
       "    </tr>\n",
       "  </thead>\n",
       "  <tbody>\n",
       "    <tr>\n",
       "      <th>cell1</th>\n",
       "      <td>0.815010</td>\n",
       "      <td>0.392859</td>\n",
       "      <td>0.798545</td>\n",
       "      <td>0.782942</td>\n",
       "      <td>0.815010</td>\n",
       "      <td>I</td>\n",
       "      <td>3</td>\n",
       "    </tr>\n",
       "    <tr>\n",
       "      <th>cell2</th>\n",
       "      <td>0.007832</td>\n",
       "      <td>0.528165</td>\n",
       "      <td>0.000631</td>\n",
       "      <td>0.004472</td>\n",
       "      <td>0.007832</td>\n",
       "      <td>A</td>\n",
       "      <td>1</td>\n",
       "    </tr>\n",
       "    <tr>\n",
       "      <th>cell3</th>\n",
       "      <td>0.238570</td>\n",
       "      <td>0.280569</td>\n",
       "      <td>0.023396</td>\n",
       "      <td>0.066722</td>\n",
       "      <td>0.238570</td>\n",
       "      <td>I</td>\n",
       "      <td>3</td>\n",
       "    </tr>\n",
       "    <tr>\n",
       "      <th>cell4</th>\n",
       "      <td>0.954609</td>\n",
       "      <td>0.950353</td>\n",
       "      <td>0.794808</td>\n",
       "      <td>0.778961</td>\n",
       "      <td>0.954609</td>\n",
       "      <td>G</td>\n",
       "      <td>2</td>\n",
       "    </tr>\n",
       "    <tr>\n",
       "      <th>cell5</th>\n",
       "      <td>0.008684</td>\n",
       "      <td>0.046309</td>\n",
       "      <td>0.000522</td>\n",
       "      <td>0.001262</td>\n",
       "      <td>0.008684</td>\n",
       "      <td>A</td>\n",
       "      <td>1</td>\n",
       "    </tr>\n",
       "  </tbody>\n",
       "</table>\n",
       "</div>"
      ],
      "text/plain": [
       "              x         y  Niche_NTScore  Cell_NTScore  Ground_Truth  \\\n",
       "cell1  0.815010  0.392859       0.798545      0.782942      0.815010   \n",
       "cell2  0.007832  0.528165       0.000631      0.004472      0.007832   \n",
       "cell3  0.238570  0.280569       0.023396      0.066722      0.238570   \n",
       "cell4  0.954609  0.950353       0.794808      0.778961      0.954609   \n",
       "cell5  0.008684  0.046309       0.000522      0.001262      0.008684   \n",
       "\n",
       "      Cell_Type  Lineage  \n",
       "cell1         I        3  \n",
       "cell2         A        1  \n",
       "cell3         I        3  \n",
       "cell4         G        2  \n",
       "cell5         A        1  "
      ]
     },
     "execution_count": 10,
     "metadata": {},
     "output_type": "execute_result"
    }
   ],
   "source": [
    "ad.obs = ad.obs.join(meta_info_df)\n",
    "ad.obs.head()"
   ]
  },
  {
   "cell_type": "code",
   "execution_count": 11,
   "id": "6731f081-1d70-4e51-ba45-4e14d92055ed",
   "metadata": {
    "execution": {
     "iopub.execute_input": "2024-12-04T17:59:25.501881Z",
     "iopub.status.busy": "2024-12-04T17:59:25.501611Z",
     "iopub.status.idle": "2024-12-04T17:59:25.504603Z",
     "shell.execute_reply": "2024-12-04T17:59:25.504240Z",
     "shell.execute_reply.started": "2024-12-04T17:59:25.501866Z"
    },
    "tags": []
   },
   "outputs": [],
   "source": [
    "ad.obsm['spatial'] = ad.obs[['x', 'y']].values"
   ]
  },
  {
   "cell_type": "markdown",
   "id": "18afdd49-5be3-44d3-9337-2a4e04045041",
   "metadata": {},
   "source": [
    "# SpaceFlow"
   ]
  },
  {
   "cell_type": "code",
   "execution_count": 12,
   "id": "69b881e5-0dc6-45cd-af67-7d57c4ccb024",
   "metadata": {
    "execution": {
     "iopub.execute_input": "2024-12-04T17:59:27.223512Z",
     "iopub.status.busy": "2024-12-04T17:59:27.223255Z",
     "iopub.status.idle": "2024-12-04T17:59:27.225513Z",
     "shell.execute_reply": "2024-12-04T17:59:27.225171Z",
     "shell.execute_reply.started": "2024-12-04T17:59:27.223497Z"
    },
    "tags": []
   },
   "outputs": [],
   "source": [
    "sf = SpaceFlow.SpaceFlow(adata=ad)"
   ]
  },
  {
   "cell_type": "code",
   "execution_count": 13,
   "id": "a8c2aeff-d2ba-4ea6-b264-c77a6f36d26b",
   "metadata": {
    "execution": {
     "iopub.execute_input": "2024-12-04T17:59:28.015646Z",
     "iopub.status.busy": "2024-12-04T17:59:28.015284Z",
     "iopub.status.idle": "2024-12-04T17:59:28.307946Z",
     "shell.execute_reply": "2024-12-04T17:59:28.307573Z",
     "shell.execute_reply.started": "2024-12-04T17:59:28.015630Z"
    },
    "tags": []
   },
   "outputs": [],
   "source": [
    "sf.preprocessing_data(n_top_genes=3000)"
   ]
  },
  {
   "cell_type": "code",
   "execution_count": 14,
   "id": "3f68e615-28fb-4651-8fe9-3dabb8f22cd3",
   "metadata": {
    "execution": {
     "iopub.execute_input": "2024-12-04T17:59:28.753140Z",
     "iopub.status.busy": "2024-12-04T17:59:28.752654Z",
     "iopub.status.idle": "2024-12-04T18:01:36.037533Z",
     "shell.execute_reply": "2024-12-04T18:01:36.037025Z",
     "shell.execute_reply.started": "2024-12-04T17:59:28.753122Z"
    },
    "tags": []
   },
   "outputs": [
    {
     "name": "stdout",
     "output_type": "stream",
     "text": [
      "Epoch 2/1000, Loss: 3.9054417610168457\n",
      "Epoch 12/1000, Loss: 1.6026474237442017\n",
      "Epoch 22/1000, Loss: 1.6016392707824707\n",
      "Epoch 32/1000, Loss: 1.4557181596755981\n",
      "Epoch 42/1000, Loss: 1.4519097805023193\n",
      "Epoch 52/1000, Loss: 1.4481666088104248\n",
      "Epoch 62/1000, Loss: 1.4187270402908325\n",
      "Epoch 72/1000, Loss: 1.414929747581482\n",
      "Epoch 82/1000, Loss: 1.4194691181182861\n",
      "Epoch 92/1000, Loss: 1.4069687128067017\n",
      "Epoch 102/1000, Loss: 1.413097858428955\n",
      "Epoch 112/1000, Loss: 1.3886646032333374\n",
      "Epoch 122/1000, Loss: 1.3791368007659912\n",
      "Epoch 132/1000, Loss: 1.3672642707824707\n",
      "Epoch 142/1000, Loss: 1.3771440982818604\n",
      "Epoch 152/1000, Loss: 1.3863774538040161\n",
      "Epoch 162/1000, Loss: 1.3896353244781494\n",
      "Epoch 172/1000, Loss: 1.348447561264038\n",
      "Epoch 182/1000, Loss: 1.3873546123504639\n",
      "Epoch 192/1000, Loss: 1.3205795288085938\n",
      "Epoch 202/1000, Loss: 1.3274154663085938\n",
      "Epoch 212/1000, Loss: 1.3151946067810059\n",
      "Epoch 222/1000, Loss: 1.3377841711044312\n",
      "Epoch 232/1000, Loss: 1.3041608333587646\n",
      "Epoch 242/1000, Loss: 1.3301795721054077\n",
      "Epoch 252/1000, Loss: 1.2603679895401\n",
      "Epoch 262/1000, Loss: 1.2207525968551636\n",
      "Epoch 272/1000, Loss: 1.2757850885391235\n",
      "Epoch 282/1000, Loss: 1.2043910026550293\n",
      "Epoch 292/1000, Loss: 1.2304328680038452\n",
      "Epoch 302/1000, Loss: 1.2402691841125488\n",
      "Epoch 312/1000, Loss: 1.1830781698226929\n",
      "Epoch 322/1000, Loss: 1.1555936336517334\n",
      "Epoch 332/1000, Loss: 1.16952383518219\n",
      "Epoch 342/1000, Loss: 1.2404099702835083\n",
      "Epoch 352/1000, Loss: 1.1631591320037842\n",
      "Epoch 362/1000, Loss: 1.1399483680725098\n",
      "Epoch 372/1000, Loss: 1.113355040550232\n",
      "Epoch 382/1000, Loss: 1.0836081504821777\n",
      "Epoch 392/1000, Loss: 1.0407181978225708\n",
      "Epoch 402/1000, Loss: 1.1282836198806763\n",
      "Epoch 412/1000, Loss: 1.0872260332107544\n",
      "Epoch 422/1000, Loss: 1.1030055284500122\n",
      "Epoch 432/1000, Loss: 1.1243215799331665\n",
      "Epoch 442/1000, Loss: 1.067207932472229\n",
      "Epoch 452/1000, Loss: 1.0095940828323364\n",
      "Epoch 462/1000, Loss: 0.9599004983901978\n",
      "Epoch 472/1000, Loss: 1.008241057395935\n",
      "Epoch 482/1000, Loss: 0.9611556529998779\n",
      "Epoch 492/1000, Loss: 1.0261991024017334\n",
      "Epoch 502/1000, Loss: 0.9463743567466736\n",
      "Epoch 512/1000, Loss: 0.9756225347518921\n",
      "Epoch 522/1000, Loss: 0.9976924061775208\n",
      "Epoch 532/1000, Loss: 0.8787892460823059\n",
      "Epoch 542/1000, Loss: 0.8925157785415649\n",
      "Epoch 552/1000, Loss: 0.9772389531135559\n",
      "Epoch 562/1000, Loss: 0.8619641661643982\n",
      "Epoch 572/1000, Loss: 0.8483923673629761\n",
      "Epoch 582/1000, Loss: 0.8782431483268738\n",
      "Epoch 592/1000, Loss: 0.7219258546829224\n",
      "Epoch 602/1000, Loss: 0.8835279941558838\n",
      "Epoch 612/1000, Loss: 0.7527223229408264\n",
      "Epoch 622/1000, Loss: 0.9644201993942261\n",
      "Epoch 632/1000, Loss: 0.8981689214706421\n",
      "Epoch 642/1000, Loss: 0.8853834271430969\n",
      "Training complete!\n",
      "Embedding is saved at ./embedding.tsv\n"
     ]
    },
    {
     "data": {
      "text/plain": [
       "array([[ 0.34986323, -0.24351384, -0.6902782 , ..., -0.23019956,\n",
       "         1.0757923 , -0.161731  ],\n",
       "       [ 0.16188778, -0.49578795, -0.7539856 , ..., -0.2356087 ,\n",
       "         0.880125  , -0.2326426 ],\n",
       "       [ 0.8954601 , -0.2732957 , -0.7082335 , ..., -0.24510387,\n",
       "        -0.07976995, -0.03531196],\n",
       "       ...,\n",
       "       [ 0.02435183, -0.3771518 , -0.50410885, ..., -0.06388409,\n",
       "         0.08376963, -0.06574274],\n",
       "       [ 1.213813  , -0.21719134, -0.76111424, ..., -0.20374519,\n",
       "         0.5390928 , -0.18590255],\n",
       "       [ 0.7937186 , -0.3108988 , -0.85200554, ..., -0.14980187,\n",
       "         0.40866855, -0.23357894]], dtype=float32)"
      ]
     },
     "execution_count": 14,
     "metadata": {},
     "output_type": "execute_result"
    }
   ],
   "source": [
    "sf.train(spatial_regularization_strength=0.1, z_dim=50, lr=1e-3, epochs=1000, max_patience=50, min_stop=100, random_seed=42, gpu=0, regularization_acceleration=True, edge_subset_sz=1000000)"
   ]
  },
  {
   "cell_type": "code",
   "execution_count": 15,
   "id": "8f751b01-c04a-435e-a3ff-a4f5642f3ebc",
   "metadata": {
    "execution": {
     "iopub.execute_input": "2024-12-04T18:02:39.495375Z",
     "iopub.status.busy": "2024-12-04T18:02:39.495073Z",
     "iopub.status.idle": "2024-12-04T18:02:46.426006Z",
     "shell.execute_reply": "2024-12-04T18:02:46.425545Z",
     "shell.execute_reply.started": "2024-12-04T18:02:39.495355Z"
    },
    "tags": []
   },
   "outputs": [
    {
     "name": "stdout",
     "output_type": "stream",
     "text": [
      "Performing domain segmentation\n"
     ]
    },
    {
     "name": "stderr",
     "output_type": "stream",
     "text": [
      "/sc/arion/work/wangw32/conda-env/envs/spaceflow/lib/python3.9/site-packages/tqdm/auto.py:21: TqdmWarning: IProgress not found. Please update jupyter and ipywidgets. See https://ipywidgets.readthedocs.io/en/stable/user_install.html\n",
      "  from .autonotebook import tqdm as notebook_tqdm\n",
      "/sc/arion/work/wangw32/conda-env/envs/spaceflow/lib/python3.9/site-packages/SpaceFlow/SpaceFlow.py:306: FutureWarning: In the future, the default backend for leiden will be igraph instead of leidenalg.\n",
      "\n",
      " To achieve the future defaults please pass: flavor=\"igraph\" and n_iterations=2.  directed must also be False to work with igraph's implementation.\n",
      "  sc.tl.leiden(embedding_adata, resolution=float(resolution))\n"
     ]
    },
    {
     "name": "stdout",
     "output_type": "stream",
     "text": [
      "Segmentation complete, domain labels of cells or spots saved at ./domains.tsv !\n"
     ]
    }
   ],
   "source": [
    "sf.segmentation(domain_label_save_filepath=\"./domains.tsv\", n_neighbors=50, resolution=1.0)"
   ]
  },
  {
   "cell_type": "code",
   "execution_count": 16,
   "id": "49e17abc-b8a2-417c-93eb-dec30e83561e",
   "metadata": {
    "execution": {
     "iopub.execute_input": "2024-12-04T18:02:46.427572Z",
     "iopub.status.busy": "2024-12-04T18:02:46.426849Z",
     "iopub.status.idle": "2024-12-04T18:02:46.946208Z",
     "shell.execute_reply": "2024-12-04T18:02:46.945801Z",
     "shell.execute_reply.started": "2024-12-04T18:02:46.427552Z"
    },
    "tags": []
   },
   "outputs": [
    {
     "name": "stdout",
     "output_type": "stream",
     "text": [
      "No segmentation data found, please ensure you have run the segmentation() method.\n"
     ]
    },
    {
     "data": {
      "image/png": "[encoded data removed]",
      "text/plain": [
       "<Figure size 400x400 with 1 Axes>"
      ]
     },
     "metadata": {},
     "output_type": "display_data"
    }
   ],
   "source": [
    "sf.plot_segmentation(segmentation_figure_save_filepath=\"./domain_segmentation.pdf\", colormap=\"tab20\", scatter_sz=1., rsz=4., csz=4., wspace=.4, hspace=.5, left=0.125, right=0.9, bottom=0.1, top=0.9)"
   ]
  },
  {
   "cell_type": "code",
   "execution_count": 17,
   "id": "525b27fc-9c04-458e-b14b-6fb803805c77",
   "metadata": {
    "execution": {
     "iopub.execute_input": "2024-12-04T18:02:52.538269Z",
     "iopub.status.busy": "2024-12-04T18:02:52.537985Z",
     "iopub.status.idle": "2024-12-04T18:02:53.853725Z",
     "shell.execute_reply": "2024-12-04T18:02:53.853289Z",
     "shell.execute_reply.started": "2024-12-04T18:02:52.538253Z"
    },
    "tags": []
   },
   "outputs": [
    {
     "name": "stdout",
     "output_type": "stream",
     "text": [
      "Performing pseudo-Spatiotemporal Map\n",
      "pseudo-Spatiotemporal Map(pSM) calculation complete, pSM values of cells or spots saved at ./pSM_values.tsv!\n"
     ]
    }
   ],
   "source": [
    "sf.pseudo_Spatiotemporal_Map(pSM_values_save_filepath=\"./pSM_values.tsv\", n_neighbors=20, resolution=1.0)"
   ]
  },
  {
   "cell_type": "code",
   "execution_count": 18,
   "id": "1c303502-a05f-45c7-b6a1-b78b66e30c51",
   "metadata": {
    "execution": {
     "iopub.execute_input": "2024-12-04T18:02:55.138166Z",
     "iopub.status.busy": "2024-12-04T18:02:55.137886Z",
     "iopub.status.idle": "2024-12-04T18:02:56.365123Z",
     "shell.execute_reply": "2024-12-04T18:02:56.364574Z",
     "shell.execute_reply.started": "2024-12-04T18:02:55.138148Z"
    },
    "tags": []
   },
   "outputs": [
    {
     "name": "stdout",
     "output_type": "stream",
     "text": [
      "Plotting complete, pseudo-Spatiotemporal Map figure saved at ./pseudo-Spatiotemporal-Map.pdf !\n"
     ]
    }
   ],
   "source": [
    "sf.plot_pSM(pSM_figure_save_filepath=\"./pseudo-Spatiotemporal-Map.pdf\", colormap=\"roma\", scatter_sz=1., rsz=4., csz=4., wspace=.4, hspace=.5, left=0.125, right=0.9, bottom=0.1, top=0.9)"
   ]
  },
  {
   "cell_type": "code",
   "execution_count": 19,
   "id": "5935da74-403c-4ee0-b3c2-1f655bbcef67",
   "metadata": {
    "execution": {
     "iopub.execute_input": "2024-12-04T18:02:56.366096Z",
     "iopub.status.busy": "2024-12-04T18:02:56.365938Z",
     "iopub.status.idle": "2024-12-04T18:02:56.393042Z",
     "shell.execute_reply": "2024-12-04T18:02:56.392662Z",
     "shell.execute_reply.started": "2024-12-04T18:02:56.366081Z"
    },
    "tags": []
   },
   "outputs": [],
   "source": [
    "import session_info"
   ]
  }
 ],
 "metadata": {
  "kernelspec": {
   "display_name": "Python 3.9 (spaceflow)",
   "language": "python",
   "name": "py39_spaceflow"
  },
  "language_info": {
   "codemirror_mode": {
    "name": "ipython",
    "version": 3
   },
   "file_extension": ".py",
   "mimetype": "text/x-python",
   "name": "python",
   "nbconvert_exporter": "python",
   "pygments_lexer": "ipython3",
   "version": "3.9.19"
  }
 },
 "nbformat": 4,
 "nbformat_minor": 5
}
